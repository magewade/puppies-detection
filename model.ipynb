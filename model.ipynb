{
 "cells": [
  {
   "cell_type": "code",
   "execution_count": 56,
   "id": "2e391e94",
   "metadata": {},
   "outputs": [],
   "source": [
    "import os\n",
    "import cv2\n",
    "from ultralytics import YOLO\n",
    "from pathlib import Path\n",
    "import subprocess\n",
    "import ffmpeg\n",
    "import cv2\n",
    "import numpy as np\n",
    "import random\n",
    "import matplotlib.pyplot as plt\n",
    "import shutil"
   ]
  },
  {
   "cell_type": "code",
   "execution_count": 58,
   "id": "f1cb6e78",
   "metadata": {},
   "outputs": [
    {
     "name": "stdout",
     "output_type": "stream",
     "text": [
      "Перенесено 68 изображений и меток в папку валидации.\n"
     ]
    }
   ],
   "source": [
    "images_path = \"dataset/train/images\"\n",
    "labels_path = \"dataset/train/labels\"\n",
    "val_images_path = \"dataset/val/images\"\n",
    "val_labels_path = \"dataset/train/labels\"\n",
    "\n",
    "os.makedirs(val_images_path, exist_ok=True)\n",
    "os.makedirs(val_labels_path, exist_ok=True)\n",
    "\n",
    "image_files = [f for f in os.listdir(images_path) if f.endswith(\".jpg\")]\n",
    "\n",
    "val_files = random.sample(image_files, k=int(len(image_files) * 0.15))\n",
    "\n",
    "for file_name in val_files:\n",
    "    shutil.move(\n",
    "        os.path.join(images_path, file_name), os.path.join(val_images_path, file_name)\n",
    "    )\n",
    "\n",
    "    label_file = file_name.replace(\".jpg\", \".txt\")\n",
    "    if os.path.exists(os.path.join(labels_path, label_file)):\n",
    "        shutil.move(\n",
    "            os.path.join(labels_path, label_file),\n",
    "            os.path.join(val_labels_path, label_file),\n",
    "        )\n",
    "\n",
    "print(f\"Перенесено {len(val_files)} изображений и меток в папку валидации.\")"
   ]
  },
  {
   "cell_type": "code",
   "execution_count": 59,
   "id": "d44f4a63",
   "metadata": {},
   "outputs": [
    {
     "name": "stdout",
     "output_type": "stream",
     "text": [
      "Файл data.yaml успешно создан в dataset/data.yaml\n"
     ]
    }
   ],
   "source": [
    "import yaml\n",
    "\n",
    "dataset_path = Path(\"dataset\")\n",
    "\n",
    "\n",
    "data = {\n",
    "    \"path\": \"/Users/magewade/Desktop/ML/puppies_detection/dataset\",\n",
    "    \"train\": \"train\",\n",
    "    \"val\": \"val\",\n",
    "    \"names\": {\"0\": \"dog\"},\n",
    "}\n",
    "\n",
    "# Путь для сохранения файла\n",
    "yaml_path = dataset_path / \"data.yaml\"\n",
    "\n",
    "# Запись данных в YAML\n",
    "with open(yaml_path, \"w\") as yaml_file:\n",
    "    yaml.dump(data, yaml_file, default_flow_style=False)\n",
    "\n",
    "print(f\"Файл data.yaml успешно создан в {yaml_path}\")"
   ]
  },
  {
   "cell_type": "code",
   "execution_count": 63,
   "id": "6c5b6948",
   "metadata": {},
   "outputs": [
    {
     "name": "stdout",
     "output_type": "stream",
     "text": [
      "New https://pypi.org/project/ultralytics/8.3.109 available 😃 Update with 'pip install -U ultralytics'\n",
      "Ultralytics 8.3.108 🚀 Python-3.10.17 torch-2.6.0 MPS (Apple M3 Pro)\n",
      "\u001b[34m\u001b[1mengine/trainer: \u001b[0mtask=detect, mode=train, model=yolov8n.pt, data=dataset/data.yaml, epochs=50, time=None, patience=100, batch=4, imgsz=416, save=True, save_period=-1, cache=False, device=mps, workers=1, project=runs, name=train, exist_ok=False, pretrained=True, optimizer=auto, verbose=True, seed=0, deterministic=True, single_cls=False, rect=False, cos_lr=False, close_mosaic=10, resume=False, amp=True, fraction=1.0, profile=False, freeze=None, multi_scale=False, overlap_mask=True, mask_ratio=4, dropout=0.0, val=True, split=val, save_json=False, conf=None, iou=0.7, max_det=300, half=False, dnn=False, plots=True, source=None, vid_stride=1, stream_buffer=False, visualize=False, augment=False, agnostic_nms=False, classes=None, retina_masks=False, embed=None, show=False, save_frames=False, save_txt=False, save_conf=False, save_crop=False, show_labels=True, show_conf=True, show_boxes=True, line_width=None, format=torchscript, keras=False, optimize=False, int8=False, dynamic=False, simplify=True, opset=None, workspace=None, nms=False, lr0=0.01, lrf=0.01, momentum=0.937, weight_decay=0.0005, warmup_epochs=3.0, warmup_momentum=0.8, warmup_bias_lr=0.1, box=7.5, cls=0.5, dfl=1.5, pose=12.0, kobj=1.0, nbs=64, hsv_h=0.015, hsv_s=0.7, hsv_v=0.4, degrees=0.0, translate=0.1, scale=0.5, shear=0.0, perspective=0.0, flipud=0.0, fliplr=0.5, bgr=0.0, mosaic=1.0, mixup=0.0, copy_paste=0.0, copy_paste_mode=flip, auto_augment=randaugment, erasing=0.4, cfg=None, tracker=botsort.yaml, save_dir=runs/train\n",
      "Overriding model.yaml nc=80 with nc=1\n",
      "\n",
      "                   from  n    params  module                                       arguments                     \n",
      "  0                  -1  1       464  ultralytics.nn.modules.conv.Conv             [3, 16, 3, 2]                 \n",
      "  1                  -1  1      4672  ultralytics.nn.modules.conv.Conv             [16, 32, 3, 2]                \n",
      "  2                  -1  1      7360  ultralytics.nn.modules.block.C2f             [32, 32, 1, True]             \n",
      "  3                  -1  1     18560  ultralytics.nn.modules.conv.Conv             [32, 64, 3, 2]                \n",
      "  4                  -1  2     49664  ultralytics.nn.modules.block.C2f             [64, 64, 2, True]             \n",
      "  5                  -1  1     73984  ultralytics.nn.modules.conv.Conv             [64, 128, 3, 2]               \n",
      "  6                  -1  2    197632  ultralytics.nn.modules.block.C2f             [128, 128, 2, True]           \n",
      "  7                  -1  1    295424  ultralytics.nn.modules.conv.Conv             [128, 256, 3, 2]              \n",
      "  8                  -1  1    460288  ultralytics.nn.modules.block.C2f             [256, 256, 1, True]           \n",
      "  9                  -1  1    164608  ultralytics.nn.modules.block.SPPF            [256, 256, 5]                 \n",
      " 10                  -1  1         0  torch.nn.modules.upsampling.Upsample         [None, 2, 'nearest']          \n",
      " 11             [-1, 6]  1         0  ultralytics.nn.modules.conv.Concat           [1]                           \n",
      " 12                  -1  1    148224  ultralytics.nn.modules.block.C2f             [384, 128, 1]                 \n",
      " 13                  -1  1         0  torch.nn.modules.upsampling.Upsample         [None, 2, 'nearest']          \n",
      " 14             [-1, 4]  1         0  ultralytics.nn.modules.conv.Concat           [1]                           \n",
      " 15                  -1  1     37248  ultralytics.nn.modules.block.C2f             [192, 64, 1]                  \n",
      " 16                  -1  1     36992  ultralytics.nn.modules.conv.Conv             [64, 64, 3, 2]                \n",
      " 17            [-1, 12]  1         0  ultralytics.nn.modules.conv.Concat           [1]                           \n",
      " 18                  -1  1    123648  ultralytics.nn.modules.block.C2f             [192, 128, 1]                 \n",
      " 19                  -1  1    147712  ultralytics.nn.modules.conv.Conv             [128, 128, 3, 2]              \n",
      " 20             [-1, 9]  1         0  ultralytics.nn.modules.conv.Concat           [1]                           \n",
      " 21                  -1  1    493056  ultralytics.nn.modules.block.C2f             [384, 256, 1]                 \n",
      " 22        [15, 18, 21]  1    751507  ultralytics.nn.modules.head.Detect           [1, [64, 128, 256]]           \n",
      "Model summary: 129 layers, 3,011,043 parameters, 3,011,027 gradients, 8.2 GFLOPs\n",
      "\n",
      "Transferred 319/355 items from pretrained weights\n",
      "Freezing layer 'model.22.dfl.conv.weight'\n"
     ]
    },
    {
     "name": "stderr",
     "output_type": "stream",
     "text": [
      "\u001b[34m\u001b[1mtrain: \u001b[0mScanning /Users/magewade/Desktop/ML/puppies_detection/dataset/train/labels.cache... 389 images, 35 backgrounds, 0 corrupt: 100%|██████████| 389/389 [00:00<?, ?it/s]\n",
      "\u001b[34m\u001b[1mval: \u001b[0mScanning /Users/magewade/Desktop/ML/puppies_detection/dataset/val/labels.cache... 19 images, 65 backgrounds, 0 corrupt: 100%|██████████| 84/84 [00:00<?, ?it/s]"
     ]
    },
    {
     "name": "stdout",
     "output_type": "stream",
     "text": [
      "Plotting labels to runs/train/labels.jpg... \n"
     ]
    },
    {
     "name": "stderr",
     "output_type": "stream",
     "text": [
      "\n"
     ]
    },
    {
     "name": "stdout",
     "output_type": "stream",
     "text": [
      "\u001b[34m\u001b[1moptimizer:\u001b[0m 'optimizer=auto' found, ignoring 'lr0=0.01' and 'momentum=0.937' and determining best 'optimizer', 'lr0' and 'momentum' automatically... \n",
      "\u001b[34m\u001b[1moptimizer:\u001b[0m AdamW(lr=0.002, momentum=0.9) with parameter groups 57 weight(decay=0.0), 64 weight(decay=0.0005), 63 bias(decay=0.0)\n",
      "Image sizes 416 train, 416 val\n",
      "Using 0 dataloader workers\n",
      "Logging results to \u001b[1mruns/train\u001b[0m\n",
      "Starting training for 50 epochs...\n",
      "\n",
      "      Epoch    GPU_mem   box_loss   cls_loss   dfl_loss  Instances       Size\n"
     ]
    },
    {
     "name": "stderr",
     "output_type": "stream",
     "text": [
      "       1/50      15.3G      1.412      2.115      1.239          1        416: 100%|██████████| 98/98 [08:34<00:00,  5.25s/it]\n",
      "                 Class     Images  Instances      Box(P          R      mAP50  mAP50-95):   0%|          | 0/11 [00:00<?, ?it/s]"
     ]
    },
    {
     "name": "stdout",
     "output_type": "stream",
     "text": [
      "WARNING ⚠️ NMS time limit 2.400s exceeded\n"
     ]
    },
    {
     "name": "stderr",
     "output_type": "stream",
     "text": [
      "                 Class     Images  Instances      Box(P          R      mAP50  mAP50-95):   9%|▉         | 1/11 [00:23<03:52, 23.30s/it]"
     ]
    },
    {
     "name": "stdout",
     "output_type": "stream",
     "text": [
      "WARNING ⚠️ NMS time limit 2.400s exceeded\n"
     ]
    },
    {
     "name": "stderr",
     "output_type": "stream",
     "text": [
      "                 Class     Images  Instances      Box(P          R      mAP50  mAP50-95):  18%|█▊        | 2/11 [00:28<01:51, 12.40s/it]"
     ]
    },
    {
     "name": "stdout",
     "output_type": "stream",
     "text": [
      "WARNING ⚠️ NMS time limit 2.400s exceeded\n"
     ]
    },
    {
     "name": "stderr",
     "output_type": "stream",
     "text": [
      "                 Class     Images  Instances      Box(P          R      mAP50  mAP50-95):  27%|██▋       | 3/11 [00:32<01:09,  8.65s/it]"
     ]
    },
    {
     "name": "stdout",
     "output_type": "stream",
     "text": [
      "WARNING ⚠️ NMS time limit 2.400s exceeded\n"
     ]
    },
    {
     "name": "stderr",
     "output_type": "stream",
     "text": [
      "                 Class     Images  Instances      Box(P          R      mAP50  mAP50-95):  36%|███▋      | 4/11 [00:36<00:48,  6.87s/it]"
     ]
    },
    {
     "name": "stdout",
     "output_type": "stream",
     "text": [
      "WARNING ⚠️ NMS time limit 2.400s exceeded\n"
     ]
    },
    {
     "name": "stderr",
     "output_type": "stream",
     "text": [
      "                 Class     Images  Instances      Box(P          R      mAP50  mAP50-95):  45%|████▌     | 5/11 [00:40<00:34,  5.79s/it]"
     ]
    },
    {
     "name": "stdout",
     "output_type": "stream",
     "text": [
      "WARNING ⚠️ NMS time limit 2.400s exceeded\n"
     ]
    },
    {
     "name": "stderr",
     "output_type": "stream",
     "text": [
      "                 Class     Images  Instances      Box(P          R      mAP50  mAP50-95):  55%|█████▍    | 6/11 [00:46<00:28,  5.78s/it]"
     ]
    },
    {
     "name": "stdout",
     "output_type": "stream",
     "text": [
      "WARNING ⚠️ NMS time limit 2.400s exceeded\n"
     ]
    },
    {
     "name": "stderr",
     "output_type": "stream",
     "text": [
      "                 Class     Images  Instances      Box(P          R      mAP50  mAP50-95):  64%|██████▎   | 7/11 [00:56<00:29,  7.36s/it]"
     ]
    },
    {
     "name": "stdout",
     "output_type": "stream",
     "text": [
      "WARNING ⚠️ NMS time limit 2.400s exceeded\n"
     ]
    },
    {
     "name": "stderr",
     "output_type": "stream",
     "text": [
      "                 Class     Images  Instances      Box(P          R      mAP50  mAP50-95):  73%|███████▎  | 8/11 [01:03<00:21,  7.17s/it]"
     ]
    },
    {
     "name": "stdout",
     "output_type": "stream",
     "text": [
      "WARNING ⚠️ NMS time limit 2.400s exceeded\n"
     ]
    },
    {
     "name": "stderr",
     "output_type": "stream",
     "text": [
      "                 Class     Images  Instances      Box(P          R      mAP50  mAP50-95):  82%|████████▏ | 9/11 [01:11<00:15,  7.59s/it]"
     ]
    },
    {
     "name": "stdout",
     "output_type": "stream",
     "text": [
      "WARNING ⚠️ NMS time limit 2.400s exceeded\n"
     ]
    },
    {
     "name": "stderr",
     "output_type": "stream",
     "text": [
      "                 Class     Images  Instances      Box(P          R      mAP50  mAP50-95):  91%|█████████ | 10/11 [01:18<00:07,  7.33s/it]"
     ]
    },
    {
     "name": "stdout",
     "output_type": "stream",
     "text": [
      "WARNING ⚠️ NMS time limit 2.200s exceeded\n"
     ]
    },
    {
     "name": "stderr",
     "output_type": "stream",
     "text": [
      "                 Class     Images  Instances      Box(P          R      mAP50  mAP50-95): 100%|██████████| 11/11 [01:37<00:00,  8.85s/it]\n"
     ]
    },
    {
     "name": "stdout",
     "output_type": "stream",
     "text": [
      "                   all         84        114        0.2      0.211      0.087     0.0449\n",
      "\n",
      "      Epoch    GPU_mem   box_loss   cls_loss   dfl_loss  Instances       Size\n"
     ]
    },
    {
     "name": "stderr",
     "output_type": "stream",
     "text": [
      "       2/50      15.5G      1.273      1.389      1.163          8        416: 100%|██████████| 98/98 [06:37<00:00,  4.06s/it]\n",
      "                 Class     Images  Instances      Box(P          R      mAP50  mAP50-95):   0%|          | 0/11 [00:00<?, ?it/s]"
     ]
    },
    {
     "name": "stdout",
     "output_type": "stream",
     "text": [
      "WARNING ⚠️ NMS time limit 2.400s exceeded\n"
     ]
    },
    {
     "name": "stderr",
     "output_type": "stream",
     "text": [
      "                 Class     Images  Instances      Box(P          R      mAP50  mAP50-95):   9%|▉         | 1/11 [00:03<00:36,  3.61s/it]"
     ]
    },
    {
     "name": "stdout",
     "output_type": "stream",
     "text": [
      "WARNING ⚠️ NMS time limit 2.400s exceeded\n"
     ]
    },
    {
     "name": "stderr",
     "output_type": "stream",
     "text": [
      "                 Class     Images  Instances      Box(P          R      mAP50  mAP50-95):  18%|█▊        | 2/11 [00:07<00:34,  3.78s/it]"
     ]
    },
    {
     "name": "stdout",
     "output_type": "stream",
     "text": [
      "WARNING ⚠️ NMS time limit 2.400s exceeded\n"
     ]
    },
    {
     "name": "stderr",
     "output_type": "stream",
     "text": [
      "                 Class     Images  Instances      Box(P          R      mAP50  mAP50-95):  27%|██▋       | 3/11 [00:10<00:28,  3.60s/it]"
     ]
    },
    {
     "name": "stdout",
     "output_type": "stream",
     "text": [
      "WARNING ⚠️ NMS time limit 2.400s exceeded\n"
     ]
    },
    {
     "name": "stderr",
     "output_type": "stream",
     "text": [
      "                 Class     Images  Instances      Box(P          R      mAP50  mAP50-95):  36%|███▋      | 4/11 [00:14<00:24,  3.46s/it]"
     ]
    },
    {
     "name": "stdout",
     "output_type": "stream",
     "text": [
      "WARNING ⚠️ NMS time limit 2.400s exceeded\n"
     ]
    },
    {
     "name": "stderr",
     "output_type": "stream",
     "text": [
      "                 Class     Images  Instances      Box(P          R      mAP50  mAP50-95):  45%|████▌     | 5/11 [00:17<00:19,  3.26s/it]"
     ]
    },
    {
     "name": "stdout",
     "output_type": "stream",
     "text": [
      "WARNING ⚠️ NMS time limit 2.400s exceeded\n"
     ]
    },
    {
     "name": "stderr",
     "output_type": "stream",
     "text": [
      "                 Class     Images  Instances      Box(P          R      mAP50  mAP50-95):  55%|█████▍    | 6/11 [00:21<00:18,  3.60s/it]"
     ]
    },
    {
     "name": "stdout",
     "output_type": "stream",
     "text": [
      "WARNING ⚠️ NMS time limit 2.400s exceeded\n"
     ]
    },
    {
     "name": "stderr",
     "output_type": "stream",
     "text": [
      "                 Class     Images  Instances      Box(P          R      mAP50  mAP50-95):  64%|██████▎   | 7/11 [00:28<00:18,  4.64s/it]"
     ]
    },
    {
     "name": "stdout",
     "output_type": "stream",
     "text": [
      "WARNING ⚠️ NMS time limit 2.400s exceeded\n"
     ]
    },
    {
     "name": "stderr",
     "output_type": "stream",
     "text": [
      "                 Class     Images  Instances      Box(P          R      mAP50  mAP50-95):  73%|███████▎  | 8/11 [00:31<00:12,  4.17s/it]"
     ]
    },
    {
     "name": "stdout",
     "output_type": "stream",
     "text": [
      "WARNING ⚠️ NMS time limit 2.400s exceeded\n"
     ]
    },
    {
     "name": "stderr",
     "output_type": "stream",
     "text": [
      "                 Class     Images  Instances      Box(P          R      mAP50  mAP50-95):  82%|████████▏ | 9/11 [00:35<00:08,  4.09s/it]"
     ]
    },
    {
     "name": "stdout",
     "output_type": "stream",
     "text": [
      "WARNING ⚠️ NMS time limit 2.400s exceeded\n"
     ]
    },
    {
     "name": "stderr",
     "output_type": "stream",
     "text": [
      "                 Class     Images  Instances      Box(P          R      mAP50  mAP50-95):  91%|█████████ | 10/11 [00:38<00:03,  3.84s/it]"
     ]
    },
    {
     "name": "stdout",
     "output_type": "stream",
     "text": [
      "WARNING ⚠️ NMS time limit 2.200s exceeded\n"
     ]
    },
    {
     "name": "stderr",
     "output_type": "stream",
     "text": [
      "                 Class     Images  Instances      Box(P          R      mAP50  mAP50-95): 100%|██████████| 11/11 [00:45<00:00,  4.12s/it]\n"
     ]
    },
    {
     "name": "stdout",
     "output_type": "stream",
     "text": [
      "                   all         84        114      0.279      0.299      0.121     0.0758\n",
      "\n",
      "      Epoch    GPU_mem   box_loss   cls_loss   dfl_loss  Instances       Size\n"
     ]
    },
    {
     "name": "stderr",
     "output_type": "stream",
     "text": [
      "       3/50      15.8G      1.255      1.342      1.147          8        416: 100%|██████████| 98/98 [06:16<00:00,  3.84s/it]\n",
      "                 Class     Images  Instances      Box(P          R      mAP50  mAP50-95):   0%|          | 0/11 [00:00<?, ?it/s]"
     ]
    },
    {
     "name": "stdout",
     "output_type": "stream",
     "text": [
      "WARNING ⚠️ NMS time limit 2.400s exceeded\n"
     ]
    },
    {
     "name": "stderr",
     "output_type": "stream",
     "text": [
      "                 Class     Images  Instances      Box(P          R      mAP50  mAP50-95):   9%|▉         | 1/11 [00:04<00:42,  4.23s/it]"
     ]
    },
    {
     "name": "stdout",
     "output_type": "stream",
     "text": [
      "WARNING ⚠️ NMS time limit 2.400s exceeded\n"
     ]
    },
    {
     "name": "stderr",
     "output_type": "stream",
     "text": [
      "                 Class     Images  Instances      Box(P          R      mAP50  mAP50-95):  18%|█▊        | 2/11 [00:07<00:32,  3.58s/it]"
     ]
    },
    {
     "name": "stdout",
     "output_type": "stream",
     "text": [
      "WARNING ⚠️ NMS time limit 2.400s exceeded\n"
     ]
    },
    {
     "name": "stderr",
     "output_type": "stream",
     "text": [
      "                 Class     Images  Instances      Box(P          R      mAP50  mAP50-95):  27%|██▋       | 3/11 [00:11<00:29,  3.66s/it]"
     ]
    },
    {
     "name": "stdout",
     "output_type": "stream",
     "text": [
      "WARNING ⚠️ NMS time limit 2.400s exceeded\n"
     ]
    },
    {
     "name": "stderr",
     "output_type": "stream",
     "text": [
      "                 Class     Images  Instances      Box(P          R      mAP50  mAP50-95):  36%|███▋      | 4/11 [00:14<00:25,  3.64s/it]"
     ]
    },
    {
     "name": "stdout",
     "output_type": "stream",
     "text": [
      "WARNING ⚠️ NMS time limit 2.400s exceeded\n"
     ]
    },
    {
     "name": "stderr",
     "output_type": "stream",
     "text": [
      "                 Class     Images  Instances      Box(P          R      mAP50  mAP50-95):  45%|████▌     | 5/11 [00:17<00:20,  3.41s/it]"
     ]
    },
    {
     "name": "stdout",
     "output_type": "stream",
     "text": [
      "WARNING ⚠️ NMS time limit 2.400s exceeded\n"
     ]
    },
    {
     "name": "stderr",
     "output_type": "stream",
     "text": [
      "                 Class     Images  Instances      Box(P          R      mAP50  mAP50-95):  55%|█████▍    | 6/11 [00:21<00:16,  3.38s/it]"
     ]
    },
    {
     "name": "stdout",
     "output_type": "stream",
     "text": [
      "WARNING ⚠️ NMS time limit 2.400s exceeded\n"
     ]
    },
    {
     "name": "stderr",
     "output_type": "stream",
     "text": [
      "                 Class     Images  Instances      Box(P          R      mAP50  mAP50-95):  64%|██████▎   | 7/11 [00:27<00:18,  4.55s/it]"
     ]
    },
    {
     "name": "stdout",
     "output_type": "stream",
     "text": [
      "WARNING ⚠️ NMS time limit 2.400s exceeded\n"
     ]
    },
    {
     "name": "stderr",
     "output_type": "stream",
     "text": [
      "                 Class     Images  Instances      Box(P          R      mAP50  mAP50-95):  73%|███████▎  | 8/11 [00:31<00:12,  4.20s/it]"
     ]
    },
    {
     "name": "stdout",
     "output_type": "stream",
     "text": [
      "WARNING ⚠️ NMS time limit 2.400s exceeded\n"
     ]
    },
    {
     "name": "stderr",
     "output_type": "stream",
     "text": [
      "                 Class     Images  Instances      Box(P          R      mAP50  mAP50-95):  82%|████████▏ | 9/11 [00:36<00:08,  4.48s/it]"
     ]
    },
    {
     "name": "stdout",
     "output_type": "stream",
     "text": [
      "WARNING ⚠️ NMS time limit 2.400s exceeded\n"
     ]
    },
    {
     "name": "stderr",
     "output_type": "stream",
     "text": [
      "                 Class     Images  Instances      Box(P          R      mAP50  mAP50-95):  91%|█████████ | 10/11 [00:40<00:04,  4.37s/it]"
     ]
    },
    {
     "name": "stdout",
     "output_type": "stream",
     "text": [
      "WARNING ⚠️ NMS time limit 2.200s exceeded\n"
     ]
    },
    {
     "name": "stderr",
     "output_type": "stream",
     "text": [
      "                 Class     Images  Instances      Box(P          R      mAP50  mAP50-95): 100%|██████████| 11/11 [00:44<00:00,  4.04s/it]\n"
     ]
    },
    {
     "name": "stdout",
     "output_type": "stream",
     "text": [
      "                   all         84        114      0.315      0.311       0.15     0.0837\n",
      "\n",
      "      Epoch    GPU_mem   box_loss   cls_loss   dfl_loss  Instances       Size\n"
     ]
    },
    {
     "name": "stderr",
     "output_type": "stream",
     "text": [
      "       4/50        16G       1.23      1.304      1.135          2        416: 100%|██████████| 98/98 [06:03<00:00,  3.71s/it]\n",
      "                 Class     Images  Instances      Box(P          R      mAP50  mAP50-95):   0%|          | 0/11 [00:00<?, ?it/s]"
     ]
    },
    {
     "name": "stdout",
     "output_type": "stream",
     "text": [
      "WARNING ⚠️ NMS time limit 2.400s exceeded\n"
     ]
    },
    {
     "name": "stderr",
     "output_type": "stream",
     "text": [
      "                 Class     Images  Instances      Box(P          R      mAP50  mAP50-95):   9%|▉         | 1/11 [00:04<00:41,  4.11s/it]"
     ]
    },
    {
     "name": "stdout",
     "output_type": "stream",
     "text": [
      "WARNING ⚠️ NMS time limit 2.400s exceeded\n"
     ]
    },
    {
     "name": "stderr",
     "output_type": "stream",
     "text": [
      "                 Class     Images  Instances      Box(P          R      mAP50  mAP50-95):  18%|█▊        | 2/11 [00:07<00:34,  3.84s/it]"
     ]
    },
    {
     "name": "stdout",
     "output_type": "stream",
     "text": [
      "WARNING ⚠️ NMS time limit 2.400s exceeded\n"
     ]
    },
    {
     "name": "stderr",
     "output_type": "stream",
     "text": [
      "                 Class     Images  Instances      Box(P          R      mAP50  mAP50-95):  27%|██▋       | 3/11 [00:11<00:30,  3.86s/it]"
     ]
    },
    {
     "name": "stdout",
     "output_type": "stream",
     "text": [
      "WARNING ⚠️ NMS time limit 2.400s exceeded\n"
     ]
    },
    {
     "name": "stderr",
     "output_type": "stream",
     "text": [
      "                 Class     Images  Instances      Box(P          R      mAP50  mAP50-95):  36%|███▋      | 4/11 [00:15<00:26,  3.84s/it]"
     ]
    },
    {
     "name": "stdout",
     "output_type": "stream",
     "text": [
      "WARNING ⚠️ NMS time limit 2.400s exceeded\n"
     ]
    },
    {
     "name": "stderr",
     "output_type": "stream",
     "text": [
      "                 Class     Images  Instances      Box(P          R      mAP50  mAP50-95):  45%|████▌     | 5/11 [00:19<00:23,  3.93s/it]"
     ]
    },
    {
     "name": "stdout",
     "output_type": "stream",
     "text": [
      "WARNING ⚠️ NMS time limit 2.400s exceeded\n"
     ]
    },
    {
     "name": "stderr",
     "output_type": "stream",
     "text": [
      "                 Class     Images  Instances      Box(P          R      mAP50  mAP50-95):  55%|█████▍    | 6/11 [00:22<00:18,  3.74s/it]"
     ]
    },
    {
     "name": "stdout",
     "output_type": "stream",
     "text": [
      "WARNING ⚠️ NMS time limit 2.400s exceeded\n"
     ]
    },
    {
     "name": "stderr",
     "output_type": "stream",
     "text": [
      "                 Class     Images  Instances      Box(P          R      mAP50  mAP50-95):  64%|██████▎   | 7/11 [00:30<00:19,  4.96s/it]"
     ]
    },
    {
     "name": "stdout",
     "output_type": "stream",
     "text": [
      "WARNING ⚠️ NMS time limit 2.400s exceeded\n"
     ]
    },
    {
     "name": "stderr",
     "output_type": "stream",
     "text": [
      "                 Class     Images  Instances      Box(P          R      mAP50  mAP50-95):  73%|███████▎  | 8/11 [00:33<00:13,  4.44s/it]"
     ]
    },
    {
     "name": "stdout",
     "output_type": "stream",
     "text": [
      "WARNING ⚠️ NMS time limit 2.400s exceeded\n"
     ]
    },
    {
     "name": "stderr",
     "output_type": "stream",
     "text": [
      "                 Class     Images  Instances      Box(P          R      mAP50  mAP50-95):  91%|█████████ | 10/11 [00:39<00:03,  3.71s/it]"
     ]
    },
    {
     "name": "stdout",
     "output_type": "stream",
     "text": [
      "WARNING ⚠️ NMS time limit 2.200s exceeded\n"
     ]
    },
    {
     "name": "stderr",
     "output_type": "stream",
     "text": [
      "                 Class     Images  Instances      Box(P          R      mAP50  mAP50-95): 100%|██████████| 11/11 [00:43<00:00,  3.93s/it]\n"
     ]
    },
    {
     "name": "stdout",
     "output_type": "stream",
     "text": [
      "                   all         84        114      0.262      0.307      0.133     0.0717\n",
      "\n",
      "      Epoch    GPU_mem   box_loss   cls_loss   dfl_loss  Instances       Size\n"
     ]
    },
    {
     "name": "stderr",
     "output_type": "stream",
     "text": [
      "       5/50      16.2G      1.218      1.275      1.141          1        416: 100%|██████████| 98/98 [05:38<00:00,  3.46s/it]\n",
      "                 Class     Images  Instances      Box(P          R      mAP50  mAP50-95):   0%|          | 0/11 [00:00<?, ?it/s]"
     ]
    },
    {
     "name": "stdout",
     "output_type": "stream",
     "text": [
      "WARNING ⚠️ NMS time limit 2.400s exceeded\n"
     ]
    },
    {
     "name": "stderr",
     "output_type": "stream",
     "text": [
      "                 Class     Images  Instances      Box(P          R      mAP50  mAP50-95):   9%|▉         | 1/11 [00:03<00:36,  3.63s/it]"
     ]
    },
    {
     "name": "stdout",
     "output_type": "stream",
     "text": [
      "WARNING ⚠️ NMS time limit 2.400s exceeded\n"
     ]
    },
    {
     "name": "stderr",
     "output_type": "stream",
     "text": [
      "                 Class     Images  Instances      Box(P          R      mAP50  mAP50-95):  18%|█▊        | 2/11 [00:06<00:31,  3.45s/it]"
     ]
    },
    {
     "name": "stdout",
     "output_type": "stream",
     "text": [
      "WARNING ⚠️ NMS time limit 2.400s exceeded\n"
     ]
    },
    {
     "name": "stderr",
     "output_type": "stream",
     "text": [
      "                 Class     Images  Instances      Box(P          R      mAP50  mAP50-95):  27%|██▋       | 3/11 [00:10<00:29,  3.67s/it]"
     ]
    },
    {
     "name": "stdout",
     "output_type": "stream",
     "text": [
      "WARNING ⚠️ NMS time limit 2.400s exceeded\n"
     ]
    },
    {
     "name": "stderr",
     "output_type": "stream",
     "text": [
      "                 Class     Images  Instances      Box(P          R      mAP50  mAP50-95):  36%|███▋      | 4/11 [00:13<00:23,  3.39s/it]"
     ]
    },
    {
     "name": "stdout",
     "output_type": "stream",
     "text": [
      "WARNING ⚠️ NMS time limit 2.400s exceeded\n"
     ]
    },
    {
     "name": "stderr",
     "output_type": "stream",
     "text": [
      "                 Class     Images  Instances      Box(P          R      mAP50  mAP50-95):  45%|████▌     | 5/11 [00:17<00:20,  3.40s/it]"
     ]
    },
    {
     "name": "stdout",
     "output_type": "stream",
     "text": [
      "WARNING ⚠️ NMS time limit 2.400s exceeded\n"
     ]
    },
    {
     "name": "stderr",
     "output_type": "stream",
     "text": [
      "                 Class     Images  Instances      Box(P          R      mAP50  mAP50-95):  55%|█████▍    | 6/11 [00:21<00:18,  3.70s/it]"
     ]
    },
    {
     "name": "stdout",
     "output_type": "stream",
     "text": [
      "WARNING ⚠️ NMS time limit 2.400s exceeded\n"
     ]
    },
    {
     "name": "stderr",
     "output_type": "stream",
     "text": [
      "                 Class     Images  Instances      Box(P          R      mAP50  mAP50-95):  64%|██████▎   | 7/11 [00:25<00:14,  3.65s/it]"
     ]
    },
    {
     "name": "stdout",
     "output_type": "stream",
     "text": [
      "WARNING ⚠️ NMS time limit 2.400s exceeded\n"
     ]
    },
    {
     "name": "stderr",
     "output_type": "stream",
     "text": [
      "                 Class     Images  Instances      Box(P          R      mAP50  mAP50-95):  73%|███████▎  | 8/11 [00:28<00:10,  3.65s/it]"
     ]
    },
    {
     "name": "stdout",
     "output_type": "stream",
     "text": [
      "WARNING ⚠️ NMS time limit 2.400s exceeded\n"
     ]
    },
    {
     "name": "stderr",
     "output_type": "stream",
     "text": [
      "                 Class     Images  Instances      Box(P          R      mAP50  mAP50-95):  82%|████████▏ | 9/11 [00:32<00:07,  3.81s/it]"
     ]
    },
    {
     "name": "stdout",
     "output_type": "stream",
     "text": [
      "WARNING ⚠️ NMS time limit 2.400s exceeded\n"
     ]
    },
    {
     "name": "stderr",
     "output_type": "stream",
     "text": [
      "                 Class     Images  Instances      Box(P          R      mAP50  mAP50-95):  91%|█████████ | 10/11 [00:36<00:03,  3.81s/it]"
     ]
    },
    {
     "name": "stdout",
     "output_type": "stream",
     "text": [
      "WARNING ⚠️ NMS time limit 2.200s exceeded\n"
     ]
    },
    {
     "name": "stderr",
     "output_type": "stream",
     "text": [
      "                 Class     Images  Instances      Box(P          R      mAP50  mAP50-95): 100%|██████████| 11/11 [00:40<00:00,  3.71s/it]\n"
     ]
    },
    {
     "name": "stdout",
     "output_type": "stream",
     "text": [
      "                   all         84        114      0.334      0.386      0.193      0.117\n",
      "\n",
      "      Epoch    GPU_mem   box_loss   cls_loss   dfl_loss  Instances       Size\n"
     ]
    },
    {
     "name": "stderr",
     "output_type": "stream",
     "text": [
      "       6/50      16.6G      1.211      1.221      1.139          7        416: 100%|██████████| 98/98 [05:19<00:00,  3.26s/it]\n",
      "                 Class     Images  Instances      Box(P          R      mAP50  mAP50-95):   0%|          | 0/11 [00:00<?, ?it/s]"
     ]
    },
    {
     "name": "stdout",
     "output_type": "stream",
     "text": [
      "WARNING ⚠️ NMS time limit 2.400s exceeded\n"
     ]
    },
    {
     "name": "stderr",
     "output_type": "stream",
     "text": [
      "                 Class     Images  Instances      Box(P          R      mAP50  mAP50-95):   9%|▉         | 1/11 [00:04<00:40,  4.02s/it]"
     ]
    },
    {
     "name": "stdout",
     "output_type": "stream",
     "text": [
      "WARNING ⚠️ NMS time limit 2.400s exceeded\n"
     ]
    },
    {
     "name": "stderr",
     "output_type": "stream",
     "text": [
      "                 Class     Images  Instances      Box(P          R      mAP50  mAP50-95):  18%|█▊        | 2/11 [00:07<00:32,  3.66s/it]"
     ]
    },
    {
     "name": "stdout",
     "output_type": "stream",
     "text": [
      "WARNING ⚠️ NMS time limit 2.400s exceeded\n"
     ]
    },
    {
     "name": "stderr",
     "output_type": "stream",
     "text": [
      "                 Class     Images  Instances      Box(P          R      mAP50  mAP50-95):  27%|██▋       | 3/11 [00:11<00:31,  3.88s/it]"
     ]
    },
    {
     "name": "stdout",
     "output_type": "stream",
     "text": [
      "WARNING ⚠️ NMS time limit 2.400s exceeded\n"
     ]
    },
    {
     "name": "stderr",
     "output_type": "stream",
     "text": [
      "                 Class     Images  Instances      Box(P          R      mAP50  mAP50-95):  36%|███▋      | 4/11 [00:15<00:27,  3.95s/it]"
     ]
    },
    {
     "name": "stdout",
     "output_type": "stream",
     "text": [
      "WARNING ⚠️ NMS time limit 2.400s exceeded\n"
     ]
    },
    {
     "name": "stderr",
     "output_type": "stream",
     "text": [
      "                 Class     Images  Instances      Box(P          R      mAP50  mAP50-95):  45%|████▌     | 5/11 [00:19<00:23,  3.92s/it]"
     ]
    },
    {
     "name": "stdout",
     "output_type": "stream",
     "text": [
      "WARNING ⚠️ NMS time limit 2.400s exceeded\n"
     ]
    },
    {
     "name": "stderr",
     "output_type": "stream",
     "text": [
      "                 Class     Images  Instances      Box(P          R      mAP50  mAP50-95):  55%|█████▍    | 6/11 [00:23<00:19,  3.99s/it]"
     ]
    },
    {
     "name": "stdout",
     "output_type": "stream",
     "text": [
      "WARNING ⚠️ NMS time limit 2.400s exceeded\n"
     ]
    },
    {
     "name": "stderr",
     "output_type": "stream",
     "text": [
      "                 Class     Images  Instances      Box(P          R      mAP50  mAP50-95):  64%|██████▎   | 7/11 [00:27<00:16,  4.07s/it]"
     ]
    },
    {
     "name": "stdout",
     "output_type": "stream",
     "text": [
      "WARNING ⚠️ NMS time limit 2.400s exceeded\n"
     ]
    },
    {
     "name": "stderr",
     "output_type": "stream",
     "text": [
      "                 Class     Images  Instances      Box(P          R      mAP50  mAP50-95):  73%|███████▎  | 8/11 [00:31<00:12,  4.01s/it]"
     ]
    },
    {
     "name": "stdout",
     "output_type": "stream",
     "text": [
      "WARNING ⚠️ NMS time limit 2.400s exceeded\n"
     ]
    },
    {
     "name": "stderr",
     "output_type": "stream",
     "text": [
      "                 Class     Images  Instances      Box(P          R      mAP50  mAP50-95):  82%|████████▏ | 9/11 [00:35<00:08,  4.02s/it]"
     ]
    },
    {
     "name": "stdout",
     "output_type": "stream",
     "text": [
      "WARNING ⚠️ NMS time limit 2.400s exceeded\n"
     ]
    },
    {
     "name": "stderr",
     "output_type": "stream",
     "text": [
      "                 Class     Images  Instances      Box(P          R      mAP50  mAP50-95):  91%|█████████ | 10/11 [00:39<00:03,  3.97s/it]"
     ]
    },
    {
     "name": "stdout",
     "output_type": "stream",
     "text": [
      "WARNING ⚠️ NMS time limit 2.200s exceeded\n"
     ]
    },
    {
     "name": "stderr",
     "output_type": "stream",
     "text": [
      "                 Class     Images  Instances      Box(P          R      mAP50  mAP50-95): 100%|██████████| 11/11 [00:43<00:00,  3.95s/it]\n"
     ]
    },
    {
     "name": "stdout",
     "output_type": "stream",
     "text": [
      "                   all         84        114      0.238       0.36      0.127     0.0757\n",
      "\n",
      "      Epoch    GPU_mem   box_loss   cls_loss   dfl_loss  Instances       Size\n"
     ]
    },
    {
     "name": "stderr",
     "output_type": "stream",
     "text": [
      "       7/50      16.9G      1.186      1.145      1.116          7        416: 100%|██████████| 98/98 [05:15<00:00,  3.22s/it]\n",
      "                 Class     Images  Instances      Box(P          R      mAP50  mAP50-95):   0%|          | 0/11 [00:00<?, ?it/s]"
     ]
    },
    {
     "name": "stdout",
     "output_type": "stream",
     "text": [
      "WARNING ⚠️ NMS time limit 2.400s exceeded\n"
     ]
    },
    {
     "name": "stderr",
     "output_type": "stream",
     "text": [
      "                 Class     Images  Instances      Box(P          R      mAP50  mAP50-95):   9%|▉         | 1/11 [00:04<00:41,  4.12s/it]"
     ]
    },
    {
     "name": "stdout",
     "output_type": "stream",
     "text": [
      "WARNING ⚠️ NMS time limit 2.400s exceeded\n"
     ]
    },
    {
     "name": "stderr",
     "output_type": "stream",
     "text": [
      "                 Class     Images  Instances      Box(P          R      mAP50  mAP50-95):  18%|█▊        | 2/11 [00:08<00:36,  4.03s/it]"
     ]
    },
    {
     "name": "stdout",
     "output_type": "stream",
     "text": [
      "WARNING ⚠️ NMS time limit 2.400s exceeded\n"
     ]
    },
    {
     "name": "stderr",
     "output_type": "stream",
     "text": [
      "                 Class     Images  Instances      Box(P          R      mAP50  mAP50-95):  27%|██▋       | 3/11 [00:12<00:32,  4.02s/it]"
     ]
    },
    {
     "name": "stdout",
     "output_type": "stream",
     "text": [
      "WARNING ⚠️ NMS time limit 2.400s exceeded\n"
     ]
    },
    {
     "name": "stderr",
     "output_type": "stream",
     "text": [
      "                 Class     Images  Instances      Box(P          R      mAP50  mAP50-95):  36%|███▋      | 4/11 [00:15<00:27,  3.92s/it]"
     ]
    },
    {
     "name": "stdout",
     "output_type": "stream",
     "text": [
      "WARNING ⚠️ NMS time limit 2.400s exceeded\n"
     ]
    },
    {
     "name": "stderr",
     "output_type": "stream",
     "text": [
      "                 Class     Images  Instances      Box(P          R      mAP50  mAP50-95):  45%|████▌     | 5/11 [00:19<00:23,  3.84s/it]"
     ]
    },
    {
     "name": "stdout",
     "output_type": "stream",
     "text": [
      "WARNING ⚠️ NMS time limit 2.400s exceeded\n"
     ]
    },
    {
     "name": "stderr",
     "output_type": "stream",
     "text": [
      "                 Class     Images  Instances      Box(P          R      mAP50  mAP50-95):  55%|█████▍    | 6/11 [00:25<00:22,  4.45s/it]"
     ]
    },
    {
     "name": "stdout",
     "output_type": "stream",
     "text": [
      "WARNING ⚠️ NMS time limit 2.400s exceeded\n"
     ]
    },
    {
     "name": "stderr",
     "output_type": "stream",
     "text": [
      "                 Class     Images  Instances      Box(P          R      mAP50  mAP50-95):  64%|██████▎   | 7/11 [00:31<00:20,  5.01s/it]"
     ]
    },
    {
     "name": "stdout",
     "output_type": "stream",
     "text": [
      "WARNING ⚠️ NMS time limit 2.400s exceeded\n"
     ]
    },
    {
     "name": "stderr",
     "output_type": "stream",
     "text": [
      "                 Class     Images  Instances      Box(P          R      mAP50  mAP50-95):  73%|███████▎  | 8/11 [00:35<00:13,  4.60s/it]"
     ]
    },
    {
     "name": "stdout",
     "output_type": "stream",
     "text": [
      "WARNING ⚠️ NMS time limit 2.400s exceeded\n"
     ]
    },
    {
     "name": "stderr",
     "output_type": "stream",
     "text": [
      "                 Class     Images  Instances      Box(P          R      mAP50  mAP50-95):  82%|████████▏ | 9/11 [00:39<00:08,  4.39s/it]"
     ]
    },
    {
     "name": "stdout",
     "output_type": "stream",
     "text": [
      "WARNING ⚠️ NMS time limit 2.400s exceeded\n"
     ]
    },
    {
     "name": "stderr",
     "output_type": "stream",
     "text": [
      "                 Class     Images  Instances      Box(P          R      mAP50  mAP50-95): 100%|██████████| 11/11 [00:47<00:00,  4.28s/it]\n"
     ]
    },
    {
     "name": "stdout",
     "output_type": "stream",
     "text": [
      "                   all         84        114      0.364      0.395      0.184      0.119\n",
      "\n",
      "      Epoch    GPU_mem   box_loss   cls_loss   dfl_loss  Instances       Size\n"
     ]
    },
    {
     "name": "stderr",
     "output_type": "stream",
     "text": [
      "       8/50      17.2G      1.126      1.108      1.094          9        416: 100%|██████████| 98/98 [04:17<00:00,  2.62s/it]\n",
      "                 Class     Images  Instances      Box(P          R      mAP50  mAP50-95):   0%|          | 0/11 [00:00<?, ?it/s]"
     ]
    },
    {
     "name": "stdout",
     "output_type": "stream",
     "text": [
      "WARNING ⚠️ NMS time limit 2.400s exceeded\n"
     ]
    },
    {
     "name": "stderr",
     "output_type": "stream",
     "text": [
      "                 Class     Images  Instances      Box(P          R      mAP50  mAP50-95):   9%|▉         | 1/11 [00:04<00:46,  4.63s/it]"
     ]
    },
    {
     "name": "stdout",
     "output_type": "stream",
     "text": [
      "WARNING ⚠️ NMS time limit 2.400s exceeded\n"
     ]
    },
    {
     "name": "stderr",
     "output_type": "stream",
     "text": [
      "                 Class     Images  Instances      Box(P          R      mAP50  mAP50-95):  18%|█▊        | 2/11 [00:09<00:41,  4.59s/it]"
     ]
    },
    {
     "name": "stdout",
     "output_type": "stream",
     "text": [
      "WARNING ⚠️ NMS time limit 2.400s exceeded\n"
     ]
    },
    {
     "name": "stderr",
     "output_type": "stream",
     "text": [
      "                 Class     Images  Instances      Box(P          R      mAP50  mAP50-95):  27%|██▋       | 3/11 [00:14<00:37,  4.74s/it]"
     ]
    },
    {
     "name": "stdout",
     "output_type": "stream",
     "text": [
      "WARNING ⚠️ NMS time limit 2.400s exceeded\n"
     ]
    },
    {
     "name": "stderr",
     "output_type": "stream",
     "text": [
      "                 Class     Images  Instances      Box(P          R      mAP50  mAP50-95):  36%|███▋      | 4/11 [00:18<00:31,  4.53s/it]"
     ]
    },
    {
     "name": "stdout",
     "output_type": "stream",
     "text": [
      "WARNING ⚠️ NMS time limit 2.400s exceeded\n"
     ]
    },
    {
     "name": "stderr",
     "output_type": "stream",
     "text": [
      "                 Class     Images  Instances      Box(P          R      mAP50  mAP50-95):  45%|████▌     | 5/11 [00:21<00:25,  4.20s/it]"
     ]
    },
    {
     "name": "stdout",
     "output_type": "stream",
     "text": [
      "WARNING ⚠️ NMS time limit 2.400s exceeded\n"
     ]
    },
    {
     "name": "stderr",
     "output_type": "stream",
     "text": [
      "                 Class     Images  Instances      Box(P          R      mAP50  mAP50-95):  55%|█████▍    | 6/11 [00:27<00:23,  4.72s/it]"
     ]
    },
    {
     "name": "stdout",
     "output_type": "stream",
     "text": [
      "WARNING ⚠️ NMS time limit 2.400s exceeded\n"
     ]
    },
    {
     "name": "stderr",
     "output_type": "stream",
     "text": [
      "                 Class     Images  Instances      Box(P          R      mAP50  mAP50-95):  64%|██████▎   | 7/11 [00:33<00:20,  5.20s/it]"
     ]
    },
    {
     "name": "stdout",
     "output_type": "stream",
     "text": [
      "WARNING ⚠️ NMS time limit 2.400s exceeded\n"
     ]
    },
    {
     "name": "stderr",
     "output_type": "stream",
     "text": [
      "                 Class     Images  Instances      Box(P          R      mAP50  mAP50-95):  73%|███████▎  | 8/11 [00:37<00:14,  4.82s/it]"
     ]
    },
    {
     "name": "stdout",
     "output_type": "stream",
     "text": [
      "WARNING ⚠️ NMS time limit 2.400s exceeded\n"
     ]
    },
    {
     "name": "stderr",
     "output_type": "stream",
     "text": [
      "                 Class     Images  Instances      Box(P          R      mAP50  mAP50-95):  82%|████████▏ | 9/11 [00:43<00:10,  5.09s/it]"
     ]
    },
    {
     "name": "stdout",
     "output_type": "stream",
     "text": [
      "WARNING ⚠️ NMS time limit 2.400s exceeded\n"
     ]
    },
    {
     "name": "stderr",
     "output_type": "stream",
     "text": [
      "                 Class     Images  Instances      Box(P          R      mAP50  mAP50-95):  91%|█████████ | 10/11 [00:49<00:05,  5.41s/it]"
     ]
    },
    {
     "name": "stdout",
     "output_type": "stream",
     "text": [
      "WARNING ⚠️ NMS time limit 2.200s exceeded\n"
     ]
    },
    {
     "name": "stderr",
     "output_type": "stream",
     "text": [
      "                 Class     Images  Instances      Box(P          R      mAP50  mAP50-95): 100%|██████████| 11/11 [00:55<00:00,  5.04s/it]\n"
     ]
    },
    {
     "name": "stdout",
     "output_type": "stream",
     "text": [
      "                   all         84        114      0.433      0.404      0.267      0.185\n",
      "\n",
      "      Epoch    GPU_mem   box_loss   cls_loss   dfl_loss  Instances       Size\n"
     ]
    },
    {
     "name": "stderr",
     "output_type": "stream",
     "text": [
      "       9/50      17.5G      1.096      1.061      1.065          4        416: 100%|██████████| 98/98 [04:09<00:00,  2.54s/it]\n",
      "                 Class     Images  Instances      Box(P          R      mAP50  mAP50-95):   0%|          | 0/11 [00:00<?, ?it/s]"
     ]
    },
    {
     "name": "stdout",
     "output_type": "stream",
     "text": [
      "WARNING ⚠️ NMS time limit 2.400s exceeded\n"
     ]
    },
    {
     "name": "stderr",
     "output_type": "stream",
     "text": [
      "                 Class     Images  Instances      Box(P          R      mAP50  mAP50-95):   9%|▉         | 1/11 [00:04<00:41,  4.19s/it]"
     ]
    },
    {
     "name": "stdout",
     "output_type": "stream",
     "text": [
      "WARNING ⚠️ NMS time limit 2.400s exceeded\n"
     ]
    },
    {
     "name": "stderr",
     "output_type": "stream",
     "text": [
      "                 Class     Images  Instances      Box(P          R      mAP50  mAP50-95):  18%|█▊        | 2/11 [00:08<00:37,  4.16s/it]"
     ]
    },
    {
     "name": "stdout",
     "output_type": "stream",
     "text": [
      "WARNING ⚠️ NMS time limit 2.400s exceeded\n"
     ]
    },
    {
     "name": "stderr",
     "output_type": "stream",
     "text": [
      "                 Class     Images  Instances      Box(P          R      mAP50  mAP50-95):  27%|██▋       | 3/11 [00:12<00:33,  4.24s/it]"
     ]
    },
    {
     "name": "stdout",
     "output_type": "stream",
     "text": [
      "WARNING ⚠️ NMS time limit 2.400s exceeded\n"
     ]
    },
    {
     "name": "stderr",
     "output_type": "stream",
     "text": [
      "                 Class     Images  Instances      Box(P          R      mAP50  mAP50-95):  36%|███▋      | 4/11 [00:17<00:30,  4.32s/it]"
     ]
    },
    {
     "name": "stdout",
     "output_type": "stream",
     "text": [
      "WARNING ⚠️ NMS time limit 2.400s exceeded\n"
     ]
    },
    {
     "name": "stderr",
     "output_type": "stream",
     "text": [
      "                 Class     Images  Instances      Box(P          R      mAP50  mAP50-95):  45%|████▌     | 5/11 [00:20<00:23,  3.91s/it]"
     ]
    },
    {
     "name": "stdout",
     "output_type": "stream",
     "text": [
      "WARNING ⚠️ NMS time limit 2.400s exceeded\n"
     ]
    },
    {
     "name": "stderr",
     "output_type": "stream",
     "text": [
      "                 Class     Images  Instances      Box(P          R      mAP50  mAP50-95):  55%|█████▍    | 6/11 [00:27<00:24,  4.87s/it]"
     ]
    },
    {
     "name": "stdout",
     "output_type": "stream",
     "text": [
      "WARNING ⚠️ NMS time limit 2.400s exceeded\n"
     ]
    },
    {
     "name": "stderr",
     "output_type": "stream",
     "text": [
      "                 Class     Images  Instances      Box(P          R      mAP50  mAP50-95):  64%|██████▎   | 7/11 [00:35<00:24,  6.16s/it]"
     ]
    },
    {
     "name": "stdout",
     "output_type": "stream",
     "text": [
      "WARNING ⚠️ NMS time limit 2.400s exceeded\n"
     ]
    },
    {
     "name": "stderr",
     "output_type": "stream",
     "text": [
      "                 Class     Images  Instances      Box(P          R      mAP50  mAP50-95):  73%|███████▎  | 8/11 [00:40<00:17,  5.80s/it]"
     ]
    },
    {
     "name": "stdout",
     "output_type": "stream",
     "text": [
      "WARNING ⚠️ NMS time limit 2.400s exceeded\n"
     ]
    },
    {
     "name": "stderr",
     "output_type": "stream",
     "text": [
      "                 Class     Images  Instances      Box(P          R      mAP50  mAP50-95):  82%|████████▏ | 9/11 [00:44<00:10,  5.20s/it]"
     ]
    },
    {
     "name": "stdout",
     "output_type": "stream",
     "text": [
      "WARNING ⚠️ NMS time limit 2.400s exceeded\n"
     ]
    },
    {
     "name": "stderr",
     "output_type": "stream",
     "text": [
      "                 Class     Images  Instances      Box(P          R      mAP50  mAP50-95):  91%|█████████ | 10/11 [00:48<00:04,  4.83s/it]"
     ]
    },
    {
     "name": "stdout",
     "output_type": "stream",
     "text": [
      "WARNING ⚠️ NMS time limit 2.200s exceeded\n"
     ]
    },
    {
     "name": "stderr",
     "output_type": "stream",
     "text": [
      "                 Class     Images  Instances      Box(P          R      mAP50  mAP50-95): 100%|██████████| 11/11 [00:54<00:00,  4.97s/it]\n"
     ]
    },
    {
     "name": "stdout",
     "output_type": "stream",
     "text": [
      "                   all         84        114      0.332      0.254      0.129      0.087\n",
      "\n",
      "      Epoch    GPU_mem   box_loss   cls_loss   dfl_loss  Instances       Size\n"
     ]
    },
    {
     "name": "stderr",
     "output_type": "stream",
     "text": [
      "      10/50      17.7G      1.086      1.036      1.056          3        416: 100%|██████████| 98/98 [03:59<00:00,  2.44s/it]\n",
      "                 Class     Images  Instances      Box(P          R      mAP50  mAP50-95):   0%|          | 0/11 [00:00<?, ?it/s]"
     ]
    },
    {
     "name": "stdout",
     "output_type": "stream",
     "text": [
      "WARNING ⚠️ NMS time limit 2.400s exceeded\n"
     ]
    },
    {
     "name": "stderr",
     "output_type": "stream",
     "text": [
      "                 Class     Images  Instances      Box(P          R      mAP50  mAP50-95):   9%|▉         | 1/11 [00:04<00:41,  4.17s/it]"
     ]
    },
    {
     "name": "stdout",
     "output_type": "stream",
     "text": [
      "WARNING ⚠️ NMS time limit 2.400s exceeded\n"
     ]
    },
    {
     "name": "stderr",
     "output_type": "stream",
     "text": [
      "                 Class     Images  Instances      Box(P          R      mAP50  mAP50-95):  18%|█▊        | 2/11 [00:07<00:33,  3.75s/it]"
     ]
    },
    {
     "name": "stdout",
     "output_type": "stream",
     "text": [
      "WARNING ⚠️ NMS time limit 2.400s exceeded\n"
     ]
    },
    {
     "name": "stderr",
     "output_type": "stream",
     "text": [
      "                 Class     Images  Instances      Box(P          R      mAP50  mAP50-95):  27%|██▋       | 3/11 [00:11<00:30,  3.78s/it]"
     ]
    },
    {
     "name": "stdout",
     "output_type": "stream",
     "text": [
      "WARNING ⚠️ NMS time limit 2.400s exceeded\n"
     ]
    },
    {
     "name": "stderr",
     "output_type": "stream",
     "text": [
      "                 Class     Images  Instances      Box(P          R      mAP50  mAP50-95):  36%|███▋      | 4/11 [00:15<00:26,  3.80s/it]"
     ]
    },
    {
     "name": "stdout",
     "output_type": "stream",
     "text": [
      "WARNING ⚠️ NMS time limit 2.400s exceeded\n"
     ]
    },
    {
     "name": "stderr",
     "output_type": "stream",
     "text": [
      "                 Class     Images  Instances      Box(P          R      mAP50  mAP50-95):  45%|████▌     | 5/11 [00:18<00:21,  3.57s/it]"
     ]
    },
    {
     "name": "stdout",
     "output_type": "stream",
     "text": [
      "WARNING ⚠️ NMS time limit 2.400s exceeded\n"
     ]
    },
    {
     "name": "stderr",
     "output_type": "stream",
     "text": [
      "                 Class     Images  Instances      Box(P          R      mAP50  mAP50-95):  55%|█████▍    | 6/11 [00:22<00:19,  3.90s/it]"
     ]
    },
    {
     "name": "stdout",
     "output_type": "stream",
     "text": [
      "WARNING ⚠️ NMS time limit 2.400s exceeded\n"
     ]
    },
    {
     "name": "stderr",
     "output_type": "stream",
     "text": [
      "                 Class     Images  Instances      Box(P          R      mAP50  mAP50-95):  64%|██████▎   | 7/11 [00:28<00:18,  4.54s/it]"
     ]
    },
    {
     "name": "stdout",
     "output_type": "stream",
     "text": [
      "WARNING ⚠️ NMS time limit 2.400s exceeded\n"
     ]
    },
    {
     "name": "stderr",
     "output_type": "stream",
     "text": [
      "                 Class     Images  Instances      Box(P          R      mAP50  mAP50-95):  73%|███████▎  | 8/11 [00:32<00:12,  4.30s/it]"
     ]
    },
    {
     "name": "stdout",
     "output_type": "stream",
     "text": [
      "WARNING ⚠️ NMS time limit 2.400s exceeded\n"
     ]
    },
    {
     "name": "stderr",
     "output_type": "stream",
     "text": [
      "                 Class     Images  Instances      Box(P          R      mAP50  mAP50-95):  82%|████████▏ | 9/11 [00:36<00:08,  4.27s/it]"
     ]
    },
    {
     "name": "stdout",
     "output_type": "stream",
     "text": [
      "WARNING ⚠️ NMS time limit 2.400s exceeded\n"
     ]
    },
    {
     "name": "stderr",
     "output_type": "stream",
     "text": [
      "                 Class     Images  Instances      Box(P          R      mAP50  mAP50-95):  91%|█████████ | 10/11 [00:41<00:04,  4.26s/it]"
     ]
    },
    {
     "name": "stdout",
     "output_type": "stream",
     "text": [
      "WARNING ⚠️ NMS time limit 2.200s exceeded\n"
     ]
    },
    {
     "name": "stderr",
     "output_type": "stream",
     "text": [
      "                 Class     Images  Instances      Box(P          R      mAP50  mAP50-95): 100%|██████████| 11/11 [00:44<00:00,  4.07s/it]\n"
     ]
    },
    {
     "name": "stdout",
     "output_type": "stream",
     "text": [
      "                   all         84        114      0.314       0.36      0.153     0.0977\n",
      "\n",
      "      Epoch    GPU_mem   box_loss   cls_loss   dfl_loss  Instances       Size\n"
     ]
    },
    {
     "name": "stderr",
     "output_type": "stream",
     "text": [
      "      11/50      17.9G       1.07     0.9889      1.058          4        416: 100%|██████████| 98/98 [04:18<00:00,  2.64s/it]\n",
      "                 Class     Images  Instances      Box(P          R      mAP50  mAP50-95):   0%|          | 0/11 [00:00<?, ?it/s]"
     ]
    },
    {
     "name": "stdout",
     "output_type": "stream",
     "text": [
      "WARNING ⚠️ NMS time limit 2.400s exceeded\n"
     ]
    },
    {
     "name": "stderr",
     "output_type": "stream",
     "text": [
      "                 Class     Images  Instances      Box(P          R      mAP50  mAP50-95):   9%|▉         | 1/11 [00:04<00:46,  4.68s/it]"
     ]
    },
    {
     "name": "stdout",
     "output_type": "stream",
     "text": [
      "WARNING ⚠️ NMS time limit 2.400s exceeded\n"
     ]
    },
    {
     "name": "stderr",
     "output_type": "stream",
     "text": [
      "                 Class     Images  Instances      Box(P          R      mAP50  mAP50-95):  18%|█▊        | 2/11 [00:08<00:38,  4.26s/it]"
     ]
    },
    {
     "name": "stdout",
     "output_type": "stream",
     "text": [
      "WARNING ⚠️ NMS time limit 2.400s exceeded\n"
     ]
    },
    {
     "name": "stderr",
     "output_type": "stream",
     "text": [
      "                 Class     Images  Instances      Box(P          R      mAP50  mAP50-95):  27%|██▋       | 3/11 [00:12<00:34,  4.27s/it]"
     ]
    },
    {
     "name": "stdout",
     "output_type": "stream",
     "text": [
      "WARNING ⚠️ NMS time limit 2.400s exceeded\n"
     ]
    },
    {
     "name": "stderr",
     "output_type": "stream",
     "text": [
      "                 Class     Images  Instances      Box(P          R      mAP50  mAP50-95):  36%|███▋      | 4/11 [00:17<00:29,  4.24s/it]"
     ]
    },
    {
     "name": "stdout",
     "output_type": "stream",
     "text": [
      "WARNING ⚠️ NMS time limit 2.400s exceeded\n"
     ]
    },
    {
     "name": "stderr",
     "output_type": "stream",
     "text": [
      "                 Class     Images  Instances      Box(P          R      mAP50  mAP50-95):  45%|████▌     | 5/11 [00:21<00:25,  4.20s/it]"
     ]
    },
    {
     "name": "stdout",
     "output_type": "stream",
     "text": [
      "WARNING ⚠️ NMS time limit 2.400s exceeded\n"
     ]
    },
    {
     "name": "stderr",
     "output_type": "stream",
     "text": [
      "                 Class     Images  Instances      Box(P          R      mAP50  mAP50-95):  55%|█████▍    | 6/11 [00:24<00:19,  3.96s/it]"
     ]
    },
    {
     "name": "stdout",
     "output_type": "stream",
     "text": [
      "WARNING ⚠️ NMS time limit 2.400s exceeded\n"
     ]
    },
    {
     "name": "stderr",
     "output_type": "stream",
     "text": [
      "                 Class     Images  Instances      Box(P          R      mAP50  mAP50-95):  64%|██████▎   | 7/11 [00:36<00:25,  6.43s/it]"
     ]
    },
    {
     "name": "stdout",
     "output_type": "stream",
     "text": [
      "WARNING ⚠️ NMS time limit 2.400s exceeded\n"
     ]
    },
    {
     "name": "stderr",
     "output_type": "stream",
     "text": [
      "                 Class     Images  Instances      Box(P          R      mAP50  mAP50-95):  73%|███████▎  | 8/11 [00:41<00:18,  6.14s/it]"
     ]
    },
    {
     "name": "stdout",
     "output_type": "stream",
     "text": [
      "WARNING ⚠️ NMS time limit 2.400s exceeded\n"
     ]
    },
    {
     "name": "stderr",
     "output_type": "stream",
     "text": [
      "                 Class     Images  Instances      Box(P          R      mAP50  mAP50-95):  82%|████████▏ | 9/11 [00:46<00:11,  5.74s/it]"
     ]
    },
    {
     "name": "stdout",
     "output_type": "stream",
     "text": [
      "WARNING ⚠️ NMS time limit 2.400s exceeded\n"
     ]
    },
    {
     "name": "stderr",
     "output_type": "stream",
     "text": [
      "                 Class     Images  Instances      Box(P          R      mAP50  mAP50-95):  91%|█████████ | 10/11 [00:52<00:05,  5.90s/it]"
     ]
    },
    {
     "name": "stdout",
     "output_type": "stream",
     "text": [
      "WARNING ⚠️ NMS time limit 2.200s exceeded\n"
     ]
    },
    {
     "name": "stderr",
     "output_type": "stream",
     "text": [
      "                 Class     Images  Instances      Box(P          R      mAP50  mAP50-95): 100%|██████████| 11/11 [00:59<00:00,  5.41s/it]\n"
     ]
    },
    {
     "name": "stdout",
     "output_type": "stream",
     "text": [
      "                   all         84        114      0.337      0.303      0.164      0.113\n",
      "\n",
      "      Epoch    GPU_mem   box_loss   cls_loss   dfl_loss  Instances       Size\n"
     ]
    },
    {
     "name": "stderr",
     "output_type": "stream",
     "text": [
      "      12/50      18.2G       1.04     0.9704      1.047         12        416: 100%|██████████| 98/98 [04:07<00:00,  2.53s/it]\n",
      "                 Class     Images  Instances      Box(P          R      mAP50  mAP50-95):   0%|          | 0/11 [00:00<?, ?it/s]"
     ]
    },
    {
     "name": "stdout",
     "output_type": "stream",
     "text": [
      "WARNING ⚠️ NMS time limit 2.400s exceeded\n"
     ]
    },
    {
     "name": "stderr",
     "output_type": "stream",
     "text": [
      "                 Class     Images  Instances      Box(P          R      mAP50  mAP50-95):   9%|▉         | 1/11 [00:04<00:49,  4.90s/it]"
     ]
    },
    {
     "name": "stdout",
     "output_type": "stream",
     "text": [
      "WARNING ⚠️ NMS time limit 2.400s exceeded\n"
     ]
    },
    {
     "name": "stderr",
     "output_type": "stream",
     "text": [
      "                 Class     Images  Instances      Box(P          R      mAP50  mAP50-95):  18%|█▊        | 2/11 [00:09<00:40,  4.55s/it]"
     ]
    },
    {
     "name": "stdout",
     "output_type": "stream",
     "text": [
      "WARNING ⚠️ NMS time limit 2.400s exceeded\n"
     ]
    },
    {
     "name": "stderr",
     "output_type": "stream",
     "text": [
      "                 Class     Images  Instances      Box(P          R      mAP50  mAP50-95):  27%|██▋       | 3/11 [00:14<00:38,  4.85s/it]"
     ]
    },
    {
     "name": "stdout",
     "output_type": "stream",
     "text": [
      "WARNING ⚠️ NMS time limit 2.400s exceeded\n"
     ]
    },
    {
     "name": "stderr",
     "output_type": "stream",
     "text": [
      "                 Class     Images  Instances      Box(P          R      mAP50  mAP50-95):  36%|███▋      | 4/11 [00:18<00:31,  4.54s/it]"
     ]
    },
    {
     "name": "stdout",
     "output_type": "stream",
     "text": [
      "WARNING ⚠️ NMS time limit 2.400s exceeded\n"
     ]
    },
    {
     "name": "stderr",
     "output_type": "stream",
     "text": [
      "                 Class     Images  Instances      Box(P          R      mAP50  mAP50-95):  45%|████▌     | 5/11 [00:22<00:26,  4.43s/it]"
     ]
    },
    {
     "name": "stdout",
     "output_type": "stream",
     "text": [
      "WARNING ⚠️ NMS time limit 2.400s exceeded\n"
     ]
    },
    {
     "name": "stderr",
     "output_type": "stream",
     "text": [
      "                 Class     Images  Instances      Box(P          R      mAP50  mAP50-95):  55%|█████▍    | 6/11 [00:26<00:21,  4.36s/it]"
     ]
    },
    {
     "name": "stdout",
     "output_type": "stream",
     "text": [
      "WARNING ⚠️ NMS time limit 2.400s exceeded\n"
     ]
    },
    {
     "name": "stderr",
     "output_type": "stream",
     "text": [
      "                 Class     Images  Instances      Box(P          R      mAP50  mAP50-95):  64%|██████▎   | 7/11 [00:35<00:22,  5.59s/it]"
     ]
    },
    {
     "name": "stdout",
     "output_type": "stream",
     "text": [
      "WARNING ⚠️ NMS time limit 2.400s exceeded\n"
     ]
    },
    {
     "name": "stderr",
     "output_type": "stream",
     "text": [
      "                 Class     Images  Instances      Box(P          R      mAP50  mAP50-95):  73%|███████▎  | 8/11 [00:39<00:15,  5.25s/it]"
     ]
    },
    {
     "name": "stdout",
     "output_type": "stream",
     "text": [
      "WARNING ⚠️ NMS time limit 2.400s exceeded\n"
     ]
    },
    {
     "name": "stderr",
     "output_type": "stream",
     "text": [
      "                 Class     Images  Instances      Box(P          R      mAP50  mAP50-95):  82%|████████▏ | 9/11 [00:43<00:09,  4.74s/it]"
     ]
    },
    {
     "name": "stdout",
     "output_type": "stream",
     "text": [
      "WARNING ⚠️ NMS time limit 2.400s exceeded\n"
     ]
    },
    {
     "name": "stderr",
     "output_type": "stream",
     "text": [
      "                 Class     Images  Instances      Box(P          R      mAP50  mAP50-95):  91%|█████████ | 10/11 [00:50<00:05,  5.41s/it]"
     ]
    },
    {
     "name": "stdout",
     "output_type": "stream",
     "text": [
      "WARNING ⚠️ NMS time limit 2.200s exceeded\n"
     ]
    },
    {
     "name": "stderr",
     "output_type": "stream",
     "text": [
      "                 Class     Images  Instances      Box(P          R      mAP50  mAP50-95): 100%|██████████| 11/11 [00:55<00:00,  5.06s/it]\n"
     ]
    },
    {
     "name": "stdout",
     "output_type": "stream",
     "text": [
      "                   all         84        114      0.218      0.246     0.0953     0.0606\n",
      "\n",
      "      Epoch    GPU_mem   box_loss   cls_loss   dfl_loss  Instances       Size\n"
     ]
    },
    {
     "name": "stderr",
     "output_type": "stream",
     "text": [
      "      13/50      18.2G      1.047      1.037     0.9784         17        416:   3%|▎         | 3/98 [00:06<03:09,  2.00s/it]Received > 3 system signals, hard exiting\n",
      "      13/50      18.2G      1.047      1.037     0.9784         17        416:   3%|▎         | 3/98 [00:09<04:55,  3.11s/it]\n"
     ]
    },
    {
     "ename": "KeyboardInterrupt",
     "evalue": "",
     "output_type": "error",
     "traceback": [
      "\u001b[0;31m---------------------------------------------------------------------------\u001b[0m",
      "\u001b[0;31mKeyboardInterrupt\u001b[0m                         Traceback (most recent call last)",
      "Cell \u001b[0;32mIn[63], line 3\u001b[0m\n\u001b[1;32m      1\u001b[0m model \u001b[38;5;241m=\u001b[39m YOLO(\u001b[38;5;124m\"\u001b[39m\u001b[38;5;124myolov8n.pt\u001b[39m\u001b[38;5;124m\"\u001b[39m)\n\u001b[0;32m----> 3\u001b[0m \u001b[43mmodel\u001b[49m\u001b[38;5;241;43m.\u001b[39;49m\u001b[43mtrain\u001b[49m\u001b[43m(\u001b[49m\n\u001b[1;32m      4\u001b[0m \u001b[43m    \u001b[49m\u001b[43mdata\u001b[49m\u001b[38;5;241;43m=\u001b[39;49m\u001b[38;5;124;43m\"\u001b[39;49m\u001b[38;5;124;43mdataset/data.yaml\u001b[39;49m\u001b[38;5;124;43m\"\u001b[39;49m\u001b[43m,\u001b[49m\n\u001b[1;32m      5\u001b[0m \u001b[43m    \u001b[49m\u001b[43mproject\u001b[49m\u001b[38;5;241;43m=\u001b[39;49m\u001b[38;5;124;43m\"\u001b[39;49m\u001b[38;5;124;43mruns\u001b[39;49m\u001b[38;5;124;43m\"\u001b[39;49m\u001b[43m,\u001b[49m\n\u001b[1;32m      6\u001b[0m \u001b[43m    \u001b[49m\u001b[43mepochs\u001b[49m\u001b[38;5;241;43m=\u001b[39;49m\u001b[38;5;241;43m50\u001b[39;49m\u001b[43m,\u001b[49m\n\u001b[1;32m      7\u001b[0m \u001b[43m    \u001b[49m\u001b[43mimgsz\u001b[49m\u001b[38;5;241;43m=\u001b[39;49m\u001b[38;5;241;43m416\u001b[39;49m\u001b[43m,\u001b[49m\n\u001b[1;32m      8\u001b[0m \u001b[43m    \u001b[49m\u001b[43mdevice\u001b[49m\u001b[38;5;241;43m=\u001b[39;49m\u001b[38;5;124;43m\"\u001b[39;49m\u001b[38;5;124;43mmps\u001b[39;49m\u001b[38;5;124;43m\"\u001b[39;49m\u001b[43m,\u001b[49m\n\u001b[1;32m      9\u001b[0m \u001b[43m    \u001b[49m\u001b[43maugment\u001b[49m\u001b[38;5;241;43m=\u001b[39;49m\u001b[38;5;28;43;01mFalse\u001b[39;49;00m\u001b[43m,\u001b[49m\n\u001b[1;32m     10\u001b[0m \u001b[43m    \u001b[49m\u001b[43mworkers\u001b[49m\u001b[38;5;241;43m=\u001b[39;49m\u001b[38;5;241;43m1\u001b[39;49m\u001b[43m,\u001b[49m\n\u001b[1;32m     11\u001b[0m \u001b[43m    \u001b[49m\u001b[43mbatch\u001b[49m\u001b[38;5;241;43m=\u001b[39;49m\u001b[38;5;241;43m4\u001b[39;49m\u001b[43m,\u001b[49m\n\u001b[1;32m     12\u001b[0m \u001b[43m)\u001b[49m\n",
      "File \u001b[0;32m~/Desktop/ML/puppies_detection/.venv/lib/python3.10/site-packages/ultralytics/engine/model.py:791\u001b[0m, in \u001b[0;36mModel.train\u001b[0;34m(self, trainer, **kwargs)\u001b[0m\n\u001b[1;32m    788\u001b[0m     \u001b[38;5;28mself\u001b[39m\u001b[38;5;241m.\u001b[39mmodel \u001b[38;5;241m=\u001b[39m \u001b[38;5;28mself\u001b[39m\u001b[38;5;241m.\u001b[39mtrainer\u001b[38;5;241m.\u001b[39mmodel\n\u001b[1;32m    790\u001b[0m \u001b[38;5;28mself\u001b[39m\u001b[38;5;241m.\u001b[39mtrainer\u001b[38;5;241m.\u001b[39mhub_session \u001b[38;5;241m=\u001b[39m \u001b[38;5;28mself\u001b[39m\u001b[38;5;241m.\u001b[39msession  \u001b[38;5;66;03m# attach optional HUB session\u001b[39;00m\n\u001b[0;32m--> 791\u001b[0m \u001b[38;5;28;43mself\u001b[39;49m\u001b[38;5;241;43m.\u001b[39;49m\u001b[43mtrainer\u001b[49m\u001b[38;5;241;43m.\u001b[39;49m\u001b[43mtrain\u001b[49m\u001b[43m(\u001b[49m\u001b[43m)\u001b[49m\n\u001b[1;32m    792\u001b[0m \u001b[38;5;66;03m# Update model and cfg after training\u001b[39;00m\n\u001b[1;32m    793\u001b[0m \u001b[38;5;28;01mif\u001b[39;00m RANK \u001b[38;5;129;01min\u001b[39;00m {\u001b[38;5;241m-\u001b[39m\u001b[38;5;241m1\u001b[39m, \u001b[38;5;241m0\u001b[39m}:\n",
      "File \u001b[0;32m~/Desktop/ML/puppies_detection/.venv/lib/python3.10/site-packages/ultralytics/engine/trainer.py:211\u001b[0m, in \u001b[0;36mBaseTrainer.train\u001b[0;34m(self)\u001b[0m\n\u001b[1;32m    208\u001b[0m         ddp_cleanup(\u001b[38;5;28mself\u001b[39m, \u001b[38;5;28mstr\u001b[39m(file))\n\u001b[1;32m    210\u001b[0m \u001b[38;5;28;01melse\u001b[39;00m:\n\u001b[0;32m--> 211\u001b[0m     \u001b[38;5;28;43mself\u001b[39;49m\u001b[38;5;241;43m.\u001b[39;49m\u001b[43m_do_train\u001b[49m\u001b[43m(\u001b[49m\u001b[43mworld_size\u001b[49m\u001b[43m)\u001b[49m\n",
      "File \u001b[0;32m~/Desktop/ML/puppies_detection/.venv/lib/python3.10/site-packages/ultralytics/engine/trainer.py:385\u001b[0m, in \u001b[0;36mBaseTrainer._do_train\u001b[0;34m(self, world_size)\u001b[0m\n\u001b[1;32m    383\u001b[0m \u001b[38;5;28;01mwith\u001b[39;00m autocast(\u001b[38;5;28mself\u001b[39m\u001b[38;5;241m.\u001b[39mamp):\n\u001b[1;32m    384\u001b[0m     batch \u001b[38;5;241m=\u001b[39m \u001b[38;5;28mself\u001b[39m\u001b[38;5;241m.\u001b[39mpreprocess_batch(batch)\n\u001b[0;32m--> 385\u001b[0m     loss, \u001b[38;5;28mself\u001b[39m\u001b[38;5;241m.\u001b[39mloss_items \u001b[38;5;241m=\u001b[39m \u001b[38;5;28;43mself\u001b[39;49m\u001b[38;5;241;43m.\u001b[39;49m\u001b[43mmodel\u001b[49m\u001b[43m(\u001b[49m\u001b[43mbatch\u001b[49m\u001b[43m)\u001b[49m\n\u001b[1;32m    386\u001b[0m     \u001b[38;5;28mself\u001b[39m\u001b[38;5;241m.\u001b[39mloss \u001b[38;5;241m=\u001b[39m loss\u001b[38;5;241m.\u001b[39msum()\n\u001b[1;32m    387\u001b[0m     \u001b[38;5;28;01mif\u001b[39;00m RANK \u001b[38;5;241m!=\u001b[39m \u001b[38;5;241m-\u001b[39m\u001b[38;5;241m1\u001b[39m:\n",
      "File \u001b[0;32m~/Desktop/ML/puppies_detection/.venv/lib/python3.10/site-packages/torch/nn/modules/module.py:1739\u001b[0m, in \u001b[0;36mModule._wrapped_call_impl\u001b[0;34m(self, *args, **kwargs)\u001b[0m\n\u001b[1;32m   1737\u001b[0m     \u001b[38;5;28;01mreturn\u001b[39;00m \u001b[38;5;28mself\u001b[39m\u001b[38;5;241m.\u001b[39m_compiled_call_impl(\u001b[38;5;241m*\u001b[39margs, \u001b[38;5;241m*\u001b[39m\u001b[38;5;241m*\u001b[39mkwargs)  \u001b[38;5;66;03m# type: ignore[misc]\u001b[39;00m\n\u001b[1;32m   1738\u001b[0m \u001b[38;5;28;01melse\u001b[39;00m:\n\u001b[0;32m-> 1739\u001b[0m     \u001b[38;5;28;01mreturn\u001b[39;00m \u001b[38;5;28;43mself\u001b[39;49m\u001b[38;5;241;43m.\u001b[39;49m\u001b[43m_call_impl\u001b[49m\u001b[43m(\u001b[49m\u001b[38;5;241;43m*\u001b[39;49m\u001b[43margs\u001b[49m\u001b[43m,\u001b[49m\u001b[43m \u001b[49m\u001b[38;5;241;43m*\u001b[39;49m\u001b[38;5;241;43m*\u001b[39;49m\u001b[43mkwargs\u001b[49m\u001b[43m)\u001b[49m\n",
      "File \u001b[0;32m~/Desktop/ML/puppies_detection/.venv/lib/python3.10/site-packages/torch/nn/modules/module.py:1750\u001b[0m, in \u001b[0;36mModule._call_impl\u001b[0;34m(self, *args, **kwargs)\u001b[0m\n\u001b[1;32m   1745\u001b[0m \u001b[38;5;66;03m# If we don't have any hooks, we want to skip the rest of the logic in\u001b[39;00m\n\u001b[1;32m   1746\u001b[0m \u001b[38;5;66;03m# this function, and just call forward.\u001b[39;00m\n\u001b[1;32m   1747\u001b[0m \u001b[38;5;28;01mif\u001b[39;00m \u001b[38;5;129;01mnot\u001b[39;00m (\u001b[38;5;28mself\u001b[39m\u001b[38;5;241m.\u001b[39m_backward_hooks \u001b[38;5;129;01mor\u001b[39;00m \u001b[38;5;28mself\u001b[39m\u001b[38;5;241m.\u001b[39m_backward_pre_hooks \u001b[38;5;129;01mor\u001b[39;00m \u001b[38;5;28mself\u001b[39m\u001b[38;5;241m.\u001b[39m_forward_hooks \u001b[38;5;129;01mor\u001b[39;00m \u001b[38;5;28mself\u001b[39m\u001b[38;5;241m.\u001b[39m_forward_pre_hooks\n\u001b[1;32m   1748\u001b[0m         \u001b[38;5;129;01mor\u001b[39;00m _global_backward_pre_hooks \u001b[38;5;129;01mor\u001b[39;00m _global_backward_hooks\n\u001b[1;32m   1749\u001b[0m         \u001b[38;5;129;01mor\u001b[39;00m _global_forward_hooks \u001b[38;5;129;01mor\u001b[39;00m _global_forward_pre_hooks):\n\u001b[0;32m-> 1750\u001b[0m     \u001b[38;5;28;01mreturn\u001b[39;00m \u001b[43mforward_call\u001b[49m\u001b[43m(\u001b[49m\u001b[38;5;241;43m*\u001b[39;49m\u001b[43margs\u001b[49m\u001b[43m,\u001b[49m\u001b[43m \u001b[49m\u001b[38;5;241;43m*\u001b[39;49m\u001b[38;5;241;43m*\u001b[39;49m\u001b[43mkwargs\u001b[49m\u001b[43m)\u001b[49m\n\u001b[1;32m   1752\u001b[0m result \u001b[38;5;241m=\u001b[39m \u001b[38;5;28;01mNone\u001b[39;00m\n\u001b[1;32m   1753\u001b[0m called_always_called_hooks \u001b[38;5;241m=\u001b[39m \u001b[38;5;28mset\u001b[39m()\n",
      "File \u001b[0;32m~/Desktop/ML/puppies_detection/.venv/lib/python3.10/site-packages/ultralytics/nn/tasks.py:119\u001b[0m, in \u001b[0;36mBaseModel.forward\u001b[0;34m(self, x, *args, **kwargs)\u001b[0m\n\u001b[1;32m    105\u001b[0m \u001b[38;5;250m\u001b[39m\u001b[38;5;124;03m\"\"\"\u001b[39;00m\n\u001b[1;32m    106\u001b[0m \u001b[38;5;124;03mPerform forward pass of the model for either training or inference.\u001b[39;00m\n\u001b[1;32m    107\u001b[0m \n\u001b[0;32m   (...)\u001b[0m\n\u001b[1;32m    116\u001b[0m \u001b[38;5;124;03m    (torch.Tensor): Loss if x is a dict (training), or network predictions (inference).\u001b[39;00m\n\u001b[1;32m    117\u001b[0m \u001b[38;5;124;03m\"\"\"\u001b[39;00m\n\u001b[1;32m    118\u001b[0m \u001b[38;5;28;01mif\u001b[39;00m \u001b[38;5;28misinstance\u001b[39m(x, \u001b[38;5;28mdict\u001b[39m):  \u001b[38;5;66;03m# for cases of training and validating while training.\u001b[39;00m\n\u001b[0;32m--> 119\u001b[0m     \u001b[38;5;28;01mreturn\u001b[39;00m \u001b[38;5;28;43mself\u001b[39;49m\u001b[38;5;241;43m.\u001b[39;49m\u001b[43mloss\u001b[49m\u001b[43m(\u001b[49m\u001b[43mx\u001b[49m\u001b[43m,\u001b[49m\u001b[43m \u001b[49m\u001b[38;5;241;43m*\u001b[39;49m\u001b[43margs\u001b[49m\u001b[43m,\u001b[49m\u001b[43m \u001b[49m\u001b[38;5;241;43m*\u001b[39;49m\u001b[38;5;241;43m*\u001b[39;49m\u001b[43mkwargs\u001b[49m\u001b[43m)\u001b[49m\n\u001b[1;32m    120\u001b[0m \u001b[38;5;28;01mreturn\u001b[39;00m \u001b[38;5;28mself\u001b[39m\u001b[38;5;241m.\u001b[39mpredict(x, \u001b[38;5;241m*\u001b[39margs, \u001b[38;5;241m*\u001b[39m\u001b[38;5;241m*\u001b[39mkwargs)\n",
      "File \u001b[0;32m~/Desktop/ML/puppies_detection/.venv/lib/python3.10/site-packages/ultralytics/nn/tasks.py:299\u001b[0m, in \u001b[0;36mBaseModel.loss\u001b[0;34m(self, batch, preds)\u001b[0m\n\u001b[1;32m    296\u001b[0m     \u001b[38;5;28mself\u001b[39m\u001b[38;5;241m.\u001b[39mcriterion \u001b[38;5;241m=\u001b[39m \u001b[38;5;28mself\u001b[39m\u001b[38;5;241m.\u001b[39minit_criterion()\n\u001b[1;32m    298\u001b[0m preds \u001b[38;5;241m=\u001b[39m \u001b[38;5;28mself\u001b[39m\u001b[38;5;241m.\u001b[39mforward(batch[\u001b[38;5;124m\"\u001b[39m\u001b[38;5;124mimg\u001b[39m\u001b[38;5;124m\"\u001b[39m]) \u001b[38;5;28;01mif\u001b[39;00m preds \u001b[38;5;129;01mis\u001b[39;00m \u001b[38;5;28;01mNone\u001b[39;00m \u001b[38;5;28;01melse\u001b[39;00m preds\n\u001b[0;32m--> 299\u001b[0m \u001b[38;5;28;01mreturn\u001b[39;00m \u001b[38;5;28;43mself\u001b[39;49m\u001b[38;5;241;43m.\u001b[39;49m\u001b[43mcriterion\u001b[49m\u001b[43m(\u001b[49m\u001b[43mpreds\u001b[49m\u001b[43m,\u001b[49m\u001b[43m \u001b[49m\u001b[43mbatch\u001b[49m\u001b[43m)\u001b[49m\n",
      "File \u001b[0;32m~/Desktop/ML/puppies_detection/.venv/lib/python3.10/site-packages/ultralytics/utils/loss.py:228\u001b[0m, in \u001b[0;36mv8DetectionLoss.__call__\u001b[0;34m(self, preds, batch)\u001b[0m\n\u001b[1;32m    224\u001b[0m pred_bboxes \u001b[38;5;241m=\u001b[39m \u001b[38;5;28mself\u001b[39m\u001b[38;5;241m.\u001b[39mbbox_decode(anchor_points, pred_distri)  \u001b[38;5;66;03m# xyxy, (b, h*w, 4)\u001b[39;00m\n\u001b[1;32m    225\u001b[0m \u001b[38;5;66;03m# dfl_conf = pred_distri.view(batch_size, -1, 4, self.reg_max).detach().softmax(-1)\u001b[39;00m\n\u001b[1;32m    226\u001b[0m \u001b[38;5;66;03m# dfl_conf = (dfl_conf.amax(-1).mean(-1) + dfl_conf.amax(-1).amin(-1)) / 2\u001b[39;00m\n\u001b[0;32m--> 228\u001b[0m _, target_bboxes, target_scores, fg_mask, _ \u001b[38;5;241m=\u001b[39m \u001b[38;5;28;43mself\u001b[39;49m\u001b[38;5;241;43m.\u001b[39;49m\u001b[43massigner\u001b[49m\u001b[43m(\u001b[49m\n\u001b[1;32m    229\u001b[0m \u001b[43m    \u001b[49m\u001b[38;5;66;43;03m# pred_scores.detach().sigmoid() * 0.8 + dfl_conf.unsqueeze(-1) * 0.2,\u001b[39;49;00m\n\u001b[1;32m    230\u001b[0m \u001b[43m    \u001b[49m\u001b[43mpred_scores\u001b[49m\u001b[38;5;241;43m.\u001b[39;49m\u001b[43mdetach\u001b[49m\u001b[43m(\u001b[49m\u001b[43m)\u001b[49m\u001b[38;5;241;43m.\u001b[39;49m\u001b[43msigmoid\u001b[49m\u001b[43m(\u001b[49m\u001b[43m)\u001b[49m\u001b[43m,\u001b[49m\n\u001b[1;32m    231\u001b[0m \u001b[43m    \u001b[49m\u001b[43m(\u001b[49m\u001b[43mpred_bboxes\u001b[49m\u001b[38;5;241;43m.\u001b[39;49m\u001b[43mdetach\u001b[49m\u001b[43m(\u001b[49m\u001b[43m)\u001b[49m\u001b[43m \u001b[49m\u001b[38;5;241;43m*\u001b[39;49m\u001b[43m \u001b[49m\u001b[43mstride_tensor\u001b[49m\u001b[43m)\u001b[49m\u001b[38;5;241;43m.\u001b[39;49m\u001b[43mtype\u001b[49m\u001b[43m(\u001b[49m\u001b[43mgt_bboxes\u001b[49m\u001b[38;5;241;43m.\u001b[39;49m\u001b[43mdtype\u001b[49m\u001b[43m)\u001b[49m\u001b[43m,\u001b[49m\n\u001b[1;32m    232\u001b[0m \u001b[43m    \u001b[49m\u001b[43manchor_points\u001b[49m\u001b[43m \u001b[49m\u001b[38;5;241;43m*\u001b[39;49m\u001b[43m \u001b[49m\u001b[43mstride_tensor\u001b[49m\u001b[43m,\u001b[49m\n\u001b[1;32m    233\u001b[0m \u001b[43m    \u001b[49m\u001b[43mgt_labels\u001b[49m\u001b[43m,\u001b[49m\n\u001b[1;32m    234\u001b[0m \u001b[43m    \u001b[49m\u001b[43mgt_bboxes\u001b[49m\u001b[43m,\u001b[49m\n\u001b[1;32m    235\u001b[0m \u001b[43m    \u001b[49m\u001b[43mmask_gt\u001b[49m\u001b[43m,\u001b[49m\n\u001b[1;32m    236\u001b[0m \u001b[43m\u001b[49m\u001b[43m)\u001b[49m\n\u001b[1;32m    238\u001b[0m target_scores_sum \u001b[38;5;241m=\u001b[39m \u001b[38;5;28mmax\u001b[39m(target_scores\u001b[38;5;241m.\u001b[39msum(), \u001b[38;5;241m1\u001b[39m)\n\u001b[1;32m    240\u001b[0m \u001b[38;5;66;03m# Cls loss\u001b[39;00m\n\u001b[1;32m    241\u001b[0m \u001b[38;5;66;03m# loss[1] = self.varifocal_loss(pred_scores, target_scores, target_labels) / target_scores_sum  # VFL way\u001b[39;00m\n",
      "File \u001b[0;32m~/Desktop/ML/puppies_detection/.venv/lib/python3.10/site-packages/torch/nn/modules/module.py:1739\u001b[0m, in \u001b[0;36mModule._wrapped_call_impl\u001b[0;34m(self, *args, **kwargs)\u001b[0m\n\u001b[1;32m   1737\u001b[0m     \u001b[38;5;28;01mreturn\u001b[39;00m \u001b[38;5;28mself\u001b[39m\u001b[38;5;241m.\u001b[39m_compiled_call_impl(\u001b[38;5;241m*\u001b[39margs, \u001b[38;5;241m*\u001b[39m\u001b[38;5;241m*\u001b[39mkwargs)  \u001b[38;5;66;03m# type: ignore[misc]\u001b[39;00m\n\u001b[1;32m   1738\u001b[0m \u001b[38;5;28;01melse\u001b[39;00m:\n\u001b[0;32m-> 1739\u001b[0m     \u001b[38;5;28;01mreturn\u001b[39;00m \u001b[38;5;28;43mself\u001b[39;49m\u001b[38;5;241;43m.\u001b[39;49m\u001b[43m_call_impl\u001b[49m\u001b[43m(\u001b[49m\u001b[38;5;241;43m*\u001b[39;49m\u001b[43margs\u001b[49m\u001b[43m,\u001b[49m\u001b[43m \u001b[49m\u001b[38;5;241;43m*\u001b[39;49m\u001b[38;5;241;43m*\u001b[39;49m\u001b[43mkwargs\u001b[49m\u001b[43m)\u001b[49m\n",
      "File \u001b[0;32m~/Desktop/ML/puppies_detection/.venv/lib/python3.10/site-packages/torch/nn/modules/module.py:1750\u001b[0m, in \u001b[0;36mModule._call_impl\u001b[0;34m(self, *args, **kwargs)\u001b[0m\n\u001b[1;32m   1745\u001b[0m \u001b[38;5;66;03m# If we don't have any hooks, we want to skip the rest of the logic in\u001b[39;00m\n\u001b[1;32m   1746\u001b[0m \u001b[38;5;66;03m# this function, and just call forward.\u001b[39;00m\n\u001b[1;32m   1747\u001b[0m \u001b[38;5;28;01mif\u001b[39;00m \u001b[38;5;129;01mnot\u001b[39;00m (\u001b[38;5;28mself\u001b[39m\u001b[38;5;241m.\u001b[39m_backward_hooks \u001b[38;5;129;01mor\u001b[39;00m \u001b[38;5;28mself\u001b[39m\u001b[38;5;241m.\u001b[39m_backward_pre_hooks \u001b[38;5;129;01mor\u001b[39;00m \u001b[38;5;28mself\u001b[39m\u001b[38;5;241m.\u001b[39m_forward_hooks \u001b[38;5;129;01mor\u001b[39;00m \u001b[38;5;28mself\u001b[39m\u001b[38;5;241m.\u001b[39m_forward_pre_hooks\n\u001b[1;32m   1748\u001b[0m         \u001b[38;5;129;01mor\u001b[39;00m _global_backward_pre_hooks \u001b[38;5;129;01mor\u001b[39;00m _global_backward_hooks\n\u001b[1;32m   1749\u001b[0m         \u001b[38;5;129;01mor\u001b[39;00m _global_forward_hooks \u001b[38;5;129;01mor\u001b[39;00m _global_forward_pre_hooks):\n\u001b[0;32m-> 1750\u001b[0m     \u001b[38;5;28;01mreturn\u001b[39;00m \u001b[43mforward_call\u001b[49m\u001b[43m(\u001b[49m\u001b[38;5;241;43m*\u001b[39;49m\u001b[43margs\u001b[49m\u001b[43m,\u001b[49m\u001b[43m \u001b[49m\u001b[38;5;241;43m*\u001b[39;49m\u001b[38;5;241;43m*\u001b[39;49m\u001b[43mkwargs\u001b[49m\u001b[43m)\u001b[49m\n\u001b[1;32m   1752\u001b[0m result \u001b[38;5;241m=\u001b[39m \u001b[38;5;28;01mNone\u001b[39;00m\n\u001b[1;32m   1753\u001b[0m called_always_called_hooks \u001b[38;5;241m=\u001b[39m \u001b[38;5;28mset\u001b[39m()\n",
      "File \u001b[0;32m~/Desktop/ML/puppies_detection/.venv/lib/python3.10/site-packages/torch/utils/_contextlib.py:116\u001b[0m, in \u001b[0;36mcontext_decorator.<locals>.decorate_context\u001b[0;34m(*args, **kwargs)\u001b[0m\n\u001b[1;32m    113\u001b[0m \u001b[38;5;129m@functools\u001b[39m\u001b[38;5;241m.\u001b[39mwraps(func)\n\u001b[1;32m    114\u001b[0m \u001b[38;5;28;01mdef\u001b[39;00m\u001b[38;5;250m \u001b[39m\u001b[38;5;21mdecorate_context\u001b[39m(\u001b[38;5;241m*\u001b[39margs, \u001b[38;5;241m*\u001b[39m\u001b[38;5;241m*\u001b[39mkwargs):\n\u001b[1;32m    115\u001b[0m     \u001b[38;5;28;01mwith\u001b[39;00m ctx_factory():\n\u001b[0;32m--> 116\u001b[0m         \u001b[38;5;28;01mreturn\u001b[39;00m \u001b[43mfunc\u001b[49m\u001b[43m(\u001b[49m\u001b[38;5;241;43m*\u001b[39;49m\u001b[43margs\u001b[49m\u001b[43m,\u001b[49m\u001b[43m \u001b[49m\u001b[38;5;241;43m*\u001b[39;49m\u001b[38;5;241;43m*\u001b[39;49m\u001b[43mkwargs\u001b[49m\u001b[43m)\u001b[49m\n",
      "File \u001b[0;32m~/Desktop/ML/puppies_detection/.venv/lib/python3.10/site-packages/ultralytics/utils/tal.py:77\u001b[0m, in \u001b[0;36mTaskAlignedAssigner.forward\u001b[0;34m(self, pd_scores, pd_bboxes, anc_points, gt_labels, gt_bboxes, mask_gt)\u001b[0m\n\u001b[1;32m     68\u001b[0m     \u001b[38;5;28;01mreturn\u001b[39;00m (\n\u001b[1;32m     69\u001b[0m         torch\u001b[38;5;241m.\u001b[39mfull_like(pd_scores[\u001b[38;5;241m.\u001b[39m\u001b[38;5;241m.\u001b[39m\u001b[38;5;241m.\u001b[39m, \u001b[38;5;241m0\u001b[39m], \u001b[38;5;28mself\u001b[39m\u001b[38;5;241m.\u001b[39mbg_idx),\n\u001b[1;32m     70\u001b[0m         torch\u001b[38;5;241m.\u001b[39mzeros_like(pd_bboxes),\n\u001b[0;32m   (...)\u001b[0m\n\u001b[1;32m     73\u001b[0m         torch\u001b[38;5;241m.\u001b[39mzeros_like(pd_scores[\u001b[38;5;241m.\u001b[39m\u001b[38;5;241m.\u001b[39m\u001b[38;5;241m.\u001b[39m, \u001b[38;5;241m0\u001b[39m]),\n\u001b[1;32m     74\u001b[0m     )\n\u001b[1;32m     76\u001b[0m \u001b[38;5;28;01mtry\u001b[39;00m:\n\u001b[0;32m---> 77\u001b[0m     \u001b[38;5;28;01mreturn\u001b[39;00m \u001b[38;5;28;43mself\u001b[39;49m\u001b[38;5;241;43m.\u001b[39;49m\u001b[43m_forward\u001b[49m\u001b[43m(\u001b[49m\u001b[43mpd_scores\u001b[49m\u001b[43m,\u001b[49m\u001b[43m \u001b[49m\u001b[43mpd_bboxes\u001b[49m\u001b[43m,\u001b[49m\u001b[43m \u001b[49m\u001b[43manc_points\u001b[49m\u001b[43m,\u001b[49m\u001b[43m \u001b[49m\u001b[43mgt_labels\u001b[49m\u001b[43m,\u001b[49m\u001b[43m \u001b[49m\u001b[43mgt_bboxes\u001b[49m\u001b[43m,\u001b[49m\u001b[43m \u001b[49m\u001b[43mmask_gt\u001b[49m\u001b[43m)\u001b[49m\n\u001b[1;32m     78\u001b[0m \u001b[38;5;28;01mexcept\u001b[39;00m torch\u001b[38;5;241m.\u001b[39mcuda\u001b[38;5;241m.\u001b[39mOutOfMemoryError:\n\u001b[1;32m     79\u001b[0m     \u001b[38;5;66;03m# Move tensors to CPU, compute, then move back to original device\u001b[39;00m\n\u001b[1;32m     80\u001b[0m     LOGGER\u001b[38;5;241m.\u001b[39mwarning(\u001b[38;5;124m\"\u001b[39m\u001b[38;5;124mWARNING: CUDA OutOfMemoryError in TaskAlignedAssigner, using CPU\u001b[39m\u001b[38;5;124m\"\u001b[39m)\n",
      "File \u001b[0;32m~/Desktop/ML/puppies_detection/.venv/lib/python3.10/site-packages/ultralytics/utils/tal.py:104\u001b[0m, in \u001b[0;36mTaskAlignedAssigner._forward\u001b[0;34m(self, pd_scores, pd_bboxes, anc_points, gt_labels, gt_bboxes, mask_gt)\u001b[0m\n\u001b[1;32m     85\u001b[0m \u001b[38;5;28;01mdef\u001b[39;00m\u001b[38;5;250m \u001b[39m\u001b[38;5;21m_forward\u001b[39m(\u001b[38;5;28mself\u001b[39m, pd_scores, pd_bboxes, anc_points, gt_labels, gt_bboxes, mask_gt):\n\u001b[1;32m     86\u001b[0m \u001b[38;5;250m    \u001b[39m\u001b[38;5;124;03m\"\"\"\u001b[39;00m\n\u001b[1;32m     87\u001b[0m \u001b[38;5;124;03m    Compute the task-aligned assignment.\u001b[39;00m\n\u001b[1;32m     88\u001b[0m \n\u001b[0;32m   (...)\u001b[0m\n\u001b[1;32m    102\u001b[0m \u001b[38;5;124;03m        target_gt_idx (torch.Tensor): Target ground truth indices with shape (bs, num_total_anchors).\u001b[39;00m\n\u001b[1;32m    103\u001b[0m \u001b[38;5;124;03m    \"\"\"\u001b[39;00m\n\u001b[0;32m--> 104\u001b[0m     mask_pos, align_metric, overlaps \u001b[38;5;241m=\u001b[39m \u001b[38;5;28;43mself\u001b[39;49m\u001b[38;5;241;43m.\u001b[39;49m\u001b[43mget_pos_mask\u001b[49m\u001b[43m(\u001b[49m\n\u001b[1;32m    105\u001b[0m \u001b[43m        \u001b[49m\u001b[43mpd_scores\u001b[49m\u001b[43m,\u001b[49m\u001b[43m \u001b[49m\u001b[43mpd_bboxes\u001b[49m\u001b[43m,\u001b[49m\u001b[43m \u001b[49m\u001b[43mgt_labels\u001b[49m\u001b[43m,\u001b[49m\u001b[43m \u001b[49m\u001b[43mgt_bboxes\u001b[49m\u001b[43m,\u001b[49m\u001b[43m \u001b[49m\u001b[43manc_points\u001b[49m\u001b[43m,\u001b[49m\u001b[43m \u001b[49m\u001b[43mmask_gt\u001b[49m\n\u001b[1;32m    106\u001b[0m \u001b[43m    \u001b[49m\u001b[43m)\u001b[49m\n\u001b[1;32m    108\u001b[0m     target_gt_idx, fg_mask, mask_pos \u001b[38;5;241m=\u001b[39m \u001b[38;5;28mself\u001b[39m\u001b[38;5;241m.\u001b[39mselect_highest_overlaps(mask_pos, overlaps, \u001b[38;5;28mself\u001b[39m\u001b[38;5;241m.\u001b[39mn_max_boxes)\n\u001b[1;32m    110\u001b[0m     \u001b[38;5;66;03m# Assigned target\u001b[39;00m\n",
      "File \u001b[0;32m~/Desktop/ML/puppies_detection/.venv/lib/python3.10/site-packages/ultralytics/utils/tal.py:141\u001b[0m, in \u001b[0;36mTaskAlignedAssigner.get_pos_mask\u001b[0;34m(self, pd_scores, pd_bboxes, gt_labels, gt_bboxes, anc_points, mask_gt)\u001b[0m\n\u001b[1;32m    139\u001b[0m mask_in_gts \u001b[38;5;241m=\u001b[39m \u001b[38;5;28mself\u001b[39m\u001b[38;5;241m.\u001b[39mselect_candidates_in_gts(anc_points, gt_bboxes)\n\u001b[1;32m    140\u001b[0m \u001b[38;5;66;03m# Get anchor_align metric, (b, max_num_obj, h*w)\u001b[39;00m\n\u001b[0;32m--> 141\u001b[0m align_metric, overlaps \u001b[38;5;241m=\u001b[39m \u001b[38;5;28;43mself\u001b[39;49m\u001b[38;5;241;43m.\u001b[39;49m\u001b[43mget_box_metrics\u001b[49m\u001b[43m(\u001b[49m\u001b[43mpd_scores\u001b[49m\u001b[43m,\u001b[49m\u001b[43m \u001b[49m\u001b[43mpd_bboxes\u001b[49m\u001b[43m,\u001b[49m\u001b[43m \u001b[49m\u001b[43mgt_labels\u001b[49m\u001b[43m,\u001b[49m\u001b[43m \u001b[49m\u001b[43mgt_bboxes\u001b[49m\u001b[43m,\u001b[49m\u001b[43m \u001b[49m\u001b[43mmask_in_gts\u001b[49m\u001b[43m \u001b[49m\u001b[38;5;241;43m*\u001b[39;49m\u001b[43m \u001b[49m\u001b[43mmask_gt\u001b[49m\u001b[43m)\u001b[49m\n\u001b[1;32m    142\u001b[0m \u001b[38;5;66;03m# Get topk_metric mask, (b, max_num_obj, h*w)\u001b[39;00m\n\u001b[1;32m    143\u001b[0m mask_topk \u001b[38;5;241m=\u001b[39m \u001b[38;5;28mself\u001b[39m\u001b[38;5;241m.\u001b[39mselect_topk_candidates(align_metric, topk_mask\u001b[38;5;241m=\u001b[39mmask_gt\u001b[38;5;241m.\u001b[39mexpand(\u001b[38;5;241m-\u001b[39m\u001b[38;5;241m1\u001b[39m, \u001b[38;5;241m-\u001b[39m\u001b[38;5;241m1\u001b[39m, \u001b[38;5;28mself\u001b[39m\u001b[38;5;241m.\u001b[39mtopk)\u001b[38;5;241m.\u001b[39mbool())\n",
      "File \u001b[0;32m~/Desktop/ML/puppies_detection/.venv/lib/python3.10/site-packages/ultralytics/utils/tal.py:176\u001b[0m, in \u001b[0;36mTaskAlignedAssigner.get_box_metrics\u001b[0;34m(self, pd_scores, pd_bboxes, gt_labels, gt_bboxes, mask_gt)\u001b[0m\n\u001b[1;32m    173\u001b[0m bbox_scores[mask_gt] \u001b[38;5;241m=\u001b[39m pd_scores[ind[\u001b[38;5;241m0\u001b[39m], :, ind[\u001b[38;5;241m1\u001b[39m]][mask_gt]  \u001b[38;5;66;03m# b, max_num_obj, h*w\u001b[39;00m\n\u001b[1;32m    175\u001b[0m \u001b[38;5;66;03m# (b, max_num_obj, 1, 4), (b, 1, h*w, 4)\u001b[39;00m\n\u001b[0;32m--> 176\u001b[0m pd_boxes \u001b[38;5;241m=\u001b[39m \u001b[43mpd_bboxes\u001b[49m\u001b[38;5;241;43m.\u001b[39;49m\u001b[43munsqueeze\u001b[49m\u001b[43m(\u001b[49m\u001b[38;5;241;43m1\u001b[39;49m\u001b[43m)\u001b[49m\u001b[38;5;241m.\u001b[39mexpand(\u001b[38;5;241m-\u001b[39m\u001b[38;5;241m1\u001b[39m, \u001b[38;5;28mself\u001b[39m\u001b[38;5;241m.\u001b[39mn_max_boxes, \u001b[38;5;241m-\u001b[39m\u001b[38;5;241m1\u001b[39m, \u001b[38;5;241m-\u001b[39m\u001b[38;5;241m1\u001b[39m)[mask_gt]\n\u001b[1;32m    177\u001b[0m gt_boxes \u001b[38;5;241m=\u001b[39m gt_bboxes\u001b[38;5;241m.\u001b[39munsqueeze(\u001b[38;5;241m2\u001b[39m)\u001b[38;5;241m.\u001b[39mexpand(\u001b[38;5;241m-\u001b[39m\u001b[38;5;241m1\u001b[39m, \u001b[38;5;241m-\u001b[39m\u001b[38;5;241m1\u001b[39m, na, \u001b[38;5;241m-\u001b[39m\u001b[38;5;241m1\u001b[39m)[mask_gt]\n\u001b[1;32m    178\u001b[0m overlaps[mask_gt] \u001b[38;5;241m=\u001b[39m \u001b[38;5;28mself\u001b[39m\u001b[38;5;241m.\u001b[39miou_calculation(gt_boxes, pd_boxes)\n",
      "\u001b[0;31mKeyboardInterrupt\u001b[0m: "
     ]
    }
   ],
   "source": [
    "model = YOLO(\"yolov8n.pt\")\n",
    "\n",
    "model.train(\n",
    "    data=\"dataset/data.yaml\",\n",
    "    project=\"runs\",\n",
    "    epochs=50,\n",
    "    imgsz=416,\n",
    "    device=\"mps\",\n",
    "    augment=False,\n",
    "    workers=1,\n",
    "    batch=4,\n",
    ")"
   ]
  },
  {
   "cell_type": "code",
   "execution_count": null,
   "id": "3ca1c9aa",
   "metadata": {},
   "outputs": [],
   "source": [
    "model = YOLO(\n",
    "    \"/Users/magewade/Desktop/ML/puppies_detection/runs/train/weights/best.pt\"\n",
    ")"
   ]
  },
  {
   "cell_type": "code",
   "execution_count": null,
   "id": "cb96fd36",
   "metadata": {},
   "outputs": [
    {
     "name": "stdout",
     "output_type": "stream",
     "text": [
      "Ultralytics 8.3.108 🚀 Python-3.10.17 torch-2.6.0 CPU (Apple M3 Pro)\n",
      "Model summary (fused): 72 layers, 3,005,843 parameters, 0 gradients, 8.1 GFLOPs\n"
     ]
    },
    {
     "name": "stderr",
     "output_type": "stream",
     "text": [
      "\u001b[34m\u001b[1mval: \u001b[0mScanning /Users/magewade/Desktop/ML/puppies_detection/dataset/val/labels.cache... 19 images, 0 backgrounds, 0 corrupt: 100%|██████████| 19/19 [00:00<?, ?it/s]\n",
      "                 Class     Images  Instances      Box(P          R      mAP50  mAP50-95): 100%|██████████| 2/2 [00:01<00:00,  1.28it/s]\n"
     ]
    },
    {
     "name": "stdout",
     "output_type": "stream",
     "text": [
      "                   all         19        114      0.897      0.912      0.943       0.74\n",
      "Speed: 0.7ms preprocess, 75.7ms inference, 0.0ms loss, 0.2ms postprocess per image\n",
      "Results saved to \u001b[1m/Users/magewade/runs/detect/val2\u001b[0m\n"
     ]
    },
    {
     "data": {
      "text/plain": [
       "ultralytics.utils.metrics.DetMetrics object with attributes:\n",
       "\n",
       "ap_class_index: array([0])\n",
       "box: ultralytics.utils.metrics.Metric object\n",
       "confusion_matrix: <ultralytics.utils.metrics.ConfusionMatrix object at 0x4563983d0>\n",
       "curves: ['Precision-Recall(B)', 'F1-Confidence(B)', 'Precision-Confidence(B)', 'Recall-Confidence(B)']\n",
       "curves_results: [[array([          0,    0.001001,    0.002002,    0.003003,    0.004004,    0.005005,    0.006006,    0.007007,    0.008008,    0.009009,     0.01001,    0.011011,    0.012012,    0.013013,    0.014014,    0.015015,    0.016016,    0.017017,    0.018018,    0.019019,     0.02002,    0.021021,    0.022022,    0.023023,\n",
       "          0.024024,    0.025025,    0.026026,    0.027027,    0.028028,    0.029029,     0.03003,    0.031031,    0.032032,    0.033033,    0.034034,    0.035035,    0.036036,    0.037037,    0.038038,    0.039039,     0.04004,    0.041041,    0.042042,    0.043043,    0.044044,    0.045045,    0.046046,    0.047047,\n",
       "          0.048048,    0.049049,     0.05005,    0.051051,    0.052052,    0.053053,    0.054054,    0.055055,    0.056056,    0.057057,    0.058058,    0.059059,     0.06006,    0.061061,    0.062062,    0.063063,    0.064064,    0.065065,    0.066066,    0.067067,    0.068068,    0.069069,     0.07007,    0.071071,\n",
       "          0.072072,    0.073073,    0.074074,    0.075075,    0.076076,    0.077077,    0.078078,    0.079079,     0.08008,    0.081081,    0.082082,    0.083083,    0.084084,    0.085085,    0.086086,    0.087087,    0.088088,    0.089089,     0.09009,    0.091091,    0.092092,    0.093093,    0.094094,    0.095095,\n",
       "          0.096096,    0.097097,    0.098098,    0.099099,      0.1001,      0.1011,      0.1021,      0.1031,      0.1041,     0.10511,     0.10611,     0.10711,     0.10811,     0.10911,     0.11011,     0.11111,     0.11211,     0.11311,     0.11411,     0.11512,     0.11612,     0.11712,     0.11812,     0.11912,\n",
       "           0.12012,     0.12112,     0.12212,     0.12312,     0.12412,     0.12513,     0.12613,     0.12713,     0.12813,     0.12913,     0.13013,     0.13113,     0.13213,     0.13313,     0.13413,     0.13514,     0.13614,     0.13714,     0.13814,     0.13914,     0.14014,     0.14114,     0.14214,     0.14314,\n",
       "           0.14414,     0.14515,     0.14615,     0.14715,     0.14815,     0.14915,     0.15015,     0.15115,     0.15215,     0.15315,     0.15415,     0.15516,     0.15616,     0.15716,     0.15816,     0.15916,     0.16016,     0.16116,     0.16216,     0.16316,     0.16416,     0.16517,     0.16617,     0.16717,\n",
       "           0.16817,     0.16917,     0.17017,     0.17117,     0.17217,     0.17317,     0.17417,     0.17518,     0.17618,     0.17718,     0.17818,     0.17918,     0.18018,     0.18118,     0.18218,     0.18318,     0.18418,     0.18519,     0.18619,     0.18719,     0.18819,     0.18919,     0.19019,     0.19119,\n",
       "           0.19219,     0.19319,     0.19419,      0.1952,      0.1962,      0.1972,      0.1982,      0.1992,      0.2002,      0.2012,      0.2022,      0.2032,      0.2042,     0.20521,     0.20621,     0.20721,     0.20821,     0.20921,     0.21021,     0.21121,     0.21221,     0.21321,     0.21421,     0.21522,\n",
       "           0.21622,     0.21722,     0.21822,     0.21922,     0.22022,     0.22122,     0.22222,     0.22322,     0.22422,     0.22523,     0.22623,     0.22723,     0.22823,     0.22923,     0.23023,     0.23123,     0.23223,     0.23323,     0.23423,     0.23524,     0.23624,     0.23724,     0.23824,     0.23924,\n",
       "           0.24024,     0.24124,     0.24224,     0.24324,     0.24424,     0.24525,     0.24625,     0.24725,     0.24825,     0.24925,     0.25025,     0.25125,     0.25225,     0.25325,     0.25425,     0.25526,     0.25626,     0.25726,     0.25826,     0.25926,     0.26026,     0.26126,     0.26226,     0.26326,\n",
       "           0.26426,     0.26527,     0.26627,     0.26727,     0.26827,     0.26927,     0.27027,     0.27127,     0.27227,     0.27327,     0.27427,     0.27528,     0.27628,     0.27728,     0.27828,     0.27928,     0.28028,     0.28128,     0.28228,     0.28328,     0.28428,     0.28529,     0.28629,     0.28729,\n",
       "           0.28829,     0.28929,     0.29029,     0.29129,     0.29229,     0.29329,     0.29429,      0.2953,      0.2963,      0.2973,      0.2983,      0.2993,      0.3003,      0.3013,      0.3023,      0.3033,      0.3043,     0.30531,     0.30631,     0.30731,     0.30831,     0.30931,     0.31031,     0.31131,\n",
       "           0.31231,     0.31331,     0.31431,     0.31532,     0.31632,     0.31732,     0.31832,     0.31932,     0.32032,     0.32132,     0.32232,     0.32332,     0.32432,     0.32533,     0.32633,     0.32733,     0.32833,     0.32933,     0.33033,     0.33133,     0.33233,     0.33333,     0.33433,     0.33534,\n",
       "           0.33634,     0.33734,     0.33834,     0.33934,     0.34034,     0.34134,     0.34234,     0.34334,     0.34434,     0.34535,     0.34635,     0.34735,     0.34835,     0.34935,     0.35035,     0.35135,     0.35235,     0.35335,     0.35435,     0.35536,     0.35636,     0.35736,     0.35836,     0.35936,\n",
       "           0.36036,     0.36136,     0.36236,     0.36336,     0.36436,     0.36537,     0.36637,     0.36737,     0.36837,     0.36937,     0.37037,     0.37137,     0.37237,     0.37337,     0.37437,     0.37538,     0.37638,     0.37738,     0.37838,     0.37938,     0.38038,     0.38138,     0.38238,     0.38338,\n",
       "           0.38438,     0.38539,     0.38639,     0.38739,     0.38839,     0.38939,     0.39039,     0.39139,     0.39239,     0.39339,     0.39439,      0.3954,      0.3964,      0.3974,      0.3984,      0.3994,      0.4004,      0.4014,      0.4024,      0.4034,      0.4044,     0.40541,     0.40641,     0.40741,\n",
       "           0.40841,     0.40941,     0.41041,     0.41141,     0.41241,     0.41341,     0.41441,     0.41542,     0.41642,     0.41742,     0.41842,     0.41942,     0.42042,     0.42142,     0.42242,     0.42342,     0.42442,     0.42543,     0.42643,     0.42743,     0.42843,     0.42943,     0.43043,     0.43143,\n",
       "           0.43243,     0.43343,     0.43443,     0.43544,     0.43644,     0.43744,     0.43844,     0.43944,     0.44044,     0.44144,     0.44244,     0.44344,     0.44444,     0.44545,     0.44645,     0.44745,     0.44845,     0.44945,     0.45045,     0.45145,     0.45245,     0.45345,     0.45445,     0.45546,\n",
       "           0.45646,     0.45746,     0.45846,     0.45946,     0.46046,     0.46146,     0.46246,     0.46346,     0.46446,     0.46547,     0.46647,     0.46747,     0.46847,     0.46947,     0.47047,     0.47147,     0.47247,     0.47347,     0.47447,     0.47548,     0.47648,     0.47748,     0.47848,     0.47948,\n",
       "           0.48048,     0.48148,     0.48248,     0.48348,     0.48448,     0.48549,     0.48649,     0.48749,     0.48849,     0.48949,     0.49049,     0.49149,     0.49249,     0.49349,     0.49449,      0.4955,      0.4965,      0.4975,      0.4985,      0.4995,      0.5005,      0.5015,      0.5025,      0.5035,\n",
       "            0.5045,     0.50551,     0.50651,     0.50751,     0.50851,     0.50951,     0.51051,     0.51151,     0.51251,     0.51351,     0.51451,     0.51552,     0.51652,     0.51752,     0.51852,     0.51952,     0.52052,     0.52152,     0.52252,     0.52352,     0.52452,     0.52553,     0.52653,     0.52753,\n",
       "           0.52853,     0.52953,     0.53053,     0.53153,     0.53253,     0.53353,     0.53453,     0.53554,     0.53654,     0.53754,     0.53854,     0.53954,     0.54054,     0.54154,     0.54254,     0.54354,     0.54454,     0.54555,     0.54655,     0.54755,     0.54855,     0.54955,     0.55055,     0.55155,\n",
       "           0.55255,     0.55355,     0.55455,     0.55556,     0.55656,     0.55756,     0.55856,     0.55956,     0.56056,     0.56156,     0.56256,     0.56356,     0.56456,     0.56557,     0.56657,     0.56757,     0.56857,     0.56957,     0.57057,     0.57157,     0.57257,     0.57357,     0.57457,     0.57558,\n",
       "           0.57658,     0.57758,     0.57858,     0.57958,     0.58058,     0.58158,     0.58258,     0.58358,     0.58458,     0.58559,     0.58659,     0.58759,     0.58859,     0.58959,     0.59059,     0.59159,     0.59259,     0.59359,     0.59459,      0.5956,      0.5966,      0.5976,      0.5986,      0.5996,\n",
       "            0.6006,      0.6016,      0.6026,      0.6036,      0.6046,     0.60561,     0.60661,     0.60761,     0.60861,     0.60961,     0.61061,     0.61161,     0.61261,     0.61361,     0.61461,     0.61562,     0.61662,     0.61762,     0.61862,     0.61962,     0.62062,     0.62162,     0.62262,     0.62362,\n",
       "           0.62462,     0.62563,     0.62663,     0.62763,     0.62863,     0.62963,     0.63063,     0.63163,     0.63263,     0.63363,     0.63463,     0.63564,     0.63664,     0.63764,     0.63864,     0.63964,     0.64064,     0.64164,     0.64264,     0.64364,     0.64464,     0.64565,     0.64665,     0.64765,\n",
       "           0.64865,     0.64965,     0.65065,     0.65165,     0.65265,     0.65365,     0.65465,     0.65566,     0.65666,     0.65766,     0.65866,     0.65966,     0.66066,     0.66166,     0.66266,     0.66366,     0.66466,     0.66567,     0.66667,     0.66767,     0.66867,     0.66967,     0.67067,     0.67167,\n",
       "           0.67267,     0.67367,     0.67467,     0.67568,     0.67668,     0.67768,     0.67868,     0.67968,     0.68068,     0.68168,     0.68268,     0.68368,     0.68468,     0.68569,     0.68669,     0.68769,     0.68869,     0.68969,     0.69069,     0.69169,     0.69269,     0.69369,     0.69469,      0.6957,\n",
       "            0.6967,      0.6977,      0.6987,      0.6997,      0.7007,      0.7017,      0.7027,      0.7037,      0.7047,     0.70571,     0.70671,     0.70771,     0.70871,     0.70971,     0.71071,     0.71171,     0.71271,     0.71371,     0.71471,     0.71572,     0.71672,     0.71772,     0.71872,     0.71972,\n",
       "           0.72072,     0.72172,     0.72272,     0.72372,     0.72472,     0.72573,     0.72673,     0.72773,     0.72873,     0.72973,     0.73073,     0.73173,     0.73273,     0.73373,     0.73473,     0.73574,     0.73674,     0.73774,     0.73874,     0.73974,     0.74074,     0.74174,     0.74274,     0.74374,\n",
       "           0.74474,     0.74575,     0.74675,     0.74775,     0.74875,     0.74975,     0.75075,     0.75175,     0.75275,     0.75375,     0.75475,     0.75576,     0.75676,     0.75776,     0.75876,     0.75976,     0.76076,     0.76176,     0.76276,     0.76376,     0.76476,     0.76577,     0.76677,     0.76777,\n",
       "           0.76877,     0.76977,     0.77077,     0.77177,     0.77277,     0.77377,     0.77477,     0.77578,     0.77678,     0.77778,     0.77878,     0.77978,     0.78078,     0.78178,     0.78278,     0.78378,     0.78478,     0.78579,     0.78679,     0.78779,     0.78879,     0.78979,     0.79079,     0.79179,\n",
       "           0.79279,     0.79379,     0.79479,      0.7958,      0.7968,      0.7978,      0.7988,      0.7998,      0.8008,      0.8018,      0.8028,      0.8038,      0.8048,     0.80581,     0.80681,     0.80781,     0.80881,     0.80981,     0.81081,     0.81181,     0.81281,     0.81381,     0.81481,     0.81582,\n",
       "           0.81682,     0.81782,     0.81882,     0.81982,     0.82082,     0.82182,     0.82282,     0.82382,     0.82482,     0.82583,     0.82683,     0.82783,     0.82883,     0.82983,     0.83083,     0.83183,     0.83283,     0.83383,     0.83483,     0.83584,     0.83684,     0.83784,     0.83884,     0.83984,\n",
       "           0.84084,     0.84184,     0.84284,     0.84384,     0.84484,     0.84585,     0.84685,     0.84785,     0.84885,     0.84985,     0.85085,     0.85185,     0.85285,     0.85385,     0.85485,     0.85586,     0.85686,     0.85786,     0.85886,     0.85986,     0.86086,     0.86186,     0.86286,     0.86386,\n",
       "           0.86486,     0.86587,     0.86687,     0.86787,     0.86887,     0.86987,     0.87087,     0.87187,     0.87287,     0.87387,     0.87487,     0.87588,     0.87688,     0.87788,     0.87888,     0.87988,     0.88088,     0.88188,     0.88288,     0.88388,     0.88488,     0.88589,     0.88689,     0.88789,\n",
       "           0.88889,     0.88989,     0.89089,     0.89189,     0.89289,     0.89389,     0.89489,      0.8959,      0.8969,      0.8979,      0.8989,      0.8999,      0.9009,      0.9019,      0.9029,      0.9039,      0.9049,     0.90591,     0.90691,     0.90791,     0.90891,     0.90991,     0.91091,     0.91191,\n",
       "           0.91291,     0.91391,     0.91491,     0.91592,     0.91692,     0.91792,     0.91892,     0.91992,     0.92092,     0.92192,     0.92292,     0.92392,     0.92492,     0.92593,     0.92693,     0.92793,     0.92893,     0.92993,     0.93093,     0.93193,     0.93293,     0.93393,     0.93493,     0.93594,\n",
       "           0.93694,     0.93794,     0.93894,     0.93994,     0.94094,     0.94194,     0.94294,     0.94394,     0.94494,     0.94595,     0.94695,     0.94795,     0.94895,     0.94995,     0.95095,     0.95195,     0.95295,     0.95395,     0.95495,     0.95596,     0.95696,     0.95796,     0.95896,     0.95996,\n",
       "           0.96096,     0.96196,     0.96296,     0.96396,     0.96496,     0.96597,     0.96697,     0.96797,     0.96897,     0.96997,     0.97097,     0.97197,     0.97297,     0.97397,     0.97497,     0.97598,     0.97698,     0.97798,     0.97898,     0.97998,     0.98098,     0.98198,     0.98298,     0.98398,\n",
       "           0.98498,     0.98599,     0.98699,     0.98799,     0.98899,     0.98999,     0.99099,     0.99199,     0.99299,     0.99399,     0.99499,       0.996,       0.997,       0.998,       0.999,           1]), array([[          1,           1,           1,           1,           1,           1,           1,           1,           1,           1,           1,           1,           1,           1,           1,           1,           1,           1,           1,           1,           1,           1,           1,\n",
       "                  1,           1,           1,           1,           1,           1,           1,           1,           1,           1,           1,           1,           1,           1,           1,           1,           1,           1,           1,           1,           1,           1,           1,\n",
       "                  1,           1,           1,           1,           1,           1,           1,           1,           1,           1,           1,           1,           1,           1,           1,           1,           1,           1,           1,           1,           1,           1,           1,\n",
       "                  1,           1,           1,           1,           1,           1,           1,           1,           1,           1,           1,           1,           1,           1,           1,           1,           1,           1,           1,           1,           1,           1,           1,\n",
       "                  1,           1,           1,           1,           1,           1,           1,           1,           1,           1,           1,           1,           1,           1,           1,           1,           1,           1,           1,           1,           1,           1,           1,\n",
       "                  1,           1,           1,           1,           1,           1,           1,           1,           1,           1,           1,           1,           1,           1,           1,           1,           1,           1,           1,           1,           1,           1,           1,\n",
       "                  1,           1,           1,           1,           1,           1,           1,           1,           1,           1,           1,           1,           1,           1,           1,           1,           1,           1,           1,           1,           1,           1,           1,\n",
       "                  1,           1,           1,           1,           1,           1,           1,           1,           1,           1,           1,           1,           1,           1,           1,           1,           1,           1,           1,           1,           1,           1,           1,\n",
       "                  1,           1,           1,           1,           1,           1,           1,           1,           1,           1,           1,           1,           1,           1,           1,           1,           1,           1,           1,           1,           1,           1,           1,\n",
       "                  1,           1,           1,           1,           1,           1,           1,           1,           1,           1,           1,           1,           1,           1,           1,           1,           1,           1,           1,           1,           1,           1,           1,\n",
       "                  1,           1,           1,           1,           1,           1,           1,           1,           1,           1,           1,           1,           1,           1,           1,           1,           1,           1,           1,           1,           1,           1,           1,\n",
       "                  1,           1,           1,           1,           1,           1,           1,           1,           1,           1,           1,           1,           1,           1,           1,           1,           1,           1,           1,           1,           1,           1,           1,\n",
       "                  1,           1,           1,           1,           1,           1,           1,           1,           1,           1,           1,           1,           1,           1,           1,           1,           1,           1,           1,           1,           1,           1,           1,\n",
       "                  1,           1,           1,           1,           1,           1,           1,           1,           1,           1,           1,           1,           1,           1,           1,           1,           1,           1,           1,           1,           1,           1,           1,\n",
       "                  1,           1,           1,           1,           1,           1,           1,           1,           1,           1,           1,           1,           1,           1,           1,           1,           1,           1,           1,           1,           1,           1,           1,\n",
       "                  1,           1,           1,           1,           1,           1,           1,           1,           1,           1,           1,           1,           1,           1,           1,           1,           1,           1,           1,           1,           1,           1,           1,\n",
       "                  1,           1,           1,           1,           1,           1,           1,           1,           1,           1,           1,           1,           1,           1,           1,           1,           1,           1,           1,           1,           1,           1,           1,\n",
       "                  1,           1,           1,           1,           1,           1,           1,           1,           1,           1,           1,           1,           1,           1,           1,           1,           1,           1,           1,           1,           1,           1,           1,\n",
       "                  1,           1,           1,           1,           1,           1,           1,           1,           1,           1,           1,           1,           1,           1,           1,           1,           1,           1,           1,           1,           1,           1,           1,\n",
       "                  1,           1,           1,           1,           1,           1,           1,           1,           1,           1,           1,           1,           1,           1,           1,           1,           1,           1,           1,           1,           1,           1,           1,\n",
       "                  1,           1,           1,           1,           1,           1,           1,           1,           1,           1,           1,           1,           1,           1,           1,           1,           1,           1,           1,           1,           1,           1,           1,\n",
       "                  1,           1,           1,           1,           1,           1,           1,           1,           1,           1,           1,           1,           1,           1,           1,           1,           1,           1,           1,           1,           1,           1,           1,\n",
       "                  1,           1,           1,           1,           1,           1,           1,           1,           1,           1,           1,           1,           1,           1,           1,           1,           1,           1,           1,           1,           1,           1,           1,\n",
       "                  1,           1,           1,           1,           1,           1,           1,           1,           1,           1,           1,           1,           1,           1,           1,           1,           1,           1,           1,           1,           1,           1,           1,\n",
       "                  1,           1,           1,           1,           1,           1,           1,           1,           1,           1,           1,           1,           1,           1,           1,           1,           1,           1,           1,           1,           1,           1,           1,\n",
       "                  1,           1,           1,           1,           1,           1,           1,           1,           1,           1,           1,           1,           1,           1,           1,           1,           1,           1,           1,           1,           1,           1,           1,\n",
       "                  1,           1,           1,           1,           1,           1,           1,           1,           1,           1,           1,           1,           1,           1,           1,           1,           1,           1,           1,           1,           1,           1,           1,\n",
       "                  1,           1,           1,           1,           1,           1,           1,           1,           1,           1,           1,           1,           1,           1,           1,           1,           1,           1,           1,           1,           1,           1,           1,\n",
       "                  1,           1,           1,           1,           1,           1,           1,           1,           1,           1,           1,           1,           1,           1,           1,           1,           1,           1,           1,           1,           1,           1,           1,\n",
       "                  1,           1,           1,           1,           1,           1,           1,           1,           1,           1,           1,           1,           1,           1,           1,           1,           1,           1,           1,           1,           1,           1,           1,\n",
       "                  1,           1,           1,           1,           1,           1,           1,           1,           1,           1,           1,           1,           1,           1,           1,           1,           1,           1,           1,           1,           1,           1,           1,\n",
       "                  1,           1,           1,           1,           1,           1,           1,           1,           1,           1,           1,           1,           1,           1,           1,           1,           1,           1,           1,           1,           1,           1,           1,\n",
       "                  1,           1,           1,           1,           1,           1,           1,           1,           1,           1,           1,           1,           1,           1,           1,           1,           1,           1,     0.97778,     0.97778,     0.97778,     0.97778,     0.97778,\n",
       "            0.97778,     0.97778,     0.97778,     0.97778,     0.97778,     0.97778,     0.97778,     0.97778,     0.97778,     0.97778,     0.97778,     0.97778,     0.97778,     0.96774,     0.96774,     0.96774,     0.96774,     0.96774,     0.96774,     0.96774,     0.96774,     0.96774,     0.96774,\n",
       "            0.96774,     0.96774,     0.96774,     0.96774,     0.96774,     0.96774,     0.96774,     0.95833,     0.95833,     0.95833,     0.95833,     0.95833,     0.95833,     0.95833,     0.95833,     0.95833,     0.95833,     0.95833,     0.95833,     0.95833,     0.95833,     0.95833,     0.95833,\n",
       "            0.95833,     0.95833,     0.95098,     0.95098,     0.95098,     0.95098,     0.95098,     0.95098,     0.95098,     0.95098,     0.95098,     0.95098,     0.95098,     0.95098,     0.95098,     0.95098,     0.95098,     0.95098,     0.95098,     0.95098,     0.95098,     0.95098,     0.95098,\n",
       "            0.95098,     0.95098,     0.95098,     0.95098,     0.95098,     0.95098,     0.95098,     0.95098,     0.95098,     0.95098,     0.95098,     0.95098,     0.95098,     0.95098,     0.95098,     0.95098,     0.95098,     0.95098,     0.95098,     0.95098,     0.95098,     0.95098,     0.95098,\n",
       "            0.92593,     0.92593,     0.92593,     0.92593,     0.92593,     0.92593,     0.92593,     0.92593,     0.92593,     0.92593,     0.92593,     0.92593,     0.92593,     0.92593,     0.92593,     0.92593,     0.92593,     0.92593,     0.92593,     0.92593,     0.92593,     0.92593,     0.92593,\n",
       "            0.92593,     0.92593,     0.92593,     0.91818,     0.91818,     0.91818,     0.91818,     0.91818,     0.91818,     0.91818,     0.91818,     0.91818,     0.91071,     0.91071,     0.91071,     0.91071,     0.91071,     0.91071,     0.91071,     0.91071,     0.90351,     0.90351,     0.90351,\n",
       "            0.90351,     0.90351,     0.90351,     0.90351,     0.90351,     0.90351,     0.89655,     0.89655,     0.89655,     0.89655,     0.89655,     0.89655,     0.89655,     0.89655,     0.89655,     0.89009,     0.87986,     0.86963,      0.8594,     0.84917,     0.83894,      0.8287,     0.81847,\n",
       "            0.80824,     0.79801,     0.78778,     0.77755,     0.76732,     0.75709,     0.74686,     0.73663,      0.7264,     0.71616,     0.70593,      0.6957,     0.68547,     0.67524,     0.66501,     0.65478,     0.64455,     0.63432,     0.62409,     0.61386,     0.60362,     0.59339,     0.58316,\n",
       "            0.57293,      0.5627,     0.55247,     0.54224,     0.53201,     0.52178,     0.51155,     0.50132,     0.49108,     0.48085,     0.47062,     0.46039,     0.45016,     0.43993,      0.4297,     0.41947,     0.40924,     0.39901,     0.38877,     0.37854,     0.36831,     0.35808,     0.34785,\n",
       "            0.33762,     0.32739,     0.31716,     0.30693,      0.2967,     0.28647,     0.27623,       0.266,     0.25577,     0.24554,     0.23531,     0.22508,     0.21485,     0.20462,     0.19439,     0.18416,     0.17393,     0.16369,     0.15346,     0.14323,       0.133,     0.12277,     0.11254,\n",
       "            0.10231,    0.092078,    0.081847,    0.071616,    0.061386,    0.051155,    0.040924,    0.030693,    0.020462,    0.010231,           0]]), 'Recall', 'Precision'], [array([          0,    0.001001,    0.002002,    0.003003,    0.004004,    0.005005,    0.006006,    0.007007,    0.008008,    0.009009,     0.01001,    0.011011,    0.012012,    0.013013,    0.014014,    0.015015,    0.016016,    0.017017,    0.018018,    0.019019,     0.02002,    0.021021,    0.022022,    0.023023,\n",
       "          0.024024,    0.025025,    0.026026,    0.027027,    0.028028,    0.029029,     0.03003,    0.031031,    0.032032,    0.033033,    0.034034,    0.035035,    0.036036,    0.037037,    0.038038,    0.039039,     0.04004,    0.041041,    0.042042,    0.043043,    0.044044,    0.045045,    0.046046,    0.047047,\n",
       "          0.048048,    0.049049,     0.05005,    0.051051,    0.052052,    0.053053,    0.054054,    0.055055,    0.056056,    0.057057,    0.058058,    0.059059,     0.06006,    0.061061,    0.062062,    0.063063,    0.064064,    0.065065,    0.066066,    0.067067,    0.068068,    0.069069,     0.07007,    0.071071,\n",
       "          0.072072,    0.073073,    0.074074,    0.075075,    0.076076,    0.077077,    0.078078,    0.079079,     0.08008,    0.081081,    0.082082,    0.083083,    0.084084,    0.085085,    0.086086,    0.087087,    0.088088,    0.089089,     0.09009,    0.091091,    0.092092,    0.093093,    0.094094,    0.095095,\n",
       "          0.096096,    0.097097,    0.098098,    0.099099,      0.1001,      0.1011,      0.1021,      0.1031,      0.1041,     0.10511,     0.10611,     0.10711,     0.10811,     0.10911,     0.11011,     0.11111,     0.11211,     0.11311,     0.11411,     0.11512,     0.11612,     0.11712,     0.11812,     0.11912,\n",
       "           0.12012,     0.12112,     0.12212,     0.12312,     0.12412,     0.12513,     0.12613,     0.12713,     0.12813,     0.12913,     0.13013,     0.13113,     0.13213,     0.13313,     0.13413,     0.13514,     0.13614,     0.13714,     0.13814,     0.13914,     0.14014,     0.14114,     0.14214,     0.14314,\n",
       "           0.14414,     0.14515,     0.14615,     0.14715,     0.14815,     0.14915,     0.15015,     0.15115,     0.15215,     0.15315,     0.15415,     0.15516,     0.15616,     0.15716,     0.15816,     0.15916,     0.16016,     0.16116,     0.16216,     0.16316,     0.16416,     0.16517,     0.16617,     0.16717,\n",
       "           0.16817,     0.16917,     0.17017,     0.17117,     0.17217,     0.17317,     0.17417,     0.17518,     0.17618,     0.17718,     0.17818,     0.17918,     0.18018,     0.18118,     0.18218,     0.18318,     0.18418,     0.18519,     0.18619,     0.18719,     0.18819,     0.18919,     0.19019,     0.19119,\n",
       "           0.19219,     0.19319,     0.19419,      0.1952,      0.1962,      0.1972,      0.1982,      0.1992,      0.2002,      0.2012,      0.2022,      0.2032,      0.2042,     0.20521,     0.20621,     0.20721,     0.20821,     0.20921,     0.21021,     0.21121,     0.21221,     0.21321,     0.21421,     0.21522,\n",
       "           0.21622,     0.21722,     0.21822,     0.21922,     0.22022,     0.22122,     0.22222,     0.22322,     0.22422,     0.22523,     0.22623,     0.22723,     0.22823,     0.22923,     0.23023,     0.23123,     0.23223,     0.23323,     0.23423,     0.23524,     0.23624,     0.23724,     0.23824,     0.23924,\n",
       "           0.24024,     0.24124,     0.24224,     0.24324,     0.24424,     0.24525,     0.24625,     0.24725,     0.24825,     0.24925,     0.25025,     0.25125,     0.25225,     0.25325,     0.25425,     0.25526,     0.25626,     0.25726,     0.25826,     0.25926,     0.26026,     0.26126,     0.26226,     0.26326,\n",
       "           0.26426,     0.26527,     0.26627,     0.26727,     0.26827,     0.26927,     0.27027,     0.27127,     0.27227,     0.27327,     0.27427,     0.27528,     0.27628,     0.27728,     0.27828,     0.27928,     0.28028,     0.28128,     0.28228,     0.28328,     0.28428,     0.28529,     0.28629,     0.28729,\n",
       "           0.28829,     0.28929,     0.29029,     0.29129,     0.29229,     0.29329,     0.29429,      0.2953,      0.2963,      0.2973,      0.2983,      0.2993,      0.3003,      0.3013,      0.3023,      0.3033,      0.3043,     0.30531,     0.30631,     0.30731,     0.30831,     0.30931,     0.31031,     0.31131,\n",
       "           0.31231,     0.31331,     0.31431,     0.31532,     0.31632,     0.31732,     0.31832,     0.31932,     0.32032,     0.32132,     0.32232,     0.32332,     0.32432,     0.32533,     0.32633,     0.32733,     0.32833,     0.32933,     0.33033,     0.33133,     0.33233,     0.33333,     0.33433,     0.33534,\n",
       "           0.33634,     0.33734,     0.33834,     0.33934,     0.34034,     0.34134,     0.34234,     0.34334,     0.34434,     0.34535,     0.34635,     0.34735,     0.34835,     0.34935,     0.35035,     0.35135,     0.35235,     0.35335,     0.35435,     0.35536,     0.35636,     0.35736,     0.35836,     0.35936,\n",
       "           0.36036,     0.36136,     0.36236,     0.36336,     0.36436,     0.36537,     0.36637,     0.36737,     0.36837,     0.36937,     0.37037,     0.37137,     0.37237,     0.37337,     0.37437,     0.37538,     0.37638,     0.37738,     0.37838,     0.37938,     0.38038,     0.38138,     0.38238,     0.38338,\n",
       "           0.38438,     0.38539,     0.38639,     0.38739,     0.38839,     0.38939,     0.39039,     0.39139,     0.39239,     0.39339,     0.39439,      0.3954,      0.3964,      0.3974,      0.3984,      0.3994,      0.4004,      0.4014,      0.4024,      0.4034,      0.4044,     0.40541,     0.40641,     0.40741,\n",
       "           0.40841,     0.40941,     0.41041,     0.41141,     0.41241,     0.41341,     0.41441,     0.41542,     0.41642,     0.41742,     0.41842,     0.41942,     0.42042,     0.42142,     0.42242,     0.42342,     0.42442,     0.42543,     0.42643,     0.42743,     0.42843,     0.42943,     0.43043,     0.43143,\n",
       "           0.43243,     0.43343,     0.43443,     0.43544,     0.43644,     0.43744,     0.43844,     0.43944,     0.44044,     0.44144,     0.44244,     0.44344,     0.44444,     0.44545,     0.44645,     0.44745,     0.44845,     0.44945,     0.45045,     0.45145,     0.45245,     0.45345,     0.45445,     0.45546,\n",
       "           0.45646,     0.45746,     0.45846,     0.45946,     0.46046,     0.46146,     0.46246,     0.46346,     0.46446,     0.46547,     0.46647,     0.46747,     0.46847,     0.46947,     0.47047,     0.47147,     0.47247,     0.47347,     0.47447,     0.47548,     0.47648,     0.47748,     0.47848,     0.47948,\n",
       "           0.48048,     0.48148,     0.48248,     0.48348,     0.48448,     0.48549,     0.48649,     0.48749,     0.48849,     0.48949,     0.49049,     0.49149,     0.49249,     0.49349,     0.49449,      0.4955,      0.4965,      0.4975,      0.4985,      0.4995,      0.5005,      0.5015,      0.5025,      0.5035,\n",
       "            0.5045,     0.50551,     0.50651,     0.50751,     0.50851,     0.50951,     0.51051,     0.51151,     0.51251,     0.51351,     0.51451,     0.51552,     0.51652,     0.51752,     0.51852,     0.51952,     0.52052,     0.52152,     0.52252,     0.52352,     0.52452,     0.52553,     0.52653,     0.52753,\n",
       "           0.52853,     0.52953,     0.53053,     0.53153,     0.53253,     0.53353,     0.53453,     0.53554,     0.53654,     0.53754,     0.53854,     0.53954,     0.54054,     0.54154,     0.54254,     0.54354,     0.54454,     0.54555,     0.54655,     0.54755,     0.54855,     0.54955,     0.55055,     0.55155,\n",
       "           0.55255,     0.55355,     0.55455,     0.55556,     0.55656,     0.55756,     0.55856,     0.55956,     0.56056,     0.56156,     0.56256,     0.56356,     0.56456,     0.56557,     0.56657,     0.56757,     0.56857,     0.56957,     0.57057,     0.57157,     0.57257,     0.57357,     0.57457,     0.57558,\n",
       "           0.57658,     0.57758,     0.57858,     0.57958,     0.58058,     0.58158,     0.58258,     0.58358,     0.58458,     0.58559,     0.58659,     0.58759,     0.58859,     0.58959,     0.59059,     0.59159,     0.59259,     0.59359,     0.59459,      0.5956,      0.5966,      0.5976,      0.5986,      0.5996,\n",
       "            0.6006,      0.6016,      0.6026,      0.6036,      0.6046,     0.60561,     0.60661,     0.60761,     0.60861,     0.60961,     0.61061,     0.61161,     0.61261,     0.61361,     0.61461,     0.61562,     0.61662,     0.61762,     0.61862,     0.61962,     0.62062,     0.62162,     0.62262,     0.62362,\n",
       "           0.62462,     0.62563,     0.62663,     0.62763,     0.62863,     0.62963,     0.63063,     0.63163,     0.63263,     0.63363,     0.63463,     0.63564,     0.63664,     0.63764,     0.63864,     0.63964,     0.64064,     0.64164,     0.64264,     0.64364,     0.64464,     0.64565,     0.64665,     0.64765,\n",
       "           0.64865,     0.64965,     0.65065,     0.65165,     0.65265,     0.65365,     0.65465,     0.65566,     0.65666,     0.65766,     0.65866,     0.65966,     0.66066,     0.66166,     0.66266,     0.66366,     0.66466,     0.66567,     0.66667,     0.66767,     0.66867,     0.66967,     0.67067,     0.67167,\n",
       "           0.67267,     0.67367,     0.67467,     0.67568,     0.67668,     0.67768,     0.67868,     0.67968,     0.68068,     0.68168,     0.68268,     0.68368,     0.68468,     0.68569,     0.68669,     0.68769,     0.68869,     0.68969,     0.69069,     0.69169,     0.69269,     0.69369,     0.69469,      0.6957,\n",
       "            0.6967,      0.6977,      0.6987,      0.6997,      0.7007,      0.7017,      0.7027,      0.7037,      0.7047,     0.70571,     0.70671,     0.70771,     0.70871,     0.70971,     0.71071,     0.71171,     0.71271,     0.71371,     0.71471,     0.71572,     0.71672,     0.71772,     0.71872,     0.71972,\n",
       "           0.72072,     0.72172,     0.72272,     0.72372,     0.72472,     0.72573,     0.72673,     0.72773,     0.72873,     0.72973,     0.73073,     0.73173,     0.73273,     0.73373,     0.73473,     0.73574,     0.73674,     0.73774,     0.73874,     0.73974,     0.74074,     0.74174,     0.74274,     0.74374,\n",
       "           0.74474,     0.74575,     0.74675,     0.74775,     0.74875,     0.74975,     0.75075,     0.75175,     0.75275,     0.75375,     0.75475,     0.75576,     0.75676,     0.75776,     0.75876,     0.75976,     0.76076,     0.76176,     0.76276,     0.76376,     0.76476,     0.76577,     0.76677,     0.76777,\n",
       "           0.76877,     0.76977,     0.77077,     0.77177,     0.77277,     0.77377,     0.77477,     0.77578,     0.77678,     0.77778,     0.77878,     0.77978,     0.78078,     0.78178,     0.78278,     0.78378,     0.78478,     0.78579,     0.78679,     0.78779,     0.78879,     0.78979,     0.79079,     0.79179,\n",
       "           0.79279,     0.79379,     0.79479,      0.7958,      0.7968,      0.7978,      0.7988,      0.7998,      0.8008,      0.8018,      0.8028,      0.8038,      0.8048,     0.80581,     0.80681,     0.80781,     0.80881,     0.80981,     0.81081,     0.81181,     0.81281,     0.81381,     0.81481,     0.81582,\n",
       "           0.81682,     0.81782,     0.81882,     0.81982,     0.82082,     0.82182,     0.82282,     0.82382,     0.82482,     0.82583,     0.82683,     0.82783,     0.82883,     0.82983,     0.83083,     0.83183,     0.83283,     0.83383,     0.83483,     0.83584,     0.83684,     0.83784,     0.83884,     0.83984,\n",
       "           0.84084,     0.84184,     0.84284,     0.84384,     0.84484,     0.84585,     0.84685,     0.84785,     0.84885,     0.84985,     0.85085,     0.85185,     0.85285,     0.85385,     0.85485,     0.85586,     0.85686,     0.85786,     0.85886,     0.85986,     0.86086,     0.86186,     0.86286,     0.86386,\n",
       "           0.86486,     0.86587,     0.86687,     0.86787,     0.86887,     0.86987,     0.87087,     0.87187,     0.87287,     0.87387,     0.87487,     0.87588,     0.87688,     0.87788,     0.87888,     0.87988,     0.88088,     0.88188,     0.88288,     0.88388,     0.88488,     0.88589,     0.88689,     0.88789,\n",
       "           0.88889,     0.88989,     0.89089,     0.89189,     0.89289,     0.89389,     0.89489,      0.8959,      0.8969,      0.8979,      0.8989,      0.8999,      0.9009,      0.9019,      0.9029,      0.9039,      0.9049,     0.90591,     0.90691,     0.90791,     0.90891,     0.90991,     0.91091,     0.91191,\n",
       "           0.91291,     0.91391,     0.91491,     0.91592,     0.91692,     0.91792,     0.91892,     0.91992,     0.92092,     0.92192,     0.92292,     0.92392,     0.92492,     0.92593,     0.92693,     0.92793,     0.92893,     0.92993,     0.93093,     0.93193,     0.93293,     0.93393,     0.93493,     0.93594,\n",
       "           0.93694,     0.93794,     0.93894,     0.93994,     0.94094,     0.94194,     0.94294,     0.94394,     0.94494,     0.94595,     0.94695,     0.94795,     0.94895,     0.94995,     0.95095,     0.95195,     0.95295,     0.95395,     0.95495,     0.95596,     0.95696,     0.95796,     0.95896,     0.95996,\n",
       "           0.96096,     0.96196,     0.96296,     0.96396,     0.96496,     0.96597,     0.96697,     0.96797,     0.96897,     0.96997,     0.97097,     0.97197,     0.97297,     0.97397,     0.97497,     0.97598,     0.97698,     0.97798,     0.97898,     0.97998,     0.98098,     0.98198,     0.98298,     0.98398,\n",
       "           0.98498,     0.98599,     0.98699,     0.98799,     0.98899,     0.98999,     0.99099,     0.99199,     0.99299,     0.99399,     0.99499,       0.996,       0.997,       0.998,       0.999,           1]), array([[    0.90435,     0.90435,     0.90435,     0.90435,     0.90435,     0.90435,     0.90435,     0.90435,     0.90435,     0.90435,     0.90435,     0.90435,     0.90435,     0.90435,     0.90435,     0.90435,     0.90435,     0.90435,     0.90435,     0.90435,     0.90435,     0.90435,     0.90435,\n",
       "            0.90435,     0.90435,     0.90435,     0.90435,     0.90435,     0.90435,     0.90435,     0.90435,     0.90435,     0.90435,     0.90435,     0.90435,     0.90435,     0.90435,     0.90435,     0.90435,     0.90435,     0.90435,     0.90435,     0.90435,     0.90435,     0.90435,     0.90435,\n",
       "            0.90435,     0.90435,     0.90435,     0.90435,     0.90435,     0.90435,     0.90435,     0.90435,     0.90435,     0.90435,     0.90435,     0.90435,     0.90435,     0.90435,     0.90435,     0.90435,     0.90435,     0.90435,     0.90435,     0.90435,     0.90435,     0.90435,     0.90435,\n",
       "            0.90435,     0.90435,     0.90435,     0.90435,     0.90435,     0.90435,     0.90435,     0.90435,     0.90435,     0.90435,     0.90435,     0.90435,     0.90435,     0.90435,     0.90435,     0.90435,     0.90435,     0.90435,     0.90435,     0.90435,     0.90435,     0.90435,     0.90435,\n",
       "            0.90435,     0.90435,     0.90435,     0.90435,     0.90435,     0.90435,     0.90435,     0.90435,     0.90435,     0.90435,     0.90435,     0.90435,     0.90435,     0.90435,     0.90435,     0.90435,     0.90435,     0.90435,     0.90435,     0.90435,     0.90435,     0.90435,     0.90435,\n",
       "            0.90435,     0.90435,     0.90435,     0.90435,     0.90435,     0.90435,     0.90435,     0.90435,     0.90435,     0.90435,     0.90435,     0.90435,     0.90435,     0.90435,     0.90435,     0.90435,     0.90435,     0.90435,     0.90435,     0.90435,     0.90435,     0.90435,     0.90435,\n",
       "            0.90435,     0.90435,     0.90435,     0.90435,     0.90435,     0.90435,     0.90435,     0.90435,     0.90435,     0.90435,     0.90435,     0.90435,     0.90435,     0.90435,     0.90435,     0.90435,     0.90435,     0.90435,     0.90435,     0.90435,     0.90435,     0.90435,     0.90435,\n",
       "            0.90435,     0.90435,     0.90435,     0.90435,     0.90435,     0.90435,     0.90435,     0.90435,     0.90435,     0.90435,     0.90435,     0.90435,     0.90435,     0.90435,     0.90435,     0.90435,     0.90435,     0.90435,     0.90435,     0.90435,     0.90435,     0.90435,     0.90435,\n",
       "            0.90435,     0.90435,     0.90435,     0.90435,     0.90435,     0.90435,     0.90435,     0.90435,     0.90435,     0.90435,     0.90435,     0.90435,     0.90435,     0.90435,     0.90435,     0.90435,     0.90435,     0.90435,     0.90435,     0.90435,     0.90435,     0.90435,     0.90435,\n",
       "            0.90435,     0.90435,     0.90435,     0.90435,     0.90435,     0.90435,     0.90435,     0.90435,     0.90435,     0.90435,     0.90435,     0.90435,     0.90435,     0.90435,     0.90435,     0.90435,     0.90435,     0.90435,     0.90435,     0.90435,     0.90435,     0.90435,     0.90435,\n",
       "            0.90435,     0.90435,     0.90435,     0.90435,     0.90435,     0.90435,     0.90435,     0.90435,     0.90435,     0.90435,     0.90435,     0.90435,     0.90435,     0.90435,     0.90435,     0.90435,     0.90435,     0.90435,     0.90435,     0.90435,     0.90435,     0.90435,     0.90435,\n",
       "            0.90435,     0.90435,     0.90435,     0.90435,     0.90435,     0.90435,     0.90435,     0.90435,     0.90435,     0.90435,     0.90435,     0.90435,     0.90435,     0.90435,     0.90435,     0.90435,     0.90435,     0.90435,     0.90435,     0.90435,     0.90435,     0.90435,     0.90435,\n",
       "            0.90435,     0.90432,     0.90392,     0.90352,     0.90311,     0.90271,     0.90231,     0.90191,      0.9015,      0.9011,      0.9007,     0.90029,     0.89989,     0.89957,     0.89963,     0.89969,     0.89974,      0.8998,     0.89985,     0.89991,     0.89997,     0.90002,     0.90008,\n",
       "            0.90013,     0.90019,     0.90025,      0.9003,     0.90036,     0.90041,     0.90047,     0.90053,     0.90058,     0.90064,     0.90069,     0.90075,     0.90081,     0.90086,     0.90092,     0.90097,     0.90103,     0.90109,     0.90114,      0.9012,     0.90125,     0.90131,     0.90137,\n",
       "            0.90142,     0.90148,     0.90153,     0.90159,     0.90164,      0.9017,     0.90176,     0.90181,     0.90187,     0.90192,     0.90198,     0.90204,     0.90209,     0.90215,      0.9022,     0.90226,     0.90231,     0.90237,     0.90243,     0.90248,     0.90254,     0.90259,     0.90265,\n",
       "             0.9027,     0.90276,     0.90282,     0.90287,     0.90293,     0.90298,     0.90304,     0.90309,     0.90315,     0.90321,     0.90326,     0.90332,     0.90337,     0.90343,     0.90348,     0.90285,     0.90165,     0.90045,     0.89925,     0.89876,     0.89893,     0.89909,     0.89925,\n",
       "            0.89941,     0.89957,     0.89974,      0.8999,     0.90006,     0.90022,     0.90038,     0.90055,     0.90071,     0.90087,     0.90103,     0.90119,     0.90135,     0.90152,     0.90168,     0.90184,       0.902,     0.90216,     0.90232,     0.90248,     0.90264,     0.90257,     0.90248,\n",
       "            0.90238,     0.90229,      0.9022,      0.9021,     0.90201,     0.90192,     0.90183,     0.90173,     0.90164,     0.90155,     0.90145,     0.90136,     0.90127,     0.90118,     0.90108,     0.90099,      0.9009,      0.9008,     0.90071,     0.90062,     0.90052,     0.90043,     0.90034,\n",
       "            0.90025,     0.90015,     0.90006,     0.89997,     0.89987,     0.89978,     0.89969,     0.89959,      0.8995,     0.89941,     0.89931,     0.89922,     0.89913,     0.89903,     0.89894,     0.89885,     0.89876,     0.89866,     0.89857,     0.89848,     0.89838,     0.89829,      0.8982,\n",
       "             0.8981,     0.89801,     0.89792,     0.89782,     0.89822,     0.89906,     0.89989,     0.90073,     0.90156,     0.90143,     0.90093,     0.90044,     0.89995,     0.89945,     0.89896,     0.89847,     0.89797,     0.89748,     0.89698,     0.89905,     0.89587,     0.89532,     0.89477,\n",
       "            0.89422,     0.89367,     0.89311,     0.89256,     0.89201,     0.89145,      0.8909,     0.89061,     0.89032,     0.89002,     0.88973,     0.88944,     0.88915,     0.88885,     0.88856,     0.88827,     0.88797,     0.88768,     0.88738,     0.88709,      0.8868,      0.8865,     0.88621,\n",
       "            0.88591,     0.88597,     0.88613,     0.88629,     0.88645,     0.88661,     0.88677,     0.88693,     0.88709,     0.88725,     0.88741,     0.88757,     0.88773,     0.88789,     0.88805,     0.88821,     0.88836,     0.88852,     0.88868,     0.88884,       0.889,     0.88916,     0.88932,\n",
       "            0.88948,     0.88964,      0.8898,     0.89006,     0.89059,     0.89112,     0.89165,     0.89217,      0.8927,     0.89323,     0.89375,     0.89411,      0.8943,      0.8945,     0.89469,     0.89488,     0.89508,     0.89527,     0.89547,     0.89566,     0.89585,     0.89605,     0.89624,\n",
       "            0.89643,     0.89663,     0.89682,     0.89701,     0.89721,      0.8974,     0.89759,     0.89778,     0.89798,     0.89813,     0.89801,     0.89788,     0.89775,     0.89762,     0.89749,     0.89736,     0.89723,      0.8971,     0.89697,     0.89684,     0.89672,     0.89659,     0.89646,\n",
       "            0.89633,      0.8962,     0.89607,     0.89594,     0.89581,     0.89568,     0.89555,     0.89542,     0.89529,     0.89516,     0.89503,      0.8949,     0.89477,     0.89464,     0.89451,     0.89438,     0.89426,     0.89413,       0.894,     0.89387,     0.89374,     0.89361,     0.89348,\n",
       "            0.89335,     0.89322,     0.89309,     0.89263,     0.89185,     0.89108,      0.8903,     0.88952,     0.88875,     0.88797,     0.88752,     0.88714,     0.88675,     0.88636,     0.88598,     0.88559,      0.8852,     0.88482,     0.88443,     0.88404,     0.88365,     0.88326,     0.88287,\n",
       "            0.88219,     0.88101,     0.87982,     0.87864,     0.87745,     0.87721,     0.87706,      0.8769,     0.87675,     0.87659,     0.87644,     0.87628,     0.87612,     0.87597,     0.87581,     0.87566,      0.8755,     0.87534,     0.87519,     0.87503,     0.87487,     0.87472,     0.87456,\n",
       "            0.87441,     0.87425,     0.87409,     0.87394,     0.87378,     0.87362,     0.87347,     0.87331,     0.87315,       0.873,     0.87284,     0.87268,     0.87253,     0.87237,     0.87221,     0.87205,     0.87292,      0.8739,     0.87489,     0.87586,     0.87498,     0.87317,     0.87135,\n",
       "            0.87076,     0.87068,     0.87061,     0.87053,     0.87046,     0.87038,     0.87031,     0.87023,     0.87016,     0.87008,     0.87001,     0.86993,     0.86986,     0.86978,     0.86971,     0.86963,     0.86956,     0.86948,      0.8694,     0.86933,     0.86925,     0.86918,      0.8691,\n",
       "            0.86903,     0.86895,     0.86888,      0.8688,     0.86873,     0.86865,     0.86857,      0.8685,     0.86842,     0.86835,     0.86827,      0.8682,     0.86812,     0.86805,     0.86797,     0.86789,     0.86782,     0.86774,     0.86767,     0.86759,     0.86752,     0.86744,     0.86737,\n",
       "            0.86729,     0.86721,     0.86714,     0.86706,     0.86699,     0.86691,     0.86684,     0.86676,     0.86668,     0.86661,     0.86653,     0.86646,     0.86638,     0.86631,     0.86623,     0.86615,     0.86608,       0.866,     0.86593,     0.86585,     0.86578,      0.8657,     0.86562,\n",
       "            0.86555,     0.86547,      0.8654,     0.86559,     0.86584,     0.86609,     0.86633,     0.86658,     0.86682,     0.86707,     0.86732,     0.86756,     0.86781,     0.86805,      0.8683,     0.86854,     0.86878,     0.86903,     0.86927,     0.86952,     0.86746,      0.8648,     0.85914,\n",
       "            0.86016,     0.86119,     0.86221,     0.86258,     0.86224,     0.86189,     0.86155,     0.86121,     0.86086,     0.86052,     0.86017,     0.85983,     0.85948,     0.85914,     0.85879,     0.85844,      0.8581,     0.85775,      0.8574,      0.8568,     0.85542,     0.85402,     0.85263,\n",
       "            0.85264,     0.85621,     0.85716,     0.85811,     0.85905,        0.86,     0.85387,     0.85337,     0.85286,     0.85235,     0.85184,     0.85133,     0.85082,     0.85031,     0.84979,     0.84928,     0.84877,     0.84827,     0.84779,     0.84731,     0.84682,     0.84634,     0.84586,\n",
       "            0.84537,     0.84489,      0.8444,     0.84392,     0.84343,     0.84295,      0.8423,     0.84136,     0.84041,     0.83947,     0.83852,     0.83757,     0.83665,     0.83589,     0.83513,     0.83437,     0.83361,     0.83285,     0.83209,     0.83133,     0.82886,     0.82417,     0.82281,\n",
       "            0.82146,      0.8201,     0.81874,     0.81807,     0.81744,     0.81682,     0.81619,     0.81557,     0.81494,     0.81431,     0.81368,     0.81305,     0.81195,     0.80749,     0.80562,     0.80471,     0.80379,     0.80288,     0.80196,     0.80105,     0.80013,     0.78802,     0.78608,\n",
       "            0.78485,     0.78362,     0.78239,     0.78115,     0.77399,     0.77303,     0.77206,     0.77109,     0.77012,     0.76914,     0.76817,     0.76313,      0.7604,     0.75982,     0.75925,     0.75867,     0.75808,      0.7575,     0.75692,     0.75634,     0.75576,     0.75517,     0.75459,\n",
       "            0.75398,     0.75326,     0.75254,     0.75182,     0.75109,     0.75037,     0.74964,     0.74891,     0.74819,     0.74746,     0.74669,      0.7459,     0.74511,     0.74432,     0.74353,     0.74273,     0.74194,     0.74115,     0.74035,     0.72816,     0.71814,     0.71561,     0.71307,\n",
       "               0.71,     0.70647,      0.7021,     0.69707,     0.69599,      0.6949,     0.69382,     0.69273,     0.69165,     0.69056,     0.68899,     0.68515,     0.68107,     0.67604,      0.6665,     0.66338,     0.66024,     0.65708,     0.65391,      0.6466,     0.63455,     0.63086,     0.62714,\n",
       "            0.61798,      0.6162,     0.61441,     0.61262,     0.61082,     0.60746,     0.60182,     0.58995,     0.58619,     0.58063,     0.57393,     0.57078,     0.56761,     0.55436,     0.54144,     0.53659,     0.53332,     0.53004,     0.52284,     0.51583,     0.50996,     0.50633,     0.50274,\n",
       "            0.49833,      0.4913,     0.48689,     0.48303,     0.47937,     0.47651,     0.47364,     0.47075,      0.4638,     0.45357,     0.44691,     0.44344,     0.43996,     0.43353,     0.42512,     0.41781,     0.41221,     0.40691,     0.40071,     0.39426,     0.39034,      0.3864,     0.38254,\n",
       "            0.37933,      0.3761,     0.37286,      0.3685,     0.36323,      0.3444,     0.33351,     0.32551,     0.32047,      0.3164,      0.3123,     0.30023,     0.27252,     0.26029,     0.24153,     0.23261,       0.217,     0.20229,     0.17595,     0.16483,     0.15799,     0.15313,     0.14826,\n",
       "            0.13966,     0.13034,     0.12683,     0.12332,     0.11978,     0.11624,     0.11237,     0.10842,     0.10446,     0.10048,    0.064535,    0.058962,    0.053357,    0.030915,           0,           0,           0,           0,           0,           0,           0,           0,           0,\n",
       "                  0,           0,           0,           0,           0,           0,           0,           0,           0,           0,           0]]), 'Confidence', 'F1'], [array([          0,    0.001001,    0.002002,    0.003003,    0.004004,    0.005005,    0.006006,    0.007007,    0.008008,    0.009009,     0.01001,    0.011011,    0.012012,    0.013013,    0.014014,    0.015015,    0.016016,    0.017017,    0.018018,    0.019019,     0.02002,    0.021021,    0.022022,    0.023023,\n",
       "          0.024024,    0.025025,    0.026026,    0.027027,    0.028028,    0.029029,     0.03003,    0.031031,    0.032032,    0.033033,    0.034034,    0.035035,    0.036036,    0.037037,    0.038038,    0.039039,     0.04004,    0.041041,    0.042042,    0.043043,    0.044044,    0.045045,    0.046046,    0.047047,\n",
       "          0.048048,    0.049049,     0.05005,    0.051051,    0.052052,    0.053053,    0.054054,    0.055055,    0.056056,    0.057057,    0.058058,    0.059059,     0.06006,    0.061061,    0.062062,    0.063063,    0.064064,    0.065065,    0.066066,    0.067067,    0.068068,    0.069069,     0.07007,    0.071071,\n",
       "          0.072072,    0.073073,    0.074074,    0.075075,    0.076076,    0.077077,    0.078078,    0.079079,     0.08008,    0.081081,    0.082082,    0.083083,    0.084084,    0.085085,    0.086086,    0.087087,    0.088088,    0.089089,     0.09009,    0.091091,    0.092092,    0.093093,    0.094094,    0.095095,\n",
       "          0.096096,    0.097097,    0.098098,    0.099099,      0.1001,      0.1011,      0.1021,      0.1031,      0.1041,     0.10511,     0.10611,     0.10711,     0.10811,     0.10911,     0.11011,     0.11111,     0.11211,     0.11311,     0.11411,     0.11512,     0.11612,     0.11712,     0.11812,     0.11912,\n",
       "           0.12012,     0.12112,     0.12212,     0.12312,     0.12412,     0.12513,     0.12613,     0.12713,     0.12813,     0.12913,     0.13013,     0.13113,     0.13213,     0.13313,     0.13413,     0.13514,     0.13614,     0.13714,     0.13814,     0.13914,     0.14014,     0.14114,     0.14214,     0.14314,\n",
       "           0.14414,     0.14515,     0.14615,     0.14715,     0.14815,     0.14915,     0.15015,     0.15115,     0.15215,     0.15315,     0.15415,     0.15516,     0.15616,     0.15716,     0.15816,     0.15916,     0.16016,     0.16116,     0.16216,     0.16316,     0.16416,     0.16517,     0.16617,     0.16717,\n",
       "           0.16817,     0.16917,     0.17017,     0.17117,     0.17217,     0.17317,     0.17417,     0.17518,     0.17618,     0.17718,     0.17818,     0.17918,     0.18018,     0.18118,     0.18218,     0.18318,     0.18418,     0.18519,     0.18619,     0.18719,     0.18819,     0.18919,     0.19019,     0.19119,\n",
       "           0.19219,     0.19319,     0.19419,      0.1952,      0.1962,      0.1972,      0.1982,      0.1992,      0.2002,      0.2012,      0.2022,      0.2032,      0.2042,     0.20521,     0.20621,     0.20721,     0.20821,     0.20921,     0.21021,     0.21121,     0.21221,     0.21321,     0.21421,     0.21522,\n",
       "           0.21622,     0.21722,     0.21822,     0.21922,     0.22022,     0.22122,     0.22222,     0.22322,     0.22422,     0.22523,     0.22623,     0.22723,     0.22823,     0.22923,     0.23023,     0.23123,     0.23223,     0.23323,     0.23423,     0.23524,     0.23624,     0.23724,     0.23824,     0.23924,\n",
       "           0.24024,     0.24124,     0.24224,     0.24324,     0.24424,     0.24525,     0.24625,     0.24725,     0.24825,     0.24925,     0.25025,     0.25125,     0.25225,     0.25325,     0.25425,     0.25526,     0.25626,     0.25726,     0.25826,     0.25926,     0.26026,     0.26126,     0.26226,     0.26326,\n",
       "           0.26426,     0.26527,     0.26627,     0.26727,     0.26827,     0.26927,     0.27027,     0.27127,     0.27227,     0.27327,     0.27427,     0.27528,     0.27628,     0.27728,     0.27828,     0.27928,     0.28028,     0.28128,     0.28228,     0.28328,     0.28428,     0.28529,     0.28629,     0.28729,\n",
       "           0.28829,     0.28929,     0.29029,     0.29129,     0.29229,     0.29329,     0.29429,      0.2953,      0.2963,      0.2973,      0.2983,      0.2993,      0.3003,      0.3013,      0.3023,      0.3033,      0.3043,     0.30531,     0.30631,     0.30731,     0.30831,     0.30931,     0.31031,     0.31131,\n",
       "           0.31231,     0.31331,     0.31431,     0.31532,     0.31632,     0.31732,     0.31832,     0.31932,     0.32032,     0.32132,     0.32232,     0.32332,     0.32432,     0.32533,     0.32633,     0.32733,     0.32833,     0.32933,     0.33033,     0.33133,     0.33233,     0.33333,     0.33433,     0.33534,\n",
       "           0.33634,     0.33734,     0.33834,     0.33934,     0.34034,     0.34134,     0.34234,     0.34334,     0.34434,     0.34535,     0.34635,     0.34735,     0.34835,     0.34935,     0.35035,     0.35135,     0.35235,     0.35335,     0.35435,     0.35536,     0.35636,     0.35736,     0.35836,     0.35936,\n",
       "           0.36036,     0.36136,     0.36236,     0.36336,     0.36436,     0.36537,     0.36637,     0.36737,     0.36837,     0.36937,     0.37037,     0.37137,     0.37237,     0.37337,     0.37437,     0.37538,     0.37638,     0.37738,     0.37838,     0.37938,     0.38038,     0.38138,     0.38238,     0.38338,\n",
       "           0.38438,     0.38539,     0.38639,     0.38739,     0.38839,     0.38939,     0.39039,     0.39139,     0.39239,     0.39339,     0.39439,      0.3954,      0.3964,      0.3974,      0.3984,      0.3994,      0.4004,      0.4014,      0.4024,      0.4034,      0.4044,     0.40541,     0.40641,     0.40741,\n",
       "           0.40841,     0.40941,     0.41041,     0.41141,     0.41241,     0.41341,     0.41441,     0.41542,     0.41642,     0.41742,     0.41842,     0.41942,     0.42042,     0.42142,     0.42242,     0.42342,     0.42442,     0.42543,     0.42643,     0.42743,     0.42843,     0.42943,     0.43043,     0.43143,\n",
       "           0.43243,     0.43343,     0.43443,     0.43544,     0.43644,     0.43744,     0.43844,     0.43944,     0.44044,     0.44144,     0.44244,     0.44344,     0.44444,     0.44545,     0.44645,     0.44745,     0.44845,     0.44945,     0.45045,     0.45145,     0.45245,     0.45345,     0.45445,     0.45546,\n",
       "           0.45646,     0.45746,     0.45846,     0.45946,     0.46046,     0.46146,     0.46246,     0.46346,     0.46446,     0.46547,     0.46647,     0.46747,     0.46847,     0.46947,     0.47047,     0.47147,     0.47247,     0.47347,     0.47447,     0.47548,     0.47648,     0.47748,     0.47848,     0.47948,\n",
       "           0.48048,     0.48148,     0.48248,     0.48348,     0.48448,     0.48549,     0.48649,     0.48749,     0.48849,     0.48949,     0.49049,     0.49149,     0.49249,     0.49349,     0.49449,      0.4955,      0.4965,      0.4975,      0.4985,      0.4995,      0.5005,      0.5015,      0.5025,      0.5035,\n",
       "            0.5045,     0.50551,     0.50651,     0.50751,     0.50851,     0.50951,     0.51051,     0.51151,     0.51251,     0.51351,     0.51451,     0.51552,     0.51652,     0.51752,     0.51852,     0.51952,     0.52052,     0.52152,     0.52252,     0.52352,     0.52452,     0.52553,     0.52653,     0.52753,\n",
       "           0.52853,     0.52953,     0.53053,     0.53153,     0.53253,     0.53353,     0.53453,     0.53554,     0.53654,     0.53754,     0.53854,     0.53954,     0.54054,     0.54154,     0.54254,     0.54354,     0.54454,     0.54555,     0.54655,     0.54755,     0.54855,     0.54955,     0.55055,     0.55155,\n",
       "           0.55255,     0.55355,     0.55455,     0.55556,     0.55656,     0.55756,     0.55856,     0.55956,     0.56056,     0.56156,     0.56256,     0.56356,     0.56456,     0.56557,     0.56657,     0.56757,     0.56857,     0.56957,     0.57057,     0.57157,     0.57257,     0.57357,     0.57457,     0.57558,\n",
       "           0.57658,     0.57758,     0.57858,     0.57958,     0.58058,     0.58158,     0.58258,     0.58358,     0.58458,     0.58559,     0.58659,     0.58759,     0.58859,     0.58959,     0.59059,     0.59159,     0.59259,     0.59359,     0.59459,      0.5956,      0.5966,      0.5976,      0.5986,      0.5996,\n",
       "            0.6006,      0.6016,      0.6026,      0.6036,      0.6046,     0.60561,     0.60661,     0.60761,     0.60861,     0.60961,     0.61061,     0.61161,     0.61261,     0.61361,     0.61461,     0.61562,     0.61662,     0.61762,     0.61862,     0.61962,     0.62062,     0.62162,     0.62262,     0.62362,\n",
       "           0.62462,     0.62563,     0.62663,     0.62763,     0.62863,     0.62963,     0.63063,     0.63163,     0.63263,     0.63363,     0.63463,     0.63564,     0.63664,     0.63764,     0.63864,     0.63964,     0.64064,     0.64164,     0.64264,     0.64364,     0.64464,     0.64565,     0.64665,     0.64765,\n",
       "           0.64865,     0.64965,     0.65065,     0.65165,     0.65265,     0.65365,     0.65465,     0.65566,     0.65666,     0.65766,     0.65866,     0.65966,     0.66066,     0.66166,     0.66266,     0.66366,     0.66466,     0.66567,     0.66667,     0.66767,     0.66867,     0.66967,     0.67067,     0.67167,\n",
       "           0.67267,     0.67367,     0.67467,     0.67568,     0.67668,     0.67768,     0.67868,     0.67968,     0.68068,     0.68168,     0.68268,     0.68368,     0.68468,     0.68569,     0.68669,     0.68769,     0.68869,     0.68969,     0.69069,     0.69169,     0.69269,     0.69369,     0.69469,      0.6957,\n",
       "            0.6967,      0.6977,      0.6987,      0.6997,      0.7007,      0.7017,      0.7027,      0.7037,      0.7047,     0.70571,     0.70671,     0.70771,     0.70871,     0.70971,     0.71071,     0.71171,     0.71271,     0.71371,     0.71471,     0.71572,     0.71672,     0.71772,     0.71872,     0.71972,\n",
       "           0.72072,     0.72172,     0.72272,     0.72372,     0.72472,     0.72573,     0.72673,     0.72773,     0.72873,     0.72973,     0.73073,     0.73173,     0.73273,     0.73373,     0.73473,     0.73574,     0.73674,     0.73774,     0.73874,     0.73974,     0.74074,     0.74174,     0.74274,     0.74374,\n",
       "           0.74474,     0.74575,     0.74675,     0.74775,     0.74875,     0.74975,     0.75075,     0.75175,     0.75275,     0.75375,     0.75475,     0.75576,     0.75676,     0.75776,     0.75876,     0.75976,     0.76076,     0.76176,     0.76276,     0.76376,     0.76476,     0.76577,     0.76677,     0.76777,\n",
       "           0.76877,     0.76977,     0.77077,     0.77177,     0.77277,     0.77377,     0.77477,     0.77578,     0.77678,     0.77778,     0.77878,     0.77978,     0.78078,     0.78178,     0.78278,     0.78378,     0.78478,     0.78579,     0.78679,     0.78779,     0.78879,     0.78979,     0.79079,     0.79179,\n",
       "           0.79279,     0.79379,     0.79479,      0.7958,      0.7968,      0.7978,      0.7988,      0.7998,      0.8008,      0.8018,      0.8028,      0.8038,      0.8048,     0.80581,     0.80681,     0.80781,     0.80881,     0.80981,     0.81081,     0.81181,     0.81281,     0.81381,     0.81481,     0.81582,\n",
       "           0.81682,     0.81782,     0.81882,     0.81982,     0.82082,     0.82182,     0.82282,     0.82382,     0.82482,     0.82583,     0.82683,     0.82783,     0.82883,     0.82983,     0.83083,     0.83183,     0.83283,     0.83383,     0.83483,     0.83584,     0.83684,     0.83784,     0.83884,     0.83984,\n",
       "           0.84084,     0.84184,     0.84284,     0.84384,     0.84484,     0.84585,     0.84685,     0.84785,     0.84885,     0.84985,     0.85085,     0.85185,     0.85285,     0.85385,     0.85485,     0.85586,     0.85686,     0.85786,     0.85886,     0.85986,     0.86086,     0.86186,     0.86286,     0.86386,\n",
       "           0.86486,     0.86587,     0.86687,     0.86787,     0.86887,     0.86987,     0.87087,     0.87187,     0.87287,     0.87387,     0.87487,     0.87588,     0.87688,     0.87788,     0.87888,     0.87988,     0.88088,     0.88188,     0.88288,     0.88388,     0.88488,     0.88589,     0.88689,     0.88789,\n",
       "           0.88889,     0.88989,     0.89089,     0.89189,     0.89289,     0.89389,     0.89489,      0.8959,      0.8969,      0.8979,      0.8989,      0.8999,      0.9009,      0.9019,      0.9029,      0.9039,      0.9049,     0.90591,     0.90691,     0.90791,     0.90891,     0.90991,     0.91091,     0.91191,\n",
       "           0.91291,     0.91391,     0.91491,     0.91592,     0.91692,     0.91792,     0.91892,     0.91992,     0.92092,     0.92192,     0.92292,     0.92392,     0.92492,     0.92593,     0.92693,     0.92793,     0.92893,     0.92993,     0.93093,     0.93193,     0.93293,     0.93393,     0.93493,     0.93594,\n",
       "           0.93694,     0.93794,     0.93894,     0.93994,     0.94094,     0.94194,     0.94294,     0.94394,     0.94494,     0.94595,     0.94695,     0.94795,     0.94895,     0.94995,     0.95095,     0.95195,     0.95295,     0.95395,     0.95495,     0.95596,     0.95696,     0.95796,     0.95896,     0.95996,\n",
       "           0.96096,     0.96196,     0.96296,     0.96396,     0.96496,     0.96597,     0.96697,     0.96797,     0.96897,     0.96997,     0.97097,     0.97197,     0.97297,     0.97397,     0.97497,     0.97598,     0.97698,     0.97798,     0.97898,     0.97998,     0.98098,     0.98198,     0.98298,     0.98398,\n",
       "           0.98498,     0.98599,     0.98699,     0.98799,     0.98899,     0.98999,     0.99099,     0.99199,     0.99299,     0.99399,     0.99499,       0.996,       0.997,       0.998,       0.999,           1]), array([[    0.89655,     0.89655,     0.89655,     0.89655,     0.89655,     0.89655,     0.89655,     0.89655,     0.89655,     0.89655,     0.89655,     0.89655,     0.89655,     0.89655,     0.89655,     0.89655,     0.89655,     0.89655,     0.89655,     0.89655,     0.89655,     0.89655,     0.89655,\n",
       "            0.89655,     0.89655,     0.89655,     0.89655,     0.89655,     0.89655,     0.89655,     0.89655,     0.89655,     0.89655,     0.89655,     0.89655,     0.89655,     0.89655,     0.89655,     0.89655,     0.89655,     0.89655,     0.89655,     0.89655,     0.89655,     0.89655,     0.89655,\n",
       "            0.89655,     0.89655,     0.89655,     0.89655,     0.89655,     0.89655,     0.89655,     0.89655,     0.89655,     0.89655,     0.89655,     0.89655,     0.89655,     0.89655,     0.89655,     0.89655,     0.89655,     0.89655,     0.89655,     0.89655,     0.89655,     0.89655,     0.89655,\n",
       "            0.89655,     0.89655,     0.89655,     0.89655,     0.89655,     0.89655,     0.89655,     0.89655,     0.89655,     0.89655,     0.89655,     0.89655,     0.89655,     0.89655,     0.89655,     0.89655,     0.89655,     0.89655,     0.89655,     0.89655,     0.89655,     0.89655,     0.89655,\n",
       "            0.89655,     0.89655,     0.89655,     0.89655,     0.89655,     0.89655,     0.89655,     0.89655,     0.89655,     0.89655,     0.89655,     0.89655,     0.89655,     0.89655,     0.89655,     0.89655,     0.89655,     0.89655,     0.89655,     0.89655,     0.89655,     0.89655,     0.89655,\n",
       "            0.89655,     0.89655,     0.89655,     0.89655,     0.89655,     0.89655,     0.89655,     0.89655,     0.89655,     0.89655,     0.89655,     0.89655,     0.89655,     0.89655,     0.89655,     0.89655,     0.89655,     0.89655,     0.89655,     0.89655,     0.89655,     0.89655,     0.89655,\n",
       "            0.89655,     0.89655,     0.89655,     0.89655,     0.89655,     0.89655,     0.89655,     0.89655,     0.89655,     0.89655,     0.89655,     0.89655,     0.89655,     0.89655,     0.89655,     0.89655,     0.89655,     0.89655,     0.89655,     0.89655,     0.89655,     0.89655,     0.89655,\n",
       "            0.89655,     0.89655,     0.89655,     0.89655,     0.89655,     0.89655,     0.89655,     0.89655,     0.89655,     0.89655,     0.89655,     0.89655,     0.89655,     0.89655,     0.89655,     0.89655,     0.89655,     0.89655,     0.89655,     0.89655,     0.89655,     0.89655,     0.89655,\n",
       "            0.89655,     0.89655,     0.89655,     0.89655,     0.89655,     0.89655,     0.89655,     0.89655,     0.89655,     0.89655,     0.89655,     0.89655,     0.89655,     0.89655,     0.89655,     0.89655,     0.89655,     0.89655,     0.89655,     0.89655,     0.89655,     0.89655,     0.89655,\n",
       "            0.89655,     0.89655,     0.89655,     0.89655,     0.89655,     0.89655,     0.89655,     0.89655,     0.89655,     0.89655,     0.89655,     0.89655,     0.89655,     0.89655,     0.89655,     0.89655,     0.89655,     0.89655,     0.89655,     0.89655,     0.89655,     0.89655,     0.89655,\n",
       "            0.89655,     0.89655,     0.89655,     0.89655,     0.89655,     0.89655,     0.89655,     0.89655,     0.89655,     0.89655,     0.89655,     0.89655,     0.89655,     0.89655,     0.89655,     0.89655,     0.89655,     0.89655,     0.89655,     0.89655,     0.89655,     0.89655,     0.89655,\n",
       "            0.89655,     0.89655,     0.89655,     0.89655,     0.89655,     0.89655,     0.89655,     0.89655,     0.89655,     0.89655,     0.89655,     0.89655,     0.89655,     0.89655,     0.89655,     0.89655,     0.89655,     0.89655,     0.89655,     0.89655,     0.89655,     0.89655,     0.89655,\n",
       "            0.89655,     0.89655,     0.89647,     0.89639,     0.89632,     0.89624,     0.89617,     0.89609,     0.89602,     0.89594,     0.89586,     0.89579,     0.89571,     0.89567,     0.89578,      0.8959,     0.89601,     0.89612,     0.89623,     0.89634,     0.89645,     0.89656,     0.89667,\n",
       "            0.89679,      0.8969,     0.89701,     0.89712,     0.89723,     0.89734,     0.89745,     0.89756,     0.89768,     0.89779,      0.8979,     0.89801,     0.89812,     0.89823,     0.89834,     0.89845,     0.89857,     0.89868,     0.89879,      0.8989,     0.89901,     0.89912,     0.89923,\n",
       "            0.89934,     0.89946,     0.89957,     0.89968,     0.89979,      0.8999,     0.90001,     0.90012,     0.90023,     0.90034,     0.90046,     0.90057,     0.90068,     0.90079,      0.9009,     0.90101,     0.90112,     0.90123,     0.90135,     0.90146,     0.90157,     0.90168,     0.90179,\n",
       "             0.9019,     0.90201,     0.90212,     0.90224,     0.90235,     0.90246,     0.90257,     0.90268,     0.90279,      0.9029,     0.90301,     0.90313,     0.90324,     0.90335,     0.90346,     0.90339,     0.90318,     0.90297,     0.90276,     0.90283,     0.90315,     0.90348,     0.90381,\n",
       "            0.90414,     0.90447,     0.90479,     0.90512,     0.90545,     0.90578,      0.9061,     0.90643,     0.90676,     0.90709,     0.90742,     0.90774,     0.90807,      0.9084,     0.90873,     0.90905,     0.90938,     0.90971,     0.91004,     0.91037,     0.91069,      0.9107,     0.91068,\n",
       "            0.91067,     0.91065,     0.91064,     0.91062,     0.91061,     0.91059,     0.91058,     0.91056,     0.91055,     0.91053,     0.91052,      0.9105,     0.91049,     0.91047,     0.91045,     0.91044,     0.91042,     0.91041,     0.91039,     0.91038,     0.91036,     0.91035,     0.91033,\n",
       "            0.91032,      0.9103,     0.91029,     0.91027,     0.91025,     0.91024,     0.91022,     0.91021,     0.91019,     0.91018,     0.91016,     0.91015,     0.91013,     0.91012,      0.9101,     0.91009,     0.91007,     0.91006,     0.91004,     0.91002,     0.91001,     0.90999,     0.90998,\n",
       "            0.90996,     0.90995,     0.90993,     0.90992,     0.91082,     0.91254,     0.91427,       0.916,     0.91772,     0.91813,     0.91805,     0.91798,      0.9179,     0.91783,     0.91775,     0.91768,      0.9176,     0.91752,     0.91745,     0.92567,     0.92523,     0.92515,     0.92507,\n",
       "            0.92499,     0.92492,     0.92484,     0.92476,     0.92468,      0.9246,     0.92453,     0.92449,     0.92444,      0.9244,     0.92436,     0.92432,     0.92428,     0.92424,     0.92419,     0.92415,     0.92411,     0.92407,     0.92403,     0.92399,     0.92394,      0.9239,     0.92386,\n",
       "            0.92382,     0.92408,     0.92443,     0.92478,     0.92512,     0.92547,     0.92582,     0.92617,     0.92652,     0.92687,     0.92722,     0.92756,     0.92791,     0.92826,     0.92861,     0.92896,     0.92931,     0.92966,        0.93,     0.93035,      0.9307,     0.93105,      0.9314,\n",
       "            0.93175,      0.9321,     0.93244,     0.93303,     0.93419,     0.93535,     0.93652,     0.93768,     0.93885,     0.94001,     0.94117,     0.94197,      0.9424,     0.94283,     0.94326,     0.94369,     0.94412,     0.94456,     0.94499,     0.94542,     0.94585,     0.94628,     0.94671,\n",
       "            0.94714,     0.94757,     0.94801,     0.94844,     0.94887,      0.9493,     0.94973,     0.95016,     0.95059,     0.95098,     0.95097,     0.95095,     0.95094,     0.95093,     0.95092,     0.95091,     0.95089,     0.95088,     0.95087,     0.95086,     0.95084,     0.95083,     0.95082,\n",
       "            0.95081,      0.9508,     0.95078,     0.95077,     0.95076,     0.95075,     0.95073,     0.95072,     0.95071,      0.9507,     0.95068,     0.95067,     0.95066,     0.95065,     0.95064,     0.95062,     0.95061,      0.9506,     0.95059,     0.95057,     0.95056,     0.95055,     0.95054,\n",
       "            0.95053,     0.95051,      0.9505,     0.95046,     0.95038,     0.95031,     0.95023,     0.95016,     0.95009,     0.95001,     0.94997,     0.94993,     0.94989,     0.94986,     0.94982,     0.94978,     0.94974,     0.94971,     0.94967,     0.94963,     0.94959,     0.94956,     0.94952,\n",
       "            0.94945,     0.94934,     0.94922,      0.9491,     0.94899,     0.94897,     0.94895,     0.94893,     0.94892,      0.9489,     0.94889,     0.94887,     0.94886,     0.94884,     0.94883,     0.94881,      0.9488,     0.94878,     0.94876,     0.94875,     0.94873,     0.94872,      0.9487,\n",
       "            0.94869,     0.94867,     0.94866,     0.94864,     0.94863,     0.94861,     0.94859,     0.94858,     0.94856,     0.94855,     0.94853,     0.94852,      0.9485,     0.94849,     0.94847,     0.94846,     0.95054,     0.95288,     0.95522,     0.95755,     0.95823,     0.95809,     0.95794,\n",
       "            0.95789,     0.95788,     0.95788,     0.95787,     0.95787,     0.95786,     0.95785,     0.95785,     0.95784,     0.95783,     0.95783,     0.95782,     0.95782,     0.95781,      0.9578,      0.9578,     0.95779,     0.95778,     0.95778,     0.95777,     0.95777,     0.95776,     0.95775,\n",
       "            0.95775,     0.95774,     0.95773,     0.95773,     0.95772,     0.95772,     0.95771,      0.9577,      0.9577,     0.95769,     0.95768,     0.95768,     0.95767,     0.95767,     0.95766,     0.95765,     0.95765,     0.95764,     0.95763,     0.95763,     0.95762,     0.95762,     0.95761,\n",
       "             0.9576,      0.9576,     0.95759,     0.95758,     0.95758,     0.95757,     0.95757,     0.95756,     0.95755,     0.95755,     0.95754,     0.95754,     0.95753,     0.95752,     0.95752,     0.95751,      0.9575,      0.9575,     0.95749,     0.95749,     0.95748,     0.95747,     0.95747,\n",
       "            0.95746,     0.95745,     0.95745,     0.95796,     0.95856,     0.95917,     0.95977,     0.96038,     0.96098,     0.96158,     0.96219,     0.96279,     0.96339,       0.964,      0.9646,      0.9652,     0.96581,     0.96641,     0.96702,     0.96762,     0.96761,     0.96744,     0.96856,\n",
       "            0.97117,     0.97379,     0.97641,     0.97777,     0.97776,     0.97774,     0.97772,     0.97771,     0.97769,     0.97768,     0.97766,     0.97765,     0.97763,     0.97762,      0.9776,     0.97759,     0.97757,     0.97756,     0.97754,     0.97751,     0.97745,     0.97739,     0.97732,\n",
       "            0.98031,      0.9898,     0.99235,      0.9949,     0.99744,     0.99999,           1,           1,           1,           1,           1,           1,           1,           1,           1,           1,           1,           1,           1,           1,           1,           1,           1,\n",
       "                  1,           1,           1,           1,           1,           1,           1,           1,           1,           1,           1,           1,           1,           1,           1,           1,           1,           1,           1,           1,           1,           1,           1,\n",
       "                  1,           1,           1,           1,           1,           1,           1,           1,           1,           1,           1,           1,           1,           1,           1,           1,           1,           1,           1,           1,           1,           1,           1,\n",
       "                  1,           1,           1,           1,           1,           1,           1,           1,           1,           1,           1,           1,           1,           1,           1,           1,           1,           1,           1,           1,           1,           1,           1,\n",
       "                  1,           1,           1,           1,           1,           1,           1,           1,           1,           1,           1,           1,           1,           1,           1,           1,           1,           1,           1,           1,           1,           1,           1,\n",
       "                  1,           1,           1,           1,           1,           1,           1,           1,           1,           1,           1,           1,           1,           1,           1,           1,           1,           1,           1,           1,           1,           1,           1,\n",
       "                  1,           1,           1,           1,           1,           1,           1,           1,           1,           1,           1,           1,           1,           1,           1,           1,           1,           1,           1,           1,           1,           1,           1,\n",
       "                  1,           1,           1,           1,           1,           1,           1,           1,           1,           1,           1,           1,           1,           1,           1,           1,           1,           1,           1,           1,           1,           1,           1,\n",
       "                  1,           1,           1,           1,           1,           1,           1,           1,           1,           1,           1,           1,           1,           1,           1,           1,           1,           1,           1,           1,           1,           1,           1,\n",
       "                  1,           1,           1,           1,           1,           1,           1,           1,           1,           1,           1,           1,           1,           1,           1,           1,           1,           1,           1,           1,           1,           1,           1,\n",
       "                  1,           1,           1,           1,           1,           1,           1,           1,           1,           1,           1]]), 'Confidence', 'Precision'], [array([          0,    0.001001,    0.002002,    0.003003,    0.004004,    0.005005,    0.006006,    0.007007,    0.008008,    0.009009,     0.01001,    0.011011,    0.012012,    0.013013,    0.014014,    0.015015,    0.016016,    0.017017,    0.018018,    0.019019,     0.02002,    0.021021,    0.022022,    0.023023,\n",
       "          0.024024,    0.025025,    0.026026,    0.027027,    0.028028,    0.029029,     0.03003,    0.031031,    0.032032,    0.033033,    0.034034,    0.035035,    0.036036,    0.037037,    0.038038,    0.039039,     0.04004,    0.041041,    0.042042,    0.043043,    0.044044,    0.045045,    0.046046,    0.047047,\n",
       "          0.048048,    0.049049,     0.05005,    0.051051,    0.052052,    0.053053,    0.054054,    0.055055,    0.056056,    0.057057,    0.058058,    0.059059,     0.06006,    0.061061,    0.062062,    0.063063,    0.064064,    0.065065,    0.066066,    0.067067,    0.068068,    0.069069,     0.07007,    0.071071,\n",
       "          0.072072,    0.073073,    0.074074,    0.075075,    0.076076,    0.077077,    0.078078,    0.079079,     0.08008,    0.081081,    0.082082,    0.083083,    0.084084,    0.085085,    0.086086,    0.087087,    0.088088,    0.089089,     0.09009,    0.091091,    0.092092,    0.093093,    0.094094,    0.095095,\n",
       "          0.096096,    0.097097,    0.098098,    0.099099,      0.1001,      0.1011,      0.1021,      0.1031,      0.1041,     0.10511,     0.10611,     0.10711,     0.10811,     0.10911,     0.11011,     0.11111,     0.11211,     0.11311,     0.11411,     0.11512,     0.11612,     0.11712,     0.11812,     0.11912,\n",
       "           0.12012,     0.12112,     0.12212,     0.12312,     0.12412,     0.12513,     0.12613,     0.12713,     0.12813,     0.12913,     0.13013,     0.13113,     0.13213,     0.13313,     0.13413,     0.13514,     0.13614,     0.13714,     0.13814,     0.13914,     0.14014,     0.14114,     0.14214,     0.14314,\n",
       "           0.14414,     0.14515,     0.14615,     0.14715,     0.14815,     0.14915,     0.15015,     0.15115,     0.15215,     0.15315,     0.15415,     0.15516,     0.15616,     0.15716,     0.15816,     0.15916,     0.16016,     0.16116,     0.16216,     0.16316,     0.16416,     0.16517,     0.16617,     0.16717,\n",
       "           0.16817,     0.16917,     0.17017,     0.17117,     0.17217,     0.17317,     0.17417,     0.17518,     0.17618,     0.17718,     0.17818,     0.17918,     0.18018,     0.18118,     0.18218,     0.18318,     0.18418,     0.18519,     0.18619,     0.18719,     0.18819,     0.18919,     0.19019,     0.19119,\n",
       "           0.19219,     0.19319,     0.19419,      0.1952,      0.1962,      0.1972,      0.1982,      0.1992,      0.2002,      0.2012,      0.2022,      0.2032,      0.2042,     0.20521,     0.20621,     0.20721,     0.20821,     0.20921,     0.21021,     0.21121,     0.21221,     0.21321,     0.21421,     0.21522,\n",
       "           0.21622,     0.21722,     0.21822,     0.21922,     0.22022,     0.22122,     0.22222,     0.22322,     0.22422,     0.22523,     0.22623,     0.22723,     0.22823,     0.22923,     0.23023,     0.23123,     0.23223,     0.23323,     0.23423,     0.23524,     0.23624,     0.23724,     0.23824,     0.23924,\n",
       "           0.24024,     0.24124,     0.24224,     0.24324,     0.24424,     0.24525,     0.24625,     0.24725,     0.24825,     0.24925,     0.25025,     0.25125,     0.25225,     0.25325,     0.25425,     0.25526,     0.25626,     0.25726,     0.25826,     0.25926,     0.26026,     0.26126,     0.26226,     0.26326,\n",
       "           0.26426,     0.26527,     0.26627,     0.26727,     0.26827,     0.26927,     0.27027,     0.27127,     0.27227,     0.27327,     0.27427,     0.27528,     0.27628,     0.27728,     0.27828,     0.27928,     0.28028,     0.28128,     0.28228,     0.28328,     0.28428,     0.28529,     0.28629,     0.28729,\n",
       "           0.28829,     0.28929,     0.29029,     0.29129,     0.29229,     0.29329,     0.29429,      0.2953,      0.2963,      0.2973,      0.2983,      0.2993,      0.3003,      0.3013,      0.3023,      0.3033,      0.3043,     0.30531,     0.30631,     0.30731,     0.30831,     0.30931,     0.31031,     0.31131,\n",
       "           0.31231,     0.31331,     0.31431,     0.31532,     0.31632,     0.31732,     0.31832,     0.31932,     0.32032,     0.32132,     0.32232,     0.32332,     0.32432,     0.32533,     0.32633,     0.32733,     0.32833,     0.32933,     0.33033,     0.33133,     0.33233,     0.33333,     0.33433,     0.33534,\n",
       "           0.33634,     0.33734,     0.33834,     0.33934,     0.34034,     0.34134,     0.34234,     0.34334,     0.34434,     0.34535,     0.34635,     0.34735,     0.34835,     0.34935,     0.35035,     0.35135,     0.35235,     0.35335,     0.35435,     0.35536,     0.35636,     0.35736,     0.35836,     0.35936,\n",
       "           0.36036,     0.36136,     0.36236,     0.36336,     0.36436,     0.36537,     0.36637,     0.36737,     0.36837,     0.36937,     0.37037,     0.37137,     0.37237,     0.37337,     0.37437,     0.37538,     0.37638,     0.37738,     0.37838,     0.37938,     0.38038,     0.38138,     0.38238,     0.38338,\n",
       "           0.38438,     0.38539,     0.38639,     0.38739,     0.38839,     0.38939,     0.39039,     0.39139,     0.39239,     0.39339,     0.39439,      0.3954,      0.3964,      0.3974,      0.3984,      0.3994,      0.4004,      0.4014,      0.4024,      0.4034,      0.4044,     0.40541,     0.40641,     0.40741,\n",
       "           0.40841,     0.40941,     0.41041,     0.41141,     0.41241,     0.41341,     0.41441,     0.41542,     0.41642,     0.41742,     0.41842,     0.41942,     0.42042,     0.42142,     0.42242,     0.42342,     0.42442,     0.42543,     0.42643,     0.42743,     0.42843,     0.42943,     0.43043,     0.43143,\n",
       "           0.43243,     0.43343,     0.43443,     0.43544,     0.43644,     0.43744,     0.43844,     0.43944,     0.44044,     0.44144,     0.44244,     0.44344,     0.44444,     0.44545,     0.44645,     0.44745,     0.44845,     0.44945,     0.45045,     0.45145,     0.45245,     0.45345,     0.45445,     0.45546,\n",
       "           0.45646,     0.45746,     0.45846,     0.45946,     0.46046,     0.46146,     0.46246,     0.46346,     0.46446,     0.46547,     0.46647,     0.46747,     0.46847,     0.46947,     0.47047,     0.47147,     0.47247,     0.47347,     0.47447,     0.47548,     0.47648,     0.47748,     0.47848,     0.47948,\n",
       "           0.48048,     0.48148,     0.48248,     0.48348,     0.48448,     0.48549,     0.48649,     0.48749,     0.48849,     0.48949,     0.49049,     0.49149,     0.49249,     0.49349,     0.49449,      0.4955,      0.4965,      0.4975,      0.4985,      0.4995,      0.5005,      0.5015,      0.5025,      0.5035,\n",
       "            0.5045,     0.50551,     0.50651,     0.50751,     0.50851,     0.50951,     0.51051,     0.51151,     0.51251,     0.51351,     0.51451,     0.51552,     0.51652,     0.51752,     0.51852,     0.51952,     0.52052,     0.52152,     0.52252,     0.52352,     0.52452,     0.52553,     0.52653,     0.52753,\n",
       "           0.52853,     0.52953,     0.53053,     0.53153,     0.53253,     0.53353,     0.53453,     0.53554,     0.53654,     0.53754,     0.53854,     0.53954,     0.54054,     0.54154,     0.54254,     0.54354,     0.54454,     0.54555,     0.54655,     0.54755,     0.54855,     0.54955,     0.55055,     0.55155,\n",
       "           0.55255,     0.55355,     0.55455,     0.55556,     0.55656,     0.55756,     0.55856,     0.55956,     0.56056,     0.56156,     0.56256,     0.56356,     0.56456,     0.56557,     0.56657,     0.56757,     0.56857,     0.56957,     0.57057,     0.57157,     0.57257,     0.57357,     0.57457,     0.57558,\n",
       "           0.57658,     0.57758,     0.57858,     0.57958,     0.58058,     0.58158,     0.58258,     0.58358,     0.58458,     0.58559,     0.58659,     0.58759,     0.58859,     0.58959,     0.59059,     0.59159,     0.59259,     0.59359,     0.59459,      0.5956,      0.5966,      0.5976,      0.5986,      0.5996,\n",
       "            0.6006,      0.6016,      0.6026,      0.6036,      0.6046,     0.60561,     0.60661,     0.60761,     0.60861,     0.60961,     0.61061,     0.61161,     0.61261,     0.61361,     0.61461,     0.61562,     0.61662,     0.61762,     0.61862,     0.61962,     0.62062,     0.62162,     0.62262,     0.62362,\n",
       "           0.62462,     0.62563,     0.62663,     0.62763,     0.62863,     0.62963,     0.63063,     0.63163,     0.63263,     0.63363,     0.63463,     0.63564,     0.63664,     0.63764,     0.63864,     0.63964,     0.64064,     0.64164,     0.64264,     0.64364,     0.64464,     0.64565,     0.64665,     0.64765,\n",
       "           0.64865,     0.64965,     0.65065,     0.65165,     0.65265,     0.65365,     0.65465,     0.65566,     0.65666,     0.65766,     0.65866,     0.65966,     0.66066,     0.66166,     0.66266,     0.66366,     0.66466,     0.66567,     0.66667,     0.66767,     0.66867,     0.66967,     0.67067,     0.67167,\n",
       "           0.67267,     0.67367,     0.67467,     0.67568,     0.67668,     0.67768,     0.67868,     0.67968,     0.68068,     0.68168,     0.68268,     0.68368,     0.68468,     0.68569,     0.68669,     0.68769,     0.68869,     0.68969,     0.69069,     0.69169,     0.69269,     0.69369,     0.69469,      0.6957,\n",
       "            0.6967,      0.6977,      0.6987,      0.6997,      0.7007,      0.7017,      0.7027,      0.7037,      0.7047,     0.70571,     0.70671,     0.70771,     0.70871,     0.70971,     0.71071,     0.71171,     0.71271,     0.71371,     0.71471,     0.71572,     0.71672,     0.71772,     0.71872,     0.71972,\n",
       "           0.72072,     0.72172,     0.72272,     0.72372,     0.72472,     0.72573,     0.72673,     0.72773,     0.72873,     0.72973,     0.73073,     0.73173,     0.73273,     0.73373,     0.73473,     0.73574,     0.73674,     0.73774,     0.73874,     0.73974,     0.74074,     0.74174,     0.74274,     0.74374,\n",
       "           0.74474,     0.74575,     0.74675,     0.74775,     0.74875,     0.74975,     0.75075,     0.75175,     0.75275,     0.75375,     0.75475,     0.75576,     0.75676,     0.75776,     0.75876,     0.75976,     0.76076,     0.76176,     0.76276,     0.76376,     0.76476,     0.76577,     0.76677,     0.76777,\n",
       "           0.76877,     0.76977,     0.77077,     0.77177,     0.77277,     0.77377,     0.77477,     0.77578,     0.77678,     0.77778,     0.77878,     0.77978,     0.78078,     0.78178,     0.78278,     0.78378,     0.78478,     0.78579,     0.78679,     0.78779,     0.78879,     0.78979,     0.79079,     0.79179,\n",
       "           0.79279,     0.79379,     0.79479,      0.7958,      0.7968,      0.7978,      0.7988,      0.7998,      0.8008,      0.8018,      0.8028,      0.8038,      0.8048,     0.80581,     0.80681,     0.80781,     0.80881,     0.80981,     0.81081,     0.81181,     0.81281,     0.81381,     0.81481,     0.81582,\n",
       "           0.81682,     0.81782,     0.81882,     0.81982,     0.82082,     0.82182,     0.82282,     0.82382,     0.82482,     0.82583,     0.82683,     0.82783,     0.82883,     0.82983,     0.83083,     0.83183,     0.83283,     0.83383,     0.83483,     0.83584,     0.83684,     0.83784,     0.83884,     0.83984,\n",
       "           0.84084,     0.84184,     0.84284,     0.84384,     0.84484,     0.84585,     0.84685,     0.84785,     0.84885,     0.84985,     0.85085,     0.85185,     0.85285,     0.85385,     0.85485,     0.85586,     0.85686,     0.85786,     0.85886,     0.85986,     0.86086,     0.86186,     0.86286,     0.86386,\n",
       "           0.86486,     0.86587,     0.86687,     0.86787,     0.86887,     0.86987,     0.87087,     0.87187,     0.87287,     0.87387,     0.87487,     0.87588,     0.87688,     0.87788,     0.87888,     0.87988,     0.88088,     0.88188,     0.88288,     0.88388,     0.88488,     0.88589,     0.88689,     0.88789,\n",
       "           0.88889,     0.88989,     0.89089,     0.89189,     0.89289,     0.89389,     0.89489,      0.8959,      0.8969,      0.8979,      0.8989,      0.8999,      0.9009,      0.9019,      0.9029,      0.9039,      0.9049,     0.90591,     0.90691,     0.90791,     0.90891,     0.90991,     0.91091,     0.91191,\n",
       "           0.91291,     0.91391,     0.91491,     0.91592,     0.91692,     0.91792,     0.91892,     0.91992,     0.92092,     0.92192,     0.92292,     0.92392,     0.92492,     0.92593,     0.92693,     0.92793,     0.92893,     0.92993,     0.93093,     0.93193,     0.93293,     0.93393,     0.93493,     0.93594,\n",
       "           0.93694,     0.93794,     0.93894,     0.93994,     0.94094,     0.94194,     0.94294,     0.94394,     0.94494,     0.94595,     0.94695,     0.94795,     0.94895,     0.94995,     0.95095,     0.95195,     0.95295,     0.95395,     0.95495,     0.95596,     0.95696,     0.95796,     0.95896,     0.95996,\n",
       "           0.96096,     0.96196,     0.96296,     0.96396,     0.96496,     0.96597,     0.96697,     0.96797,     0.96897,     0.96997,     0.97097,     0.97197,     0.97297,     0.97397,     0.97497,     0.97598,     0.97698,     0.97798,     0.97898,     0.97998,     0.98098,     0.98198,     0.98298,     0.98398,\n",
       "           0.98498,     0.98599,     0.98699,     0.98799,     0.98899,     0.98999,     0.99099,     0.99199,     0.99299,     0.99399,     0.99499,       0.996,       0.997,       0.998,       0.999,           1]), array([[    0.91228,     0.91228,     0.91228,     0.91228,     0.91228,     0.91228,     0.91228,     0.91228,     0.91228,     0.91228,     0.91228,     0.91228,     0.91228,     0.91228,     0.91228,     0.91228,     0.91228,     0.91228,     0.91228,     0.91228,     0.91228,     0.91228,     0.91228,\n",
       "            0.91228,     0.91228,     0.91228,     0.91228,     0.91228,     0.91228,     0.91228,     0.91228,     0.91228,     0.91228,     0.91228,     0.91228,     0.91228,     0.91228,     0.91228,     0.91228,     0.91228,     0.91228,     0.91228,     0.91228,     0.91228,     0.91228,     0.91228,\n",
       "            0.91228,     0.91228,     0.91228,     0.91228,     0.91228,     0.91228,     0.91228,     0.91228,     0.91228,     0.91228,     0.91228,     0.91228,     0.91228,     0.91228,     0.91228,     0.91228,     0.91228,     0.91228,     0.91228,     0.91228,     0.91228,     0.91228,     0.91228,\n",
       "            0.91228,     0.91228,     0.91228,     0.91228,     0.91228,     0.91228,     0.91228,     0.91228,     0.91228,     0.91228,     0.91228,     0.91228,     0.91228,     0.91228,     0.91228,     0.91228,     0.91228,     0.91228,     0.91228,     0.91228,     0.91228,     0.91228,     0.91228,\n",
       "            0.91228,     0.91228,     0.91228,     0.91228,     0.91228,     0.91228,     0.91228,     0.91228,     0.91228,     0.91228,     0.91228,     0.91228,     0.91228,     0.91228,     0.91228,     0.91228,     0.91228,     0.91228,     0.91228,     0.91228,     0.91228,     0.91228,     0.91228,\n",
       "            0.91228,     0.91228,     0.91228,     0.91228,     0.91228,     0.91228,     0.91228,     0.91228,     0.91228,     0.91228,     0.91228,     0.91228,     0.91228,     0.91228,     0.91228,     0.91228,     0.91228,     0.91228,     0.91228,     0.91228,     0.91228,     0.91228,     0.91228,\n",
       "            0.91228,     0.91228,     0.91228,     0.91228,     0.91228,     0.91228,     0.91228,     0.91228,     0.91228,     0.91228,     0.91228,     0.91228,     0.91228,     0.91228,     0.91228,     0.91228,     0.91228,     0.91228,     0.91228,     0.91228,     0.91228,     0.91228,     0.91228,\n",
       "            0.91228,     0.91228,     0.91228,     0.91228,     0.91228,     0.91228,     0.91228,     0.91228,     0.91228,     0.91228,     0.91228,     0.91228,     0.91228,     0.91228,     0.91228,     0.91228,     0.91228,     0.91228,     0.91228,     0.91228,     0.91228,     0.91228,     0.91228,\n",
       "            0.91228,     0.91228,     0.91228,     0.91228,     0.91228,     0.91228,     0.91228,     0.91228,     0.91228,     0.91228,     0.91228,     0.91228,     0.91228,     0.91228,     0.91228,     0.91228,     0.91228,     0.91228,     0.91228,     0.91228,     0.91228,     0.91228,     0.91228,\n",
       "            0.91228,     0.91228,     0.91228,     0.91228,     0.91228,     0.91228,     0.91228,     0.91228,     0.91228,     0.91228,     0.91228,     0.91228,     0.91228,     0.91228,     0.91228,     0.91228,     0.91228,     0.91228,     0.91228,     0.91228,     0.91228,     0.91228,     0.91228,\n",
       "            0.91228,     0.91228,     0.91228,     0.91228,     0.91228,     0.91228,     0.91228,     0.91228,     0.91228,     0.91228,     0.91228,     0.91228,     0.91228,     0.91228,     0.91228,     0.91228,     0.91228,     0.91228,     0.91228,     0.91228,     0.91228,     0.91228,     0.91228,\n",
       "            0.91228,     0.91228,     0.91228,     0.91228,     0.91228,     0.91228,     0.91228,     0.91228,     0.91228,     0.91228,     0.91228,     0.91228,     0.91228,     0.91228,     0.91228,     0.91228,     0.91228,     0.91228,     0.91228,     0.91228,     0.91228,     0.91228,     0.91228,\n",
       "            0.91228,     0.91223,     0.91149,     0.91075,     0.91001,     0.90927,     0.90854,      0.9078,     0.90706,     0.90632,     0.90558,     0.90484,     0.90411,     0.90351,     0.90351,     0.90351,     0.90351,     0.90351,     0.90351,     0.90351,     0.90351,     0.90351,     0.90351,\n",
       "            0.90351,     0.90351,     0.90351,     0.90351,     0.90351,     0.90351,     0.90351,     0.90351,     0.90351,     0.90351,     0.90351,     0.90351,     0.90351,     0.90351,     0.90351,     0.90351,     0.90351,     0.90351,     0.90351,     0.90351,     0.90351,     0.90351,     0.90351,\n",
       "            0.90351,     0.90351,     0.90351,     0.90351,     0.90351,     0.90351,     0.90351,     0.90351,     0.90351,     0.90351,     0.90351,     0.90351,     0.90351,     0.90351,     0.90351,     0.90351,     0.90351,     0.90351,     0.90351,     0.90351,     0.90351,     0.90351,     0.90351,\n",
       "            0.90351,     0.90351,     0.90351,     0.90351,     0.90351,     0.90351,     0.90351,     0.90351,     0.90351,     0.90351,     0.90351,     0.90351,     0.90351,     0.90351,     0.90351,      0.9023,     0.90013,     0.89795,     0.89578,     0.89474,     0.89474,     0.89474,     0.89474,\n",
       "            0.89474,     0.89474,     0.89474,     0.89474,     0.89474,     0.89474,     0.89474,     0.89474,     0.89474,     0.89474,     0.89474,     0.89474,     0.89474,     0.89474,     0.89474,     0.89474,     0.89474,     0.89474,     0.89474,     0.89474,     0.89474,     0.89458,     0.89441,\n",
       "            0.89425,     0.89408,     0.89391,     0.89374,     0.89358,     0.89341,     0.89324,     0.89307,     0.89291,     0.89274,     0.89257,      0.8924,     0.89224,     0.89207,      0.8919,     0.89173,     0.89157,      0.8914,     0.89123,     0.89107,      0.8909,     0.89073,     0.89056,\n",
       "             0.8904,     0.89023,     0.89006,     0.88989,     0.88973,     0.88956,     0.88939,     0.88922,     0.88906,     0.88889,     0.88872,     0.88855,     0.88839,     0.88822,     0.88805,     0.88789,     0.88772,     0.88755,     0.88738,     0.88722,     0.88705,     0.88688,     0.88671,\n",
       "            0.88655,     0.88638,     0.88621,     0.88604,     0.88596,     0.88596,     0.88596,     0.88596,     0.88596,     0.88532,     0.88444,     0.88356,     0.88268,      0.8818,     0.88093,     0.88005,     0.87917,     0.87829,     0.87741,     0.87392,     0.86833,     0.86736,     0.86639,\n",
       "            0.86543,     0.86446,     0.86349,     0.86253,     0.86156,     0.86059,     0.85964,     0.85913,     0.85862,     0.85811,      0.8576,      0.8571,     0.85659,     0.85608,     0.85557,     0.85506,     0.85455,     0.85404,     0.85354,     0.85303,     0.85252,     0.85201,      0.8515,\n",
       "            0.85099,     0.85088,     0.85088,     0.85088,     0.85088,     0.85088,     0.85088,     0.85088,     0.85088,     0.85088,     0.85088,     0.85088,     0.85088,     0.85088,     0.85088,     0.85088,     0.85088,     0.85088,     0.85088,     0.85088,     0.85088,     0.85088,     0.85088,\n",
       "            0.85088,     0.85088,     0.85088,     0.85088,     0.85088,     0.85088,     0.85088,     0.85088,     0.85088,     0.85088,     0.85088,     0.85088,     0.85088,     0.85088,     0.85088,     0.85088,     0.85088,     0.85088,     0.85088,     0.85088,     0.85088,     0.85088,     0.85088,\n",
       "            0.85088,     0.85088,     0.85088,     0.85088,     0.85088,     0.85088,     0.85088,     0.85088,     0.85088,     0.85085,     0.85063,     0.85041,     0.85019,     0.84997,     0.84975,     0.84952,      0.8493,     0.84908,     0.84886,     0.84864,     0.84842,      0.8482,     0.84797,\n",
       "            0.84775,     0.84753,     0.84731,     0.84709,     0.84687,     0.84664,     0.84642,      0.8462,     0.84598,     0.84576,     0.84554,     0.84531,     0.84509,     0.84487,     0.84465,     0.84443,     0.84421,     0.84399,     0.84376,     0.84354,     0.84332,      0.8431,     0.84288,\n",
       "            0.84266,     0.84243,     0.84221,     0.84143,     0.84011,      0.8388,     0.83748,     0.83616,     0.83485,     0.83353,     0.83278,     0.83213,     0.83148,     0.83083,     0.83018,     0.82953,     0.82888,     0.82822,     0.82757,     0.82692,     0.82627,     0.82562,     0.82497,\n",
       "            0.82383,     0.82186,     0.81988,     0.81791,     0.81594,     0.81555,     0.81529,     0.81504,     0.81478,     0.81452,     0.81426,       0.814,     0.81375,     0.81349,     0.81323,     0.81297,     0.81272,     0.81246,      0.8122,     0.81194,     0.81168,     0.81143,     0.81117,\n",
       "            0.81091,     0.81065,      0.8104,     0.81014,     0.80988,     0.80962,     0.80937,     0.80911,     0.80885,     0.80859,     0.80833,     0.80808,     0.80782,     0.80756,      0.8073,     0.80705,     0.80702,     0.80702,     0.80702,     0.80702,     0.80504,     0.80208,     0.79911,\n",
       "            0.79816,     0.79804,     0.79792,     0.79779,     0.79767,     0.79755,     0.79743,      0.7973,     0.79718,     0.79706,     0.79694,     0.79682,     0.79669,     0.79657,     0.79645,     0.79633,     0.79621,     0.79608,     0.79596,     0.79584,     0.79572,      0.7956,     0.79547,\n",
       "            0.79535,     0.79523,     0.79511,     0.79499,     0.79486,     0.79474,     0.79462,      0.7945,     0.79437,     0.79425,     0.79413,     0.79401,     0.79389,     0.79376,     0.79364,     0.79352,      0.7934,     0.79328,     0.79315,     0.79303,     0.79291,     0.79279,     0.79267,\n",
       "            0.79254,     0.79242,      0.7923,     0.79218,     0.79206,     0.79193,     0.79181,     0.79169,     0.79157,     0.79145,     0.79132,      0.7912,     0.79108,     0.79096,     0.79083,     0.79071,     0.79059,     0.79047,     0.79035,     0.79022,      0.7901,     0.78998,     0.78986,\n",
       "            0.78974,     0.78961,     0.78949,     0.78947,     0.78947,     0.78947,     0.78947,     0.78947,     0.78947,     0.78947,     0.78947,     0.78947,     0.78947,     0.78947,     0.78947,     0.78947,     0.78947,     0.78947,     0.78947,     0.78947,     0.78609,     0.78185,     0.77193,\n",
       "            0.77193,     0.77193,     0.77193,     0.77167,     0.77113,     0.77059,     0.77005,     0.76951,     0.76897,     0.76843,     0.76789,     0.76735,     0.76681,     0.76627,     0.76573,     0.76519,     0.76465,     0.76411,     0.76357,     0.76263,     0.76047,     0.75831,     0.75615,\n",
       "            0.75439,     0.75439,     0.75439,     0.75439,     0.75439,     0.75439,     0.74501,     0.74423,     0.74346,     0.74269,     0.74191,     0.74114,     0.74037,     0.73959,     0.73882,     0.73804,     0.73727,     0.73652,     0.73579,     0.73507,     0.73434,     0.73361,     0.73289,\n",
       "            0.73216,     0.73144,     0.73071,     0.72998,     0.72926,     0.72853,     0.72756,     0.72615,     0.72475,     0.72335,     0.72194,     0.72054,     0.71917,     0.71805,     0.71693,     0.71581,      0.7147,     0.71358,     0.71246,     0.71135,     0.70774,     0.70092,     0.69897,\n",
       "            0.69701,     0.69506,     0.69311,     0.69215,     0.69125,     0.69036,     0.68946,     0.68857,     0.68768,     0.68678,     0.68589,     0.68499,     0.68343,     0.67713,     0.67451,     0.67323,     0.67195,     0.67068,      0.6694,     0.66812,     0.66684,     0.65019,     0.64756,\n",
       "            0.64589,     0.64422,     0.64256,     0.64089,     0.63131,     0.63003,     0.62874,     0.62746,     0.62617,     0.62488,      0.6236,     0.61699,     0.61343,     0.61268,     0.61192,     0.61117,     0.61042,     0.60966,     0.60891,     0.60816,      0.6074,     0.60665,      0.6059,\n",
       "            0.60512,     0.60419,     0.60326,     0.60233,      0.6014,     0.60047,     0.59954,     0.59861,     0.59768,     0.59675,     0.59577,     0.59477,     0.59376,     0.59276,     0.59176,     0.59075,     0.58975,     0.58875,     0.58774,     0.57252,     0.56024,     0.55716,     0.55408,\n",
       "            0.55039,     0.54615,     0.54096,       0.535,     0.53372,     0.53245,     0.53118,     0.52991,     0.52864,     0.52737,     0.52554,     0.52109,     0.51638,     0.51062,     0.49981,     0.49631,      0.4928,     0.48929,     0.48578,     0.47776,     0.46472,     0.46077,     0.45682,\n",
       "            0.44716,      0.4453,     0.44343,     0.44156,      0.4397,     0.43623,     0.43043,     0.41839,     0.41462,     0.40907,     0.40246,     0.39936,     0.39627,     0.38347,     0.37121,     0.36667,     0.36362,     0.36058,     0.35395,     0.34756,     0.34225,     0.33898,     0.33577,\n",
       "            0.33185,     0.32565,     0.32178,     0.31841,     0.31524,     0.31277,      0.3103,     0.30783,     0.30191,      0.2933,     0.28776,     0.28489,     0.28202,     0.27675,     0.26994,     0.26407,     0.25961,     0.25542,     0.25055,     0.24553,     0.24249,     0.23946,     0.23651,\n",
       "            0.23405,      0.2316,     0.22915,     0.22586,     0.22192,     0.20802,     0.20013,      0.1944,     0.19081,     0.18793,     0.18505,     0.17663,     0.15776,     0.14962,     0.13735,     0.13161,      0.1217,     0.11253,    0.096463,     0.08982,    0.085768,    0.082916,    0.080063,\n",
       "            0.07507,    0.069712,    0.067711,    0.065709,    0.063708,    0.061706,    0.059527,    0.057317,    0.055106,    0.052895,    0.033343,    0.030377,     0.02741,      0.0157,           0,           0,           0,           0,           0,           0,           0,           0,           0,\n",
       "                  0,           0,           0,           0,           0,           0,           0,           0,           0,           0,           0]]), 'Confidence', 'Recall']]\n",
       "fitness: np.float64(0.7604927383382466)\n",
       "keys: ['metrics/precision(B)', 'metrics/recall(B)', 'metrics/mAP50(B)', 'metrics/mAP50-95(B)']\n",
       "maps: array([    0.74026])\n",
       "names: {0: 'dog'}\n",
       "plot: True\n",
       "results_dict: {'metrics/precision(B)': np.float64(0.896551724137931), 'metrics/recall(B)': np.float64(0.9122807017543859), 'metrics/mAP50(B)': np.float64(0.9425512284616818), 'metrics/mAP50-95(B)': np.float64(0.7402640172134204), 'fitness': np.float64(0.7604927383382466)}\n",
       "save_dir: PosixPath('/Users/magewade/runs/detect/val2')\n",
       "speed: {'preprocess': 0.7024078973029789, 'inference': 75.66750662915997, 'loss': 0.00016231359423775422, 'postprocess': 0.16457673872968084}\n",
       "task: 'detect'"
      ]
     },
     "execution_count": 37,
     "metadata": {},
     "output_type": "execute_result"
    }
   ],
   "source": [
    "conf = 0.25\n",
    "iou = 0.5\n",
    "model.val(conf=conf, iou=iou)"
   ]
  },
  {
   "cell_type": "code",
   "execution_count": null,
   "id": "f4fa3799",
   "metadata": {},
   "outputs": [
    {
     "name": "stdout",
     "output_type": "stream",
     "text": [
      "📺 Получен поток: https://manifest.googlevideo.com/api/manifest/hls_playlist/expire/1744854076/ei/3AcAaN7qM76k0u8PnPPwgQM/ip/158.181.215.235/id/bYlEgU2tU5w.1/itag/96/source/yt_live_broadcast/requiressl/yes/ratebypass/yes/live/1/sgoap/gir%3Dyes%3Bitag%3D140/sgovp/gir%3Dyes%3Bitag%3D137/rqh/1/hls_chunk_host/rr3---sn-hxb5apox-4g0s.googlevideo.com/xpc/EgVo2aDSNQ%3D%3D/playlist_duration/30/manifest_duration/30/bui/AccgBcMwJKYUVtEIItIuf7L7OE45diMmrNjDImFsU8x4n-tRkIXgyAHFEMIRohPzEXQYzyAUqTXKdv9h/spc/_S3wKhH6baUuZkBMoOFFLputNt3pyongFptizf4YRpHN8trODMy_QXwbvVqTdFXyWI9d0z0/vprv/1/playlist_type/DVR/initcwndbps/1732500/met/1744832478,/mh/uK/mm/44/mn/sn-hxb5apox-4g0s/ms/lva/mv/m/mvi/3/pl/20/rms/lva,lva/dover/11/pacing/0/keepalive/yes/fexp/51355912/mt/1744831967/sparams/expire,ei,ip,id,itag,source,requiressl,ratebypass,live,sgoap,sgovp,rqh,xpc,playlist_duration,manifest_duration,bui,spc,vprv,playlist_type/sig/AJfQdSswRQIhAMbaZO9v663zSCQfF7nfRJUF-vZkSqWw1jfc5HlRafpEAiB8AdX_E53uoEMzDxrzq4eDWiGGztbq9ew7-jvijFcyLA%3D%3D/lsparams/hls_chunk_host,initcwndbps,met,mh,mm,mn,ms,mv,mvi,pl,rms/lsig/ACuhMU0wRgIhANC74vHXVTFN5FRzef_fVln4diVm98li8E0gfEwWocCMAiEA-itheOhnrEvkAdNtII6vxBwHdaCJAMs_m1vAHpDrFYw%3D/playlist/index.m3u8\n",
      "📐 Размер кадра: 1920x1080\n",
      "⛔ Остановлено пользователем\n"
     ]
    },
    {
     "name": "stderr",
     "output_type": "stream",
     "text": [
      "Received > 3 system signals, hard exiting\n"
     ]
    }
   ],
   "source": [
    "import subprocess\n",
    "import numpy as np\n",
    "from ultralytics import YOLO\n",
    "import yt_dlp\n",
    "import cv2\n",
    "\n",
    "\n",
    "# 🎯 Получаем прямую ссылку на видеопоток + размер кадра\n",
    "def get_stream_info(youtube_url):\n",
    "    ydl_opts = {\n",
    "        \"quiet\": True,\n",
    "        \"format\": \"best[ext=mp4]/best\",\n",
    "    }\n",
    "    with yt_dlp.YoutubeDL(ydl_opts) as ydl:\n",
    "        info = ydl.extract_info(youtube_url, download=False)\n",
    "        width = info.get(\"width\", 640)\n",
    "        height = info.get(\"height\", 360)\n",
    "        return info[\"url\"], width, height\n",
    "\n",
    "\n",
    "# 📺 Ссылка на YouTube\n",
    "youtube_url = \"https://www.youtube.com/watch?v=bYlEgU2tU5w\"\n",
    "stream_url, frame_width, frame_height = get_stream_info(youtube_url)\n",
    "\n",
    "print(f\"📺 Получен поток: {stream_url}\")\n",
    "print(f\"📐 Размер кадра: {frame_width}x{frame_height}\")\n",
    "\n",
    "# 🧵 Настройка ffmpeg\n",
    "ffmpeg_cmd = [\n",
    "    \"ffmpeg\",\n",
    "    \"-i\",\n",
    "    stream_url,\n",
    "    \"-vf\",\n",
    "    f\"scale={frame_width}:{frame_height}\",  # убедимся, что размер фиксированный\n",
    "    \"-f\",\n",
    "    \"image2pipe\",\n",
    "    \"-pix_fmt\",\n",
    "    \"bgr24\",\n",
    "    \"-vcodec\",\n",
    "    \"rawvideo\",\n",
    "    \"-loglevel\",\n",
    "    \"quiet\",\n",
    "    \"-\",\n",
    "]\n",
    "pipe = subprocess.Popen(ffmpeg_cmd, stdout=subprocess.PIPE)\n",
    "\n",
    "frame_size = frame_width * frame_height * 3\n",
    "frame_count = 0\n",
    "skip_every = 25  # обрабатывать каждый 5-й кадр\n",
    "results = None  # последние результаты YOLO\n",
    "\n",
    "try:\n",
    "    while True:\n",
    "        raw_frame = pipe.stdout.read(frame_size)\n",
    "        if not raw_frame:\n",
    "            print(\"🚫 Поток завершился или прервался\")\n",
    "            break\n",
    "\n",
    "        frame = np.frombuffer(raw_frame, dtype=np.uint8)\n",
    "        if frame.size != frame_size:\n",
    "            print(\"⚠️ Размер кадра не совпадает, пропуск...\")\n",
    "            continue\n",
    "\n",
    "        frame = frame.reshape((frame_height, frame_width, 3))\n",
    "\n",
    "        frame_count += 1\n",
    "        if frame_count % skip_every == 0:\n",
    "            results = model.track(\n",
    "                source=frame, persist=True, conf=conf, iou=iou, tracker=\"puppy_tracker.yaml\", verbose=False\n",
    "            )\n",
    "\n",
    "        if results:\n",
    "            annotated = results[0].plot()\n",
    "        else:\n",
    "            annotated = frame\n",
    "\n",
    "        cv2.imshow(\"YOLO Stream\", annotated)\n",
    "        if cv2.waitKey(1) & 0xFF == ord(\"q\"):\n",
    "            break\n",
    "\n",
    "except KeyboardInterrupt:\n",
    "    print(\"⛔ Остановлено пользователем\")\n",
    "\n",
    "finally:\n",
    "    pipe.terminate()\n",
    "    cv2.destroyAllWindows()"
   ]
  },
  {
   "cell_type": "code",
   "execution_count": 42,
   "id": "3d748f73",
   "metadata": {},
   "outputs": [
    {
     "name": "stdout",
     "output_type": "stream",
     "text": [
      "\n",
      "\n",
      "WARNING ⚠️ inference results will accumulate in RAM unless `stream=True` is passed, causing potential out-of-memory\n",
      "errors for large sources or long-running streams and videos. See https://docs.ultralytics.com/modes/predict/ for help.\n",
      "\n",
      "Example:\n",
      "    results = model(source=..., stream=True)  # generator of Results objects\n",
      "    for r in results:\n",
      "        boxes = r.boxes  # Boxes object for bbox outputs\n",
      "        masks = r.masks  # Masks object for segment masks outputs\n",
      "        probs = r.probs  # Class probabilities for classification outputs\n",
      "\n",
      "video 1/1 (frame 1/1800) /Users/magewade/Desktop/ML/puppies_detection/video/puppies_inference_4.mp4: 384x640 6 dogs, 24.5ms\n",
      "video 1/1 (frame 2/1800) /Users/magewade/Desktop/ML/puppies_detection/video/puppies_inference_4.mp4: 384x640 6 dogs, 26.0ms\n",
      "video 1/1 (frame 3/1800) /Users/magewade/Desktop/ML/puppies_detection/video/puppies_inference_4.mp4: 384x640 6 dogs, 25.7ms\n",
      "video 1/1 (frame 4/1800) /Users/magewade/Desktop/ML/puppies_detection/video/puppies_inference_4.mp4: 384x640 6 dogs, 22.7ms\n",
      "video 1/1 (frame 5/1800) /Users/magewade/Desktop/ML/puppies_detection/video/puppies_inference_4.mp4: 384x640 6 dogs, 27.4ms\n",
      "video 1/1 (frame 6/1800) /Users/magewade/Desktop/ML/puppies_detection/video/puppies_inference_4.mp4: 384x640 6 dogs, 26.2ms\n",
      "video 1/1 (frame 7/1800) /Users/magewade/Desktop/ML/puppies_detection/video/puppies_inference_4.mp4: 384x640 5 dogs, 26.2ms\n",
      "video 1/1 (frame 8/1800) /Users/magewade/Desktop/ML/puppies_detection/video/puppies_inference_4.mp4: 384x640 5 dogs, 26.1ms\n",
      "video 1/1 (frame 9/1800) /Users/magewade/Desktop/ML/puppies_detection/video/puppies_inference_4.mp4: 384x640 5 dogs, 24.8ms\n",
      "video 1/1 (frame 10/1800) /Users/magewade/Desktop/ML/puppies_detection/video/puppies_inference_4.mp4: 384x640 5 dogs, 24.8ms\n",
      "video 1/1 (frame 11/1800) /Users/magewade/Desktop/ML/puppies_detection/video/puppies_inference_4.mp4: 384x640 5 dogs, 24.3ms\n",
      "video 1/1 (frame 12/1800) /Users/magewade/Desktop/ML/puppies_detection/video/puppies_inference_4.mp4: 384x640 5 dogs, 37.7ms\n",
      "video 1/1 (frame 13/1800) /Users/magewade/Desktop/ML/puppies_detection/video/puppies_inference_4.mp4: 384x640 5 dogs, 28.2ms\n",
      "video 1/1 (frame 14/1800) /Users/magewade/Desktop/ML/puppies_detection/video/puppies_inference_4.mp4: 384x640 5 dogs, 26.9ms\n",
      "video 1/1 (frame 15/1800) /Users/magewade/Desktop/ML/puppies_detection/video/puppies_inference_4.mp4: 384x640 5 dogs, 25.8ms\n",
      "video 1/1 (frame 16/1800) /Users/magewade/Desktop/ML/puppies_detection/video/puppies_inference_4.mp4: 384x640 5 dogs, 22.6ms\n",
      "video 1/1 (frame 17/1800) /Users/magewade/Desktop/ML/puppies_detection/video/puppies_inference_4.mp4: 384x640 5 dogs, 21.2ms\n",
      "video 1/1 (frame 18/1800) /Users/magewade/Desktop/ML/puppies_detection/video/puppies_inference_4.mp4: 384x640 5 dogs, 22.0ms\n",
      "video 1/1 (frame 19/1800) /Users/magewade/Desktop/ML/puppies_detection/video/puppies_inference_4.mp4: 384x640 5 dogs, 23.8ms\n",
      "video 1/1 (frame 20/1800) /Users/magewade/Desktop/ML/puppies_detection/video/puppies_inference_4.mp4: 384x640 5 dogs, 21.7ms\n",
      "video 1/1 (frame 21/1800) /Users/magewade/Desktop/ML/puppies_detection/video/puppies_inference_4.mp4: 384x640 5 dogs, 20.1ms\n",
      "video 1/1 (frame 22/1800) /Users/magewade/Desktop/ML/puppies_detection/video/puppies_inference_4.mp4: 384x640 5 dogs, 22.5ms\n",
      "video 1/1 (frame 23/1800) /Users/magewade/Desktop/ML/puppies_detection/video/puppies_inference_4.mp4: 384x640 5 dogs, 24.4ms\n",
      "video 1/1 (frame 24/1800) /Users/magewade/Desktop/ML/puppies_detection/video/puppies_inference_4.mp4: 384x640 5 dogs, 21.4ms\n",
      "video 1/1 (frame 25/1800) /Users/magewade/Desktop/ML/puppies_detection/video/puppies_inference_4.mp4: 384x640 5 dogs, 24.0ms\n",
      "video 1/1 (frame 26/1800) /Users/magewade/Desktop/ML/puppies_detection/video/puppies_inference_4.mp4: 384x640 5 dogs, 23.6ms\n",
      "video 1/1 (frame 27/1800) /Users/magewade/Desktop/ML/puppies_detection/video/puppies_inference_4.mp4: 384x640 5 dogs, 21.6ms\n",
      "video 1/1 (frame 28/1800) /Users/magewade/Desktop/ML/puppies_detection/video/puppies_inference_4.mp4: 384x640 5 dogs, 21.1ms\n",
      "video 1/1 (frame 29/1800) /Users/magewade/Desktop/ML/puppies_detection/video/puppies_inference_4.mp4: 384x640 5 dogs, 22.2ms\n",
      "video 1/1 (frame 30/1800) /Users/magewade/Desktop/ML/puppies_detection/video/puppies_inference_4.mp4: 384x640 5 dogs, 22.9ms\n",
      "video 1/1 (frame 31/1800) /Users/magewade/Desktop/ML/puppies_detection/video/puppies_inference_4.mp4: 384x640 5 dogs, 20.5ms\n",
      "video 1/1 (frame 32/1800) /Users/magewade/Desktop/ML/puppies_detection/video/puppies_inference_4.mp4: 384x640 5 dogs, 20.9ms\n",
      "video 1/1 (frame 33/1800) /Users/magewade/Desktop/ML/puppies_detection/video/puppies_inference_4.mp4: 384x640 5 dogs, 19.7ms\n",
      "video 1/1 (frame 34/1800) /Users/magewade/Desktop/ML/puppies_detection/video/puppies_inference_4.mp4: 384x640 5 dogs, 22.7ms\n",
      "video 1/1 (frame 35/1800) /Users/magewade/Desktop/ML/puppies_detection/video/puppies_inference_4.mp4: 384x640 5 dogs, 21.1ms\n",
      "video 1/1 (frame 36/1800) /Users/magewade/Desktop/ML/puppies_detection/video/puppies_inference_4.mp4: 384x640 5 dogs, 23.5ms\n",
      "video 1/1 (frame 37/1800) /Users/magewade/Desktop/ML/puppies_detection/video/puppies_inference_4.mp4: 384x640 5 dogs, 24.5ms\n",
      "video 1/1 (frame 38/1800) /Users/magewade/Desktop/ML/puppies_detection/video/puppies_inference_4.mp4: 384x640 5 dogs, 22.5ms\n",
      "video 1/1 (frame 39/1800) /Users/magewade/Desktop/ML/puppies_detection/video/puppies_inference_4.mp4: 384x640 5 dogs, 30.4ms\n",
      "video 1/1 (frame 40/1800) /Users/magewade/Desktop/ML/puppies_detection/video/puppies_inference_4.mp4: 384x640 5 dogs, 19.4ms\n",
      "video 1/1 (frame 41/1800) /Users/magewade/Desktop/ML/puppies_detection/video/puppies_inference_4.mp4: 384x640 5 dogs, 21.8ms\n",
      "video 1/1 (frame 42/1800) /Users/magewade/Desktop/ML/puppies_detection/video/puppies_inference_4.mp4: 384x640 5 dogs, 23.1ms\n",
      "video 1/1 (frame 43/1800) /Users/magewade/Desktop/ML/puppies_detection/video/puppies_inference_4.mp4: 384x640 5 dogs, 21.5ms\n",
      "video 1/1 (frame 44/1800) /Users/magewade/Desktop/ML/puppies_detection/video/puppies_inference_4.mp4: 384x640 5 dogs, 20.2ms\n",
      "video 1/1 (frame 45/1800) /Users/magewade/Desktop/ML/puppies_detection/video/puppies_inference_4.mp4: 384x640 5 dogs, 20.0ms\n",
      "video 1/1 (frame 46/1800) /Users/magewade/Desktop/ML/puppies_detection/video/puppies_inference_4.mp4: 384x640 5 dogs, 22.7ms\n",
      "video 1/1 (frame 47/1800) /Users/magewade/Desktop/ML/puppies_detection/video/puppies_inference_4.mp4: 384x640 5 dogs, 19.9ms\n",
      "video 1/1 (frame 48/1800) /Users/magewade/Desktop/ML/puppies_detection/video/puppies_inference_4.mp4: 384x640 5 dogs, 20.9ms\n",
      "video 1/1 (frame 49/1800) /Users/magewade/Desktop/ML/puppies_detection/video/puppies_inference_4.mp4: 384x640 5 dogs, 22.6ms\n",
      "video 1/1 (frame 50/1800) /Users/magewade/Desktop/ML/puppies_detection/video/puppies_inference_4.mp4: 384x640 5 dogs, 21.5ms\n",
      "video 1/1 (frame 51/1800) /Users/magewade/Desktop/ML/puppies_detection/video/puppies_inference_4.mp4: 384x640 5 dogs, 20.2ms\n",
      "video 1/1 (frame 52/1800) /Users/magewade/Desktop/ML/puppies_detection/video/puppies_inference_4.mp4: 384x640 5 dogs, 20.6ms\n",
      "video 1/1 (frame 53/1800) /Users/magewade/Desktop/ML/puppies_detection/video/puppies_inference_4.mp4: 384x640 5 dogs, 20.9ms\n",
      "video 1/1 (frame 54/1800) /Users/magewade/Desktop/ML/puppies_detection/video/puppies_inference_4.mp4: 384x640 5 dogs, 22.4ms\n",
      "video 1/1 (frame 55/1800) /Users/magewade/Desktop/ML/puppies_detection/video/puppies_inference_4.mp4: 384x640 5 dogs, 21.1ms\n",
      "video 1/1 (frame 56/1800) /Users/magewade/Desktop/ML/puppies_detection/video/puppies_inference_4.mp4: 384x640 5 dogs, 21.7ms\n",
      "video 1/1 (frame 57/1800) /Users/magewade/Desktop/ML/puppies_detection/video/puppies_inference_4.mp4: 384x640 5 dogs, 20.7ms\n",
      "video 1/1 (frame 58/1800) /Users/magewade/Desktop/ML/puppies_detection/video/puppies_inference_4.mp4: 384x640 5 dogs, 19.6ms\n",
      "video 1/1 (frame 59/1800) /Users/magewade/Desktop/ML/puppies_detection/video/puppies_inference_4.mp4: 384x640 5 dogs, 19.8ms\n",
      "video 1/1 (frame 60/1800) /Users/magewade/Desktop/ML/puppies_detection/video/puppies_inference_4.mp4: 384x640 5 dogs, 21.5ms\n",
      "video 1/1 (frame 61/1800) /Users/magewade/Desktop/ML/puppies_detection/video/puppies_inference_4.mp4: 384x640 5 dogs, 21.5ms\n",
      "video 1/1 (frame 62/1800) /Users/magewade/Desktop/ML/puppies_detection/video/puppies_inference_4.mp4: 384x640 5 dogs, 20.6ms\n",
      "video 1/1 (frame 63/1800) /Users/magewade/Desktop/ML/puppies_detection/video/puppies_inference_4.mp4: 384x640 5 dogs, 19.9ms\n",
      "video 1/1 (frame 64/1800) /Users/magewade/Desktop/ML/puppies_detection/video/puppies_inference_4.mp4: 384x640 5 dogs, 20.8ms\n",
      "video 1/1 (frame 65/1800) /Users/magewade/Desktop/ML/puppies_detection/video/puppies_inference_4.mp4: 384x640 5 dogs, 19.8ms\n",
      "video 1/1 (frame 66/1800) /Users/magewade/Desktop/ML/puppies_detection/video/puppies_inference_4.mp4: 384x640 5 dogs, 19.3ms\n",
      "video 1/1 (frame 67/1800) /Users/magewade/Desktop/ML/puppies_detection/video/puppies_inference_4.mp4: 384x640 5 dogs, 20.1ms\n",
      "video 1/1 (frame 68/1800) /Users/magewade/Desktop/ML/puppies_detection/video/puppies_inference_4.mp4: 384x640 5 dogs, 19.2ms\n",
      "video 1/1 (frame 69/1800) /Users/magewade/Desktop/ML/puppies_detection/video/puppies_inference_4.mp4: 384x640 5 dogs, 21.6ms\n",
      "video 1/1 (frame 70/1800) /Users/magewade/Desktop/ML/puppies_detection/video/puppies_inference_4.mp4: 384x640 5 dogs, 18.0ms\n",
      "video 1/1 (frame 71/1800) /Users/magewade/Desktop/ML/puppies_detection/video/puppies_inference_4.mp4: 384x640 5 dogs, 20.9ms\n",
      "video 1/1 (frame 72/1800) /Users/magewade/Desktop/ML/puppies_detection/video/puppies_inference_4.mp4: 384x640 5 dogs, 20.8ms\n",
      "video 1/1 (frame 73/1800) /Users/magewade/Desktop/ML/puppies_detection/video/puppies_inference_4.mp4: 384x640 5 dogs, 20.1ms\n",
      "video 1/1 (frame 74/1800) /Users/magewade/Desktop/ML/puppies_detection/video/puppies_inference_4.mp4: 384x640 5 dogs, 22.2ms\n",
      "video 1/1 (frame 75/1800) /Users/magewade/Desktop/ML/puppies_detection/video/puppies_inference_4.mp4: 384x640 6 dogs, 20.4ms\n",
      "video 1/1 (frame 76/1800) /Users/magewade/Desktop/ML/puppies_detection/video/puppies_inference_4.mp4: 384x640 6 dogs, 23.7ms\n",
      "video 1/1 (frame 77/1800) /Users/magewade/Desktop/ML/puppies_detection/video/puppies_inference_4.mp4: 384x640 6 dogs, 18.1ms\n",
      "video 1/1 (frame 78/1800) /Users/magewade/Desktop/ML/puppies_detection/video/puppies_inference_4.mp4: 384x640 6 dogs, 19.8ms\n",
      "video 1/1 (frame 79/1800) /Users/magewade/Desktop/ML/puppies_detection/video/puppies_inference_4.mp4: 384x640 7 dogs, 19.7ms\n",
      "video 1/1 (frame 80/1800) /Users/magewade/Desktop/ML/puppies_detection/video/puppies_inference_4.mp4: 384x640 7 dogs, 19.3ms\n",
      "video 1/1 (frame 81/1800) /Users/magewade/Desktop/ML/puppies_detection/video/puppies_inference_4.mp4: 384x640 6 dogs, 18.7ms\n",
      "video 1/1 (frame 82/1800) /Users/magewade/Desktop/ML/puppies_detection/video/puppies_inference_4.mp4: 384x640 6 dogs, 24.4ms\n",
      "video 1/1 (frame 83/1800) /Users/magewade/Desktop/ML/puppies_detection/video/puppies_inference_4.mp4: 384x640 6 dogs, 18.8ms\n",
      "video 1/1 (frame 84/1800) /Users/magewade/Desktop/ML/puppies_detection/video/puppies_inference_4.mp4: 384x640 6 dogs, 21.9ms\n",
      "video 1/1 (frame 85/1800) /Users/magewade/Desktop/ML/puppies_detection/video/puppies_inference_4.mp4: 384x640 6 dogs, 18.6ms\n",
      "video 1/1 (frame 86/1800) /Users/magewade/Desktop/ML/puppies_detection/video/puppies_inference_4.mp4: 384x640 6 dogs, 21.1ms\n",
      "video 1/1 (frame 87/1800) /Users/magewade/Desktop/ML/puppies_detection/video/puppies_inference_4.mp4: 384x640 6 dogs, 21.8ms\n",
      "video 1/1 (frame 88/1800) /Users/magewade/Desktop/ML/puppies_detection/video/puppies_inference_4.mp4: 384x640 6 dogs, 20.7ms\n",
      "video 1/1 (frame 89/1800) /Users/magewade/Desktop/ML/puppies_detection/video/puppies_inference_4.mp4: 384x640 6 dogs, 18.5ms\n",
      "video 1/1 (frame 90/1800) /Users/magewade/Desktop/ML/puppies_detection/video/puppies_inference_4.mp4: 384x640 6 dogs, 18.1ms\n",
      "video 1/1 (frame 91/1800) /Users/magewade/Desktop/ML/puppies_detection/video/puppies_inference_4.mp4: 384x640 6 dogs, 20.7ms\n",
      "video 1/1 (frame 92/1800) /Users/magewade/Desktop/ML/puppies_detection/video/puppies_inference_4.mp4: 384x640 5 dogs, 19.6ms\n",
      "video 1/1 (frame 93/1800) /Users/magewade/Desktop/ML/puppies_detection/video/puppies_inference_4.mp4: 384x640 5 dogs, 18.8ms\n",
      "video 1/1 (frame 94/1800) /Users/magewade/Desktop/ML/puppies_detection/video/puppies_inference_4.mp4: 384x640 5 dogs, 19.0ms\n",
      "video 1/1 (frame 95/1800) /Users/magewade/Desktop/ML/puppies_detection/video/puppies_inference_4.mp4: 384x640 5 dogs, 18.5ms\n",
      "video 1/1 (frame 96/1800) /Users/magewade/Desktop/ML/puppies_detection/video/puppies_inference_4.mp4: 384x640 5 dogs, 19.6ms\n",
      "video 1/1 (frame 97/1800) /Users/magewade/Desktop/ML/puppies_detection/video/puppies_inference_4.mp4: 384x640 5 dogs, 17.7ms\n",
      "video 1/1 (frame 98/1800) /Users/magewade/Desktop/ML/puppies_detection/video/puppies_inference_4.mp4: 384x640 5 dogs, 20.5ms\n",
      "video 1/1 (frame 99/1800) /Users/magewade/Desktop/ML/puppies_detection/video/puppies_inference_4.mp4: 384x640 5 dogs, 18.5ms\n",
      "video 1/1 (frame 100/1800) /Users/magewade/Desktop/ML/puppies_detection/video/puppies_inference_4.mp4: 384x640 5 dogs, 23.7ms\n",
      "video 1/1 (frame 101/1800) /Users/magewade/Desktop/ML/puppies_detection/video/puppies_inference_4.mp4: 384x640 6 dogs, 18.7ms\n",
      "video 1/1 (frame 102/1800) /Users/magewade/Desktop/ML/puppies_detection/video/puppies_inference_4.mp4: 384x640 6 dogs, 19.4ms\n",
      "video 1/1 (frame 103/1800) /Users/magewade/Desktop/ML/puppies_detection/video/puppies_inference_4.mp4: 384x640 6 dogs, 20.2ms\n",
      "video 1/1 (frame 104/1800) /Users/magewade/Desktop/ML/puppies_detection/video/puppies_inference_4.mp4: 384x640 5 dogs, 19.2ms\n",
      "video 1/1 (frame 105/1800) /Users/magewade/Desktop/ML/puppies_detection/video/puppies_inference_4.mp4: 384x640 5 dogs, 19.5ms\n",
      "video 1/1 (frame 106/1800) /Users/magewade/Desktop/ML/puppies_detection/video/puppies_inference_4.mp4: 384x640 5 dogs, 19.6ms\n",
      "video 1/1 (frame 107/1800) /Users/magewade/Desktop/ML/puppies_detection/video/puppies_inference_4.mp4: 384x640 5 dogs, 19.7ms\n",
      "video 1/1 (frame 108/1800) /Users/magewade/Desktop/ML/puppies_detection/video/puppies_inference_4.mp4: 384x640 6 dogs, 19.8ms\n",
      "video 1/1 (frame 109/1800) /Users/magewade/Desktop/ML/puppies_detection/video/puppies_inference_4.mp4: 384x640 5 dogs, 21.7ms\n",
      "video 1/1 (frame 110/1800) /Users/magewade/Desktop/ML/puppies_detection/video/puppies_inference_4.mp4: 384x640 5 dogs, 19.5ms\n",
      "video 1/1 (frame 111/1800) /Users/magewade/Desktop/ML/puppies_detection/video/puppies_inference_4.mp4: 384x640 5 dogs, 19.9ms\n",
      "video 1/1 (frame 112/1800) /Users/magewade/Desktop/ML/puppies_detection/video/puppies_inference_4.mp4: 384x640 5 dogs, 21.4ms\n",
      "video 1/1 (frame 113/1800) /Users/magewade/Desktop/ML/puppies_detection/video/puppies_inference_4.mp4: 384x640 5 dogs, 19.8ms\n",
      "video 1/1 (frame 114/1800) /Users/magewade/Desktop/ML/puppies_detection/video/puppies_inference_4.mp4: 384x640 5 dogs, 19.5ms\n",
      "video 1/1 (frame 115/1800) /Users/magewade/Desktop/ML/puppies_detection/video/puppies_inference_4.mp4: 384x640 5 dogs, 19.0ms\n",
      "video 1/1 (frame 116/1800) /Users/magewade/Desktop/ML/puppies_detection/video/puppies_inference_4.mp4: 384x640 5 dogs, 19.4ms\n",
      "video 1/1 (frame 117/1800) /Users/magewade/Desktop/ML/puppies_detection/video/puppies_inference_4.mp4: 384x640 5 dogs, 20.0ms\n",
      "video 1/1 (frame 118/1800) /Users/magewade/Desktop/ML/puppies_detection/video/puppies_inference_4.mp4: 384x640 5 dogs, 19.3ms\n",
      "video 1/1 (frame 119/1800) /Users/magewade/Desktop/ML/puppies_detection/video/puppies_inference_4.mp4: 384x640 5 dogs, 19.2ms\n",
      "video 1/1 (frame 120/1800) /Users/magewade/Desktop/ML/puppies_detection/video/puppies_inference_4.mp4: 384x640 5 dogs, 22.0ms\n",
      "video 1/1 (frame 121/1800) /Users/magewade/Desktop/ML/puppies_detection/video/puppies_inference_4.mp4: 384x640 5 dogs, 20.5ms\n",
      "video 1/1 (frame 122/1800) /Users/magewade/Desktop/ML/puppies_detection/video/puppies_inference_4.mp4: 384x640 5 dogs, 21.5ms\n",
      "video 1/1 (frame 123/1800) /Users/magewade/Desktop/ML/puppies_detection/video/puppies_inference_4.mp4: 384x640 5 dogs, 20.7ms\n",
      "video 1/1 (frame 124/1800) /Users/magewade/Desktop/ML/puppies_detection/video/puppies_inference_4.mp4: 384x640 5 dogs, 19.3ms\n",
      "video 1/1 (frame 125/1800) /Users/magewade/Desktop/ML/puppies_detection/video/puppies_inference_4.mp4: 384x640 5 dogs, 20.5ms\n",
      "video 1/1 (frame 126/1800) /Users/magewade/Desktop/ML/puppies_detection/video/puppies_inference_4.mp4: 384x640 5 dogs, 19.0ms\n",
      "video 1/1 (frame 127/1800) /Users/magewade/Desktop/ML/puppies_detection/video/puppies_inference_4.mp4: 384x640 5 dogs, 19.9ms\n",
      "video 1/1 (frame 128/1800) /Users/magewade/Desktop/ML/puppies_detection/video/puppies_inference_4.mp4: 384x640 5 dogs, 19.5ms\n",
      "video 1/1 (frame 129/1800) /Users/magewade/Desktop/ML/puppies_detection/video/puppies_inference_4.mp4: 384x640 5 dogs, 23.2ms\n",
      "video 1/1 (frame 130/1800) /Users/magewade/Desktop/ML/puppies_detection/video/puppies_inference_4.mp4: 384x640 5 dogs, 19.0ms\n",
      "video 1/1 (frame 131/1800) /Users/magewade/Desktop/ML/puppies_detection/video/puppies_inference_4.mp4: 384x640 5 dogs, 18.9ms\n",
      "video 1/1 (frame 132/1800) /Users/magewade/Desktop/ML/puppies_detection/video/puppies_inference_4.mp4: 384x640 5 dogs, 18.9ms\n",
      "video 1/1 (frame 133/1800) /Users/magewade/Desktop/ML/puppies_detection/video/puppies_inference_4.mp4: 384x640 5 dogs, 20.3ms\n",
      "video 1/1 (frame 134/1800) /Users/magewade/Desktop/ML/puppies_detection/video/puppies_inference_4.mp4: 384x640 5 dogs, 18.3ms\n",
      "video 1/1 (frame 135/1800) /Users/magewade/Desktop/ML/puppies_detection/video/puppies_inference_4.mp4: 384x640 5 dogs, 20.7ms\n",
      "video 1/1 (frame 136/1800) /Users/magewade/Desktop/ML/puppies_detection/video/puppies_inference_4.mp4: 384x640 5 dogs, 21.2ms\n",
      "video 1/1 (frame 137/1800) /Users/magewade/Desktop/ML/puppies_detection/video/puppies_inference_4.mp4: 384x640 5 dogs, 21.2ms\n",
      "video 1/1 (frame 138/1800) /Users/magewade/Desktop/ML/puppies_detection/video/puppies_inference_4.mp4: 384x640 5 dogs, 19.1ms\n",
      "video 1/1 (frame 139/1800) /Users/magewade/Desktop/ML/puppies_detection/video/puppies_inference_4.mp4: 384x640 5 dogs, 18.8ms\n",
      "video 1/1 (frame 140/1800) /Users/magewade/Desktop/ML/puppies_detection/video/puppies_inference_4.mp4: 384x640 6 dogs, 21.2ms\n",
      "video 1/1 (frame 141/1800) /Users/magewade/Desktop/ML/puppies_detection/video/puppies_inference_4.mp4: 384x640 6 dogs, 18.3ms\n",
      "video 1/1 (frame 142/1800) /Users/magewade/Desktop/ML/puppies_detection/video/puppies_inference_4.mp4: 384x640 6 dogs, 20.7ms\n",
      "video 1/1 (frame 143/1800) /Users/magewade/Desktop/ML/puppies_detection/video/puppies_inference_4.mp4: 384x640 6 dogs, 18.4ms\n",
      "video 1/1 (frame 144/1800) /Users/magewade/Desktop/ML/puppies_detection/video/puppies_inference_4.mp4: 384x640 6 dogs, 18.7ms\n",
      "video 1/1 (frame 145/1800) /Users/magewade/Desktop/ML/puppies_detection/video/puppies_inference_4.mp4: 384x640 6 dogs, 18.2ms\n",
      "video 1/1 (frame 146/1800) /Users/magewade/Desktop/ML/puppies_detection/video/puppies_inference_4.mp4: 384x640 6 dogs, 19.6ms\n",
      "video 1/1 (frame 147/1800) /Users/magewade/Desktop/ML/puppies_detection/video/puppies_inference_4.mp4: 384x640 6 dogs, 20.5ms\n",
      "video 1/1 (frame 148/1800) /Users/magewade/Desktop/ML/puppies_detection/video/puppies_inference_4.mp4: 384x640 6 dogs, 18.4ms\n",
      "video 1/1 (frame 149/1800) /Users/magewade/Desktop/ML/puppies_detection/video/puppies_inference_4.mp4: 384x640 6 dogs, 18.7ms\n",
      "video 1/1 (frame 150/1800) /Users/magewade/Desktop/ML/puppies_detection/video/puppies_inference_4.mp4: 384x640 5 dogs, 21.7ms\n",
      "video 1/1 (frame 151/1800) /Users/magewade/Desktop/ML/puppies_detection/video/puppies_inference_4.mp4: 384x640 5 dogs, 23.4ms\n",
      "video 1/1 (frame 152/1800) /Users/magewade/Desktop/ML/puppies_detection/video/puppies_inference_4.mp4: 384x640 4 dogs, 17.8ms\n",
      "video 1/1 (frame 153/1800) /Users/magewade/Desktop/ML/puppies_detection/video/puppies_inference_4.mp4: 384x640 5 dogs, 19.9ms\n",
      "video 1/1 (frame 154/1800) /Users/magewade/Desktop/ML/puppies_detection/video/puppies_inference_4.mp4: 384x640 5 dogs, 18.9ms\n",
      "video 1/1 (frame 155/1800) /Users/magewade/Desktop/ML/puppies_detection/video/puppies_inference_4.mp4: 384x640 5 dogs, 21.4ms\n",
      "video 1/1 (frame 156/1800) /Users/magewade/Desktop/ML/puppies_detection/video/puppies_inference_4.mp4: 384x640 5 dogs, 19.8ms\n",
      "video 1/1 (frame 157/1800) /Users/magewade/Desktop/ML/puppies_detection/video/puppies_inference_4.mp4: 384x640 6 dogs, 23.0ms\n",
      "video 1/1 (frame 158/1800) /Users/magewade/Desktop/ML/puppies_detection/video/puppies_inference_4.mp4: 384x640 6 dogs, 19.3ms\n",
      "video 1/1 (frame 159/1800) /Users/magewade/Desktop/ML/puppies_detection/video/puppies_inference_4.mp4: 384x640 5 dogs, 22.9ms\n",
      "video 1/1 (frame 160/1800) /Users/magewade/Desktop/ML/puppies_detection/video/puppies_inference_4.mp4: 384x640 6 dogs, 18.8ms\n",
      "video 1/1 (frame 161/1800) /Users/magewade/Desktop/ML/puppies_detection/video/puppies_inference_4.mp4: 384x640 6 dogs, 17.8ms\n",
      "video 1/1 (frame 162/1800) /Users/magewade/Desktop/ML/puppies_detection/video/puppies_inference_4.mp4: 384x640 6 dogs, 19.6ms\n",
      "video 1/1 (frame 163/1800) /Users/magewade/Desktop/ML/puppies_detection/video/puppies_inference_4.mp4: 384x640 6 dogs, 19.5ms\n",
      "video 1/1 (frame 164/1800) /Users/magewade/Desktop/ML/puppies_detection/video/puppies_inference_4.mp4: 384x640 6 dogs, 19.3ms\n",
      "video 1/1 (frame 165/1800) /Users/magewade/Desktop/ML/puppies_detection/video/puppies_inference_4.mp4: 384x640 6 dogs, 18.0ms\n",
      "video 1/1 (frame 166/1800) /Users/magewade/Desktop/ML/puppies_detection/video/puppies_inference_4.mp4: 384x640 6 dogs, 18.8ms\n",
      "video 1/1 (frame 167/1800) /Users/magewade/Desktop/ML/puppies_detection/video/puppies_inference_4.mp4: 384x640 5 dogs, 18.8ms\n",
      "video 1/1 (frame 168/1800) /Users/magewade/Desktop/ML/puppies_detection/video/puppies_inference_4.mp4: 384x640 5 dogs, 17.8ms\n",
      "video 1/1 (frame 169/1800) /Users/magewade/Desktop/ML/puppies_detection/video/puppies_inference_4.mp4: 384x640 5 dogs, 19.5ms\n",
      "video 1/1 (frame 170/1800) /Users/magewade/Desktop/ML/puppies_detection/video/puppies_inference_4.mp4: 384x640 5 dogs, 21.7ms\n",
      "video 1/1 (frame 171/1800) /Users/magewade/Desktop/ML/puppies_detection/video/puppies_inference_4.mp4: 384x640 6 dogs, 19.2ms\n",
      "video 1/1 (frame 172/1800) /Users/magewade/Desktop/ML/puppies_detection/video/puppies_inference_4.mp4: 384x640 5 dogs, 20.4ms\n",
      "video 1/1 (frame 173/1800) /Users/magewade/Desktop/ML/puppies_detection/video/puppies_inference_4.mp4: 384x640 6 dogs, 19.7ms\n",
      "video 1/1 (frame 174/1800) /Users/magewade/Desktop/ML/puppies_detection/video/puppies_inference_4.mp4: 384x640 5 dogs, 18.3ms\n",
      "video 1/1 (frame 175/1800) /Users/magewade/Desktop/ML/puppies_detection/video/puppies_inference_4.mp4: 384x640 6 dogs, 18.3ms\n",
      "video 1/1 (frame 176/1800) /Users/magewade/Desktop/ML/puppies_detection/video/puppies_inference_4.mp4: 384x640 7 dogs, 18.3ms\n",
      "video 1/1 (frame 177/1800) /Users/magewade/Desktop/ML/puppies_detection/video/puppies_inference_4.mp4: 384x640 7 dogs, 19.9ms\n",
      "video 1/1 (frame 178/1800) /Users/magewade/Desktop/ML/puppies_detection/video/puppies_inference_4.mp4: 384x640 5 dogs, 19.5ms\n",
      "video 1/1 (frame 179/1800) /Users/magewade/Desktop/ML/puppies_detection/video/puppies_inference_4.mp4: 384x640 7 dogs, 19.3ms\n",
      "video 1/1 (frame 180/1800) /Users/magewade/Desktop/ML/puppies_detection/video/puppies_inference_4.mp4: 384x640 6 dogs, 20.1ms\n",
      "video 1/1 (frame 181/1800) /Users/magewade/Desktop/ML/puppies_detection/video/puppies_inference_4.mp4: 384x640 8 dogs, 17.5ms\n",
      "video 1/1 (frame 182/1800) /Users/magewade/Desktop/ML/puppies_detection/video/puppies_inference_4.mp4: 384x640 7 dogs, 21.6ms\n",
      "video 1/1 (frame 183/1800) /Users/magewade/Desktop/ML/puppies_detection/video/puppies_inference_4.mp4: 384x640 6 dogs, 19.5ms\n",
      "video 1/1 (frame 184/1800) /Users/magewade/Desktop/ML/puppies_detection/video/puppies_inference_4.mp4: 384x640 5 dogs, 20.5ms\n",
      "video 1/1 (frame 185/1800) /Users/magewade/Desktop/ML/puppies_detection/video/puppies_inference_4.mp4: 384x640 6 dogs, 20.0ms\n",
      "video 1/1 (frame 186/1800) /Users/magewade/Desktop/ML/puppies_detection/video/puppies_inference_4.mp4: 384x640 7 dogs, 18.9ms\n",
      "video 1/1 (frame 187/1800) /Users/magewade/Desktop/ML/puppies_detection/video/puppies_inference_4.mp4: 384x640 6 dogs, 19.4ms\n",
      "video 1/1 (frame 188/1800) /Users/magewade/Desktop/ML/puppies_detection/video/puppies_inference_4.mp4: 384x640 6 dogs, 19.5ms\n",
      "video 1/1 (frame 189/1800) /Users/magewade/Desktop/ML/puppies_detection/video/puppies_inference_4.mp4: 384x640 6 dogs, 20.1ms\n",
      "video 1/1 (frame 190/1800) /Users/magewade/Desktop/ML/puppies_detection/video/puppies_inference_4.mp4: 384x640 5 dogs, 17.1ms\n",
      "video 1/1 (frame 191/1800) /Users/magewade/Desktop/ML/puppies_detection/video/puppies_inference_4.mp4: 384x640 5 dogs, 19.4ms\n",
      "video 1/1 (frame 192/1800) /Users/magewade/Desktop/ML/puppies_detection/video/puppies_inference_4.mp4: 384x640 5 dogs, 17.6ms\n",
      "video 1/1 (frame 193/1800) /Users/magewade/Desktop/ML/puppies_detection/video/puppies_inference_4.mp4: 384x640 5 dogs, 18.4ms\n",
      "video 1/1 (frame 194/1800) /Users/magewade/Desktop/ML/puppies_detection/video/puppies_inference_4.mp4: 384x640 5 dogs, 17.9ms\n",
      "video 1/1 (frame 195/1800) /Users/magewade/Desktop/ML/puppies_detection/video/puppies_inference_4.mp4: 384x640 5 dogs, 24.1ms\n",
      "video 1/1 (frame 196/1800) /Users/magewade/Desktop/ML/puppies_detection/video/puppies_inference_4.mp4: 384x640 5 dogs, 19.2ms\n",
      "video 1/1 (frame 197/1800) /Users/magewade/Desktop/ML/puppies_detection/video/puppies_inference_4.mp4: 384x640 7 dogs, 18.6ms\n",
      "video 1/1 (frame 198/1800) /Users/magewade/Desktop/ML/puppies_detection/video/puppies_inference_4.mp4: 384x640 7 dogs, 19.5ms\n",
      "video 1/1 (frame 199/1800) /Users/magewade/Desktop/ML/puppies_detection/video/puppies_inference_4.mp4: 384x640 5 dogs, 21.0ms\n",
      "video 1/1 (frame 200/1800) /Users/magewade/Desktop/ML/puppies_detection/video/puppies_inference_4.mp4: 384x640 5 dogs, 21.7ms\n",
      "video 1/1 (frame 201/1800) /Users/magewade/Desktop/ML/puppies_detection/video/puppies_inference_4.mp4: 384x640 5 dogs, 18.3ms\n",
      "video 1/1 (frame 202/1800) /Users/magewade/Desktop/ML/puppies_detection/video/puppies_inference_4.mp4: 384x640 5 dogs, 20.1ms\n",
      "video 1/1 (frame 203/1800) /Users/magewade/Desktop/ML/puppies_detection/video/puppies_inference_4.mp4: 384x640 4 dogs, 18.1ms\n",
      "video 1/1 (frame 204/1800) /Users/magewade/Desktop/ML/puppies_detection/video/puppies_inference_4.mp4: 384x640 5 dogs, 20.0ms\n",
      "video 1/1 (frame 205/1800) /Users/magewade/Desktop/ML/puppies_detection/video/puppies_inference_4.mp4: 384x640 5 dogs, 21.1ms\n",
      "video 1/1 (frame 206/1800) /Users/magewade/Desktop/ML/puppies_detection/video/puppies_inference_4.mp4: 384x640 5 dogs, 19.9ms\n",
      "video 1/1 (frame 207/1800) /Users/magewade/Desktop/ML/puppies_detection/video/puppies_inference_4.mp4: 384x640 5 dogs, 18.9ms\n",
      "video 1/1 (frame 208/1800) /Users/magewade/Desktop/ML/puppies_detection/video/puppies_inference_4.mp4: 384x640 5 dogs, 19.1ms\n",
      "video 1/1 (frame 209/1800) /Users/magewade/Desktop/ML/puppies_detection/video/puppies_inference_4.mp4: 384x640 5 dogs, 19.5ms\n",
      "video 1/1 (frame 210/1800) /Users/magewade/Desktop/ML/puppies_detection/video/puppies_inference_4.mp4: 384x640 5 dogs, 19.0ms\n",
      "video 1/1 (frame 211/1800) /Users/magewade/Desktop/ML/puppies_detection/video/puppies_inference_4.mp4: 384x640 5 dogs, 19.7ms\n",
      "video 1/1 (frame 212/1800) /Users/magewade/Desktop/ML/puppies_detection/video/puppies_inference_4.mp4: 384x640 6 dogs, 20.7ms\n",
      "video 1/1 (frame 213/1800) /Users/magewade/Desktop/ML/puppies_detection/video/puppies_inference_4.mp4: 384x640 6 dogs, 38.0ms\n",
      "video 1/1 (frame 214/1800) /Users/magewade/Desktop/ML/puppies_detection/video/puppies_inference_4.mp4: 384x640 6 dogs, 21.2ms\n",
      "video 1/1 (frame 215/1800) /Users/magewade/Desktop/ML/puppies_detection/video/puppies_inference_4.mp4: 384x640 5 dogs, 19.4ms\n",
      "video 1/1 (frame 216/1800) /Users/magewade/Desktop/ML/puppies_detection/video/puppies_inference_4.mp4: 384x640 6 dogs, 18.7ms\n",
      "video 1/1 (frame 217/1800) /Users/magewade/Desktop/ML/puppies_detection/video/puppies_inference_4.mp4: 384x640 6 dogs, 19.7ms\n",
      "video 1/1 (frame 218/1800) /Users/magewade/Desktop/ML/puppies_detection/video/puppies_inference_4.mp4: 384x640 6 dogs, 19.9ms\n",
      "video 1/1 (frame 219/1800) /Users/magewade/Desktop/ML/puppies_detection/video/puppies_inference_4.mp4: 384x640 6 dogs, 19.2ms\n",
      "video 1/1 (frame 220/1800) /Users/magewade/Desktop/ML/puppies_detection/video/puppies_inference_4.mp4: 384x640 6 dogs, 18.6ms\n",
      "video 1/1 (frame 221/1800) /Users/magewade/Desktop/ML/puppies_detection/video/puppies_inference_4.mp4: 384x640 6 dogs, 19.3ms\n",
      "video 1/1 (frame 222/1800) /Users/magewade/Desktop/ML/puppies_detection/video/puppies_inference_4.mp4: 384x640 6 dogs, 21.2ms\n",
      "video 1/1 (frame 223/1800) /Users/magewade/Desktop/ML/puppies_detection/video/puppies_inference_4.mp4: 384x640 6 dogs, 18.1ms\n",
      "video 1/1 (frame 224/1800) /Users/magewade/Desktop/ML/puppies_detection/video/puppies_inference_4.mp4: 384x640 6 dogs, 18.6ms\n",
      "video 1/1 (frame 225/1800) /Users/magewade/Desktop/ML/puppies_detection/video/puppies_inference_4.mp4: 384x640 6 dogs, 17.7ms\n",
      "video 1/1 (frame 226/1800) /Users/magewade/Desktop/ML/puppies_detection/video/puppies_inference_4.mp4: 384x640 6 dogs, 18.7ms\n",
      "video 1/1 (frame 227/1800) /Users/magewade/Desktop/ML/puppies_detection/video/puppies_inference_4.mp4: 384x640 5 dogs, 18.8ms\n",
      "video 1/1 (frame 228/1800) /Users/magewade/Desktop/ML/puppies_detection/video/puppies_inference_4.mp4: 384x640 5 dogs, 19.7ms\n",
      "video 1/1 (frame 229/1800) /Users/magewade/Desktop/ML/puppies_detection/video/puppies_inference_4.mp4: 384x640 5 dogs, 18.9ms\n",
      "video 1/1 (frame 230/1800) /Users/magewade/Desktop/ML/puppies_detection/video/puppies_inference_4.mp4: 384x640 5 dogs, 21.7ms\n",
      "video 1/1 (frame 231/1800) /Users/magewade/Desktop/ML/puppies_detection/video/puppies_inference_4.mp4: 384x640 5 dogs, 20.4ms\n",
      "video 1/1 (frame 232/1800) /Users/magewade/Desktop/ML/puppies_detection/video/puppies_inference_4.mp4: 384x640 5 dogs, 21.3ms\n",
      "video 1/1 (frame 233/1800) /Users/magewade/Desktop/ML/puppies_detection/video/puppies_inference_4.mp4: 384x640 5 dogs, 18.3ms\n",
      "video 1/1 (frame 234/1800) /Users/magewade/Desktop/ML/puppies_detection/video/puppies_inference_4.mp4: 384x640 5 dogs, 19.2ms\n",
      "video 1/1 (frame 235/1800) /Users/magewade/Desktop/ML/puppies_detection/video/puppies_inference_4.mp4: 384x640 5 dogs, 21.1ms\n",
      "video 1/1 (frame 236/1800) /Users/magewade/Desktop/ML/puppies_detection/video/puppies_inference_4.mp4: 384x640 5 dogs, 20.3ms\n",
      "video 1/1 (frame 237/1800) /Users/magewade/Desktop/ML/puppies_detection/video/puppies_inference_4.mp4: 384x640 5 dogs, 19.2ms\n",
      "video 1/1 (frame 238/1800) /Users/magewade/Desktop/ML/puppies_detection/video/puppies_inference_4.mp4: 384x640 5 dogs, 19.0ms\n",
      "video 1/1 (frame 239/1800) /Users/magewade/Desktop/ML/puppies_detection/video/puppies_inference_4.mp4: 384x640 6 dogs, 20.1ms\n",
      "video 1/1 (frame 240/1800) /Users/magewade/Desktop/ML/puppies_detection/video/puppies_inference_4.mp4: 384x640 5 dogs, 20.9ms\n",
      "video 1/1 (frame 241/1800) /Users/magewade/Desktop/ML/puppies_detection/video/puppies_inference_4.mp4: 384x640 6 dogs, 19.2ms\n",
      "video 1/1 (frame 242/1800) /Users/magewade/Desktop/ML/puppies_detection/video/puppies_inference_4.mp4: 384x640 6 dogs, 20.2ms\n",
      "video 1/1 (frame 243/1800) /Users/magewade/Desktop/ML/puppies_detection/video/puppies_inference_4.mp4: 384x640 6 dogs, 18.6ms\n",
      "video 1/1 (frame 244/1800) /Users/magewade/Desktop/ML/puppies_detection/video/puppies_inference_4.mp4: 384x640 6 dogs, 18.9ms\n",
      "video 1/1 (frame 245/1800) /Users/magewade/Desktop/ML/puppies_detection/video/puppies_inference_4.mp4: 384x640 6 dogs, 20.5ms\n",
      "video 1/1 (frame 246/1800) /Users/magewade/Desktop/ML/puppies_detection/video/puppies_inference_4.mp4: 384x640 6 dogs, 23.5ms\n",
      "video 1/1 (frame 247/1800) /Users/magewade/Desktop/ML/puppies_detection/video/puppies_inference_4.mp4: 384x640 6 dogs, 18.6ms\n",
      "video 1/1 (frame 248/1800) /Users/magewade/Desktop/ML/puppies_detection/video/puppies_inference_4.mp4: 384x640 6 dogs, 21.6ms\n",
      "video 1/1 (frame 249/1800) /Users/magewade/Desktop/ML/puppies_detection/video/puppies_inference_4.mp4: 384x640 6 dogs, 22.4ms\n",
      "video 1/1 (frame 250/1800) /Users/magewade/Desktop/ML/puppies_detection/video/puppies_inference_4.mp4: 384x640 6 dogs, 22.4ms\n",
      "video 1/1 (frame 251/1800) /Users/magewade/Desktop/ML/puppies_detection/video/puppies_inference_4.mp4: 384x640 6 dogs, 18.1ms\n",
      "video 1/1 (frame 252/1800) /Users/magewade/Desktop/ML/puppies_detection/video/puppies_inference_4.mp4: 384x640 6 dogs, 19.0ms\n",
      "video 1/1 (frame 253/1800) /Users/magewade/Desktop/ML/puppies_detection/video/puppies_inference_4.mp4: 384x640 6 dogs, 17.1ms\n",
      "video 1/1 (frame 254/1800) /Users/magewade/Desktop/ML/puppies_detection/video/puppies_inference_4.mp4: 384x640 6 dogs, 18.0ms\n",
      "video 1/1 (frame 255/1800) /Users/magewade/Desktop/ML/puppies_detection/video/puppies_inference_4.mp4: 384x640 6 dogs, 17.7ms\n",
      "video 1/1 (frame 256/1800) /Users/magewade/Desktop/ML/puppies_detection/video/puppies_inference_4.mp4: 384x640 6 dogs, 18.4ms\n",
      "video 1/1 (frame 257/1800) /Users/magewade/Desktop/ML/puppies_detection/video/puppies_inference_4.mp4: 384x640 6 dogs, 20.3ms\n",
      "video 1/1 (frame 258/1800) /Users/magewade/Desktop/ML/puppies_detection/video/puppies_inference_4.mp4: 384x640 6 dogs, 21.3ms\n",
      "video 1/1 (frame 259/1800) /Users/magewade/Desktop/ML/puppies_detection/video/puppies_inference_4.mp4: 384x640 6 dogs, 20.0ms\n",
      "video 1/1 (frame 260/1800) /Users/magewade/Desktop/ML/puppies_detection/video/puppies_inference_4.mp4: 384x640 6 dogs, 18.6ms\n",
      "video 1/1 (frame 261/1800) /Users/magewade/Desktop/ML/puppies_detection/video/puppies_inference_4.mp4: 384x640 6 dogs, 20.6ms\n",
      "video 1/1 (frame 262/1800) /Users/magewade/Desktop/ML/puppies_detection/video/puppies_inference_4.mp4: 384x640 6 dogs, 19.8ms\n",
      "video 1/1 (frame 263/1800) /Users/magewade/Desktop/ML/puppies_detection/video/puppies_inference_4.mp4: 384x640 5 dogs, 19.5ms\n",
      "video 1/1 (frame 264/1800) /Users/magewade/Desktop/ML/puppies_detection/video/puppies_inference_4.mp4: 384x640 6 dogs, 18.8ms\n",
      "video 1/1 (frame 265/1800) /Users/magewade/Desktop/ML/puppies_detection/video/puppies_inference_4.mp4: 384x640 6 dogs, 20.6ms\n",
      "video 1/1 (frame 266/1800) /Users/magewade/Desktop/ML/puppies_detection/video/puppies_inference_4.mp4: 384x640 6 dogs, 24.9ms\n",
      "video 1/1 (frame 267/1800) /Users/magewade/Desktop/ML/puppies_detection/video/puppies_inference_4.mp4: 384x640 6 dogs, 18.9ms\n",
      "video 1/1 (frame 268/1800) /Users/magewade/Desktop/ML/puppies_detection/video/puppies_inference_4.mp4: 384x640 6 dogs, 19.8ms\n",
      "video 1/1 (frame 269/1800) /Users/magewade/Desktop/ML/puppies_detection/video/puppies_inference_4.mp4: 384x640 6 dogs, 19.2ms\n",
      "video 1/1 (frame 270/1800) /Users/magewade/Desktop/ML/puppies_detection/video/puppies_inference_4.mp4: 384x640 6 dogs, 18.9ms\n",
      "video 1/1 (frame 271/1800) /Users/magewade/Desktop/ML/puppies_detection/video/puppies_inference_4.mp4: 384x640 6 dogs, 20.1ms\n",
      "video 1/1 (frame 272/1800) /Users/magewade/Desktop/ML/puppies_detection/video/puppies_inference_4.mp4: 384x640 6 dogs, 19.7ms\n",
      "video 1/1 (frame 273/1800) /Users/magewade/Desktop/ML/puppies_detection/video/puppies_inference_4.mp4: 384x640 6 dogs, 18.7ms\n",
      "video 1/1 (frame 274/1800) /Users/magewade/Desktop/ML/puppies_detection/video/puppies_inference_4.mp4: 384x640 6 dogs, 17.6ms\n",
      "video 1/1 (frame 275/1800) /Users/magewade/Desktop/ML/puppies_detection/video/puppies_inference_4.mp4: 384x640 6 dogs, 21.1ms\n",
      "video 1/1 (frame 276/1800) /Users/magewade/Desktop/ML/puppies_detection/video/puppies_inference_4.mp4: 384x640 6 dogs, 18.3ms\n",
      "video 1/1 (frame 277/1800) /Users/magewade/Desktop/ML/puppies_detection/video/puppies_inference_4.mp4: 384x640 6 dogs, 21.4ms\n",
      "video 1/1 (frame 278/1800) /Users/magewade/Desktop/ML/puppies_detection/video/puppies_inference_4.mp4: 384x640 6 dogs, 20.6ms\n",
      "video 1/1 (frame 279/1800) /Users/magewade/Desktop/ML/puppies_detection/video/puppies_inference_4.mp4: 384x640 6 dogs, 24.1ms\n",
      "video 1/1 (frame 280/1800) /Users/magewade/Desktop/ML/puppies_detection/video/puppies_inference_4.mp4: 384x640 6 dogs, 19.0ms\n",
      "video 1/1 (frame 281/1800) /Users/magewade/Desktop/ML/puppies_detection/video/puppies_inference_4.mp4: 384x640 6 dogs, 19.1ms\n",
      "video 1/1 (frame 282/1800) /Users/magewade/Desktop/ML/puppies_detection/video/puppies_inference_4.mp4: 384x640 6 dogs, 20.0ms\n",
      "video 1/1 (frame 283/1800) /Users/magewade/Desktop/ML/puppies_detection/video/puppies_inference_4.mp4: 384x640 6 dogs, 18.0ms\n",
      "video 1/1 (frame 284/1800) /Users/magewade/Desktop/ML/puppies_detection/video/puppies_inference_4.mp4: 384x640 6 dogs, 19.6ms\n",
      "video 1/1 (frame 285/1800) /Users/magewade/Desktop/ML/puppies_detection/video/puppies_inference_4.mp4: 384x640 6 dogs, 20.4ms\n",
      "video 1/1 (frame 286/1800) /Users/magewade/Desktop/ML/puppies_detection/video/puppies_inference_4.mp4: 384x640 6 dogs, 19.5ms\n",
      "video 1/1 (frame 287/1800) /Users/magewade/Desktop/ML/puppies_detection/video/puppies_inference_4.mp4: 384x640 6 dogs, 18.1ms\n",
      "video 1/1 (frame 288/1800) /Users/magewade/Desktop/ML/puppies_detection/video/puppies_inference_4.mp4: 384x640 6 dogs, 23.4ms\n",
      "video 1/1 (frame 289/1800) /Users/magewade/Desktop/ML/puppies_detection/video/puppies_inference_4.mp4: 384x640 6 dogs, 20.2ms\n",
      "video 1/1 (frame 290/1800) /Users/magewade/Desktop/ML/puppies_detection/video/puppies_inference_4.mp4: 384x640 6 dogs, 19.4ms\n",
      "video 1/1 (frame 291/1800) /Users/magewade/Desktop/ML/puppies_detection/video/puppies_inference_4.mp4: 384x640 6 dogs, 18.6ms\n",
      "video 1/1 (frame 292/1800) /Users/magewade/Desktop/ML/puppies_detection/video/puppies_inference_4.mp4: 384x640 6 dogs, 20.4ms\n",
      "video 1/1 (frame 293/1800) /Users/magewade/Desktop/ML/puppies_detection/video/puppies_inference_4.mp4: 384x640 4 dogs, 23.7ms\n",
      "video 1/1 (frame 294/1800) /Users/magewade/Desktop/ML/puppies_detection/video/puppies_inference_4.mp4: 384x640 4 dogs, 21.0ms\n",
      "video 1/1 (frame 295/1800) /Users/magewade/Desktop/ML/puppies_detection/video/puppies_inference_4.mp4: 384x640 4 dogs, 19.7ms\n",
      "video 1/1 (frame 296/1800) /Users/magewade/Desktop/ML/puppies_detection/video/puppies_inference_4.mp4: 384x640 4 dogs, 17.1ms\n",
      "video 1/1 (frame 297/1800) /Users/magewade/Desktop/ML/puppies_detection/video/puppies_inference_4.mp4: 384x640 5 dogs, 19.4ms\n",
      "video 1/1 (frame 298/1800) /Users/magewade/Desktop/ML/puppies_detection/video/puppies_inference_4.mp4: 384x640 5 dogs, 18.7ms\n",
      "video 1/1 (frame 299/1800) /Users/magewade/Desktop/ML/puppies_detection/video/puppies_inference_4.mp4: 384x640 4 dogs, 18.6ms\n",
      "video 1/1 (frame 300/1800) /Users/magewade/Desktop/ML/puppies_detection/video/puppies_inference_4.mp4: 384x640 5 dogs, 20.1ms\n",
      "video 1/1 (frame 301/1800) /Users/magewade/Desktop/ML/puppies_detection/video/puppies_inference_4.mp4: 384x640 4 dogs, 21.4ms\n",
      "video 1/1 (frame 302/1800) /Users/magewade/Desktop/ML/puppies_detection/video/puppies_inference_4.mp4: 384x640 4 dogs, 18.5ms\n",
      "video 1/1 (frame 303/1800) /Users/magewade/Desktop/ML/puppies_detection/video/puppies_inference_4.mp4: 384x640 4 dogs, 22.0ms\n",
      "video 1/1 (frame 304/1800) /Users/magewade/Desktop/ML/puppies_detection/video/puppies_inference_4.mp4: 384x640 4 dogs, 21.8ms\n",
      "video 1/1 (frame 305/1800) /Users/magewade/Desktop/ML/puppies_detection/video/puppies_inference_4.mp4: 384x640 4 dogs, 20.5ms\n",
      "video 1/1 (frame 306/1800) /Users/magewade/Desktop/ML/puppies_detection/video/puppies_inference_4.mp4: 384x640 4 dogs, 17.2ms\n",
      "video 1/1 (frame 307/1800) /Users/magewade/Desktop/ML/puppies_detection/video/puppies_inference_4.mp4: 384x640 4 dogs, 17.3ms\n",
      "video 1/1 (frame 308/1800) /Users/magewade/Desktop/ML/puppies_detection/video/puppies_inference_4.mp4: 384x640 4 dogs, 21.4ms\n",
      "video 1/1 (frame 309/1800) /Users/magewade/Desktop/ML/puppies_detection/video/puppies_inference_4.mp4: 384x640 4 dogs, 20.8ms\n",
      "video 1/1 (frame 310/1800) /Users/magewade/Desktop/ML/puppies_detection/video/puppies_inference_4.mp4: 384x640 4 dogs, 21.1ms\n",
      "video 1/1 (frame 311/1800) /Users/magewade/Desktop/ML/puppies_detection/video/puppies_inference_4.mp4: 384x640 4 dogs, 18.3ms\n",
      "video 1/1 (frame 312/1800) /Users/magewade/Desktop/ML/puppies_detection/video/puppies_inference_4.mp4: 384x640 4 dogs, 20.0ms\n",
      "video 1/1 (frame 313/1800) /Users/magewade/Desktop/ML/puppies_detection/video/puppies_inference_4.mp4: 384x640 4 dogs, 19.8ms\n",
      "video 1/1 (frame 314/1800) /Users/magewade/Desktop/ML/puppies_detection/video/puppies_inference_4.mp4: 384x640 4 dogs, 21.5ms\n",
      "video 1/1 (frame 315/1800) /Users/magewade/Desktop/ML/puppies_detection/video/puppies_inference_4.mp4: 384x640 4 dogs, 20.0ms\n",
      "video 1/1 (frame 316/1800) /Users/magewade/Desktop/ML/puppies_detection/video/puppies_inference_4.mp4: 384x640 4 dogs, 19.2ms\n",
      "video 1/1 (frame 317/1800) /Users/magewade/Desktop/ML/puppies_detection/video/puppies_inference_4.mp4: 384x640 4 dogs, 19.9ms\n",
      "video 1/1 (frame 318/1800) /Users/magewade/Desktop/ML/puppies_detection/video/puppies_inference_4.mp4: 384x640 4 dogs, 20.1ms\n",
      "video 1/1 (frame 319/1800) /Users/magewade/Desktop/ML/puppies_detection/video/puppies_inference_4.mp4: 384x640 4 dogs, 19.3ms\n",
      "video 1/1 (frame 320/1800) /Users/magewade/Desktop/ML/puppies_detection/video/puppies_inference_4.mp4: 384x640 5 dogs, 19.0ms\n",
      "video 1/1 (frame 321/1800) /Users/magewade/Desktop/ML/puppies_detection/video/puppies_inference_4.mp4: 384x640 4 dogs, 25.4ms\n",
      "video 1/1 (frame 322/1800) /Users/magewade/Desktop/ML/puppies_detection/video/puppies_inference_4.mp4: 384x640 4 dogs, 21.0ms\n",
      "video 1/1 (frame 323/1800) /Users/magewade/Desktop/ML/puppies_detection/video/puppies_inference_4.mp4: 384x640 4 dogs, 18.7ms\n",
      "video 1/1 (frame 324/1800) /Users/magewade/Desktop/ML/puppies_detection/video/puppies_inference_4.mp4: 384x640 5 dogs, 19.2ms\n",
      "video 1/1 (frame 325/1800) /Users/magewade/Desktop/ML/puppies_detection/video/puppies_inference_4.mp4: 384x640 5 dogs, 19.7ms\n",
      "video 1/1 (frame 326/1800) /Users/magewade/Desktop/ML/puppies_detection/video/puppies_inference_4.mp4: 384x640 5 dogs, 20.7ms\n",
      "video 1/1 (frame 327/1800) /Users/magewade/Desktop/ML/puppies_detection/video/puppies_inference_4.mp4: 384x640 5 dogs, 18.6ms\n",
      "video 1/1 (frame 328/1800) /Users/magewade/Desktop/ML/puppies_detection/video/puppies_inference_4.mp4: 384x640 5 dogs, 19.0ms\n",
      "video 1/1 (frame 329/1800) /Users/magewade/Desktop/ML/puppies_detection/video/puppies_inference_4.mp4: 384x640 5 dogs, 19.9ms\n",
      "video 1/1 (frame 330/1800) /Users/magewade/Desktop/ML/puppies_detection/video/puppies_inference_4.mp4: 384x640 5 dogs, 20.1ms\n",
      "video 1/1 (frame 331/1800) /Users/magewade/Desktop/ML/puppies_detection/video/puppies_inference_4.mp4: 384x640 5 dogs, 17.7ms\n",
      "video 1/1 (frame 332/1800) /Users/magewade/Desktop/ML/puppies_detection/video/puppies_inference_4.mp4: 384x640 5 dogs, 22.7ms\n",
      "video 1/1 (frame 333/1800) /Users/magewade/Desktop/ML/puppies_detection/video/puppies_inference_4.mp4: 384x640 5 dogs, 20.0ms\n",
      "video 1/1 (frame 334/1800) /Users/magewade/Desktop/ML/puppies_detection/video/puppies_inference_4.mp4: 384x640 5 dogs, 21.1ms\n",
      "video 1/1 (frame 335/1800) /Users/magewade/Desktop/ML/puppies_detection/video/puppies_inference_4.mp4: 384x640 5 dogs, 20.5ms\n",
      "video 1/1 (frame 336/1800) /Users/magewade/Desktop/ML/puppies_detection/video/puppies_inference_4.mp4: 384x640 5 dogs, 18.1ms\n",
      "video 1/1 (frame 337/1800) /Users/magewade/Desktop/ML/puppies_detection/video/puppies_inference_4.mp4: 384x640 5 dogs, 20.5ms\n",
      "video 1/1 (frame 338/1800) /Users/magewade/Desktop/ML/puppies_detection/video/puppies_inference_4.mp4: 384x640 5 dogs, 18.8ms\n",
      "video 1/1 (frame 339/1800) /Users/magewade/Desktop/ML/puppies_detection/video/puppies_inference_4.mp4: 384x640 5 dogs, 22.3ms\n",
      "video 1/1 (frame 340/1800) /Users/magewade/Desktop/ML/puppies_detection/video/puppies_inference_4.mp4: 384x640 5 dogs, 18.6ms\n",
      "video 1/1 (frame 341/1800) /Users/magewade/Desktop/ML/puppies_detection/video/puppies_inference_4.mp4: 384x640 5 dogs, 19.5ms\n",
      "video 1/1 (frame 342/1800) /Users/magewade/Desktop/ML/puppies_detection/video/puppies_inference_4.mp4: 384x640 5 dogs, 21.1ms\n",
      "video 1/1 (frame 343/1800) /Users/magewade/Desktop/ML/puppies_detection/video/puppies_inference_4.mp4: 384x640 5 dogs, 20.1ms\n",
      "video 1/1 (frame 344/1800) /Users/magewade/Desktop/ML/puppies_detection/video/puppies_inference_4.mp4: 384x640 5 dogs, 18.6ms\n",
      "video 1/1 (frame 345/1800) /Users/magewade/Desktop/ML/puppies_detection/video/puppies_inference_4.mp4: 384x640 5 dogs, 18.9ms\n",
      "video 1/1 (frame 346/1800) /Users/magewade/Desktop/ML/puppies_detection/video/puppies_inference_4.mp4: 384x640 5 dogs, 20.2ms\n",
      "video 1/1 (frame 347/1800) /Users/magewade/Desktop/ML/puppies_detection/video/puppies_inference_4.mp4: 384x640 4 dogs, 20.9ms\n",
      "video 1/1 (frame 348/1800) /Users/magewade/Desktop/ML/puppies_detection/video/puppies_inference_4.mp4: 384x640 4 dogs, 23.6ms\n",
      "video 1/1 (frame 349/1800) /Users/magewade/Desktop/ML/puppies_detection/video/puppies_inference_4.mp4: 384x640 4 dogs, 19.0ms\n",
      "video 1/1 (frame 350/1800) /Users/magewade/Desktop/ML/puppies_detection/video/puppies_inference_4.mp4: 384x640 5 dogs, 18.7ms\n",
      "video 1/1 (frame 351/1800) /Users/magewade/Desktop/ML/puppies_detection/video/puppies_inference_4.mp4: 384x640 5 dogs, 19.7ms\n",
      "video 1/1 (frame 352/1800) /Users/magewade/Desktop/ML/puppies_detection/video/puppies_inference_4.mp4: 384x640 4 dogs, 19.5ms\n",
      "video 1/1 (frame 353/1800) /Users/magewade/Desktop/ML/puppies_detection/video/puppies_inference_4.mp4: 384x640 4 dogs, 19.6ms\n",
      "video 1/1 (frame 354/1800) /Users/magewade/Desktop/ML/puppies_detection/video/puppies_inference_4.mp4: 384x640 4 dogs, 17.6ms\n",
      "video 1/1 (frame 355/1800) /Users/magewade/Desktop/ML/puppies_detection/video/puppies_inference_4.mp4: 384x640 4 dogs, 19.9ms\n",
      "video 1/1 (frame 356/1800) /Users/magewade/Desktop/ML/puppies_detection/video/puppies_inference_4.mp4: 384x640 4 dogs, 18.2ms\n",
      "video 1/1 (frame 357/1800) /Users/magewade/Desktop/ML/puppies_detection/video/puppies_inference_4.mp4: 384x640 4 dogs, 21.1ms\n",
      "video 1/1 (frame 358/1800) /Users/magewade/Desktop/ML/puppies_detection/video/puppies_inference_4.mp4: 384x640 4 dogs, 19.8ms\n",
      "video 1/1 (frame 359/1800) /Users/magewade/Desktop/ML/puppies_detection/video/puppies_inference_4.mp4: 384x640 4 dogs, 20.0ms\n",
      "video 1/1 (frame 360/1800) /Users/magewade/Desktop/ML/puppies_detection/video/puppies_inference_4.mp4: 384x640 4 dogs, 20.6ms\n",
      "video 1/1 (frame 361/1800) /Users/magewade/Desktop/ML/puppies_detection/video/puppies_inference_4.mp4: 384x640 4 dogs, 20.6ms\n",
      "video 1/1 (frame 362/1800) /Users/magewade/Desktop/ML/puppies_detection/video/puppies_inference_4.mp4: 384x640 4 dogs, 22.2ms\n",
      "video 1/1 (frame 363/1800) /Users/magewade/Desktop/ML/puppies_detection/video/puppies_inference_4.mp4: 384x640 4 dogs, 20.7ms\n",
      "video 1/1 (frame 364/1800) /Users/magewade/Desktop/ML/puppies_detection/video/puppies_inference_4.mp4: 384x640 4 dogs, 18.4ms\n",
      "video 1/1 (frame 365/1800) /Users/magewade/Desktop/ML/puppies_detection/video/puppies_inference_4.mp4: 384x640 4 dogs, 18.3ms\n",
      "video 1/1 (frame 366/1800) /Users/magewade/Desktop/ML/puppies_detection/video/puppies_inference_4.mp4: 384x640 4 dogs, 21.4ms\n",
      "video 1/1 (frame 367/1800) /Users/magewade/Desktop/ML/puppies_detection/video/puppies_inference_4.mp4: 384x640 4 dogs, 21.2ms\n",
      "video 1/1 (frame 368/1800) /Users/magewade/Desktop/ML/puppies_detection/video/puppies_inference_4.mp4: 384x640 5 dogs, 25.2ms\n",
      "video 1/1 (frame 369/1800) /Users/magewade/Desktop/ML/puppies_detection/video/puppies_inference_4.mp4: 384x640 4 dogs, 17.7ms\n",
      "video 1/1 (frame 370/1800) /Users/magewade/Desktop/ML/puppies_detection/video/puppies_inference_4.mp4: 384x640 4 dogs, 21.4ms\n",
      "video 1/1 (frame 371/1800) /Users/magewade/Desktop/ML/puppies_detection/video/puppies_inference_4.mp4: 384x640 4 dogs, 18.4ms\n",
      "video 1/1 (frame 372/1800) /Users/magewade/Desktop/ML/puppies_detection/video/puppies_inference_4.mp4: 384x640 4 dogs, 19.5ms\n",
      "video 1/1 (frame 373/1800) /Users/magewade/Desktop/ML/puppies_detection/video/puppies_inference_4.mp4: 384x640 4 dogs, 21.4ms\n",
      "video 1/1 (frame 374/1800) /Users/magewade/Desktop/ML/puppies_detection/video/puppies_inference_4.mp4: 384x640 4 dogs, 19.1ms\n",
      "video 1/1 (frame 375/1800) /Users/magewade/Desktop/ML/puppies_detection/video/puppies_inference_4.mp4: 384x640 4 dogs, 19.7ms\n",
      "video 1/1 (frame 376/1800) /Users/magewade/Desktop/ML/puppies_detection/video/puppies_inference_4.mp4: 384x640 4 dogs, 21.6ms\n",
      "video 1/1 (frame 377/1800) /Users/magewade/Desktop/ML/puppies_detection/video/puppies_inference_4.mp4: 384x640 5 dogs, 20.6ms\n",
      "video 1/1 (frame 378/1800) /Users/magewade/Desktop/ML/puppies_detection/video/puppies_inference_4.mp4: 384x640 5 dogs, 19.3ms\n",
      "video 1/1 (frame 379/1800) /Users/magewade/Desktop/ML/puppies_detection/video/puppies_inference_4.mp4: 384x640 5 dogs, 18.2ms\n",
      "video 1/1 (frame 380/1800) /Users/magewade/Desktop/ML/puppies_detection/video/puppies_inference_4.mp4: 384x640 4 dogs, 18.6ms\n",
      "video 1/1 (frame 381/1800) /Users/magewade/Desktop/ML/puppies_detection/video/puppies_inference_4.mp4: 384x640 4 dogs, 33.6ms\n",
      "video 1/1 (frame 382/1800) /Users/magewade/Desktop/ML/puppies_detection/video/puppies_inference_4.mp4: 384x640 4 dogs, 21.7ms\n",
      "video 1/1 (frame 383/1800) /Users/magewade/Desktop/ML/puppies_detection/video/puppies_inference_4.mp4: 384x640 4 dogs, 20.2ms\n",
      "video 1/1 (frame 384/1800) /Users/magewade/Desktop/ML/puppies_detection/video/puppies_inference_4.mp4: 384x640 4 dogs, 20.6ms\n",
      "video 1/1 (frame 385/1800) /Users/magewade/Desktop/ML/puppies_detection/video/puppies_inference_4.mp4: 384x640 4 dogs, 20.1ms\n",
      "video 1/1 (frame 386/1800) /Users/magewade/Desktop/ML/puppies_detection/video/puppies_inference_4.mp4: 384x640 4 dogs, 19.5ms\n",
      "video 1/1 (frame 387/1800) /Users/magewade/Desktop/ML/puppies_detection/video/puppies_inference_4.mp4: 384x640 4 dogs, 19.2ms\n",
      "video 1/1 (frame 388/1800) /Users/magewade/Desktop/ML/puppies_detection/video/puppies_inference_4.mp4: 384x640 4 dogs, 19.3ms\n",
      "video 1/1 (frame 389/1800) /Users/magewade/Desktop/ML/puppies_detection/video/puppies_inference_4.mp4: 384x640 4 dogs, 20.2ms\n",
      "video 1/1 (frame 390/1800) /Users/magewade/Desktop/ML/puppies_detection/video/puppies_inference_4.mp4: 384x640 4 dogs, 18.6ms\n",
      "video 1/1 (frame 391/1800) /Users/magewade/Desktop/ML/puppies_detection/video/puppies_inference_4.mp4: 384x640 4 dogs, 18.0ms\n",
      "video 1/1 (frame 392/1800) /Users/magewade/Desktop/ML/puppies_detection/video/puppies_inference_4.mp4: 384x640 4 dogs, 17.7ms\n",
      "video 1/1 (frame 393/1800) /Users/magewade/Desktop/ML/puppies_detection/video/puppies_inference_4.mp4: 384x640 4 dogs, 21.0ms\n",
      "video 1/1 (frame 394/1800) /Users/magewade/Desktop/ML/puppies_detection/video/puppies_inference_4.mp4: 384x640 4 dogs, 19.5ms\n",
      "video 1/1 (frame 395/1800) /Users/magewade/Desktop/ML/puppies_detection/video/puppies_inference_4.mp4: 384x640 4 dogs, 18.2ms\n",
      "video 1/1 (frame 396/1800) /Users/magewade/Desktop/ML/puppies_detection/video/puppies_inference_4.mp4: 384x640 4 dogs, 19.7ms\n",
      "video 1/1 (frame 397/1800) /Users/magewade/Desktop/ML/puppies_detection/video/puppies_inference_4.mp4: 384x640 4 dogs, 18.6ms\n",
      "video 1/1 (frame 398/1800) /Users/magewade/Desktop/ML/puppies_detection/video/puppies_inference_4.mp4: 384x640 4 dogs, 18.9ms\n",
      "video 1/1 (frame 399/1800) /Users/magewade/Desktop/ML/puppies_detection/video/puppies_inference_4.mp4: 384x640 5 dogs, 20.2ms\n",
      "video 1/1 (frame 400/1800) /Users/magewade/Desktop/ML/puppies_detection/video/puppies_inference_4.mp4: 384x640 6 dogs, 19.4ms\n",
      "video 1/1 (frame 401/1800) /Users/magewade/Desktop/ML/puppies_detection/video/puppies_inference_4.mp4: 384x640 6 dogs, 21.6ms\n",
      "video 1/1 (frame 402/1800) /Users/magewade/Desktop/ML/puppies_detection/video/puppies_inference_4.mp4: 384x640 5 dogs, 21.7ms\n",
      "video 1/1 (frame 403/1800) /Users/magewade/Desktop/ML/puppies_detection/video/puppies_inference_4.mp4: 384x640 4 dogs, 18.5ms\n",
      "video 1/1 (frame 404/1800) /Users/magewade/Desktop/ML/puppies_detection/video/puppies_inference_4.mp4: 384x640 4 dogs, 18.3ms\n",
      "video 1/1 (frame 405/1800) /Users/magewade/Desktop/ML/puppies_detection/video/puppies_inference_4.mp4: 384x640 5 dogs, 18.9ms\n",
      "video 1/1 (frame 406/1800) /Users/magewade/Desktop/ML/puppies_detection/video/puppies_inference_4.mp4: 384x640 4 dogs, 18.6ms\n",
      "video 1/1 (frame 407/1800) /Users/magewade/Desktop/ML/puppies_detection/video/puppies_inference_4.mp4: 384x640 4 dogs, 19.7ms\n",
      "video 1/1 (frame 408/1800) /Users/magewade/Desktop/ML/puppies_detection/video/puppies_inference_4.mp4: 384x640 4 dogs, 20.5ms\n",
      "video 1/1 (frame 409/1800) /Users/magewade/Desktop/ML/puppies_detection/video/puppies_inference_4.mp4: 384x640 4 dogs, 19.6ms\n",
      "video 1/1 (frame 410/1800) /Users/magewade/Desktop/ML/puppies_detection/video/puppies_inference_4.mp4: 384x640 4 dogs, 19.2ms\n",
      "video 1/1 (frame 411/1800) /Users/magewade/Desktop/ML/puppies_detection/video/puppies_inference_4.mp4: 384x640 4 dogs, 23.9ms\n",
      "video 1/1 (frame 412/1800) /Users/magewade/Desktop/ML/puppies_detection/video/puppies_inference_4.mp4: 384x640 4 dogs, 18.8ms\n",
      "video 1/1 (frame 413/1800) /Users/magewade/Desktop/ML/puppies_detection/video/puppies_inference_4.mp4: 384x640 4 dogs, 19.2ms\n",
      "video 1/1 (frame 414/1800) /Users/magewade/Desktop/ML/puppies_detection/video/puppies_inference_4.mp4: 384x640 4 dogs, 20.5ms\n",
      "video 1/1 (frame 415/1800) /Users/magewade/Desktop/ML/puppies_detection/video/puppies_inference_4.mp4: 384x640 4 dogs, 19.9ms\n",
      "video 1/1 (frame 416/1800) /Users/magewade/Desktop/ML/puppies_detection/video/puppies_inference_4.mp4: 384x640 4 dogs, 18.9ms\n",
      "video 1/1 (frame 417/1800) /Users/magewade/Desktop/ML/puppies_detection/video/puppies_inference_4.mp4: 384x640 4 dogs, 19.0ms\n",
      "video 1/1 (frame 418/1800) /Users/magewade/Desktop/ML/puppies_detection/video/puppies_inference_4.mp4: 384x640 5 dogs, 20.0ms\n",
      "video 1/1 (frame 419/1800) /Users/magewade/Desktop/ML/puppies_detection/video/puppies_inference_4.mp4: 384x640 5 dogs, 20.2ms\n",
      "video 1/1 (frame 420/1800) /Users/magewade/Desktop/ML/puppies_detection/video/puppies_inference_4.mp4: 384x640 4 dogs, 19.8ms\n",
      "video 1/1 (frame 421/1800) /Users/magewade/Desktop/ML/puppies_detection/video/puppies_inference_4.mp4: 384x640 4 dogs, 17.8ms\n",
      "video 1/1 (frame 422/1800) /Users/magewade/Desktop/ML/puppies_detection/video/puppies_inference_4.mp4: 384x640 4 dogs, 19.7ms\n",
      "video 1/1 (frame 423/1800) /Users/magewade/Desktop/ML/puppies_detection/video/puppies_inference_4.mp4: 384x640 5 dogs, 19.5ms\n",
      "video 1/1 (frame 424/1800) /Users/magewade/Desktop/ML/puppies_detection/video/puppies_inference_4.mp4: 384x640 4 dogs, 20.3ms\n",
      "video 1/1 (frame 425/1800) /Users/magewade/Desktop/ML/puppies_detection/video/puppies_inference_4.mp4: 384x640 4 dogs, 19.9ms\n",
      "video 1/1 (frame 426/1800) /Users/magewade/Desktop/ML/puppies_detection/video/puppies_inference_4.mp4: 384x640 4 dogs, 20.5ms\n",
      "video 1/1 (frame 427/1800) /Users/magewade/Desktop/ML/puppies_detection/video/puppies_inference_4.mp4: 384x640 4 dogs, 19.4ms\n",
      "video 1/1 (frame 428/1800) /Users/magewade/Desktop/ML/puppies_detection/video/puppies_inference_4.mp4: 384x640 4 dogs, 20.5ms\n",
      "video 1/1 (frame 429/1800) /Users/magewade/Desktop/ML/puppies_detection/video/puppies_inference_4.mp4: 384x640 4 dogs, 19.6ms\n",
      "video 1/1 (frame 430/1800) /Users/magewade/Desktop/ML/puppies_detection/video/puppies_inference_4.mp4: 384x640 4 dogs, 18.6ms\n",
      "video 1/1 (frame 431/1800) /Users/magewade/Desktop/ML/puppies_detection/video/puppies_inference_4.mp4: 384x640 4 dogs, 19.6ms\n",
      "video 1/1 (frame 432/1800) /Users/magewade/Desktop/ML/puppies_detection/video/puppies_inference_4.mp4: 384x640 4 dogs, 18.6ms\n",
      "video 1/1 (frame 433/1800) /Users/magewade/Desktop/ML/puppies_detection/video/puppies_inference_4.mp4: 384x640 4 dogs, 18.5ms\n",
      "video 1/1 (frame 434/1800) /Users/magewade/Desktop/ML/puppies_detection/video/puppies_inference_4.mp4: 384x640 4 dogs, 19.2ms\n",
      "video 1/1 (frame 435/1800) /Users/magewade/Desktop/ML/puppies_detection/video/puppies_inference_4.mp4: 384x640 4 dogs, 18.7ms\n",
      "video 1/1 (frame 436/1800) /Users/magewade/Desktop/ML/puppies_detection/video/puppies_inference_4.mp4: 384x640 4 dogs, 19.9ms\n",
      "video 1/1 (frame 437/1800) /Users/magewade/Desktop/ML/puppies_detection/video/puppies_inference_4.mp4: 384x640 4 dogs, 20.4ms\n",
      "video 1/1 (frame 438/1800) /Users/magewade/Desktop/ML/puppies_detection/video/puppies_inference_4.mp4: 384x640 4 dogs, 18.5ms\n",
      "video 1/1 (frame 439/1800) /Users/magewade/Desktop/ML/puppies_detection/video/puppies_inference_4.mp4: 384x640 4 dogs, 20.2ms\n",
      "video 1/1 (frame 440/1800) /Users/magewade/Desktop/ML/puppies_detection/video/puppies_inference_4.mp4: 384x640 4 dogs, 20.5ms\n",
      "video 1/1 (frame 441/1800) /Users/magewade/Desktop/ML/puppies_detection/video/puppies_inference_4.mp4: 384x640 4 dogs, 20.9ms\n",
      "video 1/1 (frame 442/1800) /Users/magewade/Desktop/ML/puppies_detection/video/puppies_inference_4.mp4: 384x640 4 dogs, 19.6ms\n",
      "video 1/1 (frame 443/1800) /Users/magewade/Desktop/ML/puppies_detection/video/puppies_inference_4.mp4: 384x640 4 dogs, 21.7ms\n",
      "video 1/1 (frame 444/1800) /Users/magewade/Desktop/ML/puppies_detection/video/puppies_inference_4.mp4: 384x640 4 dogs, 17.9ms\n",
      "video 1/1 (frame 445/1800) /Users/magewade/Desktop/ML/puppies_detection/video/puppies_inference_4.mp4: 384x640 4 dogs, 18.3ms\n",
      "video 1/1 (frame 446/1800) /Users/magewade/Desktop/ML/puppies_detection/video/puppies_inference_4.mp4: 384x640 4 dogs, 21.6ms\n",
      "video 1/1 (frame 447/1800) /Users/magewade/Desktop/ML/puppies_detection/video/puppies_inference_4.mp4: 384x640 4 dogs, 18.8ms\n",
      "video 1/1 (frame 448/1800) /Users/magewade/Desktop/ML/puppies_detection/video/puppies_inference_4.mp4: 384x640 4 dogs, 19.8ms\n",
      "video 1/1 (frame 449/1800) /Users/magewade/Desktop/ML/puppies_detection/video/puppies_inference_4.mp4: 384x640 4 dogs, 25.4ms\n",
      "video 1/1 (frame 450/1800) /Users/magewade/Desktop/ML/puppies_detection/video/puppies_inference_4.mp4: 384x640 4 dogs, 18.2ms\n",
      "video 1/1 (frame 451/1800) /Users/magewade/Desktop/ML/puppies_detection/video/puppies_inference_4.mp4: 384x640 4 dogs, 17.7ms\n",
      "video 1/1 (frame 452/1800) /Users/magewade/Desktop/ML/puppies_detection/video/puppies_inference_4.mp4: 384x640 4 dogs, 19.7ms\n",
      "video 1/1 (frame 453/1800) /Users/magewade/Desktop/ML/puppies_detection/video/puppies_inference_4.mp4: 384x640 4 dogs, 19.8ms\n",
      "video 1/1 (frame 454/1800) /Users/magewade/Desktop/ML/puppies_detection/video/puppies_inference_4.mp4: 384x640 4 dogs, 19.8ms\n",
      "video 1/1 (frame 455/1800) /Users/magewade/Desktop/ML/puppies_detection/video/puppies_inference_4.mp4: 384x640 4 dogs, 19.4ms\n",
      "video 1/1 (frame 456/1800) /Users/magewade/Desktop/ML/puppies_detection/video/puppies_inference_4.mp4: 384x640 4 dogs, 19.9ms\n",
      "video 1/1 (frame 457/1800) /Users/magewade/Desktop/ML/puppies_detection/video/puppies_inference_4.mp4: 384x640 4 dogs, 18.9ms\n",
      "video 1/1 (frame 458/1800) /Users/magewade/Desktop/ML/puppies_detection/video/puppies_inference_4.mp4: 384x640 4 dogs, 20.3ms\n",
      "video 1/1 (frame 459/1800) /Users/magewade/Desktop/ML/puppies_detection/video/puppies_inference_4.mp4: 384x640 4 dogs, 18.6ms\n",
      "video 1/1 (frame 460/1800) /Users/magewade/Desktop/ML/puppies_detection/video/puppies_inference_4.mp4: 384x640 4 dogs, 19.2ms\n",
      "video 1/1 (frame 461/1800) /Users/magewade/Desktop/ML/puppies_detection/video/puppies_inference_4.mp4: 384x640 4 dogs, 18.5ms\n",
      "video 1/1 (frame 462/1800) /Users/magewade/Desktop/ML/puppies_detection/video/puppies_inference_4.mp4: 384x640 4 dogs, 18.6ms\n",
      "video 1/1 (frame 463/1800) /Users/magewade/Desktop/ML/puppies_detection/video/puppies_inference_4.mp4: 384x640 3 dogs, 18.4ms\n",
      "video 1/1 (frame 464/1800) /Users/magewade/Desktop/ML/puppies_detection/video/puppies_inference_4.mp4: 384x640 3 dogs, 20.4ms\n",
      "video 1/1 (frame 465/1800) /Users/magewade/Desktop/ML/puppies_detection/video/puppies_inference_4.mp4: 384x640 4 dogs, 19.7ms\n",
      "video 1/1 (frame 466/1800) /Users/magewade/Desktop/ML/puppies_detection/video/puppies_inference_4.mp4: 384x640 3 dogs, 19.2ms\n",
      "video 1/1 (frame 467/1800) /Users/magewade/Desktop/ML/puppies_detection/video/puppies_inference_4.mp4: 384x640 3 dogs, 18.9ms\n",
      "video 1/1 (frame 468/1800) /Users/magewade/Desktop/ML/puppies_detection/video/puppies_inference_4.mp4: 384x640 3 dogs, 18.6ms\n",
      "video 1/1 (frame 469/1800) /Users/magewade/Desktop/ML/puppies_detection/video/puppies_inference_4.mp4: 384x640 4 dogs, 19.2ms\n",
      "video 1/1 (frame 470/1800) /Users/magewade/Desktop/ML/puppies_detection/video/puppies_inference_4.mp4: 384x640 4 dogs, 17.7ms\n",
      "video 1/1 (frame 471/1800) /Users/magewade/Desktop/ML/puppies_detection/video/puppies_inference_4.mp4: 384x640 4 dogs, 18.3ms\n",
      "video 1/1 (frame 472/1800) /Users/magewade/Desktop/ML/puppies_detection/video/puppies_inference_4.mp4: 384x640 3 dogs, 19.6ms\n",
      "video 1/1 (frame 473/1800) /Users/magewade/Desktop/ML/puppies_detection/video/puppies_inference_4.mp4: 384x640 3 dogs, 20.4ms\n",
      "video 1/1 (frame 474/1800) /Users/magewade/Desktop/ML/puppies_detection/video/puppies_inference_4.mp4: 384x640 4 dogs, 18.6ms\n",
      "video 1/1 (frame 475/1800) /Users/magewade/Desktop/ML/puppies_detection/video/puppies_inference_4.mp4: 384x640 4 dogs, 23.2ms\n",
      "video 1/1 (frame 476/1800) /Users/magewade/Desktop/ML/puppies_detection/video/puppies_inference_4.mp4: 384x640 4 dogs, 21.2ms\n",
      "video 1/1 (frame 477/1800) /Users/magewade/Desktop/ML/puppies_detection/video/puppies_inference_4.mp4: 384x640 4 dogs, 17.7ms\n",
      "video 1/1 (frame 478/1800) /Users/magewade/Desktop/ML/puppies_detection/video/puppies_inference_4.mp4: 384x640 3 dogs, 19.9ms\n",
      "video 1/1 (frame 479/1800) /Users/magewade/Desktop/ML/puppies_detection/video/puppies_inference_4.mp4: 384x640 2 dogs, 19.2ms\n",
      "video 1/1 (frame 480/1800) /Users/magewade/Desktop/ML/puppies_detection/video/puppies_inference_4.mp4: 384x640 3 dogs, 20.2ms\n",
      "video 1/1 (frame 481/1800) /Users/magewade/Desktop/ML/puppies_detection/video/puppies_inference_4.mp4: 384x640 3 dogs, 19.6ms\n",
      "video 1/1 (frame 482/1800) /Users/magewade/Desktop/ML/puppies_detection/video/puppies_inference_4.mp4: 384x640 4 dogs, 18.5ms\n",
      "video 1/1 (frame 483/1800) /Users/magewade/Desktop/ML/puppies_detection/video/puppies_inference_4.mp4: 384x640 4 dogs, 18.8ms\n",
      "video 1/1 (frame 484/1800) /Users/magewade/Desktop/ML/puppies_detection/video/puppies_inference_4.mp4: 384x640 4 dogs, 25.4ms\n",
      "video 1/1 (frame 485/1800) /Users/magewade/Desktop/ML/puppies_detection/video/puppies_inference_4.mp4: 384x640 4 dogs, 18.2ms\n",
      "video 1/1 (frame 486/1800) /Users/magewade/Desktop/ML/puppies_detection/video/puppies_inference_4.mp4: 384x640 5 dogs, 20.4ms\n",
      "video 1/1 (frame 487/1800) /Users/magewade/Desktop/ML/puppies_detection/video/puppies_inference_4.mp4: 384x640 5 dogs, 18.3ms\n",
      "video 1/1 (frame 488/1800) /Users/magewade/Desktop/ML/puppies_detection/video/puppies_inference_4.mp4: 384x640 5 dogs, 19.6ms\n",
      "video 1/1 (frame 489/1800) /Users/magewade/Desktop/ML/puppies_detection/video/puppies_inference_4.mp4: 384x640 4 dogs, 18.3ms\n",
      "video 1/1 (frame 490/1800) /Users/magewade/Desktop/ML/puppies_detection/video/puppies_inference_4.mp4: 384x640 4 dogs, 20.8ms\n",
      "video 1/1 (frame 491/1800) /Users/magewade/Desktop/ML/puppies_detection/video/puppies_inference_4.mp4: 384x640 3 dogs, 20.4ms\n",
      "video 1/1 (frame 492/1800) /Users/magewade/Desktop/ML/puppies_detection/video/puppies_inference_4.mp4: 384x640 4 dogs, 19.7ms\n",
      "video 1/1 (frame 493/1800) /Users/magewade/Desktop/ML/puppies_detection/video/puppies_inference_4.mp4: 384x640 5 dogs, 20.5ms\n",
      "video 1/1 (frame 494/1800) /Users/magewade/Desktop/ML/puppies_detection/video/puppies_inference_4.mp4: 384x640 6 dogs, 19.2ms\n",
      "video 1/1 (frame 495/1800) /Users/magewade/Desktop/ML/puppies_detection/video/puppies_inference_4.mp4: 384x640 6 dogs, 17.5ms\n",
      "video 1/1 (frame 496/1800) /Users/magewade/Desktop/ML/puppies_detection/video/puppies_inference_4.mp4: 384x640 6 dogs, 20.5ms\n",
      "video 1/1 (frame 497/1800) /Users/magewade/Desktop/ML/puppies_detection/video/puppies_inference_4.mp4: 384x640 6 dogs, 18.1ms\n",
      "video 1/1 (frame 498/1800) /Users/magewade/Desktop/ML/puppies_detection/video/puppies_inference_4.mp4: 384x640 5 dogs, 19.5ms\n",
      "video 1/1 (frame 499/1800) /Users/magewade/Desktop/ML/puppies_detection/video/puppies_inference_4.mp4: 384x640 5 dogs, 19.1ms\n",
      "video 1/1 (frame 500/1800) /Users/magewade/Desktop/ML/puppies_detection/video/puppies_inference_4.mp4: 384x640 3 dogs, 17.4ms\n",
      "video 1/1 (frame 501/1800) /Users/magewade/Desktop/ML/puppies_detection/video/puppies_inference_4.mp4: 384x640 4 dogs, 18.1ms\n",
      "video 1/1 (frame 502/1800) /Users/magewade/Desktop/ML/puppies_detection/video/puppies_inference_4.mp4: 384x640 2 dogs, 17.9ms\n",
      "video 1/1 (frame 503/1800) /Users/magewade/Desktop/ML/puppies_detection/video/puppies_inference_4.mp4: 384x640 2 dogs, 21.1ms\n",
      "video 1/1 (frame 504/1800) /Users/magewade/Desktop/ML/puppies_detection/video/puppies_inference_4.mp4: 384x640 2 dogs, 18.1ms\n",
      "video 1/1 (frame 505/1800) /Users/magewade/Desktop/ML/puppies_detection/video/puppies_inference_4.mp4: 384x640 2 dogs, 18.0ms\n",
      "video 1/1 (frame 506/1800) /Users/magewade/Desktop/ML/puppies_detection/video/puppies_inference_4.mp4: 384x640 4 dogs, 18.2ms\n",
      "video 1/1 (frame 507/1800) /Users/magewade/Desktop/ML/puppies_detection/video/puppies_inference_4.mp4: 384x640 4 dogs, 19.3ms\n",
      "video 1/1 (frame 508/1800) /Users/magewade/Desktop/ML/puppies_detection/video/puppies_inference_4.mp4: 384x640 4 dogs, 29.8ms\n",
      "video 1/1 (frame 509/1800) /Users/magewade/Desktop/ML/puppies_detection/video/puppies_inference_4.mp4: 384x640 5 dogs, 19.2ms\n",
      "video 1/1 (frame 510/1800) /Users/magewade/Desktop/ML/puppies_detection/video/puppies_inference_4.mp4: 384x640 4 dogs, 20.3ms\n",
      "video 1/1 (frame 511/1800) /Users/magewade/Desktop/ML/puppies_detection/video/puppies_inference_4.mp4: 384x640 4 dogs, 20.0ms\n",
      "video 1/1 (frame 512/1800) /Users/magewade/Desktop/ML/puppies_detection/video/puppies_inference_4.mp4: 384x640 4 dogs, 19.5ms\n",
      "video 1/1 (frame 513/1800) /Users/magewade/Desktop/ML/puppies_detection/video/puppies_inference_4.mp4: 384x640 3 dogs, 18.9ms\n",
      "video 1/1 (frame 514/1800) /Users/magewade/Desktop/ML/puppies_detection/video/puppies_inference_4.mp4: 384x640 3 dogs, 17.7ms\n",
      "video 1/1 (frame 515/1800) /Users/magewade/Desktop/ML/puppies_detection/video/puppies_inference_4.mp4: 384x640 3 dogs, 20.1ms\n",
      "video 1/1 (frame 516/1800) /Users/magewade/Desktop/ML/puppies_detection/video/puppies_inference_4.mp4: 384x640 4 dogs, 19.2ms\n",
      "video 1/1 (frame 517/1800) /Users/magewade/Desktop/ML/puppies_detection/video/puppies_inference_4.mp4: 384x640 4 dogs, 25.4ms\n",
      "video 1/1 (frame 518/1800) /Users/magewade/Desktop/ML/puppies_detection/video/puppies_inference_4.mp4: 384x640 4 dogs, 18.2ms\n",
      "video 1/1 (frame 519/1800) /Users/magewade/Desktop/ML/puppies_detection/video/puppies_inference_4.mp4: 384x640 4 dogs, 18.5ms\n",
      "video 1/1 (frame 520/1800) /Users/magewade/Desktop/ML/puppies_detection/video/puppies_inference_4.mp4: 384x640 4 dogs, 19.4ms\n",
      "video 1/1 (frame 521/1800) /Users/magewade/Desktop/ML/puppies_detection/video/puppies_inference_4.mp4: 384x640 5 dogs, 19.9ms\n",
      "video 1/1 (frame 522/1800) /Users/magewade/Desktop/ML/puppies_detection/video/puppies_inference_4.mp4: 384x640 5 dogs, 19.8ms\n",
      "video 1/1 (frame 523/1800) /Users/magewade/Desktop/ML/puppies_detection/video/puppies_inference_4.mp4: 384x640 5 dogs, 21.1ms\n",
      "video 1/1 (frame 524/1800) /Users/magewade/Desktop/ML/puppies_detection/video/puppies_inference_4.mp4: 384x640 4 dogs, 18.6ms\n",
      "video 1/1 (frame 525/1800) /Users/magewade/Desktop/ML/puppies_detection/video/puppies_inference_4.mp4: 384x640 4 dogs, 19.9ms\n",
      "video 1/1 (frame 526/1800) /Users/magewade/Desktop/ML/puppies_detection/video/puppies_inference_4.mp4: 384x640 4 dogs, 19.3ms\n",
      "video 1/1 (frame 527/1800) /Users/magewade/Desktop/ML/puppies_detection/video/puppies_inference_4.mp4: 384x640 4 dogs, 20.1ms\n",
      "video 1/1 (frame 528/1800) /Users/magewade/Desktop/ML/puppies_detection/video/puppies_inference_4.mp4: 384x640 3 dogs, 18.2ms\n",
      "video 1/1 (frame 529/1800) /Users/magewade/Desktop/ML/puppies_detection/video/puppies_inference_4.mp4: 384x640 4 dogs, 22.5ms\n",
      "video 1/1 (frame 530/1800) /Users/magewade/Desktop/ML/puppies_detection/video/puppies_inference_4.mp4: 384x640 4 dogs, 18.9ms\n",
      "video 1/1 (frame 531/1800) /Users/magewade/Desktop/ML/puppies_detection/video/puppies_inference_4.mp4: 384x640 5 dogs, 19.0ms\n",
      "video 1/1 (frame 532/1800) /Users/magewade/Desktop/ML/puppies_detection/video/puppies_inference_4.mp4: 384x640 4 dogs, 19.4ms\n",
      "video 1/1 (frame 533/1800) /Users/magewade/Desktop/ML/puppies_detection/video/puppies_inference_4.mp4: 384x640 4 dogs, 20.4ms\n",
      "video 1/1 (frame 534/1800) /Users/magewade/Desktop/ML/puppies_detection/video/puppies_inference_4.mp4: 384x640 4 dogs, 18.9ms\n",
      "video 1/1 (frame 535/1800) /Users/magewade/Desktop/ML/puppies_detection/video/puppies_inference_4.mp4: 384x640 4 dogs, 18.9ms\n",
      "video 1/1 (frame 536/1800) /Users/magewade/Desktop/ML/puppies_detection/video/puppies_inference_4.mp4: 384x640 4 dogs, 18.4ms\n",
      "video 1/1 (frame 537/1800) /Users/magewade/Desktop/ML/puppies_detection/video/puppies_inference_4.mp4: 384x640 4 dogs, 19.4ms\n",
      "video 1/1 (frame 538/1800) /Users/magewade/Desktop/ML/puppies_detection/video/puppies_inference_4.mp4: 384x640 4 dogs, 20.1ms\n",
      "video 1/1 (frame 539/1800) /Users/magewade/Desktop/ML/puppies_detection/video/puppies_inference_4.mp4: 384x640 4 dogs, 19.8ms\n",
      "video 1/1 (frame 540/1800) /Users/magewade/Desktop/ML/puppies_detection/video/puppies_inference_4.mp4: 384x640 4 dogs, 21.7ms\n",
      "video 1/1 (frame 541/1800) /Users/magewade/Desktop/ML/puppies_detection/video/puppies_inference_4.mp4: 384x640 4 dogs, 18.6ms\n",
      "video 1/1 (frame 542/1800) /Users/magewade/Desktop/ML/puppies_detection/video/puppies_inference_4.mp4: 384x640 4 dogs, 18.9ms\n",
      "video 1/1 (frame 543/1800) /Users/magewade/Desktop/ML/puppies_detection/video/puppies_inference_4.mp4: 384x640 4 dogs, 17.8ms\n",
      "video 1/1 (frame 544/1800) /Users/magewade/Desktop/ML/puppies_detection/video/puppies_inference_4.mp4: 384x640 4 dogs, 18.2ms\n",
      "video 1/1 (frame 545/1800) /Users/magewade/Desktop/ML/puppies_detection/video/puppies_inference_4.mp4: 384x640 4 dogs, 19.6ms\n",
      "video 1/1 (frame 546/1800) /Users/magewade/Desktop/ML/puppies_detection/video/puppies_inference_4.mp4: 384x640 4 dogs, 19.1ms\n",
      "video 1/1 (frame 547/1800) /Users/magewade/Desktop/ML/puppies_detection/video/puppies_inference_4.mp4: 384x640 4 dogs, 20.7ms\n",
      "video 1/1 (frame 548/1800) /Users/magewade/Desktop/ML/puppies_detection/video/puppies_inference_4.mp4: 384x640 4 dogs, 17.8ms\n",
      "video 1/1 (frame 549/1800) /Users/magewade/Desktop/ML/puppies_detection/video/puppies_inference_4.mp4: 384x640 4 dogs, 23.9ms\n",
      "video 1/1 (frame 550/1800) /Users/magewade/Desktop/ML/puppies_detection/video/puppies_inference_4.mp4: 384x640 4 dogs, 19.5ms\n",
      "video 1/1 (frame 551/1800) /Users/magewade/Desktop/ML/puppies_detection/video/puppies_inference_4.mp4: 384x640 4 dogs, 20.0ms\n",
      "video 1/1 (frame 552/1800) /Users/magewade/Desktop/ML/puppies_detection/video/puppies_inference_4.mp4: 384x640 4 dogs, 18.7ms\n",
      "video 1/1 (frame 553/1800) /Users/magewade/Desktop/ML/puppies_detection/video/puppies_inference_4.mp4: 384x640 4 dogs, 19.6ms\n",
      "video 1/1 (frame 554/1800) /Users/magewade/Desktop/ML/puppies_detection/video/puppies_inference_4.mp4: 384x640 4 dogs, 18.5ms\n",
      "video 1/1 (frame 555/1800) /Users/magewade/Desktop/ML/puppies_detection/video/puppies_inference_4.mp4: 384x640 4 dogs, 19.7ms\n",
      "video 1/1 (frame 556/1800) /Users/magewade/Desktop/ML/puppies_detection/video/puppies_inference_4.mp4: 384x640 4 dogs, 18.7ms\n",
      "video 1/1 (frame 557/1800) /Users/magewade/Desktop/ML/puppies_detection/video/puppies_inference_4.mp4: 384x640 4 dogs, 19.0ms\n",
      "video 1/1 (frame 558/1800) /Users/magewade/Desktop/ML/puppies_detection/video/puppies_inference_4.mp4: 384x640 4 dogs, 20.6ms\n",
      "video 1/1 (frame 559/1800) /Users/magewade/Desktop/ML/puppies_detection/video/puppies_inference_4.mp4: 384x640 4 dogs, 19.7ms\n",
      "video 1/1 (frame 560/1800) /Users/magewade/Desktop/ML/puppies_detection/video/puppies_inference_4.mp4: 384x640 4 dogs, 18.7ms\n",
      "video 1/1 (frame 561/1800) /Users/magewade/Desktop/ML/puppies_detection/video/puppies_inference_4.mp4: 384x640 4 dogs, 19.6ms\n",
      "video 1/1 (frame 562/1800) /Users/magewade/Desktop/ML/puppies_detection/video/puppies_inference_4.mp4: 384x640 4 dogs, 20.7ms\n",
      "video 1/1 (frame 563/1800) /Users/magewade/Desktop/ML/puppies_detection/video/puppies_inference_4.mp4: 384x640 4 dogs, 20.7ms\n",
      "video 1/1 (frame 564/1800) /Users/magewade/Desktop/ML/puppies_detection/video/puppies_inference_4.mp4: 384x640 4 dogs, 22.5ms\n",
      "video 1/1 (frame 565/1800) /Users/magewade/Desktop/ML/puppies_detection/video/puppies_inference_4.mp4: 384x640 4 dogs, 22.1ms\n",
      "video 1/1 (frame 566/1800) /Users/magewade/Desktop/ML/puppies_detection/video/puppies_inference_4.mp4: 384x640 3 dogs, 24.5ms\n",
      "video 1/1 (frame 567/1800) /Users/magewade/Desktop/ML/puppies_detection/video/puppies_inference_4.mp4: 384x640 4 dogs, 23.3ms\n",
      "video 1/1 (frame 568/1800) /Users/magewade/Desktop/ML/puppies_detection/video/puppies_inference_4.mp4: 384x640 4 dogs, 23.0ms\n",
      "video 1/1 (frame 569/1800) /Users/magewade/Desktop/ML/puppies_detection/video/puppies_inference_4.mp4: 384x640 4 dogs, 22.9ms\n",
      "video 1/1 (frame 570/1800) /Users/magewade/Desktop/ML/puppies_detection/video/puppies_inference_4.mp4: 384x640 4 dogs, 22.4ms\n",
      "video 1/1 (frame 571/1800) /Users/magewade/Desktop/ML/puppies_detection/video/puppies_inference_4.mp4: 384x640 4 dogs, 19.7ms\n",
      "video 1/1 (frame 572/1800) /Users/magewade/Desktop/ML/puppies_detection/video/puppies_inference_4.mp4: 384x640 4 dogs, 20.2ms\n",
      "video 1/1 (frame 573/1800) /Users/magewade/Desktop/ML/puppies_detection/video/puppies_inference_4.mp4: 384x640 4 dogs, 18.4ms\n",
      "video 1/1 (frame 574/1800) /Users/magewade/Desktop/ML/puppies_detection/video/puppies_inference_4.mp4: 384x640 4 dogs, 20.1ms\n",
      "video 1/1 (frame 575/1800) /Users/magewade/Desktop/ML/puppies_detection/video/puppies_inference_4.mp4: 384x640 4 dogs, 19.6ms\n",
      "video 1/1 (frame 576/1800) /Users/magewade/Desktop/ML/puppies_detection/video/puppies_inference_4.mp4: 384x640 4 dogs, 20.3ms\n",
      "video 1/1 (frame 577/1800) /Users/magewade/Desktop/ML/puppies_detection/video/puppies_inference_4.mp4: 384x640 4 dogs, 18.9ms\n",
      "video 1/1 (frame 578/1800) /Users/magewade/Desktop/ML/puppies_detection/video/puppies_inference_4.mp4: 384x640 5 dogs, 24.5ms\n",
      "video 1/1 (frame 579/1800) /Users/magewade/Desktop/ML/puppies_detection/video/puppies_inference_4.mp4: 384x640 4 dogs, 18.5ms\n",
      "video 1/1 (frame 580/1800) /Users/magewade/Desktop/ML/puppies_detection/video/puppies_inference_4.mp4: 384x640 4 dogs, 19.9ms\n",
      "video 1/1 (frame 581/1800) /Users/magewade/Desktop/ML/puppies_detection/video/puppies_inference_4.mp4: 384x640 4 dogs, 18.9ms\n",
      "video 1/1 (frame 582/1800) /Users/magewade/Desktop/ML/puppies_detection/video/puppies_inference_4.mp4: 384x640 5 dogs, 19.9ms\n",
      "video 1/1 (frame 583/1800) /Users/magewade/Desktop/ML/puppies_detection/video/puppies_inference_4.mp4: 384x640 5 dogs, 21.5ms\n",
      "video 1/1 (frame 584/1800) /Users/magewade/Desktop/ML/puppies_detection/video/puppies_inference_4.mp4: 384x640 5 dogs, 21.4ms\n",
      "video 1/1 (frame 585/1800) /Users/magewade/Desktop/ML/puppies_detection/video/puppies_inference_4.mp4: 384x640 5 dogs, 17.4ms\n",
      "video 1/1 (frame 586/1800) /Users/magewade/Desktop/ML/puppies_detection/video/puppies_inference_4.mp4: 384x640 4 dogs, 18.8ms\n",
      "video 1/1 (frame 587/1800) /Users/magewade/Desktop/ML/puppies_detection/video/puppies_inference_4.mp4: 384x640 4 dogs, 19.5ms\n",
      "video 1/1 (frame 588/1800) /Users/magewade/Desktop/ML/puppies_detection/video/puppies_inference_4.mp4: 384x640 4 dogs, 20.5ms\n",
      "video 1/1 (frame 589/1800) /Users/magewade/Desktop/ML/puppies_detection/video/puppies_inference_4.mp4: 384x640 4 dogs, 18.6ms\n",
      "video 1/1 (frame 590/1800) /Users/magewade/Desktop/ML/puppies_detection/video/puppies_inference_4.mp4: 384x640 4 dogs, 24.6ms\n",
      "video 1/1 (frame 591/1800) /Users/magewade/Desktop/ML/puppies_detection/video/puppies_inference_4.mp4: 384x640 4 dogs, 23.3ms\n",
      "video 1/1 (frame 592/1800) /Users/magewade/Desktop/ML/puppies_detection/video/puppies_inference_4.mp4: 384x640 4 dogs, 18.4ms\n",
      "video 1/1 (frame 593/1800) /Users/magewade/Desktop/ML/puppies_detection/video/puppies_inference_4.mp4: 384x640 4 dogs, 18.6ms\n",
      "video 1/1 (frame 594/1800) /Users/magewade/Desktop/ML/puppies_detection/video/puppies_inference_4.mp4: 384x640 4 dogs, 17.9ms\n",
      "video 1/1 (frame 595/1800) /Users/magewade/Desktop/ML/puppies_detection/video/puppies_inference_4.mp4: 384x640 4 dogs, 18.4ms\n",
      "video 1/1 (frame 596/1800) /Users/magewade/Desktop/ML/puppies_detection/video/puppies_inference_4.mp4: 384x640 4 dogs, 21.5ms\n",
      "video 1/1 (frame 597/1800) /Users/magewade/Desktop/ML/puppies_detection/video/puppies_inference_4.mp4: 384x640 4 dogs, 20.3ms\n",
      "video 1/1 (frame 598/1800) /Users/magewade/Desktop/ML/puppies_detection/video/puppies_inference_4.mp4: 384x640 3 dogs, 21.4ms\n",
      "video 1/1 (frame 599/1800) /Users/magewade/Desktop/ML/puppies_detection/video/puppies_inference_4.mp4: 384x640 3 dogs, 21.2ms\n",
      "video 1/1 (frame 600/1800) /Users/magewade/Desktop/ML/puppies_detection/video/puppies_inference_4.mp4: 384x640 3 dogs, 20.2ms\n",
      "video 1/1 (frame 601/1800) /Users/magewade/Desktop/ML/puppies_detection/video/puppies_inference_4.mp4: 384x640 4 dogs, 19.8ms\n",
      "video 1/1 (frame 602/1800) /Users/magewade/Desktop/ML/puppies_detection/video/puppies_inference_4.mp4: 384x640 4 dogs, 20.0ms\n",
      "video 1/1 (frame 603/1800) /Users/magewade/Desktop/ML/puppies_detection/video/puppies_inference_4.mp4: 384x640 4 dogs, 19.0ms\n",
      "video 1/1 (frame 604/1800) /Users/magewade/Desktop/ML/puppies_detection/video/puppies_inference_4.mp4: 384x640 3 dogs, 18.2ms\n",
      "video 1/1 (frame 605/1800) /Users/magewade/Desktop/ML/puppies_detection/video/puppies_inference_4.mp4: 384x640 3 dogs, 20.1ms\n",
      "video 1/1 (frame 606/1800) /Users/magewade/Desktop/ML/puppies_detection/video/puppies_inference_4.mp4: 384x640 3 dogs, 26.1ms\n",
      "video 1/1 (frame 607/1800) /Users/magewade/Desktop/ML/puppies_detection/video/puppies_inference_4.mp4: 384x640 4 dogs, 19.2ms\n",
      "video 1/1 (frame 608/1800) /Users/magewade/Desktop/ML/puppies_detection/video/puppies_inference_4.mp4: 384x640 4 dogs, 19.6ms\n",
      "video 1/1 (frame 609/1800) /Users/magewade/Desktop/ML/puppies_detection/video/puppies_inference_4.mp4: 384x640 5 dogs, 19.2ms\n",
      "video 1/1 (frame 610/1800) /Users/magewade/Desktop/ML/puppies_detection/video/puppies_inference_4.mp4: 384x640 5 dogs, 19.8ms\n",
      "video 1/1 (frame 611/1800) /Users/magewade/Desktop/ML/puppies_detection/video/puppies_inference_4.mp4: 384x640 5 dogs, 18.7ms\n",
      "video 1/1 (frame 612/1800) /Users/magewade/Desktop/ML/puppies_detection/video/puppies_inference_4.mp4: 384x640 5 dogs, 18.3ms\n",
      "video 1/1 (frame 613/1800) /Users/magewade/Desktop/ML/puppies_detection/video/puppies_inference_4.mp4: 384x640 5 dogs, 19.6ms\n",
      "video 1/1 (frame 614/1800) /Users/magewade/Desktop/ML/puppies_detection/video/puppies_inference_4.mp4: 384x640 5 dogs, 18.9ms\n",
      "video 1/1 (frame 615/1800) /Users/magewade/Desktop/ML/puppies_detection/video/puppies_inference_4.mp4: 384x640 5 dogs, 19.0ms\n",
      "video 1/1 (frame 616/1800) /Users/magewade/Desktop/ML/puppies_detection/video/puppies_inference_4.mp4: 384x640 5 dogs, 20.8ms\n",
      "video 1/1 (frame 617/1800) /Users/magewade/Desktop/ML/puppies_detection/video/puppies_inference_4.mp4: 384x640 5 dogs, 18.8ms\n",
      "video 1/1 (frame 618/1800) /Users/magewade/Desktop/ML/puppies_detection/video/puppies_inference_4.mp4: 384x640 5 dogs, 18.7ms\n",
      "video 1/1 (frame 619/1800) /Users/magewade/Desktop/ML/puppies_detection/video/puppies_inference_4.mp4: 384x640 4 dogs, 19.4ms\n",
      "video 1/1 (frame 620/1800) /Users/magewade/Desktop/ML/puppies_detection/video/puppies_inference_4.mp4: 384x640 4 dogs, 18.3ms\n",
      "video 1/1 (frame 621/1800) /Users/magewade/Desktop/ML/puppies_detection/video/puppies_inference_4.mp4: 384x640 5 dogs, 19.4ms\n",
      "video 1/1 (frame 622/1800) /Users/magewade/Desktop/ML/puppies_detection/video/puppies_inference_4.mp4: 384x640 5 dogs, 19.1ms\n",
      "video 1/1 (frame 623/1800) /Users/magewade/Desktop/ML/puppies_detection/video/puppies_inference_4.mp4: 384x640 5 dogs, 17.8ms\n",
      "video 1/1 (frame 624/1800) /Users/magewade/Desktop/ML/puppies_detection/video/puppies_inference_4.mp4: 384x640 5 dogs, 18.3ms\n",
      "video 1/1 (frame 625/1800) /Users/magewade/Desktop/ML/puppies_detection/video/puppies_inference_4.mp4: 384x640 5 dogs, 20.6ms\n",
      "video 1/1 (frame 626/1800) /Users/magewade/Desktop/ML/puppies_detection/video/puppies_inference_4.mp4: 384x640 5 dogs, 18.9ms\n",
      "video 1/1 (frame 627/1800) /Users/magewade/Desktop/ML/puppies_detection/video/puppies_inference_4.mp4: 384x640 5 dogs, 19.2ms\n",
      "video 1/1 (frame 628/1800) /Users/magewade/Desktop/ML/puppies_detection/video/puppies_inference_4.mp4: 384x640 5 dogs, 20.4ms\n",
      "video 1/1 (frame 629/1800) /Users/magewade/Desktop/ML/puppies_detection/video/puppies_inference_4.mp4: 384x640 5 dogs, 31.5ms\n",
      "video 1/1 (frame 630/1800) /Users/magewade/Desktop/ML/puppies_detection/video/puppies_inference_4.mp4: 384x640 5 dogs, 20.2ms\n",
      "video 1/1 (frame 631/1800) /Users/magewade/Desktop/ML/puppies_detection/video/puppies_inference_4.mp4: 384x640 5 dogs, 19.2ms\n",
      "video 1/1 (frame 632/1800) /Users/magewade/Desktop/ML/puppies_detection/video/puppies_inference_4.mp4: 384x640 4 dogs, 22.7ms\n",
      "video 1/1 (frame 633/1800) /Users/magewade/Desktop/ML/puppies_detection/video/puppies_inference_4.mp4: 384x640 4 dogs, 23.7ms\n",
      "video 1/1 (frame 634/1800) /Users/magewade/Desktop/ML/puppies_detection/video/puppies_inference_4.mp4: 384x640 4 dogs, 17.9ms\n",
      "video 1/1 (frame 635/1800) /Users/magewade/Desktop/ML/puppies_detection/video/puppies_inference_4.mp4: 384x640 4 dogs, 18.5ms\n",
      "video 1/1 (frame 636/1800) /Users/magewade/Desktop/ML/puppies_detection/video/puppies_inference_4.mp4: 384x640 4 dogs, 19.9ms\n",
      "video 1/1 (frame 637/1800) /Users/magewade/Desktop/ML/puppies_detection/video/puppies_inference_4.mp4: 384x640 4 dogs, 20.3ms\n",
      "video 1/1 (frame 638/1800) /Users/magewade/Desktop/ML/puppies_detection/video/puppies_inference_4.mp4: 384x640 4 dogs, 19.0ms\n",
      "video 1/1 (frame 639/1800) /Users/magewade/Desktop/ML/puppies_detection/video/puppies_inference_4.mp4: 384x640 4 dogs, 17.8ms\n",
      "video 1/1 (frame 640/1800) /Users/magewade/Desktop/ML/puppies_detection/video/puppies_inference_4.mp4: 384x640 4 dogs, 17.8ms\n",
      "video 1/1 (frame 641/1800) /Users/magewade/Desktop/ML/puppies_detection/video/puppies_inference_4.mp4: 384x640 4 dogs, 20.4ms\n",
      "video 1/1 (frame 642/1800) /Users/magewade/Desktop/ML/puppies_detection/video/puppies_inference_4.mp4: 384x640 5 dogs, 18.6ms\n",
      "video 1/1 (frame 643/1800) /Users/magewade/Desktop/ML/puppies_detection/video/puppies_inference_4.mp4: 384x640 5 dogs, 19.9ms\n",
      "video 1/1 (frame 644/1800) /Users/magewade/Desktop/ML/puppies_detection/video/puppies_inference_4.mp4: 384x640 5 dogs, 20.8ms\n",
      "video 1/1 (frame 645/1800) /Users/magewade/Desktop/ML/puppies_detection/video/puppies_inference_4.mp4: 384x640 5 dogs, 17.4ms\n",
      "video 1/1 (frame 646/1800) /Users/magewade/Desktop/ML/puppies_detection/video/puppies_inference_4.mp4: 384x640 5 dogs, 18.3ms\n",
      "video 1/1 (frame 647/1800) /Users/magewade/Desktop/ML/puppies_detection/video/puppies_inference_4.mp4: 384x640 5 dogs, 19.1ms\n",
      "video 1/1 (frame 648/1800) /Users/magewade/Desktop/ML/puppies_detection/video/puppies_inference_4.mp4: 384x640 5 dogs, 20.0ms\n",
      "video 1/1 (frame 649/1800) /Users/magewade/Desktop/ML/puppies_detection/video/puppies_inference_4.mp4: 384x640 4 dogs, 18.4ms\n",
      "video 1/1 (frame 650/1800) /Users/magewade/Desktop/ML/puppies_detection/video/puppies_inference_4.mp4: 384x640 4 dogs, 18.8ms\n",
      "video 1/1 (frame 651/1800) /Users/magewade/Desktop/ML/puppies_detection/video/puppies_inference_4.mp4: 384x640 4 dogs, 19.4ms\n",
      "video 1/1 (frame 652/1800) /Users/magewade/Desktop/ML/puppies_detection/video/puppies_inference_4.mp4: 384x640 4 dogs, 20.9ms\n",
      "video 1/1 (frame 653/1800) /Users/magewade/Desktop/ML/puppies_detection/video/puppies_inference_4.mp4: 384x640 4 dogs, 19.6ms\n",
      "video 1/1 (frame 654/1800) /Users/magewade/Desktop/ML/puppies_detection/video/puppies_inference_4.mp4: 384x640 4 dogs, 20.6ms\n",
      "video 1/1 (frame 655/1800) /Users/magewade/Desktop/ML/puppies_detection/video/puppies_inference_4.mp4: 384x640 4 dogs, 17.5ms\n",
      "video 1/1 (frame 656/1800) /Users/magewade/Desktop/ML/puppies_detection/video/puppies_inference_4.mp4: 384x640 5 dogs, 19.6ms\n",
      "video 1/1 (frame 657/1800) /Users/magewade/Desktop/ML/puppies_detection/video/puppies_inference_4.mp4: 384x640 5 dogs, 19.1ms\n",
      "video 1/1 (frame 658/1800) /Users/magewade/Desktop/ML/puppies_detection/video/puppies_inference_4.mp4: 384x640 4 dogs, 20.1ms\n",
      "video 1/1 (frame 659/1800) /Users/magewade/Desktop/ML/puppies_detection/video/puppies_inference_4.mp4: 384x640 4 dogs, 24.2ms\n",
      "video 1/1 (frame 660/1800) /Users/magewade/Desktop/ML/puppies_detection/video/puppies_inference_4.mp4: 384x640 5 dogs, 20.9ms\n",
      "video 1/1 (frame 661/1800) /Users/magewade/Desktop/ML/puppies_detection/video/puppies_inference_4.mp4: 384x640 5 dogs, 18.5ms\n",
      "video 1/1 (frame 662/1800) /Users/magewade/Desktop/ML/puppies_detection/video/puppies_inference_4.mp4: 384x640 5 dogs, 20.1ms\n",
      "video 1/1 (frame 663/1800) /Users/magewade/Desktop/ML/puppies_detection/video/puppies_inference_4.mp4: 384x640 6 dogs, 19.2ms\n",
      "video 1/1 (frame 664/1800) /Users/magewade/Desktop/ML/puppies_detection/video/puppies_inference_4.mp4: 384x640 6 dogs, 19.0ms\n",
      "video 1/1 (frame 665/1800) /Users/magewade/Desktop/ML/puppies_detection/video/puppies_inference_4.mp4: 384x640 4 dogs, 19.0ms\n",
      "video 1/1 (frame 666/1800) /Users/magewade/Desktop/ML/puppies_detection/video/puppies_inference_4.mp4: 384x640 4 dogs, 19.7ms\n",
      "video 1/1 (frame 667/1800) /Users/magewade/Desktop/ML/puppies_detection/video/puppies_inference_4.mp4: 384x640 4 dogs, 20.7ms\n",
      "video 1/1 (frame 668/1800) /Users/magewade/Desktop/ML/puppies_detection/video/puppies_inference_4.mp4: 384x640 4 dogs, 39.5ms\n",
      "video 1/1 (frame 669/1800) /Users/magewade/Desktop/ML/puppies_detection/video/puppies_inference_4.mp4: 384x640 5 dogs, 23.4ms\n",
      "video 1/1 (frame 670/1800) /Users/magewade/Desktop/ML/puppies_detection/video/puppies_inference_4.mp4: 384x640 4 dogs, 20.6ms\n",
      "video 1/1 (frame 671/1800) /Users/magewade/Desktop/ML/puppies_detection/video/puppies_inference_4.mp4: 384x640 4 dogs, 20.5ms\n",
      "video 1/1 (frame 672/1800) /Users/magewade/Desktop/ML/puppies_detection/video/puppies_inference_4.mp4: 384x640 4 dogs, 19.9ms\n",
      "video 1/1 (frame 673/1800) /Users/magewade/Desktop/ML/puppies_detection/video/puppies_inference_4.mp4: 384x640 5 dogs, 21.2ms\n",
      "video 1/1 (frame 674/1800) /Users/magewade/Desktop/ML/puppies_detection/video/puppies_inference_4.mp4: 384x640 4 dogs, 20.4ms\n",
      "video 1/1 (frame 675/1800) /Users/magewade/Desktop/ML/puppies_detection/video/puppies_inference_4.mp4: 384x640 4 dogs, 19.5ms\n",
      "video 1/1 (frame 676/1800) /Users/magewade/Desktop/ML/puppies_detection/video/puppies_inference_4.mp4: 384x640 4 dogs, 19.5ms\n",
      "video 1/1 (frame 677/1800) /Users/magewade/Desktop/ML/puppies_detection/video/puppies_inference_4.mp4: 384x640 2 dogs, 18.7ms\n",
      "video 1/1 (frame 678/1800) /Users/magewade/Desktop/ML/puppies_detection/video/puppies_inference_4.mp4: 384x640 3 dogs, 19.0ms\n",
      "video 1/1 (frame 679/1800) /Users/magewade/Desktop/ML/puppies_detection/video/puppies_inference_4.mp4: 384x640 3 dogs, 21.3ms\n",
      "video 1/1 (frame 680/1800) /Users/magewade/Desktop/ML/puppies_detection/video/puppies_inference_4.mp4: 384x640 3 dogs, 22.5ms\n",
      "video 1/1 (frame 681/1800) /Users/magewade/Desktop/ML/puppies_detection/video/puppies_inference_4.mp4: 384x640 3 dogs, 19.4ms\n",
      "video 1/1 (frame 682/1800) /Users/magewade/Desktop/ML/puppies_detection/video/puppies_inference_4.mp4: 384x640 3 dogs, 20.2ms\n",
      "video 1/1 (frame 683/1800) /Users/magewade/Desktop/ML/puppies_detection/video/puppies_inference_4.mp4: 384x640 3 dogs, 21.2ms\n",
      "video 1/1 (frame 684/1800) /Users/magewade/Desktop/ML/puppies_detection/video/puppies_inference_4.mp4: 384x640 3 dogs, 21.8ms\n",
      "video 1/1 (frame 685/1800) /Users/magewade/Desktop/ML/puppies_detection/video/puppies_inference_4.mp4: 384x640 3 dogs, 21.6ms\n",
      "video 1/1 (frame 686/1800) /Users/magewade/Desktop/ML/puppies_detection/video/puppies_inference_4.mp4: 384x640 3 dogs, 19.8ms\n",
      "video 1/1 (frame 687/1800) /Users/magewade/Desktop/ML/puppies_detection/video/puppies_inference_4.mp4: 384x640 3 dogs, 20.9ms\n",
      "video 1/1 (frame 688/1800) /Users/magewade/Desktop/ML/puppies_detection/video/puppies_inference_4.mp4: 384x640 4 dogs, 18.6ms\n",
      "video 1/1 (frame 689/1800) /Users/magewade/Desktop/ML/puppies_detection/video/puppies_inference_4.mp4: 384x640 4 dogs, 16.9ms\n",
      "video 1/1 (frame 690/1800) /Users/magewade/Desktop/ML/puppies_detection/video/puppies_inference_4.mp4: 384x640 5 dogs, 18.6ms\n",
      "video 1/1 (frame 691/1800) /Users/magewade/Desktop/ML/puppies_detection/video/puppies_inference_4.mp4: 384x640 3 dogs, 22.6ms\n",
      "video 1/1 (frame 692/1800) /Users/magewade/Desktop/ML/puppies_detection/video/puppies_inference_4.mp4: 384x640 4 dogs, 20.1ms\n",
      "video 1/1 (frame 693/1800) /Users/magewade/Desktop/ML/puppies_detection/video/puppies_inference_4.mp4: 384x640 4 dogs, 20.7ms\n",
      "video 1/1 (frame 694/1800) /Users/magewade/Desktop/ML/puppies_detection/video/puppies_inference_4.mp4: 384x640 4 dogs, 18.9ms\n",
      "video 1/1 (frame 695/1800) /Users/magewade/Desktop/ML/puppies_detection/video/puppies_inference_4.mp4: 384x640 3 dogs, 19.6ms\n",
      "video 1/1 (frame 696/1800) /Users/magewade/Desktop/ML/puppies_detection/video/puppies_inference_4.mp4: 384x640 4 dogs, 19.5ms\n",
      "video 1/1 (frame 697/1800) /Users/magewade/Desktop/ML/puppies_detection/video/puppies_inference_4.mp4: 384x640 3 dogs, 18.8ms\n",
      "video 1/1 (frame 698/1800) /Users/magewade/Desktop/ML/puppies_detection/video/puppies_inference_4.mp4: 384x640 3 dogs, 21.4ms\n",
      "video 1/1 (frame 699/1800) /Users/magewade/Desktop/ML/puppies_detection/video/puppies_inference_4.mp4: 384x640 3 dogs, 20.6ms\n",
      "video 1/1 (frame 700/1800) /Users/magewade/Desktop/ML/puppies_detection/video/puppies_inference_4.mp4: 384x640 2 dogs, 20.6ms\n",
      "video 1/1 (frame 701/1800) /Users/magewade/Desktop/ML/puppies_detection/video/puppies_inference_4.mp4: 384x640 3 dogs, 19.8ms\n",
      "video 1/1 (frame 702/1800) /Users/magewade/Desktop/ML/puppies_detection/video/puppies_inference_4.mp4: 384x640 4 dogs, 19.0ms\n",
      "video 1/1 (frame 703/1800) /Users/magewade/Desktop/ML/puppies_detection/video/puppies_inference_4.mp4: 384x640 4 dogs, 19.1ms\n",
      "video 1/1 (frame 704/1800) /Users/magewade/Desktop/ML/puppies_detection/video/puppies_inference_4.mp4: 384x640 3 dogs, 19.8ms\n",
      "video 1/1 (frame 705/1800) /Users/magewade/Desktop/ML/puppies_detection/video/puppies_inference_4.mp4: 384x640 4 dogs, 18.9ms\n",
      "video 1/1 (frame 706/1800) /Users/magewade/Desktop/ML/puppies_detection/video/puppies_inference_4.mp4: 384x640 2 dogs, 20.5ms\n",
      "video 1/1 (frame 707/1800) /Users/magewade/Desktop/ML/puppies_detection/video/puppies_inference_4.mp4: 384x640 3 dogs, 19.5ms\n",
      "video 1/1 (frame 708/1800) /Users/magewade/Desktop/ML/puppies_detection/video/puppies_inference_4.mp4: 384x640 3 dogs, 23.8ms\n",
      "video 1/1 (frame 709/1800) /Users/magewade/Desktop/ML/puppies_detection/video/puppies_inference_4.mp4: 384x640 5 dogs, 19.2ms\n",
      "video 1/1 (frame 710/1800) /Users/magewade/Desktop/ML/puppies_detection/video/puppies_inference_4.mp4: 384x640 4 dogs, 20.3ms\n",
      "video 1/1 (frame 711/1800) /Users/magewade/Desktop/ML/puppies_detection/video/puppies_inference_4.mp4: 384x640 4 dogs, 21.8ms\n",
      "video 1/1 (frame 712/1800) /Users/magewade/Desktop/ML/puppies_detection/video/puppies_inference_4.mp4: 384x640 3 dogs, 19.6ms\n",
      "video 1/1 (frame 713/1800) /Users/magewade/Desktop/ML/puppies_detection/video/puppies_inference_4.mp4: 384x640 5 dogs, 18.9ms\n",
      "video 1/1 (frame 714/1800) /Users/magewade/Desktop/ML/puppies_detection/video/puppies_inference_4.mp4: 384x640 4 dogs, 20.8ms\n",
      "video 1/1 (frame 715/1800) /Users/magewade/Desktop/ML/puppies_detection/video/puppies_inference_4.mp4: 384x640 4 dogs, 17.9ms\n",
      "video 1/1 (frame 716/1800) /Users/magewade/Desktop/ML/puppies_detection/video/puppies_inference_4.mp4: 384x640 5 dogs, 18.7ms\n",
      "video 1/1 (frame 717/1800) /Users/magewade/Desktop/ML/puppies_detection/video/puppies_inference_4.mp4: 384x640 3 dogs, 20.5ms\n",
      "video 1/1 (frame 718/1800) /Users/magewade/Desktop/ML/puppies_detection/video/puppies_inference_4.mp4: 384x640 4 dogs, 18.4ms\n",
      "video 1/1 (frame 719/1800) /Users/magewade/Desktop/ML/puppies_detection/video/puppies_inference_4.mp4: 384x640 3 dogs, 20.3ms\n",
      "video 1/1 (frame 720/1800) /Users/magewade/Desktop/ML/puppies_detection/video/puppies_inference_4.mp4: 384x640 3 dogs, 19.2ms\n",
      "video 1/1 (frame 721/1800) /Users/magewade/Desktop/ML/puppies_detection/video/puppies_inference_4.mp4: 384x640 4 dogs, 19.5ms\n",
      "video 1/1 (frame 722/1800) /Users/magewade/Desktop/ML/puppies_detection/video/puppies_inference_4.mp4: 384x640 3 dogs, 19.8ms\n",
      "video 1/1 (frame 723/1800) /Users/magewade/Desktop/ML/puppies_detection/video/puppies_inference_4.mp4: 384x640 3 dogs, 19.7ms\n",
      "video 1/1 (frame 724/1800) /Users/magewade/Desktop/ML/puppies_detection/video/puppies_inference_4.mp4: 384x640 3 dogs, 18.7ms\n",
      "video 1/1 (frame 725/1800) /Users/magewade/Desktop/ML/puppies_detection/video/puppies_inference_4.mp4: 384x640 3 dogs, 18.3ms\n",
      "video 1/1 (frame 726/1800) /Users/magewade/Desktop/ML/puppies_detection/video/puppies_inference_4.mp4: 384x640 3 dogs, 18.9ms\n",
      "video 1/1 (frame 727/1800) /Users/magewade/Desktop/ML/puppies_detection/video/puppies_inference_4.mp4: 384x640 3 dogs, 18.4ms\n",
      "video 1/1 (frame 728/1800) /Users/magewade/Desktop/ML/puppies_detection/video/puppies_inference_4.mp4: 384x640 4 dogs, 17.9ms\n",
      "video 1/1 (frame 729/1800) /Users/magewade/Desktop/ML/puppies_detection/video/puppies_inference_4.mp4: 384x640 4 dogs, 18.5ms\n",
      "video 1/1 (frame 730/1800) /Users/magewade/Desktop/ML/puppies_detection/video/puppies_inference_4.mp4: 384x640 4 dogs, 20.1ms\n",
      "video 1/1 (frame 731/1800) /Users/magewade/Desktop/ML/puppies_detection/video/puppies_inference_4.mp4: 384x640 4 dogs, 23.6ms\n",
      "video 1/1 (frame 732/1800) /Users/magewade/Desktop/ML/puppies_detection/video/puppies_inference_4.mp4: 384x640 3 dogs, 20.1ms\n",
      "video 1/1 (frame 733/1800) /Users/magewade/Desktop/ML/puppies_detection/video/puppies_inference_4.mp4: 384x640 4 dogs, 18.4ms\n",
      "video 1/1 (frame 734/1800) /Users/magewade/Desktop/ML/puppies_detection/video/puppies_inference_4.mp4: 384x640 4 dogs, 22.3ms\n",
      "video 1/1 (frame 735/1800) /Users/magewade/Desktop/ML/puppies_detection/video/puppies_inference_4.mp4: 384x640 3 dogs, 17.7ms\n",
      "video 1/1 (frame 736/1800) /Users/magewade/Desktop/ML/puppies_detection/video/puppies_inference_4.mp4: 384x640 4 dogs, 20.2ms\n",
      "video 1/1 (frame 737/1800) /Users/magewade/Desktop/ML/puppies_detection/video/puppies_inference_4.mp4: 384x640 4 dogs, 19.1ms\n",
      "video 1/1 (frame 738/1800) /Users/magewade/Desktop/ML/puppies_detection/video/puppies_inference_4.mp4: 384x640 5 dogs, 21.0ms\n",
      "video 1/1 (frame 739/1800) /Users/magewade/Desktop/ML/puppies_detection/video/puppies_inference_4.mp4: 384x640 4 dogs, 18.1ms\n",
      "video 1/1 (frame 740/1800) /Users/magewade/Desktop/ML/puppies_detection/video/puppies_inference_4.mp4: 384x640 5 dogs, 21.9ms\n",
      "video 1/1 (frame 741/1800) /Users/magewade/Desktop/ML/puppies_detection/video/puppies_inference_4.mp4: 384x640 5 dogs, 17.6ms\n",
      "video 1/1 (frame 742/1800) /Users/magewade/Desktop/ML/puppies_detection/video/puppies_inference_4.mp4: 384x640 5 dogs, 19.6ms\n",
      "video 1/1 (frame 743/1800) /Users/magewade/Desktop/ML/puppies_detection/video/puppies_inference_4.mp4: 384x640 5 dogs, 18.1ms\n",
      "video 1/1 (frame 744/1800) /Users/magewade/Desktop/ML/puppies_detection/video/puppies_inference_4.mp4: 384x640 4 dogs, 25.0ms\n",
      "video 1/1 (frame 745/1800) /Users/magewade/Desktop/ML/puppies_detection/video/puppies_inference_4.mp4: 384x640 4 dogs, 19.3ms\n",
      "video 1/1 (frame 746/1800) /Users/magewade/Desktop/ML/puppies_detection/video/puppies_inference_4.mp4: 384x640 4 dogs, 17.3ms\n",
      "video 1/1 (frame 747/1800) /Users/magewade/Desktop/ML/puppies_detection/video/puppies_inference_4.mp4: 384x640 3 dogs, 18.0ms\n",
      "video 1/1 (frame 748/1800) /Users/magewade/Desktop/ML/puppies_detection/video/puppies_inference_4.mp4: 384x640 4 dogs, 18.7ms\n",
      "video 1/1 (frame 749/1800) /Users/magewade/Desktop/ML/puppies_detection/video/puppies_inference_4.mp4: 384x640 4 dogs, 21.9ms\n",
      "video 1/1 (frame 750/1800) /Users/magewade/Desktop/ML/puppies_detection/video/puppies_inference_4.mp4: 384x640 3 dogs, 19.4ms\n",
      "video 1/1 (frame 751/1800) /Users/magewade/Desktop/ML/puppies_detection/video/puppies_inference_4.mp4: 384x640 3 dogs, 18.5ms\n",
      "video 1/1 (frame 752/1800) /Users/magewade/Desktop/ML/puppies_detection/video/puppies_inference_4.mp4: 384x640 3 dogs, 18.3ms\n",
      "video 1/1 (frame 753/1800) /Users/magewade/Desktop/ML/puppies_detection/video/puppies_inference_4.mp4: 384x640 3 dogs, 18.8ms\n",
      "video 1/1 (frame 754/1800) /Users/magewade/Desktop/ML/puppies_detection/video/puppies_inference_4.mp4: 384x640 3 dogs, 23.6ms\n",
      "video 1/1 (frame 755/1800) /Users/magewade/Desktop/ML/puppies_detection/video/puppies_inference_4.mp4: 384x640 4 dogs, 19.9ms\n",
      "video 1/1 (frame 756/1800) /Users/magewade/Desktop/ML/puppies_detection/video/puppies_inference_4.mp4: 384x640 4 dogs, 19.4ms\n",
      "video 1/1 (frame 757/1800) /Users/magewade/Desktop/ML/puppies_detection/video/puppies_inference_4.mp4: 384x640 4 dogs, 18.2ms\n",
      "video 1/1 (frame 758/1800) /Users/magewade/Desktop/ML/puppies_detection/video/puppies_inference_4.mp4: 384x640 4 dogs, 18.1ms\n",
      "video 1/1 (frame 759/1800) /Users/magewade/Desktop/ML/puppies_detection/video/puppies_inference_4.mp4: 384x640 4 dogs, 20.0ms\n",
      "video 1/1 (frame 760/1800) /Users/magewade/Desktop/ML/puppies_detection/video/puppies_inference_4.mp4: 384x640 4 dogs, 20.3ms\n",
      "video 1/1 (frame 761/1800) /Users/magewade/Desktop/ML/puppies_detection/video/puppies_inference_4.mp4: 384x640 4 dogs, 19.0ms\n",
      "video 1/1 (frame 762/1800) /Users/magewade/Desktop/ML/puppies_detection/video/puppies_inference_4.mp4: 384x640 5 dogs, 20.0ms\n",
      "video 1/1 (frame 763/1800) /Users/magewade/Desktop/ML/puppies_detection/video/puppies_inference_4.mp4: 384x640 5 dogs, 19.2ms\n",
      "video 1/1 (frame 764/1800) /Users/magewade/Desktop/ML/puppies_detection/video/puppies_inference_4.mp4: 384x640 5 dogs, 20.7ms\n",
      "video 1/1 (frame 765/1800) /Users/magewade/Desktop/ML/puppies_detection/video/puppies_inference_4.mp4: 384x640 6 dogs, 20.5ms\n",
      "video 1/1 (frame 766/1800) /Users/magewade/Desktop/ML/puppies_detection/video/puppies_inference_4.mp4: 384x640 6 dogs, 18.9ms\n",
      "video 1/1 (frame 767/1800) /Users/magewade/Desktop/ML/puppies_detection/video/puppies_inference_4.mp4: 384x640 4 dogs, 18.7ms\n",
      "video 1/1 (frame 768/1800) /Users/magewade/Desktop/ML/puppies_detection/video/puppies_inference_4.mp4: 384x640 5 dogs, 17.9ms\n",
      "video 1/1 (frame 769/1800) /Users/magewade/Desktop/ML/puppies_detection/video/puppies_inference_4.mp4: 384x640 4 dogs, 18.7ms\n",
      "video 1/1 (frame 770/1800) /Users/magewade/Desktop/ML/puppies_detection/video/puppies_inference_4.mp4: 384x640 5 dogs, 18.2ms\n",
      "video 1/1 (frame 771/1800) /Users/magewade/Desktop/ML/puppies_detection/video/puppies_inference_4.mp4: 384x640 3 dogs, 19.8ms\n",
      "video 1/1 (frame 772/1800) /Users/magewade/Desktop/ML/puppies_detection/video/puppies_inference_4.mp4: 384x640 4 dogs, 21.6ms\n",
      "video 1/1 (frame 773/1800) /Users/magewade/Desktop/ML/puppies_detection/video/puppies_inference_4.mp4: 384x640 4 dogs, 20.0ms\n",
      "video 1/1 (frame 774/1800) /Users/magewade/Desktop/ML/puppies_detection/video/puppies_inference_4.mp4: 384x640 4 dogs, 19.1ms\n",
      "video 1/1 (frame 775/1800) /Users/magewade/Desktop/ML/puppies_detection/video/puppies_inference_4.mp4: 384x640 4 dogs, 20.4ms\n",
      "video 1/1 (frame 776/1800) /Users/magewade/Desktop/ML/puppies_detection/video/puppies_inference_4.mp4: 384x640 4 dogs, 24.2ms\n",
      "video 1/1 (frame 777/1800) /Users/magewade/Desktop/ML/puppies_detection/video/puppies_inference_4.mp4: 384x640 4 dogs, 19.6ms\n",
      "video 1/1 (frame 778/1800) /Users/magewade/Desktop/ML/puppies_detection/video/puppies_inference_4.mp4: 384x640 4 dogs, 19.0ms\n",
      "video 1/1 (frame 779/1800) /Users/magewade/Desktop/ML/puppies_detection/video/puppies_inference_4.mp4: 384x640 3 dogs, 20.8ms\n",
      "video 1/1 (frame 780/1800) /Users/magewade/Desktop/ML/puppies_detection/video/puppies_inference_4.mp4: 384x640 3 dogs, 20.0ms\n",
      "video 1/1 (frame 781/1800) /Users/magewade/Desktop/ML/puppies_detection/video/puppies_inference_4.mp4: 384x640 4 dogs, 18.5ms\n",
      "video 1/1 (frame 782/1800) /Users/magewade/Desktop/ML/puppies_detection/video/puppies_inference_4.mp4: 384x640 4 dogs, 19.4ms\n",
      "video 1/1 (frame 783/1800) /Users/magewade/Desktop/ML/puppies_detection/video/puppies_inference_4.mp4: 384x640 4 dogs, 19.9ms\n",
      "video 1/1 (frame 784/1800) /Users/magewade/Desktop/ML/puppies_detection/video/puppies_inference_4.mp4: 384x640 4 dogs, 19.1ms\n",
      "video 1/1 (frame 785/1800) /Users/magewade/Desktop/ML/puppies_detection/video/puppies_inference_4.mp4: 384x640 4 dogs, 19.5ms\n",
      "video 1/1 (frame 786/1800) /Users/magewade/Desktop/ML/puppies_detection/video/puppies_inference_4.mp4: 384x640 4 dogs, 20.8ms\n",
      "video 1/1 (frame 787/1800) /Users/magewade/Desktop/ML/puppies_detection/video/puppies_inference_4.mp4: 384x640 4 dogs, 21.4ms\n",
      "video 1/1 (frame 788/1800) /Users/magewade/Desktop/ML/puppies_detection/video/puppies_inference_4.mp4: 384x640 4 dogs, 19.2ms\n",
      "video 1/1 (frame 789/1800) /Users/magewade/Desktop/ML/puppies_detection/video/puppies_inference_4.mp4: 384x640 4 dogs, 17.4ms\n",
      "video 1/1 (frame 790/1800) /Users/magewade/Desktop/ML/puppies_detection/video/puppies_inference_4.mp4: 384x640 4 dogs, 20.3ms\n",
      "video 1/1 (frame 791/1800) /Users/magewade/Desktop/ML/puppies_detection/video/puppies_inference_4.mp4: 384x640 4 dogs, 18.7ms\n",
      "video 1/1 (frame 792/1800) /Users/magewade/Desktop/ML/puppies_detection/video/puppies_inference_4.mp4: 384x640 4 dogs, 21.6ms\n",
      "video 1/1 (frame 793/1800) /Users/magewade/Desktop/ML/puppies_detection/video/puppies_inference_4.mp4: 384x640 4 dogs, 17.8ms\n",
      "video 1/1 (frame 794/1800) /Users/magewade/Desktop/ML/puppies_detection/video/puppies_inference_4.mp4: 384x640 4 dogs, 19.4ms\n",
      "video 1/1 (frame 795/1800) /Users/magewade/Desktop/ML/puppies_detection/video/puppies_inference_4.mp4: 384x640 4 dogs, 19.4ms\n",
      "video 1/1 (frame 796/1800) /Users/magewade/Desktop/ML/puppies_detection/video/puppies_inference_4.mp4: 384x640 4 dogs, 18.8ms\n",
      "video 1/1 (frame 797/1800) /Users/magewade/Desktop/ML/puppies_detection/video/puppies_inference_4.mp4: 384x640 4 dogs, 21.7ms\n",
      "video 1/1 (frame 798/1800) /Users/magewade/Desktop/ML/puppies_detection/video/puppies_inference_4.mp4: 384x640 4 dogs, 19.2ms\n",
      "video 1/1 (frame 799/1800) /Users/magewade/Desktop/ML/puppies_detection/video/puppies_inference_4.mp4: 384x640 4 dogs, 21.2ms\n",
      "video 1/1 (frame 800/1800) /Users/magewade/Desktop/ML/puppies_detection/video/puppies_inference_4.mp4: 384x640 4 dogs, 20.6ms\n",
      "video 1/1 (frame 801/1800) /Users/magewade/Desktop/ML/puppies_detection/video/puppies_inference_4.mp4: 384x640 4 dogs, 19.8ms\n",
      "video 1/1 (frame 802/1800) /Users/magewade/Desktop/ML/puppies_detection/video/puppies_inference_4.mp4: 384x640 5 dogs, 20.1ms\n",
      "video 1/1 (frame 803/1800) /Users/magewade/Desktop/ML/puppies_detection/video/puppies_inference_4.mp4: 384x640 5 dogs, 19.8ms\n",
      "video 1/1 (frame 804/1800) /Users/magewade/Desktop/ML/puppies_detection/video/puppies_inference_4.mp4: 384x640 5 dogs, 19.2ms\n",
      "video 1/1 (frame 805/1800) /Users/magewade/Desktop/ML/puppies_detection/video/puppies_inference_4.mp4: 384x640 5 dogs, 23.3ms\n",
      "video 1/1 (frame 806/1800) /Users/magewade/Desktop/ML/puppies_detection/video/puppies_inference_4.mp4: 384x640 5 dogs, 19.7ms\n",
      "video 1/1 (frame 807/1800) /Users/magewade/Desktop/ML/puppies_detection/video/puppies_inference_4.mp4: 384x640 5 dogs, 19.9ms\n",
      "video 1/1 (frame 808/1800) /Users/magewade/Desktop/ML/puppies_detection/video/puppies_inference_4.mp4: 384x640 5 dogs, 19.3ms\n",
      "video 1/1 (frame 809/1800) /Users/magewade/Desktop/ML/puppies_detection/video/puppies_inference_4.mp4: 384x640 5 dogs, 20.2ms\n",
      "video 1/1 (frame 810/1800) /Users/magewade/Desktop/ML/puppies_detection/video/puppies_inference_4.mp4: 384x640 5 dogs, 20.5ms\n",
      "video 1/1 (frame 811/1800) /Users/magewade/Desktop/ML/puppies_detection/video/puppies_inference_4.mp4: 384x640 5 dogs, 19.1ms\n",
      "video 1/1 (frame 812/1800) /Users/magewade/Desktop/ML/puppies_detection/video/puppies_inference_4.mp4: 384x640 5 dogs, 23.8ms\n",
      "video 1/1 (frame 813/1800) /Users/magewade/Desktop/ML/puppies_detection/video/puppies_inference_4.mp4: 384x640 5 dogs, 21.0ms\n",
      "video 1/1 (frame 814/1800) /Users/magewade/Desktop/ML/puppies_detection/video/puppies_inference_4.mp4: 384x640 5 dogs, 18.2ms\n",
      "video 1/1 (frame 815/1800) /Users/magewade/Desktop/ML/puppies_detection/video/puppies_inference_4.mp4: 384x640 5 dogs, 17.3ms\n",
      "video 1/1 (frame 816/1800) /Users/magewade/Desktop/ML/puppies_detection/video/puppies_inference_4.mp4: 384x640 5 dogs, 18.8ms\n",
      "video 1/1 (frame 817/1800) /Users/magewade/Desktop/ML/puppies_detection/video/puppies_inference_4.mp4: 384x640 5 dogs, 20.4ms\n",
      "video 1/1 (frame 818/1800) /Users/magewade/Desktop/ML/puppies_detection/video/puppies_inference_4.mp4: 384x640 5 dogs, 22.7ms\n",
      "video 1/1 (frame 819/1800) /Users/magewade/Desktop/ML/puppies_detection/video/puppies_inference_4.mp4: 384x640 5 dogs, 18.1ms\n",
      "video 1/1 (frame 820/1800) /Users/magewade/Desktop/ML/puppies_detection/video/puppies_inference_4.mp4: 384x640 5 dogs, 22.8ms\n",
      "video 1/1 (frame 821/1800) /Users/magewade/Desktop/ML/puppies_detection/video/puppies_inference_4.mp4: 384x640 5 dogs, 21.3ms\n",
      "video 1/1 (frame 822/1800) /Users/magewade/Desktop/ML/puppies_detection/video/puppies_inference_4.mp4: 384x640 5 dogs, 17.9ms\n",
      "video 1/1 (frame 823/1800) /Users/magewade/Desktop/ML/puppies_detection/video/puppies_inference_4.mp4: 384x640 5 dogs, 19.4ms\n",
      "video 1/1 (frame 824/1800) /Users/magewade/Desktop/ML/puppies_detection/video/puppies_inference_4.mp4: 384x640 5 dogs, 18.6ms\n",
      "video 1/1 (frame 825/1800) /Users/magewade/Desktop/ML/puppies_detection/video/puppies_inference_4.mp4: 384x640 5 dogs, 17.1ms\n",
      "video 1/1 (frame 826/1800) /Users/magewade/Desktop/ML/puppies_detection/video/puppies_inference_4.mp4: 384x640 5 dogs, 18.7ms\n",
      "video 1/1 (frame 827/1800) /Users/magewade/Desktop/ML/puppies_detection/video/puppies_inference_4.mp4: 384x640 5 dogs, 19.9ms\n",
      "video 1/1 (frame 828/1800) /Users/magewade/Desktop/ML/puppies_detection/video/puppies_inference_4.mp4: 384x640 5 dogs, 19.8ms\n",
      "video 1/1 (frame 829/1800) /Users/magewade/Desktop/ML/puppies_detection/video/puppies_inference_4.mp4: 384x640 5 dogs, 20.4ms\n",
      "video 1/1 (frame 830/1800) /Users/magewade/Desktop/ML/puppies_detection/video/puppies_inference_4.mp4: 384x640 5 dogs, 20.2ms\n",
      "video 1/1 (frame 831/1800) /Users/magewade/Desktop/ML/puppies_detection/video/puppies_inference_4.mp4: 384x640 5 dogs, 21.0ms\n",
      "video 1/1 (frame 832/1800) /Users/magewade/Desktop/ML/puppies_detection/video/puppies_inference_4.mp4: 384x640 6 dogs, 18.4ms\n",
      "video 1/1 (frame 833/1800) /Users/magewade/Desktop/ML/puppies_detection/video/puppies_inference_4.mp4: 384x640 5 dogs, 21.9ms\n",
      "video 1/1 (frame 834/1800) /Users/magewade/Desktop/ML/puppies_detection/video/puppies_inference_4.mp4: 384x640 5 dogs, 19.9ms\n",
      "video 1/1 (frame 835/1800) /Users/magewade/Desktop/ML/puppies_detection/video/puppies_inference_4.mp4: 384x640 5 dogs, 20.4ms\n",
      "video 1/1 (frame 836/1800) /Users/magewade/Desktop/ML/puppies_detection/video/puppies_inference_4.mp4: 384x640 5 dogs, 19.4ms\n",
      "video 1/1 (frame 837/1800) /Users/magewade/Desktop/ML/puppies_detection/video/puppies_inference_4.mp4: 384x640 5 dogs, 20.0ms\n",
      "video 1/1 (frame 838/1800) /Users/magewade/Desktop/ML/puppies_detection/video/puppies_inference_4.mp4: 384x640 5 dogs, 22.0ms\n",
      "video 1/1 (frame 839/1800) /Users/magewade/Desktop/ML/puppies_detection/video/puppies_inference_4.mp4: 384x640 5 dogs, 28.8ms\n",
      "video 1/1 (frame 840/1800) /Users/magewade/Desktop/ML/puppies_detection/video/puppies_inference_4.mp4: 384x640 5 dogs, 21.8ms\n",
      "video 1/1 (frame 841/1800) /Users/magewade/Desktop/ML/puppies_detection/video/puppies_inference_4.mp4: 384x640 5 dogs, 21.8ms\n",
      "video 1/1 (frame 842/1800) /Users/magewade/Desktop/ML/puppies_detection/video/puppies_inference_4.mp4: 384x640 5 dogs, 21.0ms\n",
      "video 1/1 (frame 843/1800) /Users/magewade/Desktop/ML/puppies_detection/video/puppies_inference_4.mp4: 384x640 4 dogs, 20.4ms\n",
      "video 1/1 (frame 844/1800) /Users/magewade/Desktop/ML/puppies_detection/video/puppies_inference_4.mp4: 384x640 4 dogs, 23.5ms\n",
      "video 1/1 (frame 845/1800) /Users/magewade/Desktop/ML/puppies_detection/video/puppies_inference_4.mp4: 384x640 4 dogs, 32.4ms\n",
      "video 1/1 (frame 846/1800) /Users/magewade/Desktop/ML/puppies_detection/video/puppies_inference_4.mp4: 384x640 4 dogs, 23.2ms\n",
      "video 1/1 (frame 847/1800) /Users/magewade/Desktop/ML/puppies_detection/video/puppies_inference_4.mp4: 384x640 5 dogs, 22.6ms\n",
      "video 1/1 (frame 848/1800) /Users/magewade/Desktop/ML/puppies_detection/video/puppies_inference_4.mp4: 384x640 5 dogs, 21.8ms\n",
      "video 1/1 (frame 849/1800) /Users/magewade/Desktop/ML/puppies_detection/video/puppies_inference_4.mp4: 384x640 5 dogs, 23.1ms\n",
      "video 1/1 (frame 850/1800) /Users/magewade/Desktop/ML/puppies_detection/video/puppies_inference_4.mp4: 384x640 5 dogs, 28.8ms\n",
      "video 1/1 (frame 851/1800) /Users/magewade/Desktop/ML/puppies_detection/video/puppies_inference_4.mp4: 384x640 5 dogs, 24.0ms\n",
      "video 1/1 (frame 852/1800) /Users/magewade/Desktop/ML/puppies_detection/video/puppies_inference_4.mp4: 384x640 5 dogs, 26.3ms\n",
      "video 1/1 (frame 853/1800) /Users/magewade/Desktop/ML/puppies_detection/video/puppies_inference_4.mp4: 384x640 5 dogs, 24.6ms\n",
      "video 1/1 (frame 854/1800) /Users/magewade/Desktop/ML/puppies_detection/video/puppies_inference_4.mp4: 384x640 4 dogs, 23.9ms\n",
      "video 1/1 (frame 855/1800) /Users/magewade/Desktop/ML/puppies_detection/video/puppies_inference_4.mp4: 384x640 5 dogs, 23.9ms\n",
      "video 1/1 (frame 856/1800) /Users/magewade/Desktop/ML/puppies_detection/video/puppies_inference_4.mp4: 384x640 5 dogs, 20.2ms\n",
      "video 1/1 (frame 857/1800) /Users/magewade/Desktop/ML/puppies_detection/video/puppies_inference_4.mp4: 384x640 4 dogs, 24.5ms\n",
      "video 1/1 (frame 858/1800) /Users/magewade/Desktop/ML/puppies_detection/video/puppies_inference_4.mp4: 384x640 5 dogs, 21.2ms\n",
      "video 1/1 (frame 859/1800) /Users/magewade/Desktop/ML/puppies_detection/video/puppies_inference_4.mp4: 384x640 5 dogs, 24.8ms\n",
      "video 1/1 (frame 860/1800) /Users/magewade/Desktop/ML/puppies_detection/video/puppies_inference_4.mp4: 384x640 5 dogs, 17.9ms\n",
      "video 1/1 (frame 861/1800) /Users/magewade/Desktop/ML/puppies_detection/video/puppies_inference_4.mp4: 384x640 5 dogs, 20.0ms\n",
      "video 1/1 (frame 862/1800) /Users/magewade/Desktop/ML/puppies_detection/video/puppies_inference_4.mp4: 384x640 5 dogs, 18.9ms\n",
      "video 1/1 (frame 863/1800) /Users/magewade/Desktop/ML/puppies_detection/video/puppies_inference_4.mp4: 384x640 5 dogs, 20.0ms\n",
      "video 1/1 (frame 864/1800) /Users/magewade/Desktop/ML/puppies_detection/video/puppies_inference_4.mp4: 384x640 5 dogs, 19.9ms\n",
      "video 1/1 (frame 865/1800) /Users/magewade/Desktop/ML/puppies_detection/video/puppies_inference_4.mp4: 384x640 5 dogs, 18.6ms\n",
      "video 1/1 (frame 866/1800) /Users/magewade/Desktop/ML/puppies_detection/video/puppies_inference_4.mp4: 384x640 5 dogs, 22.3ms\n",
      "video 1/1 (frame 867/1800) /Users/magewade/Desktop/ML/puppies_detection/video/puppies_inference_4.mp4: 384x640 5 dogs, 18.7ms\n",
      "video 1/1 (frame 868/1800) /Users/magewade/Desktop/ML/puppies_detection/video/puppies_inference_4.mp4: 384x640 5 dogs, 19.5ms\n",
      "video 1/1 (frame 869/1800) /Users/magewade/Desktop/ML/puppies_detection/video/puppies_inference_4.mp4: 384x640 5 dogs, 20.6ms\n",
      "video 1/1 (frame 870/1800) /Users/magewade/Desktop/ML/puppies_detection/video/puppies_inference_4.mp4: 384x640 5 dogs, 21.4ms\n",
      "video 1/1 (frame 871/1800) /Users/magewade/Desktop/ML/puppies_detection/video/puppies_inference_4.mp4: 384x640 5 dogs, 21.0ms\n",
      "video 1/1 (frame 872/1800) /Users/magewade/Desktop/ML/puppies_detection/video/puppies_inference_4.mp4: 384x640 5 dogs, 19.1ms\n",
      "video 1/1 (frame 873/1800) /Users/magewade/Desktop/ML/puppies_detection/video/puppies_inference_4.mp4: 384x640 5 dogs, 18.4ms\n",
      "video 1/1 (frame 874/1800) /Users/magewade/Desktop/ML/puppies_detection/video/puppies_inference_4.mp4: 384x640 5 dogs, 18.3ms\n",
      "video 1/1 (frame 875/1800) /Users/magewade/Desktop/ML/puppies_detection/video/puppies_inference_4.mp4: 384x640 5 dogs, 19.4ms\n",
      "video 1/1 (frame 876/1800) /Users/magewade/Desktop/ML/puppies_detection/video/puppies_inference_4.mp4: 384x640 5 dogs, 18.9ms\n",
      "video 1/1 (frame 877/1800) /Users/magewade/Desktop/ML/puppies_detection/video/puppies_inference_4.mp4: 384x640 5 dogs, 20.1ms\n",
      "video 1/1 (frame 878/1800) /Users/magewade/Desktop/ML/puppies_detection/video/puppies_inference_4.mp4: 384x640 5 dogs, 22.3ms\n",
      "video 1/1 (frame 879/1800) /Users/magewade/Desktop/ML/puppies_detection/video/puppies_inference_4.mp4: 384x640 5 dogs, 21.6ms\n",
      "video 1/1 (frame 880/1800) /Users/magewade/Desktop/ML/puppies_detection/video/puppies_inference_4.mp4: 384x640 5 dogs, 20.5ms\n",
      "video 1/1 (frame 881/1800) /Users/magewade/Desktop/ML/puppies_detection/video/puppies_inference_4.mp4: 384x640 5 dogs, 17.9ms\n",
      "video 1/1 (frame 882/1800) /Users/magewade/Desktop/ML/puppies_detection/video/puppies_inference_4.mp4: 384x640 5 dogs, 18.3ms\n",
      "video 1/1 (frame 883/1800) /Users/magewade/Desktop/ML/puppies_detection/video/puppies_inference_4.mp4: 384x640 4 dogs, 19.9ms\n",
      "video 1/1 (frame 884/1800) /Users/magewade/Desktop/ML/puppies_detection/video/puppies_inference_4.mp4: 384x640 5 dogs, 29.9ms\n",
      "video 1/1 (frame 885/1800) /Users/magewade/Desktop/ML/puppies_detection/video/puppies_inference_4.mp4: 384x640 5 dogs, 19.9ms\n",
      "video 1/1 (frame 886/1800) /Users/magewade/Desktop/ML/puppies_detection/video/puppies_inference_4.mp4: 384x640 5 dogs, 18.4ms\n",
      "video 1/1 (frame 887/1800) /Users/magewade/Desktop/ML/puppies_detection/video/puppies_inference_4.mp4: 384x640 5 dogs, 20.3ms\n",
      "video 1/1 (frame 888/1800) /Users/magewade/Desktop/ML/puppies_detection/video/puppies_inference_4.mp4: 384x640 5 dogs, 21.3ms\n",
      "video 1/1 (frame 889/1800) /Users/magewade/Desktop/ML/puppies_detection/video/puppies_inference_4.mp4: 384x640 4 dogs, 18.2ms\n",
      "video 1/1 (frame 890/1800) /Users/magewade/Desktop/ML/puppies_detection/video/puppies_inference_4.mp4: 384x640 4 dogs, 23.3ms\n",
      "video 1/1 (frame 891/1800) /Users/magewade/Desktop/ML/puppies_detection/video/puppies_inference_4.mp4: 384x640 5 dogs, 19.1ms\n",
      "video 1/1 (frame 892/1800) /Users/magewade/Desktop/ML/puppies_detection/video/puppies_inference_4.mp4: 384x640 5 dogs, 19.0ms\n",
      "video 1/1 (frame 893/1800) /Users/magewade/Desktop/ML/puppies_detection/video/puppies_inference_4.mp4: 384x640 5 dogs, 19.6ms\n",
      "video 1/1 (frame 894/1800) /Users/magewade/Desktop/ML/puppies_detection/video/puppies_inference_4.mp4: 384x640 5 dogs, 19.6ms\n",
      "video 1/1 (frame 895/1800) /Users/magewade/Desktop/ML/puppies_detection/video/puppies_inference_4.mp4: 384x640 5 dogs, 20.9ms\n",
      "video 1/1 (frame 896/1800) /Users/magewade/Desktop/ML/puppies_detection/video/puppies_inference_4.mp4: 384x640 5 dogs, 20.9ms\n",
      "video 1/1 (frame 897/1800) /Users/magewade/Desktop/ML/puppies_detection/video/puppies_inference_4.mp4: 384x640 5 dogs, 23.8ms\n",
      "video 1/1 (frame 898/1800) /Users/magewade/Desktop/ML/puppies_detection/video/puppies_inference_4.mp4: 384x640 5 dogs, 20.3ms\n",
      "video 1/1 (frame 899/1800) /Users/magewade/Desktop/ML/puppies_detection/video/puppies_inference_4.mp4: 384x640 5 dogs, 20.5ms\n",
      "video 1/1 (frame 900/1800) /Users/magewade/Desktop/ML/puppies_detection/video/puppies_inference_4.mp4: 384x640 5 dogs, 23.1ms\n",
      "video 1/1 (frame 901/1800) /Users/magewade/Desktop/ML/puppies_detection/video/puppies_inference_4.mp4: 384x640 5 dogs, 20.6ms\n",
      "video 1/1 (frame 902/1800) /Users/magewade/Desktop/ML/puppies_detection/video/puppies_inference_4.mp4: 384x640 5 dogs, 22.3ms\n",
      "video 1/1 (frame 903/1800) /Users/magewade/Desktop/ML/puppies_detection/video/puppies_inference_4.mp4: 384x640 5 dogs, 19.4ms\n",
      "video 1/1 (frame 904/1800) /Users/magewade/Desktop/ML/puppies_detection/video/puppies_inference_4.mp4: 384x640 5 dogs, 19.3ms\n",
      "video 1/1 (frame 905/1800) /Users/magewade/Desktop/ML/puppies_detection/video/puppies_inference_4.mp4: 384x640 5 dogs, 20.0ms\n",
      "video 1/1 (frame 906/1800) /Users/magewade/Desktop/ML/puppies_detection/video/puppies_inference_4.mp4: 384x640 5 dogs, 18.5ms\n",
      "video 1/1 (frame 907/1800) /Users/magewade/Desktop/ML/puppies_detection/video/puppies_inference_4.mp4: 384x640 5 dogs, 20.3ms\n",
      "video 1/1 (frame 908/1800) /Users/magewade/Desktop/ML/puppies_detection/video/puppies_inference_4.mp4: 384x640 5 dogs, 22.4ms\n",
      "video 1/1 (frame 909/1800) /Users/magewade/Desktop/ML/puppies_detection/video/puppies_inference_4.mp4: 384x640 5 dogs, 22.4ms\n",
      "video 1/1 (frame 910/1800) /Users/magewade/Desktop/ML/puppies_detection/video/puppies_inference_4.mp4: 384x640 5 dogs, 21.1ms\n",
      "video 1/1 (frame 911/1800) /Users/magewade/Desktop/ML/puppies_detection/video/puppies_inference_4.mp4: 384x640 5 dogs, 22.7ms\n",
      "video 1/1 (frame 912/1800) /Users/magewade/Desktop/ML/puppies_detection/video/puppies_inference_4.mp4: 384x640 5 dogs, 21.1ms\n",
      "video 1/1 (frame 913/1800) /Users/magewade/Desktop/ML/puppies_detection/video/puppies_inference_4.mp4: 384x640 5 dogs, 47.7ms\n",
      "video 1/1 (frame 914/1800) /Users/magewade/Desktop/ML/puppies_detection/video/puppies_inference_4.mp4: 384x640 5 dogs, 25.0ms\n",
      "video 1/1 (frame 915/1800) /Users/magewade/Desktop/ML/puppies_detection/video/puppies_inference_4.mp4: 384x640 5 dogs, 25.8ms\n",
      "video 1/1 (frame 916/1800) /Users/magewade/Desktop/ML/puppies_detection/video/puppies_inference_4.mp4: 384x640 5 dogs, 21.5ms\n",
      "video 1/1 (frame 917/1800) /Users/magewade/Desktop/ML/puppies_detection/video/puppies_inference_4.mp4: 384x640 5 dogs, 21.3ms\n",
      "video 1/1 (frame 918/1800) /Users/magewade/Desktop/ML/puppies_detection/video/puppies_inference_4.mp4: 384x640 5 dogs, 21.5ms\n",
      "video 1/1 (frame 919/1800) /Users/magewade/Desktop/ML/puppies_detection/video/puppies_inference_4.mp4: 384x640 5 dogs, 20.8ms\n",
      "video 1/1 (frame 920/1800) /Users/magewade/Desktop/ML/puppies_detection/video/puppies_inference_4.mp4: 384x640 5 dogs, 21.8ms\n",
      "video 1/1 (frame 921/1800) /Users/magewade/Desktop/ML/puppies_detection/video/puppies_inference_4.mp4: 384x640 5 dogs, 20.6ms\n",
      "video 1/1 (frame 922/1800) /Users/magewade/Desktop/ML/puppies_detection/video/puppies_inference_4.mp4: 384x640 5 dogs, 20.8ms\n",
      "video 1/1 (frame 923/1800) /Users/magewade/Desktop/ML/puppies_detection/video/puppies_inference_4.mp4: 384x640 5 dogs, 21.6ms\n",
      "video 1/1 (frame 924/1800) /Users/magewade/Desktop/ML/puppies_detection/video/puppies_inference_4.mp4: 384x640 6 dogs, 18.7ms\n",
      "video 1/1 (frame 925/1800) /Users/magewade/Desktop/ML/puppies_detection/video/puppies_inference_4.mp4: 384x640 5 dogs, 20.2ms\n",
      "video 1/1 (frame 926/1800) /Users/magewade/Desktop/ML/puppies_detection/video/puppies_inference_4.mp4: 384x640 5 dogs, 21.0ms\n",
      "video 1/1 (frame 927/1800) /Users/magewade/Desktop/ML/puppies_detection/video/puppies_inference_4.mp4: 384x640 5 dogs, 46.2ms\n",
      "video 1/1 (frame 928/1800) /Users/magewade/Desktop/ML/puppies_detection/video/puppies_inference_4.mp4: 384x640 5 dogs, 21.0ms\n",
      "video 1/1 (frame 929/1800) /Users/magewade/Desktop/ML/puppies_detection/video/puppies_inference_4.mp4: 384x640 5 dogs, 22.6ms\n",
      "video 1/1 (frame 930/1800) /Users/magewade/Desktop/ML/puppies_detection/video/puppies_inference_4.mp4: 384x640 6 dogs, 20.8ms\n"
     ]
    },
    {
     "ename": "KeyboardInterrupt",
     "evalue": "",
     "output_type": "error",
     "traceback": [
      "\u001b[0;31m---------------------------------------------------------------------------\u001b[0m",
      "\u001b[0;31mKeyboardInterrupt\u001b[0m                         Traceback (most recent call last)",
      "Cell \u001b[0;32mIn[42], line 1\u001b[0m\n\u001b[0;32m----> 1\u001b[0m results \u001b[38;5;241m=\u001b[39m \u001b[43mmodel\u001b[49m\u001b[38;5;241;43m.\u001b[39;49m\u001b[43mtrack\u001b[49m\u001b[43m(\u001b[49m\n\u001b[1;32m      2\u001b[0m \u001b[43m    \u001b[49m\u001b[43msource\u001b[49m\u001b[38;5;241;43m=\u001b[39;49m\u001b[38;5;124;43m\"\u001b[39;49m\u001b[38;5;124;43m/Users/magewade/Desktop/ML/puppies_detection/video/puppies_inference_4.mp4\u001b[39;49m\u001b[38;5;124;43m\"\u001b[39;49m\u001b[43m,\u001b[49m\n\u001b[1;32m      3\u001b[0m \u001b[43m    \u001b[49m\u001b[43mconf\u001b[49m\u001b[38;5;241;43m=\u001b[39;49m\u001b[38;5;241;43m0.65\u001b[39;49m\u001b[43m,\u001b[49m\n\u001b[1;32m      4\u001b[0m \u001b[43m    \u001b[49m\u001b[43miou\u001b[49m\u001b[38;5;241;43m=\u001b[39;49m\u001b[38;5;241;43m0.8\u001b[39;49m\u001b[43m,\u001b[49m\n\u001b[1;32m      5\u001b[0m \u001b[43m    \u001b[49m\u001b[43mshow\u001b[49m\u001b[38;5;241;43m=\u001b[39;49m\u001b[38;5;28;43;01mTrue\u001b[39;49;00m\u001b[43m,\u001b[49m\n\u001b[1;32m      6\u001b[0m \u001b[43m)\u001b[49m\n",
      "File \u001b[0;32m~/Desktop/ML/puppies_detection/.venv/lib/python3.10/site-packages/ultralytics/engine/model.py:594\u001b[0m, in \u001b[0;36mModel.track\u001b[0;34m(self, source, stream, persist, **kwargs)\u001b[0m\n\u001b[1;32m    592\u001b[0m kwargs[\u001b[38;5;124m\"\u001b[39m\u001b[38;5;124mbatch\u001b[39m\u001b[38;5;124m\"\u001b[39m] \u001b[38;5;241m=\u001b[39m kwargs\u001b[38;5;241m.\u001b[39mget(\u001b[38;5;124m\"\u001b[39m\u001b[38;5;124mbatch\u001b[39m\u001b[38;5;124m\"\u001b[39m) \u001b[38;5;129;01mor\u001b[39;00m \u001b[38;5;241m1\u001b[39m  \u001b[38;5;66;03m# batch-size 1 for tracking in videos\u001b[39;00m\n\u001b[1;32m    593\u001b[0m kwargs[\u001b[38;5;124m\"\u001b[39m\u001b[38;5;124mmode\u001b[39m\u001b[38;5;124m\"\u001b[39m] \u001b[38;5;241m=\u001b[39m \u001b[38;5;124m\"\u001b[39m\u001b[38;5;124mtrack\u001b[39m\u001b[38;5;124m\"\u001b[39m\n\u001b[0;32m--> 594\u001b[0m \u001b[38;5;28;01mreturn\u001b[39;00m \u001b[38;5;28;43mself\u001b[39;49m\u001b[38;5;241;43m.\u001b[39;49m\u001b[43mpredict\u001b[49m\u001b[43m(\u001b[49m\u001b[43msource\u001b[49m\u001b[38;5;241;43m=\u001b[39;49m\u001b[43msource\u001b[49m\u001b[43m,\u001b[49m\u001b[43m \u001b[49m\u001b[43mstream\u001b[49m\u001b[38;5;241;43m=\u001b[39;49m\u001b[43mstream\u001b[49m\u001b[43m,\u001b[49m\u001b[43m \u001b[49m\u001b[38;5;241;43m*\u001b[39;49m\u001b[38;5;241;43m*\u001b[39;49m\u001b[43mkwargs\u001b[49m\u001b[43m)\u001b[49m\n",
      "File \u001b[0;32m~/Desktop/ML/puppies_detection/.venv/lib/python3.10/site-packages/ultralytics/engine/model.py:550\u001b[0m, in \u001b[0;36mModel.predict\u001b[0;34m(self, source, stream, predictor, **kwargs)\u001b[0m\n\u001b[1;32m    548\u001b[0m \u001b[38;5;28;01mif\u001b[39;00m prompts \u001b[38;5;129;01mand\u001b[39;00m \u001b[38;5;28mhasattr\u001b[39m(\u001b[38;5;28mself\u001b[39m\u001b[38;5;241m.\u001b[39mpredictor, \u001b[38;5;124m\"\u001b[39m\u001b[38;5;124mset_prompts\u001b[39m\u001b[38;5;124m\"\u001b[39m):  \u001b[38;5;66;03m# for SAM-type models\u001b[39;00m\n\u001b[1;32m    549\u001b[0m     \u001b[38;5;28mself\u001b[39m\u001b[38;5;241m.\u001b[39mpredictor\u001b[38;5;241m.\u001b[39mset_prompts(prompts)\n\u001b[0;32m--> 550\u001b[0m \u001b[38;5;28;01mreturn\u001b[39;00m \u001b[38;5;28mself\u001b[39m\u001b[38;5;241m.\u001b[39mpredictor\u001b[38;5;241m.\u001b[39mpredict_cli(source\u001b[38;5;241m=\u001b[39msource) \u001b[38;5;28;01mif\u001b[39;00m is_cli \u001b[38;5;28;01melse\u001b[39;00m \u001b[38;5;28;43mself\u001b[39;49m\u001b[38;5;241;43m.\u001b[39;49m\u001b[43mpredictor\u001b[49m\u001b[43m(\u001b[49m\u001b[43msource\u001b[49m\u001b[38;5;241;43m=\u001b[39;49m\u001b[43msource\u001b[49m\u001b[43m,\u001b[49m\u001b[43m \u001b[49m\u001b[43mstream\u001b[49m\u001b[38;5;241;43m=\u001b[39;49m\u001b[43mstream\u001b[49m\u001b[43m)\u001b[49m\n",
      "File \u001b[0;32m~/Desktop/ML/puppies_detection/.venv/lib/python3.10/site-packages/ultralytics/engine/predictor.py:216\u001b[0m, in \u001b[0;36mBasePredictor.__call__\u001b[0;34m(self, source, model, stream, *args, **kwargs)\u001b[0m\n\u001b[1;32m    214\u001b[0m     \u001b[38;5;28;01mreturn\u001b[39;00m \u001b[38;5;28mself\u001b[39m\u001b[38;5;241m.\u001b[39mstream_inference(source, model, \u001b[38;5;241m*\u001b[39margs, \u001b[38;5;241m*\u001b[39m\u001b[38;5;241m*\u001b[39mkwargs)\n\u001b[1;32m    215\u001b[0m \u001b[38;5;28;01melse\u001b[39;00m:\n\u001b[0;32m--> 216\u001b[0m     \u001b[38;5;28;01mreturn\u001b[39;00m \u001b[38;5;28;43mlist\u001b[39;49m\u001b[43m(\u001b[49m\u001b[38;5;28;43mself\u001b[39;49m\u001b[38;5;241;43m.\u001b[39;49m\u001b[43mstream_inference\u001b[49m\u001b[43m(\u001b[49m\u001b[43msource\u001b[49m\u001b[43m,\u001b[49m\u001b[43m \u001b[49m\u001b[43mmodel\u001b[49m\u001b[43m,\u001b[49m\u001b[43m \u001b[49m\u001b[38;5;241;43m*\u001b[39;49m\u001b[43margs\u001b[49m\u001b[43m,\u001b[49m\u001b[43m \u001b[49m\u001b[38;5;241;43m*\u001b[39;49m\u001b[38;5;241;43m*\u001b[39;49m\u001b[43mkwargs\u001b[49m\u001b[43m)\u001b[49m\u001b[43m)\u001b[49m\n",
      "File \u001b[0;32m~/Desktop/ML/puppies_detection/.venv/lib/python3.10/site-packages/torch/utils/_contextlib.py:57\u001b[0m, in \u001b[0;36m_wrap_generator.<locals>.generator_context\u001b[0;34m(*args, **kwargs)\u001b[0m\n\u001b[1;32m     54\u001b[0m         \u001b[38;5;28;01melse\u001b[39;00m:\n\u001b[1;32m     55\u001b[0m             \u001b[38;5;66;03m# Pass the last request to the generator and get its response\u001b[39;00m\n\u001b[1;32m     56\u001b[0m             \u001b[38;5;28;01mwith\u001b[39;00m ctx_factory():\n\u001b[0;32m---> 57\u001b[0m                 response \u001b[38;5;241m=\u001b[39m \u001b[43mgen\u001b[49m\u001b[38;5;241;43m.\u001b[39;49m\u001b[43msend\u001b[49m\u001b[43m(\u001b[49m\u001b[43mrequest\u001b[49m\u001b[43m)\u001b[49m\n\u001b[1;32m     59\u001b[0m \u001b[38;5;66;03m# We let the exceptions raised above by the generator's `.throw` or\u001b[39;00m\n\u001b[1;32m     60\u001b[0m \u001b[38;5;66;03m# `.send` methods bubble up to our caller, except for StopIteration\u001b[39;00m\n\u001b[1;32m     61\u001b[0m \u001b[38;5;28;01mexcept\u001b[39;00m \u001b[38;5;167;01mStopIteration\u001b[39;00m \u001b[38;5;28;01mas\u001b[39;00m e:\n\u001b[1;32m     62\u001b[0m     \u001b[38;5;66;03m# The generator informed us that it is done: take whatever its\u001b[39;00m\n\u001b[1;32m     63\u001b[0m     \u001b[38;5;66;03m# returned value (if any) was and indicate that we're done too\u001b[39;00m\n\u001b[1;32m     64\u001b[0m     \u001b[38;5;66;03m# by returning it (see docs for python's return-statement).\u001b[39;00m\n",
      "File \u001b[0;32m~/Desktop/ML/puppies_detection/.venv/lib/python3.10/site-packages/ultralytics/engine/predictor.py:345\u001b[0m, in \u001b[0;36mBasePredictor.stream_inference\u001b[0;34m(self, source, model, *args, **kwargs)\u001b[0m\n\u001b[1;32m    339\u001b[0m     \u001b[38;5;28mself\u001b[39m\u001b[38;5;241m.\u001b[39mresults[i]\u001b[38;5;241m.\u001b[39mspeed \u001b[38;5;241m=\u001b[39m {\n\u001b[1;32m    340\u001b[0m         \u001b[38;5;124m\"\u001b[39m\u001b[38;5;124mpreprocess\u001b[39m\u001b[38;5;124m\"\u001b[39m: profilers[\u001b[38;5;241m0\u001b[39m]\u001b[38;5;241m.\u001b[39mdt \u001b[38;5;241m*\u001b[39m \u001b[38;5;241m1e3\u001b[39m \u001b[38;5;241m/\u001b[39m n,\n\u001b[1;32m    341\u001b[0m         \u001b[38;5;124m\"\u001b[39m\u001b[38;5;124minference\u001b[39m\u001b[38;5;124m\"\u001b[39m: profilers[\u001b[38;5;241m1\u001b[39m]\u001b[38;5;241m.\u001b[39mdt \u001b[38;5;241m*\u001b[39m \u001b[38;5;241m1e3\u001b[39m \u001b[38;5;241m/\u001b[39m n,\n\u001b[1;32m    342\u001b[0m         \u001b[38;5;124m\"\u001b[39m\u001b[38;5;124mpostprocess\u001b[39m\u001b[38;5;124m\"\u001b[39m: profilers[\u001b[38;5;241m2\u001b[39m]\u001b[38;5;241m.\u001b[39mdt \u001b[38;5;241m*\u001b[39m \u001b[38;5;241m1e3\u001b[39m \u001b[38;5;241m/\u001b[39m n,\n\u001b[1;32m    343\u001b[0m     }\n\u001b[1;32m    344\u001b[0m     \u001b[38;5;28;01mif\u001b[39;00m \u001b[38;5;28mself\u001b[39m\u001b[38;5;241m.\u001b[39margs\u001b[38;5;241m.\u001b[39mverbose \u001b[38;5;129;01mor\u001b[39;00m \u001b[38;5;28mself\u001b[39m\u001b[38;5;241m.\u001b[39margs\u001b[38;5;241m.\u001b[39msave \u001b[38;5;129;01mor\u001b[39;00m \u001b[38;5;28mself\u001b[39m\u001b[38;5;241m.\u001b[39margs\u001b[38;5;241m.\u001b[39msave_txt \u001b[38;5;129;01mor\u001b[39;00m \u001b[38;5;28mself\u001b[39m\u001b[38;5;241m.\u001b[39margs\u001b[38;5;241m.\u001b[39mshow:\n\u001b[0;32m--> 345\u001b[0m         s[i] \u001b[38;5;241m+\u001b[39m\u001b[38;5;241m=\u001b[39m \u001b[38;5;28;43mself\u001b[39;49m\u001b[38;5;241;43m.\u001b[39;49m\u001b[43mwrite_results\u001b[49m\u001b[43m(\u001b[49m\u001b[43mi\u001b[49m\u001b[43m,\u001b[49m\u001b[43m \u001b[49m\u001b[43mPath\u001b[49m\u001b[43m(\u001b[49m\u001b[43mpaths\u001b[49m\u001b[43m[\u001b[49m\u001b[43mi\u001b[49m\u001b[43m]\u001b[49m\u001b[43m)\u001b[49m\u001b[43m,\u001b[49m\u001b[43m \u001b[49m\u001b[43mim\u001b[49m\u001b[43m,\u001b[49m\u001b[43m \u001b[49m\u001b[43ms\u001b[49m\u001b[43m)\u001b[49m\n\u001b[1;32m    347\u001b[0m \u001b[38;5;66;03m# Print batch results\u001b[39;00m\n\u001b[1;32m    348\u001b[0m \u001b[38;5;28;01mif\u001b[39;00m \u001b[38;5;28mself\u001b[39m\u001b[38;5;241m.\u001b[39margs\u001b[38;5;241m.\u001b[39mverbose:\n",
      "File \u001b[0;32m~/Desktop/ML/puppies_detection/.venv/lib/python3.10/site-packages/ultralytics/engine/predictor.py:440\u001b[0m, in \u001b[0;36mBasePredictor.write_results\u001b[0;34m(self, i, p, im, s)\u001b[0m\n\u001b[1;32m    438\u001b[0m     result\u001b[38;5;241m.\u001b[39msave_crop(save_dir\u001b[38;5;241m=\u001b[39m\u001b[38;5;28mself\u001b[39m\u001b[38;5;241m.\u001b[39msave_dir \u001b[38;5;241m/\u001b[39m \u001b[38;5;124m\"\u001b[39m\u001b[38;5;124mcrops\u001b[39m\u001b[38;5;124m\"\u001b[39m, file_name\u001b[38;5;241m=\u001b[39m\u001b[38;5;28mself\u001b[39m\u001b[38;5;241m.\u001b[39mtxt_path\u001b[38;5;241m.\u001b[39mstem)\n\u001b[1;32m    439\u001b[0m \u001b[38;5;28;01mif\u001b[39;00m \u001b[38;5;28mself\u001b[39m\u001b[38;5;241m.\u001b[39margs\u001b[38;5;241m.\u001b[39mshow:\n\u001b[0;32m--> 440\u001b[0m     \u001b[38;5;28;43mself\u001b[39;49m\u001b[38;5;241;43m.\u001b[39;49m\u001b[43mshow\u001b[49m\u001b[43m(\u001b[49m\u001b[38;5;28;43mstr\u001b[39;49m\u001b[43m(\u001b[49m\u001b[43mp\u001b[49m\u001b[43m)\u001b[49m\u001b[43m)\u001b[49m\n\u001b[1;32m    441\u001b[0m \u001b[38;5;28;01mif\u001b[39;00m \u001b[38;5;28mself\u001b[39m\u001b[38;5;241m.\u001b[39margs\u001b[38;5;241m.\u001b[39msave:\n\u001b[1;32m    442\u001b[0m     \u001b[38;5;28mself\u001b[39m\u001b[38;5;241m.\u001b[39msave_predicted_images(\u001b[38;5;28mstr\u001b[39m(\u001b[38;5;28mself\u001b[39m\u001b[38;5;241m.\u001b[39msave_dir \u001b[38;5;241m/\u001b[39m p\u001b[38;5;241m.\u001b[39mname), frame)\n",
      "File \u001b[0;32m~/Desktop/ML/puppies_detection/.venv/lib/python3.10/site-packages/ultralytics/engine/predictor.py:488\u001b[0m, in \u001b[0;36mBasePredictor.show\u001b[0;34m(self, p)\u001b[0m\n\u001b[1;32m    486\u001b[0m     cv2\u001b[38;5;241m.\u001b[39mresizeWindow(p, im\u001b[38;5;241m.\u001b[39mshape[\u001b[38;5;241m1\u001b[39m], im\u001b[38;5;241m.\u001b[39mshape[\u001b[38;5;241m0\u001b[39m])  \u001b[38;5;66;03m# (width, height)\u001b[39;00m\n\u001b[1;32m    487\u001b[0m cv2\u001b[38;5;241m.\u001b[39mimshow(p, im)\n\u001b[0;32m--> 488\u001b[0m \u001b[43mcv2\u001b[49m\u001b[38;5;241;43m.\u001b[39;49m\u001b[43mwaitKey\u001b[49m\u001b[43m(\u001b[49m\u001b[38;5;241;43m300\u001b[39;49m\u001b[43m \u001b[49m\u001b[38;5;28;43;01mif\u001b[39;49;00m\u001b[43m \u001b[49m\u001b[38;5;28;43mself\u001b[39;49m\u001b[38;5;241;43m.\u001b[39;49m\u001b[43mdataset\u001b[49m\u001b[38;5;241;43m.\u001b[39;49m\u001b[43mmode\u001b[49m\u001b[43m \u001b[49m\u001b[38;5;241;43m==\u001b[39;49m\u001b[43m \u001b[49m\u001b[38;5;124;43m\"\u001b[39;49m\u001b[38;5;124;43mimage\u001b[39;49m\u001b[38;5;124;43m\"\u001b[39;49m\u001b[43m \u001b[49m\u001b[38;5;28;43;01melse\u001b[39;49;00m\u001b[43m \u001b[49m\u001b[38;5;241;43m1\u001b[39;49m\u001b[43m)\u001b[49m\n",
      "\u001b[0;31mKeyboardInterrupt\u001b[0m: "
     ]
    }
   ],
   "source": [
    "results = model.track(\n",
    "    source=\"/Users/magewade/Desktop/ML/puppies_detection/video/puppies_inference_4.mp4\",\n",
    "    conf=0.65,\n",
    "    iou=0.8,\n",
    "    show=True,\n",
    ")"
   ]
  },
  {
   "cell_type": "code",
   "execution_count": null,
   "id": "be850c21",
   "metadata": {},
   "outputs": [],
   "source": []
  }
 ],
 "metadata": {
  "kernelspec": {
   "display_name": ".venv",
   "language": "python",
   "name": "python3"
  },
  "language_info": {
   "codemirror_mode": {
    "name": "ipython",
    "version": 3
   },
   "file_extension": ".py",
   "mimetype": "text/x-python",
   "name": "python",
   "nbconvert_exporter": "python",
   "pygments_lexer": "ipython3",
   "version": "3.10.17"
  }
 },
 "nbformat": 4,
 "nbformat_minor": 5
}
